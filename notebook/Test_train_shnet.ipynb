{
 "cells": [
  {
   "cell_type": "markdown",
   "id": "b2cb2cbf",
   "metadata": {},
   "source": [
    "# Tutorial 1: How to Apply Geom3D On Your Customized Data"
   ]
  },
  {
   "cell_type": "markdown",
   "id": "df275955",
   "metadata": {},
   "source": [
    "## Step 1. Load Packages and Set Random Seeds and Device"
   ]
  },
  {
   "cell_type": "code",
   "execution_count": 1,
   "id": "c5d3022e",
   "metadata": {},
   "outputs": [],
   "source": [
    "import numpy as np\n",
    "import torch\n",
    "from geom3d.models import SchNet\n",
    "import stk\n",
    "import pymongo\n",
    "import numpy as np\n",
    "import os\n",
    "import pandas as pd\n",
    "from geom3d import Database_utils\n",
    "#%% \n",
    "# Load the searched space\n",
    "from pathlib import Path\n",
    "import numpy as np\n",
    "import torch\n",
    "from torch_geometric.loader import DataLoader\n",
    "from torch_geometric.data import Data, Batch\n",
    "seed = 42\n",
    "np.random.seed(seed)\n",
    "torch.cuda.manual_seed_all(seed)\n",
    "\n",
    "\n",
    "device = \"cuda\" if torch.cuda.is_available() else torch.device(\"cpu\")"
   ]
  },
  {
   "cell_type": "code",
   "execution_count": 43,
   "metadata": {},
   "outputs": [
    {
     "data": {
      "text/plain": [
       "'c:\\\\Users\\\\ma11115\\\\OneDrive - Imperial College London\\\\Geom3d\\\\Geom3D\\\\notebook'"
      ]
     },
     "execution_count": 43,
     "metadata": {},
     "output_type": "execute_result"
    }
   ],
   "source": [
    "from geom3d import test_train"
   ]
  },
  {
   "cell_type": "code",
   "execution_count": 52,
   "metadata": {},
   "outputs": [],
   "source": [
    "from geom3d import config_utils\n",
    "importlib.reload(config_utils)\n",
    "dir = os.getcwd()+\"/config_test2\"\n",
    "config = config_utils.read_config(dir)\n"
   ]
  },
  {
   "cell_type": "code",
   "execution_count": 53,
   "metadata": {},
   "outputs": [
    {
     "data": {
      "text/plain": [
       "'c:\\\\Users\\\\ma11115\\\\OneDrive - Imperial College London\\\\Geom3d\\\\Geom3D\\\\notebook/config_test2'"
      ]
     },
     "execution_count": 53,
     "metadata": {},
     "output_type": "execute_result"
    }
   ],
   "source": [
    "dir"
   ]
  },
  {
   "cell_type": "code",
   "execution_count": 61,
   "metadata": {},
   "outputs": [
    {
     "name": "stderr",
     "output_type": "stream",
     "text": [
      "C:\\Users\\ma11115\\OneDrive - Imperial College London\\Geom3d\\Geom3D\\src\\geom3d\\Database_utils.py:106: DtypeWarning: Columns (18) have mixed types. Specify dtype option on import or set low_memory=False.\n",
      "  df_total = pd.read_csv(df_path)\n"
     ]
    },
    {
     "name": "stdout",
     "output_type": "stream",
     "text": [
      "train_idx:  [83 53 70 45 44 39 22 80 10  0 18 30 73 33 90  4 76 77 12 31 55 88 26 42\n",
      " 69 15 40 96  9 72 11 47 85 28 93  5 66 65 35 16 49 34  7 95 27 19 81 25\n",
      " 62 13 24  3 17 38  8 78  6 64 36 89 56 99 54 43 50 67 46 68 61 97 79 41\n",
      " 58 48 98 57 75 32 94 59]\n",
      "valid_idx:  [63 84 37 29  1 52 21  2 23 87]\n",
      "test_idx:  [91 74 86 82 20 60 71 14 92 51]\n"
     ]
    },
    {
     "ename": "FileNotFoundError",
     "evalue": "[WinError 2] The system cannot find the file specified: 'C:/Users/ma11115/OneDrive - Imperial College London/training'",
     "output_type": "error",
     "traceback": [
      "\u001b[1;31m---------------------------------------------------------------------------\u001b[0m",
      "\u001b[1;31mFileNotFoundError\u001b[0m                         Traceback (most recent call last)",
      "\u001b[1;32mc:\\Users\\ma11115\\OneDrive - Imperial College London\\Geom3d\\Geom3D\\notebook\\Test_train_shnet.ipynb Cell 7\u001b[0m line \u001b[0;36m2\n\u001b[0;32m      <a href='vscode-notebook-cell:/c%3A/Users/ma11115/OneDrive%20-%20Imperial%20College%20London/Geom3d/Geom3D/notebook/Test_train_shnet.ipynb#X55sZmlsZQ%3D%3D?line=0'>1</a>\u001b[0m importlib\u001b[39m.\u001b[39mreload(test_train)\n\u001b[1;32m----> <a href='vscode-notebook-cell:/c%3A/Users/ma11115/OneDrive%20-%20Imperial%20College%20London/Geom3d/Geom3D/notebook/Test_train_shnet.ipynb#X55sZmlsZQ%3D%3D?line=1'>2</a>\u001b[0m test_train\u001b[39m.\u001b[39;49mmain(\u001b[39mstr\u001b[39;49m(\u001b[39mdir\u001b[39;49m))\n",
      "File \u001b[1;32m~\\OneDrive - Imperial College London\\Geom3d\\Geom3D\\src\\geom3d\\test_train.py:58\u001b[0m, in \u001b[0;36mmain\u001b[1;34m(config_dir)\u001b[0m\n\u001b[0;32m     46\u001b[0m model \u001b[39m=\u001b[39m SchNet(\n\u001b[0;32m     47\u001b[0m     hidden_channels\u001b[39m=\u001b[39mmodel_config[\u001b[39m\"\u001b[39m\u001b[39memb_dim\u001b[39m\u001b[39m\"\u001b[39m],\n\u001b[0;32m     48\u001b[0m     num_filters\u001b[39m=\u001b[39mmodel_config[\u001b[39m\"\u001b[39m\u001b[39mSchNet_num_filters\u001b[39m\u001b[39m\"\u001b[39m],\n\u001b[1;32m   (...)\u001b[0m\n\u001b[0;32m     53\u001b[0m     node_class\u001b[39m=\u001b[39mmodel_config[\u001b[39m\"\u001b[39m\u001b[39mnode_class\u001b[39m\u001b[39m\"\u001b[39m],\n\u001b[0;32m     54\u001b[0m )\n\u001b[0;32m     55\u001b[0m graph_pred_linear \u001b[39m=\u001b[39m torch\u001b[39m.\u001b[39mnn\u001b[39m.\u001b[39mLinear(\n\u001b[0;32m     56\u001b[0m     model_config[\u001b[39m\"\u001b[39m\u001b[39memb_dim\u001b[39m\u001b[39m\"\u001b[39m], model_config[\u001b[39m\"\u001b[39m\u001b[39mnum_tasks\u001b[39m\u001b[39m\"\u001b[39m]\n\u001b[0;32m     57\u001b[0m )\n\u001b[1;32m---> 58\u001b[0m os\u001b[39m.\u001b[39;49mchdir(config[\u001b[39m'\u001b[39;49m\u001b[39mdir\u001b[39;49m\u001b[39m'\u001b[39;49m])\n\u001b[0;32m     59\u001b[0m wandb\u001b[39m.\u001b[39mlogin()\n\u001b[0;32m     60\u001b[0m \u001b[39m# model\u001b[39;00m\n",
      "\u001b[1;31mFileNotFoundError\u001b[0m: [WinError 2] The system cannot find the file specified: 'C:/Users/ma11115/OneDrive - Imperial College London/training'"
     ]
    }
   ],
   "source": [
    "importlib.reload(test_train)\n",
    "test_train.main(str(dir))"
   ]
  },
  {
   "cell_type": "code",
   "execution_count": 359,
   "metadata": {},
   "outputs": [
    {
     "name": "stderr",
     "output_type": "stream",
     "text": [
      "C:\\Users\\ma11115\\OneDrive - Imperial College London\\Geom3d\\Geom3D\\src\\geom3d\\Database_utils.py:106: DtypeWarning: Columns (18) have mixed types. Specify dtype option on import or set low_memory=False.\n",
      "  df_total = pd.read_csv(df_path)\n"
     ]
    }
   ],
   "source": [
    "\n",
    "\n",
    "STK_path = \"C:/Users/ma11115/OneDrive - Imperial College London/github_folder/STK_search\"\n",
    "#STK_path = \"/rds/general/user/ma11115/home/STK_Search/STK_search\"\n",
    "df_path = Path(STK_path,  'data/output/Full_dataset/df_total_2023_11_09.csv')\n",
    "\n",
    "df_precursors_path = Path(STK_path,  'data/output/Prescursor_data/calculation_data_precursor_071123_clean.pkl')\n",
    "df_total, df_precursors = Database_utils.load_data_from_file(df_path, df_precursors_path)"
   ]
  },
  {
   "cell_type": "markdown",
   "id": "e4d7376c",
   "metadata": {},
   "source": [
    "## Step 2. Data Loading\n",
    "\n",
    "The geometric data on small molecules, proteins, and crystal materials can be in many formats:\n",
    "- SDF\n",
    "- CIF\n",
    "- HDF5\n",
    "\n",
    "The most important thing is to extract the atom types and coordinates. Below we show two simple data points using customized information."
   ]
  },
  {
   "cell_type": "code",
   "execution_count": 362,
   "id": "5b952dbf",
   "metadata": {},
   "outputs": [
    {
     "name": "stdout",
     "output_type": "stream",
     "text": [
      "['_id_x' 'InChIKey' 'BB' 'aI' 'bI' 'nBB' '_id_y'\n",
      " 'Excited state energy (eV)' 'Excited state oscillator strength'\n",
      " 'Host IP_x' 'cal_folder_x' '_id' 'Host IP_y' 'electron affinity (eV)'\n",
      " 'homo lumo_gap (eV)' 'ionisation potential (eV)' 'total energy (au)'\n",
      " 'cal_folder_y' 'xtb_cal_folder' 'ES1' 'fosc1' 'target' 'InChIKey_0'\n",
      " 'InChIKey_1' 'InChIKey_2' 'InChIKey_3' 'InChIKey_4' 'InChIKey_5'\n",
      " 'Atom_num_0_x' 'HOMO (eV)_0_x' 'LUMO (eV)_0_x' 'HOMO_LUMO_GAP (eV)_0_x'\n",
      " 'IP (eV)_0_x' 'EA (eV)_0_x' '1 Excited state Energy (eV)_0_x'\n",
      " '1 Excited state Osc_0_x' '2 Excited state Energy (eV)_0_x'\n",
      " '2 Excited state Osc_0_x' '3 Excited state Energy (eV)_0_x'\n",
      " '3 Excited state Osc_0_x' 'Atom_num_1_x' 'HOMO (eV)_1_x' 'LUMO (eV)_1_x'\n",
      " 'HOMO_LUMO_GAP (eV)_1_x' 'IP (eV)_1_x' 'EA (eV)_1_x'\n",
      " '1 Excited state Energy (eV)_1_x' '1 Excited state Osc_1_x'\n",
      " '2 Excited state Energy (eV)_1_x' '2 Excited state Osc_1_x'\n",
      " '3 Excited state Energy (eV)_1_x' '3 Excited state Osc_1_x'\n",
      " 'Atom_num_2_x' 'HOMO (eV)_2_x' 'LUMO (eV)_2_x' 'HOMO_LUMO_GAP (eV)_2_x'\n",
      " 'IP (eV)_2_x' 'EA (eV)_2_x' '1 Excited state Energy (eV)_2_x'\n",
      " '1 Excited state Osc_2_x' '2 Excited state Energy (eV)_2_x'\n",
      " '2 Excited state Osc_2_x' '3 Excited state Energy (eV)_2_x'\n",
      " '3 Excited state Osc_2_x' 'Atom_num_3_x' 'HOMO (eV)_3_x' 'LUMO (eV)_3_x'\n",
      " 'HOMO_LUMO_GAP (eV)_3_x' 'IP (eV)_3_x' 'EA (eV)_3_x'\n",
      " '1 Excited state Energy (eV)_3_x' '1 Excited state Osc_3_x'\n",
      " '2 Excited state Energy (eV)_3_x' '2 Excited state Osc_3_x'\n",
      " '3 Excited state Energy (eV)_3_x' '3 Excited state Osc_3_x'\n",
      " 'Atom_num_4_x' 'HOMO (eV)_4_x' 'LUMO (eV)_4_x' 'HOMO_LUMO_GAP (eV)_4_x'\n",
      " 'IP (eV)_4_x' 'EA (eV)_4_x' '1 Excited state Energy (eV)_4_x'\n",
      " '1 Excited state Osc_4_x' '2 Excited state Energy (eV)_4_x'\n",
      " '2 Excited state Osc_4_x' '3 Excited state Energy (eV)_4_x'\n",
      " '3 Excited state Osc_4_x' 'Atom_num_5_x' 'HOMO (eV)_5_x' 'LUMO (eV)_5_x'\n",
      " 'HOMO_LUMO_GAP (eV)_5_x' 'IP (eV)_5_x' 'EA (eV)_5_x'\n",
      " '1 Excited state Energy (eV)_5_x' '1 Excited state Osc_5_x'\n",
      " '2 Excited state Energy (eV)_5_x' '2 Excited state Osc_5_x'\n",
      " '3 Excited state Energy (eV)_5_x' '3 Excited state Osc_5_x'\n",
      " 'Atom_num_0_y' 'HOMO (eV)_0_y' 'LUMO (eV)_0_y' 'HOMO_LUMO_GAP (eV)_0_y'\n",
      " 'IP (eV)_0_y' 'EA (eV)_0_y' '1 Excited state Energy (eV)_0_y'\n",
      " '1 Excited state Osc_0_y' '2 Excited state Energy (eV)_0_y'\n",
      " '2 Excited state Osc_0_y' '3 Excited state Energy (eV)_0_y'\n",
      " '3 Excited state Osc_0_y' 'Atom_num_1_y' 'HOMO (eV)_1_y' 'LUMO (eV)_1_y'\n",
      " 'HOMO_LUMO_GAP (eV)_1_y' 'IP (eV)_1_y' 'EA (eV)_1_y'\n",
      " '1 Excited state Energy (eV)_1_y' '1 Excited state Osc_1_y'\n",
      " '2 Excited state Energy (eV)_1_y' '2 Excited state Osc_1_y'\n",
      " '3 Excited state Energy (eV)_1_y' '3 Excited state Osc_1_y'\n",
      " 'Atom_num_2_y' 'HOMO (eV)_2_y' 'LUMO (eV)_2_y' 'HOMO_LUMO_GAP (eV)_2_y'\n",
      " 'IP (eV)_2_y' 'EA (eV)_2_y' '1 Excited state Energy (eV)_2_y'\n",
      " '1 Excited state Osc_2_y' '2 Excited state Energy (eV)_2_y'\n",
      " '2 Excited state Osc_2_y' '3 Excited state Energy (eV)_2_y'\n",
      " '3 Excited state Osc_2_y' 'Atom_num_3_y' 'HOMO (eV)_3_y' 'LUMO (eV)_3_y'\n",
      " 'HOMO_LUMO_GAP (eV)_3_y' 'IP (eV)_3_y' 'EA (eV)_3_y'\n",
      " '1 Excited state Energy (eV)_3_y' '1 Excited state Osc_3_y'\n",
      " '2 Excited state Energy (eV)_3_y' '2 Excited state Osc_3_y'\n",
      " '3 Excited state Energy (eV)_3_y' '3 Excited state Osc_3_y'\n",
      " 'Atom_num_4_y' 'HOMO (eV)_4_y' 'LUMO (eV)_4_y' 'HOMO_LUMO_GAP (eV)_4_y'\n",
      " 'IP (eV)_4_y' 'EA (eV)_4_y' '1 Excited state Energy (eV)_4_y'\n",
      " '1 Excited state Osc_4_y' '2 Excited state Energy (eV)_4_y'\n",
      " '2 Excited state Osc_4_y' '3 Excited state Energy (eV)_4_y'\n",
      " '3 Excited state Osc_4_y' 'Atom_num_5_y' 'HOMO (eV)_5_y' 'LUMO (eV)_5_y'\n",
      " 'HOMO_LUMO_GAP (eV)_5_y' 'IP (eV)_5_y' 'EA (eV)_5_y'\n",
      " '1 Excited state Energy (eV)_5_y' '1 Excited state Osc_5_y'\n",
      " '2 Excited state Energy (eV)_5_y' '2 Excited state Osc_5_y'\n",
      " '3 Excited state Energy (eV)_5_y' '3 Excited state Osc_5_y']\n"
     ]
    }
   ],
   "source": [
    "print(df_total.columns.values)"
   ]
  },
  {
   "cell_type": "code",
   "execution_count": 368,
   "metadata": {},
   "outputs": [],
   "source": [
    "# keep only a few columns from df_total\n",
    "df_total_subset = df_total[['InChIKey','target','fosc1','ES1','ionisation potential (eV)','total energy (au)','BB']]\n",
    "df_total_subset.to_csv(STK_path+'/data/output/Full_dataset/df_total_subset_16_11_23.csv')"
   ]
  },
  {
   "cell_type": "markdown",
   "id": "a0830956",
   "metadata": {},
   "source": [
    "Define Molecule 0"
   ]
  },
  {
   "cell_type": "code",
   "execution_count": 157,
   "id": "6618e4e4",
   "metadata": {},
   "outputs": [],
   "source": [
    "client = pymongo.MongoClient(\"mongodb://129.31.66.201/\")\n",
    "database_name=\"stk_mohammed_BO\"\n",
    "db_mol = stk.ConstructedMoleculeMongoDb(\n",
    "    client,\n",
    "    database=database_name,\n",
    ")\n",
    "db_poly = stk.ConstructedMoleculeMongoDb(client, database=database_name)\n",
    "def fragment_based_encoding(InChIKey,db_poly,model,model):\n",
    "    polymer = db_poly.get({\"InChIKey\": InChIKey})\n",
    "    frags = []\n",
    "    for molecule in polymer.get_building_blocks():\n",
    "        dat_list = list(molecule.get_atomic_positions())\n",
    "        positions = np.vstack(dat_list)\n",
    "        positions = torch.tensor(positions, dtype=torch.float)\n",
    "        atom_types = list([atom.get_atomic_number() for atom in molecule.get_atoms()])\n",
    "        atom_types = torch.tensor(atom_types, dtype=torch.long)\n",
    "        molecule = Data(\n",
    "            x=atom_types,\n",
    "            positions=positions,\n",
    "        )\n",
    "        frags.append(molecule)\n",
    "    original_encoding = model(batch.x, batch.positions, batch.batch)\n",
    "    original_encoding = original_encoding.reshape( (-1,))\n",
    "    return original_encoding\n"
   ]
  },
  {
   "cell_type": "code",
   "execution_count": 159,
   "metadata": {},
   "outputs": [
    {
     "data": {
      "text/plain": [
       "torch.Size([768])"
      ]
     },
     "execution_count": 159,
     "metadata": {},
     "output_type": "execute_result"
    }
   ],
   "source": [
    "fragment_based_encoding(df_total['InChIKey'][1],db_poly).shape"
   ]
  },
  {
   "cell_type": "code",
   "execution_count": 107,
   "metadata": {},
   "outputs": [
    {
     "name": "stdout",
     "output_type": "stream",
     "text": [
      "DNHRBCFMFYOUKM-UHFFFAOYSA-N\n",
      "GKKUHQQNQBVLSW-UHFFFAOYSA-N\n",
      "GKKUHQQNQBVLSW-UHFFFAOYSA-N\n",
      "VQAFMTSSCUETHA-UHFFFAOYSA-N\n",
      "DNHRBCFMFYOUKM-UHFFFAOYSA-N\n",
      "GKKUHQQNQBVLSW-UHFFFAOYSA-N\n",
      "molecule 0 is:\n",
      "Data(x=[24], positions=[24, 3])\n",
      "\n",
      "molecule 1 is:\n",
      "Data(x=[13], positions=[13, 3])\n",
      "\n",
      "The collated molecules in batch is:\n",
      "DataBatch(x=[97], positions=[97, 3], batch=[97], ptr=[7])\n",
      "\n",
      "The batch.batch field defines which atoms belong to which molecule/graph:\n",
      "tensor([0, 0, 0, 0, 0, 0, 0, 0, 0, 0, 0, 0, 0, 0, 0, 0, 0, 0, 0, 0, 0, 0, 0, 0,\n",
      "        1, 1, 1, 1, 1, 1, 1, 1, 1, 1, 1, 1, 1, 2, 2, 2, 2, 2, 2, 2, 2, 2, 2, 2,\n",
      "        2, 2, 3, 3, 3, 3, 3, 3, 3, 3, 3, 3, 4, 4, 4, 4, 4, 4, 4, 4, 4, 4, 4, 4,\n",
      "        4, 4, 4, 4, 4, 4, 4, 4, 4, 4, 4, 4, 5, 5, 5, 5, 5, 5, 5, 5, 5, 5, 5, 5,\n",
      "        5])\n",
      "the position in the batch tensor([ 1,  1,  1,  1,  1,  1,  1,  1,  1,  1,  1,  1, 35, 35,  6,  6,  6,  6,\n",
      "         6,  6,  6,  6,  6,  6,  9,  9, 35, 35,  7,  7,  8,  6,  6,  6,  6,  6,\n",
      "         6,  9,  9, 35, 35,  7,  7,  8,  6,  6,  6,  6,  6,  6,  1,  1, 35, 35,\n",
      "         7,  7,  6,  6,  6,  6,  1,  1,  1,  1,  1,  1,  1,  1,  1,  1,  1,  1,\n",
      "        35, 35,  6,  6,  6,  6,  6,  6,  6,  6,  6,  6,  9,  9, 35, 35,  7,  7,\n",
      "         8,  6,  6,  6,  6,  6,  6])\n",
      "the position in the batch None\n"
     ]
    }
   ],
   "source": [
    "frags = []\n",
    "for frag in eval(df_total['BB'][50]):\n",
    "    print(frag['InChIKey'])\n",
    "    InChIKey= frag['InChIKey']\n",
    "    db_mol = stk.MoleculeMongoDb(client, database_name)\n",
    "    molecule_0 = db_mol.get({\"InChIKey\": InChIKey})\n",
    "    dat_list = list(molecule_0.get_atomic_positions())\n",
    "    positions = np.vstack(dat_list)\n",
    "    positions = torch.tensor(positions, dtype=torch.float)\n",
    "    atom_types = list([atom.get_atomic_number() for atom in molecule_0.get_atoms()])\n",
    "    atom_types = torch.tensor(atom_types, dtype=torch.long)\n",
    "\n",
    "    molecule = Data(\n",
    "        x=atom_types,\n",
    "        positions=positions,\n",
    "    )\n",
    "    frags.append(molecule)\n",
    "batch = Batch.from_data_list(frags)\n",
    "print(\"molecule 0 is:\\n{}\\n\".format(frags[0]))\n",
    "print(\"molecule 1 is:\\n{}\\n\".format(frags[1]))\n",
    "print(\"The collated molecules in batch is:\\n{}\\n\".format(batch))\n",
    "print(\"The batch.batch field defines which atoms belong to which molecule/graph:\\n{}\".format(batch.batch))\n",
    "print(\"the position in the batch\", batch.x)\n",
    "print(\"the position in the batch\", batch.positions)"
   ]
  },
  {
   "cell_type": "code",
   "execution_count": 139,
   "metadata": {},
   "outputs": [],
   "source": [
    "original_encoding = model(batch.x, batch.positions, batch.batch)\n",
    "original_encoding = original_encoding.reshape( (-1,))"
   ]
  },
  {
   "cell_type": "code",
   "execution_count": 165,
   "metadata": {},
   "outputs": [
    {
     "data": {
      "text/plain": [
       "6"
      ]
     },
     "execution_count": 165,
     "metadata": {},
     "output_type": "execute_result"
    }
   ],
   "source": [
    "len(list(polymer.get_building_blocks()))"
   ]
  },
  {
   "cell_type": "code",
   "execution_count": 140,
   "metadata": {},
   "outputs": [
    {
     "data": {
      "text/plain": [
       "torch.Size([768])"
      ]
     },
     "execution_count": 140,
     "metadata": {},
     "output_type": "execute_result"
    }
   ],
   "source": [
    "class LitAutoEncoder(nn.Module):\n",
    "    def __init__(self):\n",
    "        super().__init__()\n",
    "        self.encoder = nn.Sequential(\n",
    "            nn.Linear(14719, 50), nn.ReLU(), nn.Linear(50, 100))\n",
    "        self.decoder =  nn.Sequential(\n",
    "            nn.Linear(100, 50), nn.ReLU(), nn.Linear(50, 14719)\n",
    "        )\n",
    "    def forward(self, x):\n",
    "        z = self.encoder(x)\n",
    "        return self.decoder(z)"
   ]
  },
  {
   "cell_type": "code",
   "execution_count": 311,
   "metadata": {},
   "outputs": [],
   "source": []
  },
  {
   "cell_type": "markdown",
   "id": "599c9fd9",
   "metadata": {},
   "source": [
    "Define Molecule 1"
   ]
  },
  {
   "cell_type": "code",
   "execution_count": 143,
   "id": "8c31a19e",
   "metadata": {},
   "outputs": [],
   "source": [
    "molecule_1,polymer = load_molecule(df_total['InChIKey'][1],df_total['target'][1],db)\n",
    "molecule_0,polymer = load_molecule(df_total['InChIKey'][0],df_total['target'][0],db)"
   ]
  },
  {
   "cell_type": "code",
   "execution_count": 146,
   "metadata": {},
   "outputs": [
    {
     "data": {
      "text/plain": [
       "<Molecule at 3227403139920>"
      ]
     },
     "execution_count": 146,
     "metadata": {},
     "output_type": "execute_result"
    }
   ],
   "source": [
    "for frag in polymer.get_building_blocks():\n",
    "    break\n",
    "frag."
   ]
  },
  {
   "cell_type": "markdown",
   "id": "bc71d74f",
   "metadata": {},
   "source": [
    "Then we gather two molecule data into a batch. In PyG, it will gather two small graph data into one sparse graph data.\n",
    "\n",
    "**Notice**: Typically, this is done in the Dataloader class by default."
   ]
  },
  {
   "cell_type": "code",
   "execution_count": 9,
   "id": "4491c929",
   "metadata": {},
   "outputs": [
    {
     "name": "stdout",
     "output_type": "stream",
     "text": [
      "molecule 0 is:\n",
      "Data(x=[98], y=-10.980199813842773, positions=[98, 3])\n",
      "\n",
      "molecule 1 is:\n",
      "Data(x=[104], y=-11.025300025939941, positions=[104, 3])\n",
      "\n",
      "The collated molecules in batch is:\n",
      "DataBatch(x=[202], y=[2], positions=[202, 3], batch=[202], ptr=[3])\n",
      "\n",
      "The batch.batch field defines which atoms belong to which molecule/graph:\n",
      "tensor([0, 0, 0, 0, 0, 0, 0, 0, 0, 0, 0, 0, 0, 0, 0, 0, 0, 0, 0, 0, 0, 0, 0, 0,\n",
      "        0, 0, 0, 0, 0, 0, 0, 0, 0, 0, 0, 0, 0, 0, 0, 0, 0, 0, 0, 0, 0, 0, 0, 0,\n",
      "        0, 0, 0, 0, 0, 0, 0, 0, 0, 0, 0, 0, 0, 0, 0, 0, 0, 0, 0, 0, 0, 0, 0, 0,\n",
      "        0, 0, 0, 0, 0, 0, 0, 0, 0, 0, 0, 0, 0, 0, 0, 0, 0, 0, 0, 0, 0, 0, 0, 0,\n",
      "        0, 0, 1, 1, 1, 1, 1, 1, 1, 1, 1, 1, 1, 1, 1, 1, 1, 1, 1, 1, 1, 1, 1, 1,\n",
      "        1, 1, 1, 1, 1, 1, 1, 1, 1, 1, 1, 1, 1, 1, 1, 1, 1, 1, 1, 1, 1, 1, 1, 1,\n",
      "        1, 1, 1, 1, 1, 1, 1, 1, 1, 1, 1, 1, 1, 1, 1, 1, 1, 1, 1, 1, 1, 1, 1, 1,\n",
      "        1, 1, 1, 1, 1, 1, 1, 1, 1, 1, 1, 1, 1, 1, 1, 1, 1, 1, 1, 1, 1, 1, 1, 1,\n",
      "        1, 1, 1, 1, 1, 1, 1, 1, 1, 1])\n"
     ]
    }
   ],
   "source": [
    "data_list = [molecule_0, molecule_1]\n",
    "batch = Batch.from_data_list(data_list)\n",
    "print(\"molecule 0 is:\\n{}\\n\".format(molecule_0))\n",
    "print(\"molecule 1 is:\\n{}\\n\".format(molecule_1))\n",
    "print(\"The collated molecules in batch is:\\n{}\\n\".format(batch))\n",
    "print(\"The batch.batch field defines which atoms belong to which molecule/graph:\\n{}\".format(batch.batch))"
   ]
  },
  {
   "cell_type": "markdown",
   "id": "1a5201e8",
   "metadata": {},
   "source": [
    "## Step 3. Set Model"
   ]
  },
  {
   "cell_type": "markdown",
   "id": "6422a05a",
   "metadata": {},
   "source": [
    "## Step 4. Make Predictions"
   ]
  },
  {
   "cell_type": "markdown",
   "metadata": {},
   "source": [
    "## Step 5. Make Dataloader"
   ]
  },
  {
   "cell_type": "code",
   "execution_count": 326,
   "metadata": {},
   "outputs": [],
   "source": [
    "def load_molecule(InChIKey,target,db):\n",
    "    polymer = db.get({\"InChIKey\": InChIKey})\n",
    "    dat_list = list(polymer.get_atomic_positions())\n",
    "    positions = np.vstack(dat_list)\n",
    "    positions = torch.tensor(positions, dtype=torch.float)\n",
    "    atom_types = list([atom.get_atom().get_atomic_number() for atom in polymer.get_atom_infos()])\n",
    "    atom_types = torch.tensor(atom_types, dtype=torch.long)\n",
    "    y = torch.tensor(target, dtype=torch.float32)\n",
    "\n",
    "    molecule = Data(\n",
    "        x=atom_types,\n",
    "        positions=positions,\n",
    "        y=y\n",
    "    )\n",
    "    return molecule\n",
    "def generate_dataset(df_total, df_precursors, db,number_of_molecules=1000):\n",
    "    molecule_index = np.random.choice(len(df_total), number_of_molecules, replace=False)\n",
    "    data_list = []\n",
    "    for i in molecule_index:\n",
    "        molecule = load_molecule(df_total['InChIKey'][i],df_total['target'][i],db)\n",
    "        data_list.append(molecule)\n",
    "        \n",
    "    return data_list\n",
    "def train_val_test_split(\n",
    "    dataset,  seed=0, smiles_list=None,train_ratio=0.8, valid_ratio=0.1\n",
    "):\n",
    "\n",
    "\n",
    "    num_mols = len(dataset)\n",
    "    np.random.seed(seed)\n",
    "    all_idx = np.random.permutation(num_mols)\n",
    "\n",
    "    Nmols = num_mols\n",
    "    Ntrain = int(num_mols*train_ratio)\n",
    "    Nvalid = int(num_mols*valid_ratio)\n",
    "    Ntest = Nmols - (Ntrain + Nvalid)\n",
    "\n",
    "    train_idx = all_idx[:Ntrain]\n",
    "    valid_idx = all_idx[Ntrain : Ntrain + Nvalid]\n",
    "    test_idx = all_idx[Ntrain + Nvalid :]\n",
    "\n",
    "    print(\"train_idx: \", train_idx)\n",
    "    print(\"valid_idx: \", valid_idx)\n",
    "    print(\"test_idx: \", test_idx)\n",
    "    # np.savez(\"customized_01\", train_idx=train_idx, valid_idx=valid_idx, test_idx=test_idx)\n",
    "\n",
    "    assert len(set(train_idx).intersection(set(valid_idx))) == 0\n",
    "    assert len(set(valid_idx).intersection(set(test_idx))) == 0\n",
    "    assert len(train_idx) + len(valid_idx) + len(test_idx) == num_mols\n",
    "    train_dataset = [dataset[x] for x in train_idx]\n",
    "    valid_dataset = [dataset[x] for x in valid_idx]\n",
    "    test_dataset = [dataset[x] for x in test_idx]\n",
    "\n",
    "    if not smiles_list:\n",
    "        return train_dataset, valid_dataset, test_dataset\n",
    "    else:\n",
    "        train_smiles = [smiles_list[i] for i in train_idx]\n",
    "        valid_smiles = [smiles_list[i] for i in valid_idx]\n",
    "        test_smiles = [smiles_list[i] for i in test_idx]\n",
    "        return (\n",
    "            train_dataset,\n",
    "            valid_dataset,\n",
    "            test_dataset,\n",
    "            (train_smiles, valid_smiles, test_smiles),\n",
    "        )"
   ]
  },
  {
   "cell_type": "code",
   "execution_count": null,
   "metadata": {},
   "outputs": [],
   "source": [
    "\n",
    "dataset = generate_dataset(df_total, df_precursors, db,number_of_molecules=10)\n",
    "\n"
   ]
  },
  {
   "cell_type": "code",
   "execution_count": null,
   "metadata": {},
   "outputs": [
    {
     "data": {
      "text/plain": [
       "[Data(x=[115], y=-8.132699966430664, positions=[115, 3]),\n",
       " Data(x=[96], y=-9.158599853515625, positions=[96, 3]),\n",
       " Data(x=[154], y=-6.576000213623047, positions=[154, 3]),\n",
       " Data(x=[106], y=-10.512700080871582, positions=[106, 3]),\n",
       " Data(x=[116], y=-9.593000411987305, positions=[116, 3]),\n",
       " Data(x=[117], y=-7.921999931335449, positions=[117, 3]),\n",
       " Data(x=[115], y=-7.629300117492676, positions=[115, 3]),\n",
       " Data(x=[157], y=-7.564700126647949, positions=[157, 3]),\n",
       " Data(x=[133], y=-10.718199729919434, positions=[133, 3]),\n",
       " Data(x=[144], y=-10.681099891662598, positions=[144, 3]),\n",
       " Data(x=[134], y=-10.550399780273438, positions=[134, 3]),\n",
       " Data(x=[154], y=-6.498700141906738, positions=[154, 3]),\n",
       " Data(x=[111], y=-9.346099853515625, positions=[111, 3]),\n",
       " Data(x=[150], y=-10.587599754333496, positions=[150, 3]),\n",
       " Data(x=[128], y=-5.9105000495910645, positions=[128, 3]),\n",
       " Data(x=[106], y=-6.546599864959717, positions=[106, 3]),\n",
       " Data(x=[126], y=-10.729900360107422, positions=[126, 3]),\n",
       " Data(x=[115], y=-8.74530029296875, positions=[115, 3]),\n",
       " Data(x=[124], y=-10.509300231933594, positions=[124, 3]),\n",
       " Data(x=[116], y=-10.959400177001953, positions=[116, 3]),\n",
       " Data(x=[87], y=-10.125900268554688, positions=[87, 3]),\n",
       " Data(x=[131], y=-10.629799842834473, positions=[131, 3]),\n",
       " Data(x=[112], y=-8.417499542236328, positions=[112, 3]),\n",
       " Data(x=[122], y=-10.964099884033203, positions=[122, 3]),\n",
       " Data(x=[101], y=-11.163599967956543, positions=[101, 3]),\n",
       " Data(x=[92], y=-10.611700057983398, positions=[92, 3]),\n",
       " Data(x=[111], y=-8.934800148010254, positions=[111, 3]),\n",
       " Data(x=[67], y=-11.156700134277344, positions=[67, 3]),\n",
       " Data(x=[127], y=-10.407500267028809, positions=[127, 3]),\n",
       " Data(x=[114], y=-10.09749984741211, positions=[114, 3]),\n",
       " Data(x=[145], y=-9.536600112915039, positions=[145, 3]),\n",
       " Data(x=[106], y=-10.692700386047363, positions=[106, 3]),\n",
       " Data(x=[114], y=-11.21720027923584, positions=[114, 3]),\n",
       " Data(x=[112], y=-10.252900123596191, positions=[112, 3]),\n",
       " Data(x=[106], y=-9.123499870300293, positions=[106, 3]),\n",
       " Data(x=[134], y=-8.46049976348877, positions=[134, 3]),\n",
       " Data(x=[156], y=-6.611299991607666, positions=[156, 3]),\n",
       " Data(x=[161], y=-9.729599952697754, positions=[161, 3]),\n",
       " Data(x=[87], y=-9.7391996383667, positions=[87, 3]),\n",
       " Data(x=[164], y=-10.012399673461914, positions=[164, 3]),\n",
       " Data(x=[149], y=-10.838700294494629, positions=[149, 3]),\n",
       " Data(x=[163], y=-5.499599933624268, positions=[163, 3]),\n",
       " Data(x=[142], y=-11.067299842834473, positions=[142, 3]),\n",
       " Data(x=[156], y=-9.180500030517578, positions=[156, 3]),\n",
       " Data(x=[127], y=-9.38539981842041, positions=[127, 3]),\n",
       " Data(x=[126], y=-7.000999927520752, positions=[126, 3]),\n",
       " Data(x=[130], y=-12.217900276184082, positions=[130, 3]),\n",
       " Data(x=[106], y=-10.076899528503418, positions=[106, 3]),\n",
       " Data(x=[129], y=-10.970000267028809, positions=[129, 3]),\n",
       " Data(x=[107], y=-11.138699531555176, positions=[107, 3]),\n",
       " Data(x=[163], y=-10.293999671936035, positions=[163, 3]),\n",
       " Data(x=[150], y=-3.5104000568389893, positions=[150, 3]),\n",
       " Data(x=[134], y=-10.535900115966797, positions=[134, 3]),\n",
       " Data(x=[152], y=-10.088700294494629, positions=[152, 3]),\n",
       " Data(x=[123], y=-10.329099655151367, positions=[123, 3]),\n",
       " Data(x=[143], y=-10.786199569702148, positions=[143, 3]),\n",
       " Data(x=[114], y=-11.266500473022461, positions=[114, 3]),\n",
       " Data(x=[103], y=-7.269400119781494, positions=[103, 3]),\n",
       " Data(x=[109], y=-10.005999565124512, positions=[109, 3]),\n",
       " Data(x=[86], y=-10.549300193786621, positions=[86, 3]),\n",
       " Data(x=[97], y=-11.045599937438965, positions=[97, 3]),\n",
       " Data(x=[125], y=-10.723600387573242, positions=[125, 3]),\n",
       " Data(x=[154], y=-10.047900199890137, positions=[154, 3]),\n",
       " Data(x=[115], y=-8.521699905395508, positions=[115, 3]),\n",
       " Data(x=[148], y=-9.339599609375, positions=[148, 3]),\n",
       " Data(x=[114], y=-10.76830005645752, positions=[114, 3]),\n",
       " Data(x=[131], y=-10.217399597167969, positions=[131, 3]),\n",
       " Data(x=[136], y=-10.307999610900879, positions=[136, 3]),\n",
       " Data(x=[135], y=-10.101499557495117, positions=[135, 3]),\n",
       " Data(x=[99], y=-9.98740005493164, positions=[99, 3]),\n",
       " Data(x=[111], y=-8.318099975585938, positions=[111, 3]),\n",
       " Data(x=[111], y=-11.652600288391113, positions=[111, 3]),\n",
       " Data(x=[98], y=-9.662300109863281, positions=[98, 3]),\n",
       " Data(x=[99], y=-10.375699996948242, positions=[99, 3]),\n",
       " Data(x=[101], y=-10.778800010681152, positions=[101, 3]),\n",
       " Data(x=[109], y=-9.767600059509277, positions=[109, 3]),\n",
       " Data(x=[143], y=-9.988900184631348, positions=[143, 3]),\n",
       " Data(x=[162], y=-10.17710018157959, positions=[162, 3]),\n",
       " Data(x=[157], y=-6.347899913787842, positions=[157, 3]),\n",
       " Data(x=[71], y=-10.436300277709961, positions=[71, 3]),\n",
       " Data(x=[107], y=-9.684100151062012, positions=[107, 3]),\n",
       " Data(x=[146], y=-7.934500217437744, positions=[146, 3]),\n",
       " Data(x=[115], y=-5.896900177001953, positions=[115, 3]),\n",
       " Data(x=[163], y=-10.251500129699707, positions=[163, 3]),\n",
       " Data(x=[150], y=-10.785300254821777, positions=[150, 3]),\n",
       " Data(x=[100], y=-10.940400123596191, positions=[100, 3]),\n",
       " Data(x=[149], y=-4.272500038146973, positions=[149, 3]),\n",
       " Data(x=[115], y=-11.410200119018555, positions=[115, 3]),\n",
       " Data(x=[135], y=-11.128299713134766, positions=[135, 3]),\n",
       " Data(x=[102], y=-10.355299949645996, positions=[102, 3]),\n",
       " Data(x=[154], y=-5.171800136566162, positions=[154, 3]),\n",
       " Data(x=[160], y=-10.735799789428711, positions=[160, 3]),\n",
       " Data(x=[135], y=-10.710100173950195, positions=[135, 3]),\n",
       " Data(x=[115], y=-10.418999671936035, positions=[115, 3]),\n",
       " Data(x=[121], y=-8.791899681091309, positions=[121, 3]),\n",
       " Data(x=[164], y=-8.200699806213379, positions=[164, 3]),\n",
       " Data(x=[99], y=-9.424200057983398, positions=[99, 3]),\n",
       " Data(x=[89], y=-11.042400360107422, positions=[89, 3]),\n",
       " Data(x=[137], y=-6.216000080108643, positions=[137, 3]),\n",
       " Data(x=[108], y=-12.053000450134277, positions=[108, 3])]"
      ]
     },
     "execution_count": 385,
     "metadata": {},
     "output_type": "execute_result"
    }
   ],
   "source": [
    "dataset"
   ]
  },
  {
   "cell_type": "code",
   "execution_count": null,
   "metadata": {},
   "outputs": [
    {
     "name": "stdout",
     "output_type": "stream",
     "text": [
      "train_idx:  [83 53 70 45 44 39 22 80 10  0 18 30 73 33 90  4 76 77 12 31 55 88 26 42\n",
      " 69 15 40 96  9 72 11 47 85 28 93  5 66 65 35 16 49 34  7 95 27 19 81 25\n",
      " 62 13 24  3 17 38  8 78  6 64 36 89 56 99 54 43 50 67 46 68 61 97 79 41\n",
      " 58 48 98 57 75 32 94 59]\n",
      "valid_idx:  [63 84 37 29  1 52 21  2 23 87]\n",
      "test_idx:  [91 74 86 82 20 60 71 14 92 51]\n"
     ]
    }
   ],
   "source": [
    "train_dataset, valid_dataset, test_dataset = train_val_test_split(dataset, seed=seed)\n",
    "\n",
    "\n",
    "\n",
    "# Set dataloaders\n",
    "batch_size = 128\n",
    "num_workers = 0\n",
    "train_loader = DataLoader(train_dataset, batch_size=batch_size, shuffle=True, num_workers=num_workers)\n",
    "val_loader = DataLoader(valid_dataset, batch_size=batch_size, shuffle=False, num_workers=num_workers)\n",
    "test_loader = DataLoader(test_dataset, batch_size=batch_size, shuffle=False, num_workers=num_workers)"
   ]
  },
  {
   "cell_type": "code",
   "execution_count": 376,
   "metadata": {},
   "outputs": [],
   "source": [
    "from geom3d.models import SchNet\n",
    "import torch.nn as nn\n",
    "import torch.optim as optim\n",
    "from tqdm import tqdm\n",
    "\n",
    "node_class, edge_class = 119, 5\n",
    "num_tasks = 1\n",
    "\n",
    "emb_dim = 128\n",
    "SchNet_num_filters = 128\n",
    "SchNet_num_interactions = 6\n",
    "SchNet_num_gaussians = 51\n",
    "SchNet_cutoff = 10\n",
    "SchNet_readout = \"mean\"\n",
    "\n",
    "model = SchNet(\n",
    "    hidden_channels=emb_dim,\n",
    "    num_filters=SchNet_num_filters,\n",
    "    num_interactions=SchNet_num_interactions,\n",
    "    num_gaussians=SchNet_num_gaussians,\n",
    "    cutoff=SchNet_cutoff,\n",
    "    readout=SchNet_readout,\n",
    "    node_class=node_class,\n",
    ")\n",
    "\n",
    "graph_pred_linear = torch.nn.Linear(emb_dim, num_tasks)"
   ]
  },
  {
   "cell_type": "code",
   "execution_count": 377,
   "metadata": {},
   "outputs": [],
   "source": [
    "import lightning.pytorch as pl\n",
    "import torch.nn.functional as Functional\n",
    "class Pymodel(pl.LightningModule):\n",
    "    def __init__(self, model, graph_pred_linear):\n",
    "        super().__init__()\n",
    "        self.save_hyperparameters()\n",
    "        self.molecule_3D_repr = model\n",
    "        self.graph_pred_linear = graph_pred_linear\n",
    "\n",
    "    def training_step(self, batch, batch_idx):\n",
    "        # training_step defines the train loop.\n",
    "        loss = self._get_preds_loss_accuracy(batch)\n",
    "\n",
    "        self.log('train_loss', loss)\n",
    "        return loss\n",
    "\n",
    "\n",
    "    def validation_step(self, batch, batch_idx):\n",
    "        '''used for logging metrics'''\n",
    "        loss = self._get_preds_loss_accuracy(batch)\n",
    "\n",
    "        # Log loss and metric\n",
    "        self.log('val_loss', loss)\n",
    "        return loss\n",
    "    \n",
    "    def forward(self, batch):\n",
    "        z = self.molecule_3D_repr(batch.x, batch.positions, batch.batch)\n",
    "        z = self.graph_pred_linear(z)\n",
    "        return z\n",
    "        \n",
    "    def _get_preds_loss_accuracy(self, batch):\n",
    "        '''convenience function since train/valid/test steps are similar'''\n",
    "        z = self.molecule_3D_repr(batch.x, batch.positions, batch.batch)\n",
    "        z = self.graph_pred_linear(z)\n",
    "        loss = Functional.mse_loss(z, batch.y.unsqueeze(1))\n",
    "        return loss\n",
    "    \n",
    "    def configure_optimizers(self):\n",
    "        optimizer = torch.optim.Adam(self.parameters(), lr=5e-4)\n",
    "        return optimizer"
   ]
  },
  {
   "cell_type": "code",
   "execution_count": 396,
   "metadata": {},
   "outputs": [
    {
     "data": {
      "text/plain": [
       "'C:\\\\Users\\\\ma11115\\\\OneDrive - Imperial College London\\\\Geom3d\\\\Geom3D\\\\training'"
      ]
     },
     "execution_count": 396,
     "metadata": {},
     "output_type": "execute_result"
    }
   ],
   "source": [
    "os.getcwd()"
   ]
  },
  {
   "cell_type": "code",
   "execution_count": 1,
   "metadata": {},
   "outputs": [
    {
     "name": "stderr",
     "output_type": "stream",
     "text": [
      "c:\\cond\\envs\\Geom3D\\Lib\\site-packages\\lightning\\pytorch\\utilities\\parsing.py:198: Attribute 'model' is an instance of `nn.Module` and is already saved during checkpointing. It is recommended to ignore them using `self.save_hyperparameters(ignore=['model'])`.\n",
      "c:\\cond\\envs\\Geom3D\\Lib\\site-packages\\lightning\\pytorch\\utilities\\parsing.py:198: Attribute 'graph_pred_linear' is an instance of `nn.Module` and is already saved during checkpointing. It is recommended to ignore them using `self.save_hyperparameters(ignore=['graph_pred_linear'])`.\n"
     ]
    },
    {
     "ename": "NameError",
     "evalue": "name 'dataset' is not defined",
     "output_type": "error",
     "traceback": [
      "\u001b[1;31m---------------------------------------------------------------------------\u001b[0m",
      "\u001b[1;31mNameError\u001b[0m                                 Traceback (most recent call last)",
      "\u001b[1;32mc:\\Users\\ma11115\\OneDrive - Imperial College London\\Geom3d\\Geom3D\\notebook\\Test_train_shnet.ipynb Cell 35\u001b[0m line \u001b[0;36m7\n\u001b[0;32m      <a href='vscode-notebook-cell:/c%3A/Users/ma11115/OneDrive%20-%20Imperial%20College%20London/Geom3d/Geom3D/notebook/Test_train_shnet.ipynb#Y100sZmlsZQ%3D%3D?line=4'>5</a>\u001b[0m pymodel \u001b[39m=\u001b[39m Pymodel\u001b[39m.\u001b[39mload_from_checkpoint(chkpt_path)\n\u001b[0;32m      <a href='vscode-notebook-cell:/c%3A/Users/ma11115/OneDrive%20-%20Imperial%20College%20London/Geom3d/Geom3D/notebook/Test_train_shnet.ipynb#Y100sZmlsZQ%3D%3D?line=5'>6</a>\u001b[0m pymodel\u001b[39m.\u001b[39meval()\n\u001b[1;32m----> <a href='vscode-notebook-cell:/c%3A/Users/ma11115/OneDrive%20-%20Imperial%20College%20London/Geom3d/Geom3D/notebook/Test_train_shnet.ipynb#Y100sZmlsZQ%3D%3D?line=6'>7</a>\u001b[0m pymodel(dataset[\u001b[39m0\u001b[39m])\n",
      "\u001b[1;31mNameError\u001b[0m: name 'dataset' is not defined"
     ]
    }
   ],
   "source": [
    "from geom3d.test_train import *\n",
    "import torch\n",
    "chkpt_path = \"C:/Users/ma11115/OneDrive - Imperial College London/Geom3d/Geom3D/training/SchNet_target_80K_TEST_5e4lr/epoch=91-val_loss=0.56-other_metric=0.00.ckpt\"\n",
    "device ='cpu'\n",
    "pymodel = Pymodel.load_from_checkpoint(chkpt_path)\n",
    "pymodel.eval()\n",
    "#pymodel(dataset[0])"
   ]
  },
  {
   "cell_type": "code",
   "execution_count": 402,
   "metadata": {},
   "outputs": [
    {
     "name": "stdout",
     "output_type": "stream",
     "text": [
      "y_pred tensor([[-9.7054]], grad_fn=<AddmmBackward0>)\n",
      "y_true tensor(-8.1327)\n"
     ]
    }
   ],
   "source": [
    "\n"
   ]
  },
  {
   "cell_type": "code",
   "execution_count": 390,
   "metadata": {},
   "outputs": [
    {
     "name": "stdout",
     "output_type": "stream",
     "text": [
      "Mse loss tensor(1.6801, grad_fn=<MseLossBackward0>)\n"
     ]
    },
    {
     "data": {
      "image/png": "[encoded data removed]",
      "text/plain": [
       "<Figure size 640x480 with 1 Axes>"
      ]
     },
     "metadata": {},
     "output_type": "display_data"
    }
   ],
   "source": [
    "for x in train_loader:\n",
    "    Y_pred = pymodel(x)\n",
    "    break\n",
    "%matplotlib inline\n",
    "import matplotlib.pyplot as plt\n",
    "\n",
    "plt.scatter(Y_pred.detach().numpy(), x.y.detach().numpy())\n",
    "plt.plot(x.y.detach().numpy(),x.y.detach().numpy())\n",
    "print('Mse loss', Functional.mse_loss(Y_pred, x.y.unsqueeze(1)))\n",
    "plt.xlabel('y_pred')\n",
    "plt.ylabel('y_true')\n",
    "\n",
    "plt.show()"
   ]
  },
  {
   "cell_type": "code",
   "execution_count": 250,
   "metadata": {},
   "outputs": [
    {
     "name": "stderr",
     "output_type": "stream",
     "text": [
      "c:\\cond\\envs\\Geom3D\\Lib\\site-packages\\lightning\\pytorch\\utilities\\parsing.py:198: Attribute 'model' is an instance of `nn.Module` and is already saved during checkpointing. It is recommended to ignore them using `self.save_hyperparameters(ignore=['model'])`.\n",
      "c:\\cond\\envs\\Geom3D\\Lib\\site-packages\\lightning\\pytorch\\utilities\\parsing.py:198: Attribute 'graph_pred_linear' is an instance of `nn.Module` and is already saved during checkpointing. It is recommended to ignore them using `self.save_hyperparameters(ignore=['graph_pred_linear'])`.\n"
     ]
    }
   ],
   "source": [
    "\n",
    "output_model_path = os.getcwd()+'/training/test/output_model.pth'\n",
    "chkpt_path = os.getcwd()+\"/training/SchNet_target_1K_test_5e4lr/epoch=223-val_loss=0.37-other_metric=0.00.ckpt\"\n",
    "def save_3d_repr(output_model_path,chkpt_path):\n",
    "    graph_pred_linear = torch.nn.Linear(emb_dim, num_tasks)\n",
    "    pymodel = Pymodel.load_from_checkpoint(chkpt_path)\n",
    "    #model.eval()\n",
    "    molecule_3D_repr = pymodel.molecule_3D_repr\n",
    "    molecule_3D_repr.eval()\n",
    "    saved_model_dict = {}\n",
    "    saved_model_dict[\"model\"] = molecule_3D_repr.state_dict()\n",
    "    torch.save(saved_model_dict, output_model_path)\n",
    "def load_3d_rpr(model, output_model_path):\n",
    "    saved_model_dict = torch.load(output_model_path)\n",
    "    model.load_state_dict(saved_model_dict[\"model\"])\n",
    "    return model\n",
    "save_3d_repr(output_model_path,chkpt_path)\n",
    "model = load_3d_rpr(model, output_model_path)\n",
    "#torch.jit.save(torch.jit.script(model_1K), \"SchNet_151123.pt\")"
   ]
  },
  {
   "cell_type": "code",
   "execution_count": 297,
   "metadata": {},
   "outputs": [
    {
     "name": "stderr",
     "output_type": "stream",
     "text": [
      "C:\\Users\\ma11115\\OneDrive - Imperial College London\\Geom3d\\Geom3D\\src\\geom3d\\Database_utils.py:106: DtypeWarning: Columns (18) have mixed types. Specify dtype option on import or set low_memory=False.\n",
      "  df_total = pd.read_csv(df_path)\n"
     ]
    },
    {
     "name": "stdout",
     "output_type": "stream",
     "text": [
      "train_idx:  [83 53 70 45 44 39 22 80 10  0 18 30 73 33 90  4 76 77 12 31 55 88 26 42\n",
      " 69 15 40 96  9 72 11 47 85 28 93  5 66 65 35 16 49 34  7 95 27 19 81 25\n",
      " 62 13 24  3 17 38  8 78  6 64 36 89 56 99 54 43 50 67 46 68 61 97 79 41\n",
      " 58 48 98 57 75 32 94 59]\n",
      "valid_idx:  [63 84 37 29  1 52 21  2 23 87]\n",
      "test_idx:  [91 74 86 82 20 60 71 14 92 51]\n",
      "(0, DataBatch(x=[80, 768], y=[80, 128], InChIKey=[80], batch=[80], ptr=[81]))\n"
     ]
    }
   ],
   "source": [
    "#!python src/geom3d/fragencoding.py --config_dir /training/test\n",
    "from geom3d import fragencoding \n",
    "from geom3d.config_utils import read_config\n",
    "importlib.reload(fragencoding)\n",
    "config_dir = os.getcwd()+\"/test\"\n",
    "config = read_config(config_dir)\n",
    "os.chdir(config[\"running_dir\"])\n",
    "np.random.seed(config[\"seed\"])\n",
    "torch.cuda.manual_seed_all(config[\"seed\"])\n",
    "config[\"device\"] = (\n",
    "    \"cuda\" if torch.cuda.is_available() else torch.device(\"cpu\")\n",
    ")\n",
    "model_config = config[\"model\"]\n",
    "model = SchNet(\n",
    "    hidden_channels=model_config[\"emb_dim\"],\n",
    "    num_filters=model_config[\"SchNet_num_filters\"],\n",
    "    num_interactions=model_config[\"SchNet_num_interactions\"],\n",
    "    num_gaussians=model_config[\"SchNet_num_gaussians\"],\n",
    "    cutoff=model_config[\"SchNet_cutoff\"],\n",
    "    readout=model_config[\"SchNet_readout\"],\n",
    "    node_class=model_config[\"node_class\"],\n",
    ")\n",
    "dataset = fragencoding.load_data(config, model)\n",
    "train_loader, val_loader, test_loader = fragencoding.train_val_test_split(\n",
    "    dataset, config=config\n",
    ")\n",
    "for x in enumerate(train_loader):\n",
    "    print(x)"
   ]
  },
  {
   "cell_type": "code",
   "execution_count": 303,
   "metadata": {},
   "outputs": [
    {
     "name": "stdout",
     "output_type": "stream",
     "text": [
      "DataBatch(x=[4, 768], y=[4, 128], InChIKey=[4], batch=[4], ptr=[5])\n"
     ]
    }
   ],
   "source": [
    "with torch.no_grad():\n",
    "    for batch in train_loader:\n",
    "        batch = batch.to(config[\"device\"])\n",
    "        print(batch)\n",
    "        break\n"
   ]
  },
  {
   "cell_type": "code",
   "execution_count": 308,
   "metadata": {},
   "outputs": [
    {
     "data": {
      "text/plain": [
       "tensor([[ 8.4451e-01,  6.4419e-01,  1.7831e-01,  ..., -2.9693e-01,\n",
       "         -3.4340e-01,  6.9320e-01],\n",
       "        [ 1.3097e+00,  1.2238e-01,  1.4261e-03,  ...,  2.4758e-01,\n",
       "         -4.1374e-01,  1.4865e+00],\n",
       "        [ 1.4922e+00,  9.4136e-01, -1.3013e-01,  ..., -1.7008e-02,\n",
       "         -3.8835e-02, -3.7324e-01],\n",
       "        [ 3.3586e-01,  1.8002e-02,  4.5859e-01,  ..., -1.7008e-02,\n",
       "         -3.8834e-02, -3.7324e-01]], grad_fn=<CatBackward0>)"
      ]
     },
     "execution_count": 308,
     "metadata": {},
     "output_type": "execute_result"
    }
   ],
   "source": [
    "\n",
    "x[1].x "
   ]
  },
  {
   "cell_type": "code",
   "execution_count": 306,
   "metadata": {},
   "outputs": [
    {
     "name": "stdout",
     "output_type": "stream",
     "text": [
      "(0, DataBatch(x=[4, 768], y=[4, 128], InChIKey=[4], batch=[4], ptr=[5]))\n"
     ]
    }
   ],
   "source": [
    "with torch.no_grad():\n",
    "    train_dataset = [dataset[x] for x in [0,1,2,3]]\n",
    "train_loader = DataLoader(\n",
    "    train_dataset,\n",
    "    batch_size=config[\"batch_size\"],\n",
    "    shuffle=True,)\n",
    "for x in enumerate(train_loader):\n",
    "    print(x)"
   ]
  },
  {
   "cell_type": "code",
   "execution_count": 26,
   "metadata": {},
   "outputs": [
    {
     "ename": "ModuleNotFoundError",
     "evalue": "No module named 'lightning'",
     "output_type": "error",
     "traceback": [
      "\u001b[1;31m---------------------------------------------------------------------------\u001b[0m",
      "\u001b[1;31mModuleNotFoundError\u001b[0m                       Traceback (most recent call last)",
      "\u001b[1;32mc:\\Users\\ma11115\\OneDrive - Imperial College London\\Geom3d\\Geom3D\\notebook\\Test_train_shnet.ipynb Cell 26\u001b[0m line \u001b[0;36m1\n\u001b[1;32m----> <a href='vscode-notebook-cell:/c%3A/Users/ma11115/OneDrive%20-%20Imperial%20College%20London/Geom3d/Geom3D/notebook/Test_train_shnet.ipynb#X42sZmlsZQ%3D%3D?line=0'>1</a>\u001b[0m \u001b[39mfrom\u001b[39;00m \u001b[39mlightning\u001b[39;00m\u001b[39m.\u001b[39;00m\u001b[39mpytorch\u001b[39;00m\u001b[39m.\u001b[39;00m\u001b[39mloggers\u001b[39;00m \u001b[39mimport\u001b[39;00m WandbLogger\n\u001b[0;32m      <a href='vscode-notebook-cell:/c%3A/Users/ma11115/OneDrive%20-%20Imperial%20College%20London/Geom3d/Geom3D/notebook/Test_train_shnet.ipynb#X42sZmlsZQ%3D%3D?line=1'>2</a>\u001b[0m \u001b[39mfrom\u001b[39;00m \u001b[39mlightning\u001b[39;00m\u001b[39m.\u001b[39;00m\u001b[39mpytorch\u001b[39;00m\u001b[39m.\u001b[39;00m\u001b[39mcallbacks\u001b[39;00m \u001b[39mimport\u001b[39;00m ModelCheckpoint\n\u001b[0;32m      <a href='vscode-notebook-cell:/c%3A/Users/ma11115/OneDrive%20-%20Imperial%20College%20London/Geom3d/Geom3D/notebook/Test_train_shnet.ipynb#X42sZmlsZQ%3D%3D?line=2'>3</a>\u001b[0m \u001b[39mimport\u001b[39;00m \u001b[39mwandb\u001b[39;00m\n",
      "\u001b[1;31mModuleNotFoundError\u001b[0m: No module named 'lightning'"
     ]
    }
   ],
   "source": [
    "from lightning.pytorch.loggers import WandbLogger\n",
    "from lightning.pytorch.callbacks import ModelCheckpoint\n",
    "import wandb\n",
    "os.chdir(\"/rds/general/user/ma11115/home/Geom3D/Geom3D/training\")\n",
    "dir = \"/rds/general/user/ma11115/home/Geom3D/Geom3D/training\"\n",
    "wandb.login()\n",
    "name = \"SchNet_target_1K_TEST_5e4lr\" \n",
    "# model\n",
    "pymodel_SCHNET = Pymodel(model,graph_pred_linear)\n",
    "wandb_logger = WandbLogger(log_model=\"all\",project=\"Geom3D\",name=name)\n",
    "# train model\n",
    "checkpoint_callback = ModelCheckpoint(\n",
    "    dirpath= name,\n",
    "    filename='{epoch}-{val_loss:.2f}-{other_metric:.2f}',\n",
    "    monitor=\"val_loss\", mode=\"min\"\n",
    ")\n",
    "\n",
    "trainer = pl.Trainer(logger=wandb_logger, max_epochs=30,val_check_interval=1.0,log_every_n_steps=1, callbacks=[checkpoint_callback])\n",
    "trainer.fit(model=pymodel_SCHNET, train_dataloaders=train_loader, val_dataloaders=val_loader)\n",
    "wandb.finish()"
   ]
  },
  {
   "cell_type": "code",
   "execution_count": null,
   "metadata": {},
   "outputs": [
    {
     "name": "stderr",
     "output_type": "stream",
     "text": [
      "GPU available: True (cuda), used: True\n",
      "TPU available: False, using: 0 TPU cores\n",
      "IPU available: False, using: 0 IPUs\n",
      "HPU available: False, using: 0 HPUs\n",
      "`Trainer(val_check_interval=1.0)` was configured so validation will run at the end of the training epoch..\n",
      "/rds/general/user/ma11115/home/anaconda3/envs/Geom3D/lib/python3.11/site-packages/lightning/pytorch/loggers/wandb.py:389: There is a wandb run already in progress and newly created instances of `WandbLogger` will reuse this run. If this is not desired, call `wandb.finish()` before instantiating `WandbLogger`.\n",
      "Restoring states from the checkpoint path at /rds/general/user/ma11115/home/Geom3D/Geom3D/training/Geom3D/8scxed0p/checkpoints/epoch=29-step=210.ckpt\n",
      "LOCAL_RANK: 0 - CUDA_VISIBLE_DEVICES: [4]\n",
      "\n",
      "  | Name              | Type   | Params\n",
      "---------------------------------------------\n",
      "0 | molecule_3D_repr  | SchNet | 483 K \n",
      "1 | graph_pred_linear | Linear | 129   \n",
      "---------------------------------------------\n",
      "483 K     Trainable params\n",
      "0         Non-trainable params\n",
      "483 K     Total params\n",
      "1.935     Total estimated model params size (MB)\n",
      "Restored all states from the checkpoint at /rds/general/user/ma11115/home/Geom3D/Geom3D/training/Geom3D/8scxed0p/checkpoints/epoch=29-step=210.ckpt\n"
     ]
    },
    {
     "data": {
      "application/vnd.jupyter.widget-view+json": {
       "model_id": "d69441eaed7e4852a2eafa12f51e539f",
       "version_major": 2,
       "version_minor": 0
      },
      "text/plain": [
       "Sanity Checking: |          | 0/? [00:00<?, ?it/s]"
      ]
     },
     "metadata": {},
     "output_type": "display_data"
    },
    {
     "data": {
      "application/vnd.jupyter.widget-view+json": {
       "model_id": "3489bedfaad541a6a8fe1bfcce60179f",
       "version_major": 2,
       "version_minor": 0
      },
      "text/plain": [
       "Training: |          | 0/? [00:00<?, ?it/s]"
      ]
     },
     "metadata": {},
     "output_type": "display_data"
    },
    {
     "data": {
      "application/vnd.jupyter.widget-view+json": {
       "model_id": "b8aec5b8fe804f8f9b888f5c3697a463",
       "version_major": 2,
       "version_minor": 0
      },
      "text/plain": [
       "Validation: |          | 0/? [00:00<?, ?it/s]"
      ]
     },
     "metadata": {},
     "output_type": "display_data"
    },
    {
     "data": {
      "application/vnd.jupyter.widget-view+json": {
       "model_id": "7be4d8f7a1b04c21baff7c736be6ee8c",
       "version_major": 2,
       "version_minor": 0
      },
      "text/plain": [
       "Validation: |          | 0/? [00:00<?, ?it/s]"
      ]
     },
     "metadata": {},
     "output_type": "display_data"
    },
    {
     "data": {
      "application/vnd.jupyter.widget-view+json": {
       "model_id": "306f5f9983244500afc2c1b750431f00",
       "version_major": 2,
       "version_minor": 0
      },
      "text/plain": [
       "Validation: |          | 0/? [00:00<?, ?it/s]"
      ]
     },
     "metadata": {},
     "output_type": "display_data"
    },
    {
     "data": {
      "application/vnd.jupyter.widget-view+json": {
       "model_id": "b25227b66bd14116a2e46320ee3ef638",
       "version_major": 2,
       "version_minor": 0
      },
      "text/plain": [
       "Validation: |          | 0/? [00:00<?, ?it/s]"
      ]
     },
     "metadata": {},
     "output_type": "display_data"
    },
    {
     "data": {
      "application/vnd.jupyter.widget-view+json": {
       "model_id": "3ad5348daded48159e490f1a5e0e08df",
       "version_major": 2,
       "version_minor": 0
      },
      "text/plain": [
       "Validation: |          | 0/? [00:00<?, ?it/s]"
      ]
     },
     "metadata": {},
     "output_type": "display_data"
    },
    {
     "data": {
      "application/vnd.jupyter.widget-view+json": {
       "model_id": "927423b083694ae588ac3d4b2967a291",
       "version_major": 2,
       "version_minor": 0
      },
      "text/plain": [
       "Validation: |          | 0/? [00:00<?, ?it/s]"
      ]
     },
     "metadata": {},
     "output_type": "display_data"
    },
    {
     "data": {
      "application/vnd.jupyter.widget-view+json": {
       "model_id": "413bc601539a45b1bcedaff39584f0c7",
       "version_major": 2,
       "version_minor": 0
      },
      "text/plain": [
       "Validation: |          | 0/? [00:00<?, ?it/s]"
      ]
     },
     "metadata": {},
     "output_type": "display_data"
    },
    {
     "data": {
      "application/vnd.jupyter.widget-view+json": {
       "model_id": "da807d7f486e4bf59c16ae0817db597d",
       "version_major": 2,
       "version_minor": 0
      },
      "text/plain": [
       "Validation: |          | 0/? [00:00<?, ?it/s]"
      ]
     },
     "metadata": {},
     "output_type": "display_data"
    },
    {
     "data": {
      "application/vnd.jupyter.widget-view+json": {
       "model_id": "c3ed611c939341538ed55ab5766d84d4",
       "version_major": 2,
       "version_minor": 0
      },
      "text/plain": [
       "Validation: |          | 0/? [00:00<?, ?it/s]"
      ]
     },
     "metadata": {},
     "output_type": "display_data"
    },
    {
     "data": {
      "application/vnd.jupyter.widget-view+json": {
       "model_id": "aba4d9e958eb4a70a2ddf7bef81ad38f",
       "version_major": 2,
       "version_minor": 0
      },
      "text/plain": [
       "Validation: |          | 0/? [00:00<?, ?it/s]"
      ]
     },
     "metadata": {},
     "output_type": "display_data"
    },
    {
     "data": {
      "application/vnd.jupyter.widget-view+json": {
       "model_id": "26da34207fc848738335509e41d6a2de",
       "version_major": 2,
       "version_minor": 0
      },
      "text/plain": [
       "Validation: |          | 0/? [00:00<?, ?it/s]"
      ]
     },
     "metadata": {},
     "output_type": "display_data"
    },
    {
     "data": {
      "application/vnd.jupyter.widget-view+json": {
       "model_id": "9cef163443fd43bbb86ad47c48338c1a",
       "version_major": 2,
       "version_minor": 0
      },
      "text/plain": [
       "Validation: |          | 0/? [00:00<?, ?it/s]"
      ]
     },
     "metadata": {},
     "output_type": "display_data"
    },
    {
     "data": {
      "application/vnd.jupyter.widget-view+json": {
       "model_id": "ad3073b8d4fa4040bcb09b0f11e809fe",
       "version_major": 2,
       "version_minor": 0
      },
      "text/plain": [
       "Validation: |          | 0/? [00:00<?, ?it/s]"
      ]
     },
     "metadata": {},
     "output_type": "display_data"
    },
    {
     "data": {
      "application/vnd.jupyter.widget-view+json": {
       "model_id": "f13411fbc7814fdf87671972e0b350ad",
       "version_major": 2,
       "version_minor": 0
      },
      "text/plain": [
       "Validation: |          | 0/? [00:00<?, ?it/s]"
      ]
     },
     "metadata": {},
     "output_type": "display_data"
    },
    {
     "data": {
      "application/vnd.jupyter.widget-view+json": {
       "model_id": "7a7992ed5c284d7dabab9b41553f7be3",
       "version_major": 2,
       "version_minor": 0
      },
      "text/plain": [
       "Validation: |          | 0/? [00:00<?, ?it/s]"
      ]
     },
     "metadata": {},
     "output_type": "display_data"
    },
    {
     "data": {
      "application/vnd.jupyter.widget-view+json": {
       "model_id": "f734e50d408a480da1b0f2f70c8430cf",
       "version_major": 2,
       "version_minor": 0
      },
      "text/plain": [
       "Validation: |          | 0/? [00:00<?, ?it/s]"
      ]
     },
     "metadata": {},
     "output_type": "display_data"
    },
    {
     "data": {
      "application/vnd.jupyter.widget-view+json": {
       "model_id": "606db9bc59164278bce1c0db9bc30ece",
       "version_major": 2,
       "version_minor": 0
      },
      "text/plain": [
       "Validation: |          | 0/? [00:00<?, ?it/s]"
      ]
     },
     "metadata": {},
     "output_type": "display_data"
    },
    {
     "data": {
      "application/vnd.jupyter.widget-view+json": {
       "model_id": "cc39b399fb14463ca3339ce63824dc94",
       "version_major": 2,
       "version_minor": 0
      },
      "text/plain": [
       "Validation: |          | 0/? [00:00<?, ?it/s]"
      ]
     },
     "metadata": {},
     "output_type": "display_data"
    },
    {
     "data": {
      "application/vnd.jupyter.widget-view+json": {
       "model_id": "f8cd2ad93cef433883989fe3476ddd86",
       "version_major": 2,
       "version_minor": 0
      },
      "text/plain": [
       "Validation: |          | 0/? [00:00<?, ?it/s]"
      ]
     },
     "metadata": {},
     "output_type": "display_data"
    },
    {
     "data": {
      "application/vnd.jupyter.widget-view+json": {
       "model_id": "ee492dccfab24c15b3c1a3ed21397cc2",
       "version_major": 2,
       "version_minor": 0
      },
      "text/plain": [
       "Validation: |          | 0/? [00:00<?, ?it/s]"
      ]
     },
     "metadata": {},
     "output_type": "display_data"
    },
    {
     "name": "stderr",
     "output_type": "stream",
     "text": [
      "`Trainer.fit` stopped: `max_epochs=50` reached.\n"
     ]
    }
   ],
   "source": [
    "name = \"SchNet_target_1K_TEST_5e4lr_1\" \n",
    "wandb_logger = WandbLogger(log_model=\"all\",project=\"Geom3D\",name=name)\n",
    "# train model\n",
    "checkpoint_callback = ModelCheckpoint(monitor=\"val_loss\", mode=\"min\")\n",
    "trainer = pl.Trainer(logger=wandb_logger, max_epochs=50,val_check_interval=1.0,log_every_n_steps=1, callbacks=[checkpoint_callback])\n",
    "trainer.fit(model=pymodel_SCHNET, train_dataloaders=train_loader, val_dataloaders=val_loader,ckpt_path=\"/rds/general/user/ma11115/home/Geom3D/Geom3D/training/Geom3D/8scxed0p/checkpoints/epoch=29-step=210.ckpt\")"
   ]
  },
  {
   "cell_type": "markdown",
   "id": "ff6eb01e",
   "metadata": {},
   "source": [
    "Notice that till here we are only using a randomly-initialized SchNet to make predictions, i.e., no optimization is conducted. We will show how to do this in the following tutorials."
   ]
  },
  {
   "cell_type": "code",
   "execution_count": null,
   "metadata": {},
   "outputs": [
    {
     "ename": "AttributeError",
     "evalue": "'Pymodel' object has no attribute 'epochs'",
     "output_type": "error",
     "traceback": [
      "\u001b[0;31m---------------------------------------------------------------------------\u001b[0m",
      "\u001b[0;31mAttributeError\u001b[0m                            Traceback (most recent call last)",
      "\u001b[1;32mc:\\Users\\ma11115\\OneDrive - Imperial College London\\Geom3d\\Geom3D\\notebook\\Test_train_shnet.ipynb Cell 26\u001b[0m line \u001b[0;36m1\n\u001b[0;32m----> <a href='vscode-notebook-cell:/c%3A/Users/ma11115/OneDrive%20-%20Imperial%20College%20London/Geom3d/Geom3D/notebook/Test_train_shnet.ipynb#X32sZmlsZQ%3D%3D?line=0'>1</a>\u001b[0m pymodel_SCHNET\u001b[39m.\u001b[39;49mepochs\n",
      "File \u001b[0;32m~/anaconda3/envs/Geom3D/lib/python3.11/site-packages/torch/nn/modules/module.py:1695\u001b[0m, in \u001b[0;36mModule.__getattr__\u001b[0;34m(self, name)\u001b[0m\n\u001b[1;32m   1693\u001b[0m     \u001b[39mif\u001b[39;00m name \u001b[39min\u001b[39;00m modules:\n\u001b[1;32m   1694\u001b[0m         \u001b[39mreturn\u001b[39;00m modules[name]\n\u001b[0;32m-> 1695\u001b[0m \u001b[39mraise\u001b[39;00m \u001b[39mAttributeError\u001b[39;00m(\u001b[39mf\u001b[39m\u001b[39m\"\u001b[39m\u001b[39m'\u001b[39m\u001b[39m{\u001b[39;00m\u001b[39mtype\u001b[39m(\u001b[39mself\u001b[39m)\u001b[39m.\u001b[39m\u001b[39m__name__\u001b[39m\u001b[39m}\u001b[39;00m\u001b[39m'\u001b[39m\u001b[39m object has no attribute \u001b[39m\u001b[39m'\u001b[39m\u001b[39m{\u001b[39;00mname\u001b[39m}\u001b[39;00m\u001b[39m'\u001b[39m\u001b[39m\"\u001b[39m)\n",
      "\u001b[0;31mAttributeError\u001b[0m: 'Pymodel' object has no attribute 'epochs'"
     ]
    }
   ],
   "source": []
  },
  {
   "cell_type": "code",
   "execution_count": null,
   "metadata": {},
   "outputs": [
    {
     "data": {
      "image/png": "[encoded data removed]",
      "text/plain": [
       "<Figure size 640x480 with 1 Axes>"
      ]
     },
     "metadata": {},
     "output_type": "display_data"
    }
   ],
   "source": [
    "# plot the results\n",
    "import matplotlib.pyplot as plt\n",
    "%matplotlib inline\n",
    "plt.scatter(y_true, y_scores)\n",
    "plt.xlabel(\"True\")\n",
    "plt.ylabel(\"Predicted\")\n",
    "plt.show()"
   ]
  },
  {
   "cell_type": "code",
   "execution_count": null,
   "metadata": {},
   "outputs": [],
   "source": []
  },
  {
   "cell_type": "code",
   "execution_count": null,
   "metadata": {},
   "outputs": [],
   "source": []
  }
 ],
 "metadata": {
  "kernelspec": {
   "display_name": "Geom3D",
   "language": "python",
   "name": "python3"
  },
  "language_info": {
   "codemirror_mode": {
    "name": "ipython",
    "version": 3
   },
   "file_extension": ".py",
   "mimetype": "text/x-python",
   "name": "python",
   "nbconvert_exporter": "python",
   "pygments_lexer": "ipython3",
   "version": "3.11.6"
  }
 },
 "nbformat": 4,
 "nbformat_minor": 5
}
