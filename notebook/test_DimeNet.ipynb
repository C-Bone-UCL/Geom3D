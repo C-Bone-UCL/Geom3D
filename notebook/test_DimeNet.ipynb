{
 "cells": [
  {
   "cell_type": "code",
   "execution_count": 1,
   "metadata": {},
   "outputs": [],
   "source": [
    "import os\n",
    "os.chdir('/rds/general/user/cb1319/home/GEOM3D/Geom3D/')"
   ]
  },
  {
   "cell_type": "code",
   "execution_count": 2,
   "metadata": {},
   "outputs": [
    {
     "name": "stdout",
     "output_type": "stream",
     "text": [
<<<<<<< Updated upstream
      "config loaded from /rds/general/user/cb1319/home/GEOM3D/Geom3D/training/DimeNet_target_1K_TEST_5e4lr_TEST/\n"
=======
      "config loaded from /rds/general/user/cb1319/home/GEOM3D/Geom3D/training/DimeNet_target_1K_TEST_5e4lr/\n"
>>>>>>> Stashed changes
     ]
    }
   ],
   "source": [
    "from geom3d.train_DimeNet import *\n",
    "import torch\n",
    "import copy\n",
    "\n",
<<<<<<< Updated upstream
    "config_dir = os.getcwd()+\"/training/DimeNet_target_1K_TEST_5e4lr_TEST/\"\n",
=======
    "config_dir = os.getcwd()+\"/training/DimeNet_target_1K_TEST_5e4lr/\"\n",
>>>>>>> Stashed changes
    "config = read_config(config_dir)"
   ]
  },
  {
   "cell_type": "code",
   "execution_count": 3,
   "metadata": {},
   "outputs": [
    {
     "name": "stdout",
     "output_type": "stream",
     "text": [
      "GPU (Quadro RTX 6000) is available.\n"
     ]
    }
   ],
   "source": [
    "# Check if GPU is available\n",
    "if torch.cuda.is_available():\n",
    "    # Get the name of the GPU\n",
    "    gpu_name = torch.cuda.get_device_name(0)  # Assuming you have one GPU; you can change the index if you have multiple GPUs\n",
    "    print(f\"GPU ({gpu_name}) is available.\")\n",
    "else:\n",
    "    print(\"No GPU available. Using CPU.\")"
   ]
  },
  {
   "cell_type": "code",
<<<<<<< Updated upstream
   "execution_count": 3,
=======
   "execution_count": 4,
>>>>>>> Stashed changes
   "metadata": {},
   "outputs": [
    {
     "name": "stdout",
     "output_type": "stream",
     "text": [
<<<<<<< Updated upstream
      "Database entry for InChIKey: <ConstructedMolecule at 23419248369808>\n",
      "Database entry for InChIKey: <ConstructedMolecule at 23419248647568>\n",
      "Database entry for InChIKey: <ConstructedMolecule at 23419247014160>\n",
      "Database entry for InChIKey: <ConstructedMolecule at 23419247306704>\n",
      "Database entry for InChIKey: <ConstructedMolecule at 23419247583184>\n",
      "Database entry for InChIKey: <ConstructedMolecule at 23419479958736>\n",
      "Database entry for InChIKey: <ConstructedMolecule at 23419246331088>\n",
      "Database entry for InChIKey: <ConstructedMolecule at 23419246451920>\n",
      "Database entry for InChIKey: <ConstructedMolecule at 23419246579984>\n",
      "Database entry for InChIKey: <ConstructedMolecule at 23419370228176>\n",
      "Database entry for InChIKey: <ConstructedMolecule at 23419370098896>\n",
      "Database entry for InChIKey: <ConstructedMolecule at 23419369979600>\n",
      "Database entry for InChIKey: <ConstructedMolecule at 23419369866000>\n",
      "Database entry for InChIKey: <ConstructedMolecule at 23419369691152>\n",
      "Database entry for InChIKey: <ConstructedMolecule at 23419369459280>\n",
      "Database entry for InChIKey: <ConstructedMolecule at 23419369366032>\n",
      "Database entry for InChIKey: <ConstructedMolecule at 23419369303248>\n",
      "Database entry for InChIKey: <ConstructedMolecule at 23419372371088>\n",
      "Database entry for InChIKey: <ConstructedMolecule at 23419372228240>\n",
      "Database entry for InChIKey: <ConstructedMolecule at 23419372131088>\n",
      "Database entry for InChIKey: <ConstructedMolecule at 23419371885648>\n",
      "Database entry for InChIKey: <ConstructedMolecule at 23419371817296>\n",
      "Database entry for InChIKey: <ConstructedMolecule at 23419371627152>\n",
      "Database entry for InChIKey: <ConstructedMolecule at 23419371521360>\n",
      "Database entry for InChIKey: <ConstructedMolecule at 23419371439120>\n",
      "Database entry for InChIKey: <ConstructedMolecule at 23419379861584>\n",
      "Database entry for InChIKey: <ConstructedMolecule at 23419380033872>\n",
      "Database entry for InChIKey: <ConstructedMolecule at 23419380247888>\n",
      "Database entry for InChIKey: <ConstructedMolecule at 23419380372240>\n",
      "Database entry for InChIKey: <ConstructedMolecule at 23419380458960>\n",
      "Database entry for InChIKey: <ConstructedMolecule at 23419380585616>\n",
      "Database entry for InChIKey: <ConstructedMolecule at 23419380717200>\n",
      "Database entry for InChIKey: <ConstructedMolecule at 23419378805136>\n",
      "Database entry for InChIKey: <ConstructedMolecule at 23419378936784>\n",
      "Database entry for InChIKey: <ConstructedMolecule at 23419379008016>\n",
      "Database entry for InChIKey: <ConstructedMolecule at 23419379212432>\n",
      "Database entry for InChIKey: <ConstructedMolecule at 23419379405456>\n",
      "Database entry for InChIKey: <ConstructedMolecule at 23419379509968>\n",
      "Database entry for InChIKey: <ConstructedMolecule at 23419379631952>\n",
      "Database entry for InChIKey: <ConstructedMolecule at 23419379724240>\n",
      "Database entry for InChIKey: <ConstructedMolecule at 23419377872336>\n",
      "Database entry for InChIKey: <ConstructedMolecule at 23419377974032>\n",
      "Database entry for InChIKey: <ConstructedMolecule at 23419378127696>\n",
      "Database entry for InChIKey: <ConstructedMolecule at 23419378280784>\n",
      "Database entry for InChIKey: <ConstructedMolecule at 23419378418192>\n",
      "Database entry for InChIKey: <ConstructedMolecule at 23419378549584>\n",
      "Database entry for InChIKey: <ConstructedMolecule at 23419378644432>\n",
      "Database entry for InChIKey: <ConstructedMolecule at 23419376656144>\n",
      "Database entry for InChIKey: <ConstructedMolecule at 23419376812944>\n",
      "Database entry for InChIKey: <ConstructedMolecule at 23419376970256>\n",
      "Database entry for InChIKey: <ConstructedMolecule at 23419377067344>\n",
      "Database entry for InChIKey: <ConstructedMolecule at 23419377122704>\n",
      "Database entry for InChIKey: <ConstructedMolecule at 23419377284880>\n",
      "Database entry for InChIKey: <ConstructedMolecule at 23419377468432>\n",
      "Database entry for InChIKey: <ConstructedMolecule at 23419377549712>\n",
      "Database entry for InChIKey: <ConstructedMolecule at 23419377622992>\n",
      "Database entry for InChIKey: <ConstructedMolecule at 23419375687888>\n",
      "Database entry for InChIKey: <ConstructedMolecule at 23419375832080>\n",
      "Database entry for InChIKey: <ConstructedMolecule at 23419375982992>\n",
      "Database entry for InChIKey: <ConstructedMolecule at 23419376118032>\n",
      "Database entry for InChIKey: <ConstructedMolecule at 23419246052240>\n",
      "Database entry for InChIKey: <ConstructedMolecule at 23419376234320>\n",
      "Database entry for InChIKey: <ConstructedMolecule at 23419376348368>\n",
      "Database entry for InChIKey: <ConstructedMolecule at 23419376535056>\n",
      "Database entry for InChIKey: <ConstructedMolecule at 23419374617616>\n",
      "Database entry for InChIKey: <ConstructedMolecule at 23419374771472>\n",
      "Database entry for InChIKey: <ConstructedMolecule at 23419374828048>\n",
      "Database entry for InChIKey: <ConstructedMolecule at 23419374921872>\n",
      "Database entry for InChIKey: <ConstructedMolecule at 23419375131088>\n",
      "Database entry for InChIKey: <ConstructedMolecule at 23419375309968>\n",
      "Database entry for InChIKey: <ConstructedMolecule at 23419375385872>\n",
      "Database entry for InChIKey: <ConstructedMolecule at 23419373515088>\n",
      "Database entry for InChIKey: <ConstructedMolecule at 23419373631824>\n",
      "Database entry for InChIKey: <ConstructedMolecule at 23419373755984>\n",
      "Database entry for InChIKey: <ConstructedMolecule at 23419373931984>\n",
      "Database entry for InChIKey: <ConstructedMolecule at 23419374050960>\n",
      "Database entry for InChIKey: <ConstructedMolecule at 23419374169680>\n",
      "Database entry for InChIKey: <ConstructedMolecule at 23419374375184>\n",
      "Database entry for InChIKey: <ConstructedMolecule at 23419374489488>\n",
      "Database entry for InChIKey: <ConstructedMolecule at 23419370402704>\n",
      "Database entry for InChIKey: <ConstructedMolecule at 23419370527760>\n",
      "Database entry for InChIKey: <ConstructedMolecule at 23419370704016>\n",
      "Database entry for InChIKey: <ConstructedMolecule at 23419370809040>\n",
      "Database entry for InChIKey: <ConstructedMolecule at 23419370962384>\n",
      "Database entry for InChIKey: <ConstructedMolecule at 23419371109776>\n",
      "Database entry for InChIKey: <ConstructedMolecule at 23419371166544>\n",
      "Database entry for InChIKey: <ConstructedMolecule at 23419371342160>\n",
      "Database entry for InChIKey: <ConstructedMolecule at 23419368340240>\n",
      "Database entry for InChIKey: <ConstructedMolecule at 23419368511312>\n",
      "Database entry for InChIKey: <ConstructedMolecule at 23419368632272>\n",
      "Database entry for InChIKey: <ConstructedMolecule at 23419368866384>\n",
      "Database entry for InChIKey: <ConstructedMolecule at 23419368888592>\n",
      "Database entry for InChIKey: <ConstructedMolecule at 23419369091024>\n",
      "Database entry for InChIKey: <ConstructedMolecule at 23419369169872>\n",
      "Database entry for InChIKey: <ConstructedMolecule at 23419369251344>\n",
      "Database entry for InChIKey: <ConstructedMolecule at 23419367318736>\n",
      "Database entry for InChIKey: <ConstructedMolecule at 23419367502544>\n",
      "Database entry for InChIKey: <ConstructedMolecule at 23419367606288>\n",
      "Database entry for InChIKey: <ConstructedMolecule at 23419367730320>\n",
      "Database entry for InChIKey: <ConstructedMolecule at 23419367895248>\n"
=======
      "length of dataset: 80000\n"
>>>>>>> Stashed changes
     ]
    }
   ],
   "source": [
    "import importlib\n",
    "from geom3d import train_DimeNet\n",
    "\n",
    "importlib.reload(train_DimeNet)\n",
    "\n",
    "config[\"device\"] = \"cuda:0\" if torch.cuda.is_available() else \"cpu\"\n",
    "    \n",
    "np.random.seed(config[\"seed\"])\n",
    "torch.cuda.manual_seed_all(config[\"seed\"])\n",
    "dataset = train_DimeNet.load_data(config)\n",
<<<<<<< Updated upstream
    "\n",
    "#there is that inchikey in the file? why is it not picking it up?\n"
=======
    "print(f\"length of dataset: {len(dataset)}\")\n"
>>>>>>> Stashed changes
   ]
  },
  {
   "cell_type": "code",
<<<<<<< Updated upstream
   "execution_count": 4,
=======
   "execution_count": 5,
>>>>>>> Stashed changes
   "metadata": {},
   "outputs": [
    {
     "name": "stderr",
     "output_type": "stream",
     "text": [
      "Failed to detect the name of this notebook, you can set it manually with the WANDB_NOTEBOOK_NAME environment variable to enable code saving.\n",
      "\u001b[34m\u001b[1mwandb\u001b[0m: Currently logged in as: \u001b[33mcyprienbone\u001b[0m. Use \u001b[1m`wandb login --relogin`\u001b[0m to force relogin\n"
     ]
    },
    {
     "data": {
      "text/plain": [
       "True"
      ]
     },
<<<<<<< Updated upstream
     "execution_count": 4,
=======
     "execution_count": 5,
>>>>>>> Stashed changes
     "metadata": {},
     "output_type": "execute_result"
    }
   ],
   "source": [
    "import wandb\n",
    "wandb.login()"
   ]
  },
  {
   "cell_type": "code",
<<<<<<< Updated upstream
   "execution_count": 5,
   "metadata": {},
   "outputs": [
    {
=======
   "execution_count": 6,
   "metadata": {},
   "outputs": [],
   "source": [
    "# stop wandb run\n",
    "wandb.finish()"
   ]
  },
  {
   "cell_type": "code",
   "execution_count": 7,
   "metadata": {},
   "outputs": [
    {
     "name": "stdout",
     "output_type": "stream",
     "text": [
      "/bin/bash: which: line 1: syntax error: unexpected end of file\n",
      "/bin/bash: error importing function definition for `which'\n",
      "/bin/bash: module: line 1: syntax error: unexpected end of file\n",
      "/bin/bash: error importing function definition for `module'\n",
      "/bin/bash: scl: line 1: syntax error: unexpected end of file\n",
      "/bin/bash: error importing function definition for `scl'\n",
      "/bin/bash: ml: line 1: syntax error: unexpected end of file\n",
      "/bin/bash: error importing function definition for `ml'\n",
      "Tue Nov 28 16:15:10 2023       \n",
      "+---------------------------------------------------------------------------------------+\n",
      "| NVIDIA-SMI 535.54.03              Driver Version: 535.54.03    CUDA Version: 12.2     |\n",
      "|-----------------------------------------+----------------------+----------------------+\n",
      "| GPU  Name                 Persistence-M | Bus-Id        Disp.A | Volatile Uncorr. ECC |\n",
      "| Fan  Temp   Perf          Pwr:Usage/Cap |         Memory-Usage | GPU-Util  Compute M. |\n",
      "|                                         |                      |               MIG M. |\n",
      "|=========================================+======================+======================|\n",
      "|   0  Quadro RTX 6000                On  | 00000000:1B:00.0 Off |                  Off |\n",
      "| 33%   38C    P8              27W / 260W |   9715MiB / 24576MiB |      0%   E. Process |\n",
      "|                                         |                      |                  N/A |\n",
      "+-----------------------------------------+----------------------+----------------------+\n",
      "|   1  Quadro RTX 6000                On  | 00000000:1C:00.0 Off |                  Off |\n",
      "| 33%   37C    P8              20W / 260W |      1MiB / 24576MiB |      0%   E. Process |\n",
      "|                                         |                      |                  N/A |\n",
      "+-----------------------------------------+----------------------+----------------------+\n",
      "|   2  Quadro RTX 6000                On  | 00000000:1D:00.0 Off |                  Off |\n",
      "| 34%   37C    P8              27W / 260W |      1MiB / 24576MiB |      0%   E. Process |\n",
      "|                                         |                      |                  N/A |\n",
      "+-----------------------------------------+----------------------+----------------------+\n",
      "|   3  Quadro RTX 6000                On  | 00000000:1E:00.0 Off |                  Off |\n",
      "| 33%   36C    P8              32W / 260W |      3MiB / 24576MiB |      0%   E. Process |\n",
      "|                                         |                      |                  N/A |\n",
      "+-----------------------------------------+----------------------+----------------------+\n",
      "|   4  Quadro RTX 6000                On  | 00000000:89:00.0 Off |                  Off |\n",
      "| 33%   40C    P8              22W / 260W |    509MiB / 24576MiB |      0%   E. Process |\n",
      "|                                         |                      |                  N/A |\n",
      "+-----------------------------------------+----------------------+----------------------+\n",
      "|   5  Quadro RTX 6000                On  | 00000000:8A:00.0 Off |                  Off |\n",
      "| 34%   36C    P8              22W / 260W |    841MiB / 24576MiB |      0%   E. Process |\n",
      "|                                         |                      |                  N/A |\n",
      "+-----------------------------------------+----------------------+----------------------+\n",
      "|   6  Quadro RTX 6000                On  | 00000000:8B:00.0 Off |                  Off |\n",
      "| 34%   37C    P8              31W / 260W |    221MiB / 24576MiB |      0%   E. Process |\n",
      "|                                         |                      |                  N/A |\n",
      "+-----------------------------------------+----------------------+----------------------+\n",
      "|   7  Quadro RTX 6000                On  | 00000000:8C:00.0 Off |                  Off |\n",
      "| 33%   36C    P8              23W / 260W |      1MiB / 24576MiB |      0%   E. Process |\n",
      "|                                         |                      |                  N/A |\n",
      "+-----------------------------------------+----------------------+----------------------+\n",
      "                                                                                         \n",
      "+---------------------------------------------------------------------------------------+\n",
      "| Processes:                                                                            |\n",
      "|  GPU   GI   CI        PID   Type   Process name                            GPU Memory |\n",
      "|        ID   ID                                                             Usage      |\n",
      "|=======================================================================================|\n",
      "|    0   N/A  N/A   3404748      C   ...home/anaconda3/envs/pips/bin/python     9712MiB |\n",
      "|    4   N/A  N/A   3413922      C   ...me/anaconda3/envs/Geom3D/bin/python      506MiB |\n",
      "|    5   N/A  N/A   3417483      C   ...e/anaconda3/envs/deepimu/bin/python      838MiB |\n",
      "|    6   N/A  N/A   3431125      C   python                                      218MiB |\n",
      "+---------------------------------------------------------------------------------------+\n"
     ]
    }
   ],
   "source": [
    "# free cuda memory\n",
    "torch.cuda.empty_cache()\n",
    "\n",
    "# stop ongoing processes\n",
    "\n",
    "!nvidia-smi"
   ]
  },
  {
   "cell_type": "code",
   "execution_count": 8,
   "metadata": {},
   "outputs": [
    {
     "name": "stdout",
     "output_type": "stream",
     "text": [
      "config loaded from /rds/general/user/cb1319/home/GEOM3D/Geom3D/training/DimeNet_target_1K_TEST_5e4lr/\n",
      "train_idx:  [47044 44295 74783 ... 77925 18116 14762]\n",
      "valid_idx:  [39698 66692  7139 ... 52300 56176  3346]\n",
      "test_idx:  [61260 28261 49228 ... 76820   860 15795]\n",
      "Value of self.graph_pred_linear: None\n"
     ]
    },
    {
>>>>>>> Stashed changes
     "data": {
      "text/html": [
       "Tracking run with wandb version 0.16.0"
      ],
      "text/plain": [
       "<IPython.core.display.HTML object>"
      ]
     },
     "metadata": {},
     "output_type": "display_data"
    },
    {
     "data": {
      "text/html": [
<<<<<<< Updated upstream
       "Run data is saved locally in <code>/rds/general/user/cb1319/home/GEOM3D/Geom3D/wandb/run-20231127_132923-v2uufpgo</code>"
=======
       "Run data is saved locally in <code>./wandb/run-20231128_161540-rxof53vl</code>"
>>>>>>> Stashed changes
      ],
      "text/plain": [
       "<IPython.core.display.HTML object>"
      ]
     },
     "metadata": {},
     "output_type": "display_data"
    },
    {
     "data": {
      "text/html": [
<<<<<<< Updated upstream
       "Syncing run <strong><a href='https://wandb.ai/cyprienbone/Geom3D_DimeNet_test/runs/v2uufpgo' target=\"_blank\">kind-glade-2</a></strong> to <a href='https://wandb.ai/cyprienbone/Geom3D_DimeNet_test' target=\"_blank\">Weights & Biases</a> (<a href='https://wandb.me/run' target=\"_blank\">docs</a>)<br/>"
=======
       "Syncing run <strong><a href='https://wandb.ai/cyprienbone/Geom3D/runs/rxof53vl' target=\"_blank\">DimeNet_target_1K_TEST_5e4lr</a></strong> to <a href='https://wandb.ai/cyprienbone/Geom3D' target=\"_blank\">Weights & Biases</a> (<a href='https://wandb.me/run' target=\"_blank\">docs</a>)<br/>"
>>>>>>> Stashed changes
      ],
      "text/plain": [
       "<IPython.core.display.HTML object>"
      ]
     },
     "metadata": {},
     "output_type": "display_data"
    },
    {
     "data": {
      "text/html": [
<<<<<<< Updated upstream
       " View project at <a href='https://wandb.ai/cyprienbone/Geom3D_DimeNet_test' target=\"_blank\">https://wandb.ai/cyprienbone/Geom3D_DimeNet_test</a>"
=======
       " View project at <a href='https://wandb.ai/cyprienbone/Geom3D' target=\"_blank\">https://wandb.ai/cyprienbone/Geom3D</a>"
>>>>>>> Stashed changes
      ],
      "text/plain": [
       "<IPython.core.display.HTML object>"
      ]
     },
     "metadata": {},
     "output_type": "display_data"
    },
    {
     "data": {
      "text/html": [
<<<<<<< Updated upstream
       " View run at <a href='https://wandb.ai/cyprienbone/Geom3D_DimeNet_test/runs/v2uufpgo' target=\"_blank\">https://wandb.ai/cyprienbone/Geom3D_DimeNet_test/runs/v2uufpgo</a>"
=======
       " View run at <a href='https://wandb.ai/cyprienbone/Geom3D/runs/rxof53vl' target=\"_blank\">https://wandb.ai/cyprienbone/Geom3D/runs/rxof53vl</a>"
>>>>>>> Stashed changes
      ],
      "text/plain": [
       "<IPython.core.display.HTML object>"
      ]
     },
     "metadata": {},
     "output_type": "display_data"
    },
    {
<<<<<<< Updated upstream
     "data": {
      "text/html": [
       "<button onClick=\"this.nextSibling.style.display='block';this.style.display='none';\">Display W&B run</button><iframe src='https://wandb.ai/cyprienbone/Geom3D_DimeNet_test/runs/v2uufpgo?jupyter=true' style='border:none;width:100%;height:420px;display:none;'></iframe>"
      ],
      "text/plain": [
       "<wandb.sdk.wandb_run.Run at 0x154cbc1f9b50>"
      ]
     },
     "execution_count": 5,
     "metadata": {},
     "output_type": "execute_result"
    }
   ],
   "source": [
    "wandb.init(project=\"Geom3D_DimeNet_test\")"
   ]
  },
  {
   "cell_type": "code",
   "execution_count": 6,
   "metadata": {},
   "outputs": [
    {
     "name": "stdout",
     "output_type": "stream",
     "text": [
      "config loaded from /rds/general/user/cb1319/home/GEOM3D/Geom3D/training/DimeNet_target_1K_TEST_5e4lr_TEST/\n",
      "Database entry for InChIKey: <ConstructedMolecule at 23419215199824>\n",
      "Database entry for InChIKey: <ConstructedMolecule at 23419215867728>\n",
      "Database entry for InChIKey: <ConstructedMolecule at 23419214283472>\n",
      "Database entry for InChIKey: <ConstructedMolecule at 23419214526736>\n",
      "Database entry for InChIKey: <ConstructedMolecule at 23419214803280>\n",
      "Database entry for InChIKey: <ConstructedMolecule at 23419213549776>\n",
      "Database entry for InChIKey: <ConstructedMolecule at 23419215473680>\n",
      "Database entry for InChIKey: <ConstructedMolecule at 23419216184592>\n",
      "Database entry for InChIKey: <ConstructedMolecule at 23419332934032>\n",
      "Database entry for InChIKey: <ConstructedMolecule at 23419332768336>\n",
      "Database entry for InChIKey: <ConstructedMolecule at 23419332671760>\n",
      "Database entry for InChIKey: <ConstructedMolecule at 23419213424208>\n",
      "Database entry for InChIKey: <ConstructedMolecule at 23419213605328>\n",
      "Database entry for InChIKey: <ConstructedMolecule at 23419213791056>\n",
      "Database entry for InChIKey: <ConstructedMolecule at 23419214018000>\n",
      "Database entry for InChIKey: <ConstructedMolecule at 23419353532880>\n",
      "Database entry for InChIKey: <ConstructedMolecule at 23419353453456>\n",
      "Database entry for InChIKey: <ConstructedMolecule at 23419353358992>\n",
      "Database entry for InChIKey: <ConstructedMolecule at 23419353281808>\n",
      "Database entry for InChIKey: <ConstructedMolecule at 23419353185040>\n",
      "Database entry for InChIKey: <ConstructedMolecule at 23419352939728>\n",
      "Database entry for InChIKey: <ConstructedMolecule at 23419352887440>\n",
      "Database entry for InChIKey: <ConstructedMolecule at 23419336657296>\n",
      "Database entry for InChIKey: <ConstructedMolecule at 23419336584336>\n",
      "Database entry for InChIKey: <ConstructedMolecule at 23419336485584>\n",
      "Database entry for InChIKey: <ConstructedMolecule at 23419336339408>\n",
      "Database entry for InChIKey: <ConstructedMolecule at 23419336167632>\n",
      "Database entry for InChIKey: <ConstructedMolecule at 23419335938896>\n",
      "Database entry for InChIKey: <ConstructedMolecule at 23419335817360>\n",
      "Database entry for InChIKey: <ConstructedMolecule at 23419337755728>\n",
      "Database entry for InChIKey: <ConstructedMolecule at 23419337669392>\n",
      "Database entry for InChIKey: <ConstructedMolecule at 23419337538896>\n",
      "Database entry for InChIKey: <ConstructedMolecule at 23419337363344>\n",
      "Database entry for InChIKey: <ConstructedMolecule at 23419337249104>\n",
      "Database entry for InChIKey: <ConstructedMolecule at 23419337172880>\n",
      "Database entry for InChIKey: <ConstructedMolecule at 23419336967696>\n",
      "Database entry for InChIKey: <ConstructedMolecule at 23419336832976>\n",
      "Database entry for InChIKey: <ConstructedMolecule at 23419349454800>\n",
      "Database entry for InChIKey: <ConstructedMolecule at 23419349543952>\n",
      "Database entry for InChIKey: <ConstructedMolecule at 23419349701840>\n",
      "Database entry for InChIKey: <ConstructedMolecule at 23419349897872>\n",
      "Database entry for InChIKey: <ConstructedMolecule at 23419349966672>\n",
      "Database entry for InChIKey: <ConstructedMolecule at 23419350136720>\n",
      "Database entry for InChIKey: <ConstructedMolecule at 23419350289936>\n",
      "Database entry for InChIKey: <ConstructedMolecule at 23419348346512>\n",
      "Database entry for InChIKey: <ConstructedMolecule at 23419348461520>\n",
      "Database entry for InChIKey: <ConstructedMolecule at 23419348556368>\n",
      "Database entry for InChIKey: <ConstructedMolecule at 23419348665360>\n",
      "Database entry for InChIKey: <ConstructedMolecule at 23419348821840>\n",
      "Database entry for InChIKey: <ConstructedMolecule at 23419348962960>\n",
      "Database entry for InChIKey: <ConstructedMolecule at 23419349060304>\n",
      "Database entry for InChIKey: <ConstructedMolecule at 23419349131984>\n",
      "Database entry for InChIKey: <ConstructedMolecule at 23419349277648>\n",
      "Database entry for InChIKey: <ConstructedMolecule at 23419343218512>\n",
      "Database entry for InChIKey: <ConstructedMolecule at 23419343299792>\n",
      "Database entry for InChIKey: <ConstructedMolecule at 23419343373456>\n",
      "Database entry for InChIKey: <ConstructedMolecule at 23419343519120>\n",
      "Database entry for InChIKey: <ConstructedMolecule at 23419343663376>\n",
      "Database entry for InChIKey: <ConstructedMolecule at 23419343830352>\n",
      "Database entry for InChIKey: <ConstructedMolecule at 23419343965328>\n",
      "Database entry for InChIKey: <ConstructedMolecule at 23419344061200>\n",
      "Database entry for InChIKey: <ConstructedMolecule at 23419340048272>\n",
      "Database entry for InChIKey: <ConstructedMolecule at 23419340195088>\n",
      "Database entry for InChIKey: <ConstructedMolecule at 23419340381776>\n",
      "Database entry for InChIKey: <ConstructedMolecule at 23419367849104>\n",
      "Database entry for InChIKey: <ConstructedMolecule at 23419368975952>\n",
      "Database entry for InChIKey: <ConstructedMolecule at 23419368726480>\n",
      "Database entry for InChIKey: <ConstructedMolecule at 23419371008080>\n",
      "Database entry for InChIKey: <ConstructedMolecule at 23419373796240>\n",
      "Database entry for InChIKey: <ConstructedMolecule at 23419375024016>\n",
      "Database entry for InChIKey: <ConstructedMolecule at 23419376576016>\n",
      "Database entry for InChIKey: <ConstructedMolecule at 23419375762640>\n",
      "Database entry for InChIKey: <ConstructedMolecule at 23419377324816>\n",
      "Database entry for InChIKey: <ConstructedMolecule at 23419377147216>\n",
      "Database entry for InChIKey: <ConstructedMolecule at 23419378155216>\n",
      "Database entry for InChIKey: <ConstructedMolecule at 23419379077968>\n",
      "Database entry for InChIKey: <ConstructedMolecule at 23419380092048>\n",
      "Database entry for InChIKey: <ConstructedMolecule at 23419371791376>\n",
      "Database entry for InChIKey: <ConstructedMolecule at 23419372304336>\n",
      "Database entry for InChIKey: <ConstructedMolecule at 23419369626128>\n",
      "Database entry for InChIKey: <ConstructedMolecule at 23419370085968>\n",
      "Database entry for InChIKey: <ConstructedMolecule at 23419245604240>\n",
      "Database entry for InChIKey: <ConstructedMolecule at 23419247635472>\n",
      "Database entry for InChIKey: <ConstructedMolecule at 23419247369680>\n",
      "Database entry for InChIKey: <ConstructedMolecule at 23419246958800>\n",
      "Database entry for InChIKey: <ConstructedMolecule at 23419248484496>\n",
      "Database entry for InChIKey: <ConstructedMolecule at 23419246169424>\n",
      "Database entry for InChIKey: <ConstructedMolecule at 23419248442832>\n",
      "Database entry for InChIKey: <ConstructedMolecule at 23419343403664>\n",
      "Database entry for InChIKey: <ConstructedMolecule at 23419246952144>\n",
      "Database entry for InChIKey: <ConstructedMolecule at 23419246279760>\n",
      "Database entry for InChIKey: <ConstructedMolecule at 23419246453520>\n",
      "Database entry for InChIKey: <ConstructedMolecule at 23419246034512>\n",
      "Database entry for InChIKey: <ConstructedMolecule at 23419246326032>\n",
      "Database entry for InChIKey: <ConstructedMolecule at 23419246512336>\n",
      "Database entry for InChIKey: <ConstructedMolecule at 23419367659280>\n",
      "Database entry for InChIKey: <ConstructedMolecule at 23419367479888>\n",
      "Database entry for InChIKey: <ConstructedMolecule at 23419367495184>\n",
      "Database entry for InChIKey: <ConstructedMolecule at 23419367258128>\n",
      "Database entry for InChIKey: <ConstructedMolecule at 23419340488208>\n",
      "train_idx:  [83 53 70 45 44 39 22 80 10  0 18 30 73 33 90  4 76 77 12 31 55 88 26 42\n",
      " 69 15 40 96  9 72 11 47 85 28 93  5 66 65 35 16 49 34  7 95 27 19 81 25\n",
      " 62 13 24  3 17 38  8 78  6 64 36 89 56 99 54 43 50 67 46 68 61 97 79 41\n",
      " 58 48 98 57 75 32 94 59]\n",
      "valid_idx:  [63 84 37 29  1 52 21  2 23 87]\n",
      "test_idx:  [91 74 86 82 20 60 71 14 92 51]\n"
     ]
    },
    {
     "ename": "KeyError",
     "evalue": "'DimeNet_model'",
     "output_type": "error",
     "traceback": [
      "\u001b[0;31m---------------------------------------------------------------------------\u001b[0m",
      "\u001b[0;31mKeyError\u001b[0m                                  Traceback (most recent call last)",
      "\u001b[1;32mz:\\home\\GEOM3D\\Geom3D\\notebook\\test_DimeNet.ipynb Cell 7\u001b[0m line \u001b[0;36m5\n\u001b[1;32m      <a href='vscode-notebook-cell:/z%3A/home/GEOM3D/Geom3D/notebook/test_DimeNet.ipynb#W6sZmlsZQ%3D%3D?line=1'>2</a>\u001b[0m \u001b[39mfrom\u001b[39;00m \u001b[39mgeom3d\u001b[39;00m \u001b[39mimport\u001b[39;00m train_DimeNet\n\u001b[1;32m      <a href='vscode-notebook-cell:/z%3A/home/GEOM3D/Geom3D/notebook/test_DimeNet.ipynb#W6sZmlsZQ%3D%3D?line=3'>4</a>\u001b[0m importlib\u001b[39m.\u001b[39mreload(train_DimeNet)\n\u001b[0;32m----> <a href='vscode-notebook-cell:/z%3A/home/GEOM3D/Geom3D/notebook/test_DimeNet.ipynb#W6sZmlsZQ%3D%3D?line=4'>5</a>\u001b[0m train_DimeNet\u001b[39m.\u001b[39;49mmain(\u001b[39m\"\u001b[39;49m\u001b[39m/rds/general/user/cb1319/home/GEOM3D/Geom3D/training/DimeNet_target_1K_TEST_5e4lr_TEST/\u001b[39;49m\u001b[39m\"\u001b[39;49m)\n",
      "File \u001b[0;32m~/GEOM3D/Geom3D/src/geom3d/train_DimeNet.py:40\u001b[0m, in \u001b[0;36mmain\u001b[0;34m(config_dir)\u001b[0m\n\u001b[1;32m     36\u001b[0m dataset \u001b[39m=\u001b[39m load_data(config)\n\u001b[1;32m     37\u001b[0m train_loader, val_loader, test_loader \u001b[39m=\u001b[39m train_val_test_split(\n\u001b[1;32m     38\u001b[0m     dataset, config\u001b[39m=\u001b[39mconfig\n\u001b[1;32m     39\u001b[0m )\n\u001b[0;32m---> 40\u001b[0m model_config \u001b[39m=\u001b[39m config[\u001b[39m\"\u001b[39;49m\u001b[39mDimeNet_model\u001b[39;49m\u001b[39m\"\u001b[39;49m]\n\u001b[1;32m     41\u001b[0m model \u001b[39m=\u001b[39m DimeNet(\n\u001b[1;32m     42\u001b[0m     node_class\u001b[39m=\u001b[39mmodel_config[\u001b[39m\"\u001b[39m\u001b[39mnode_class\u001b[39m\u001b[39m\"\u001b[39m],\n\u001b[1;32m     43\u001b[0m     hidden_channels\u001b[39m=\u001b[39mmodel_config[\u001b[39m\"\u001b[39m\u001b[39mhidden_channels\u001b[39m\u001b[39m\"\u001b[39m],\n\u001b[0;32m   (...)\u001b[0m\n\u001b[1;32m     54\u001b[0m     act\u001b[39m=\u001b[39mmodel_config[\u001b[39m\"\u001b[39m\u001b[39mact\u001b[39m\u001b[39m\"\u001b[39m],\n\u001b[1;32m     55\u001b[0m )\n\u001b[1;32m     56\u001b[0m graph_pred_linear \u001b[39m=\u001b[39m torch\u001b[39m.\u001b[39mnn\u001b[39m.\u001b[39mLinear(\n\u001b[1;32m     57\u001b[0m     model_config[\u001b[39m\"\u001b[39m\u001b[39memb_dim\u001b[39m\u001b[39m\"\u001b[39m], model_config[\u001b[39m\"\u001b[39m\u001b[39mnum_tasks\u001b[39m\u001b[39m\"\u001b[39m]\n\u001b[1;32m     58\u001b[0m )\n",
      "\u001b[0;31mKeyError\u001b[0m: 'DimeNet_model'"
=======
     "name": "stderr",
     "output_type": "stream",
     "text": [
      "GPU available: True (cuda), used: True\n",
      "TPU available: False, using: 0 TPU cores\n",
      "IPU available: False, using: 0 IPUs\n",
      "HPU available: False, using: 0 HPUs\n",
      "`Trainer(val_check_interval=1.0)` was configured so validation will run at the end of the training epoch..\n",
      "LOCAL_RANK: 0 - CUDA_VISIBLE_DEVICES: [3]\n",
      "\n",
      "  | Name             | Type    | Params\n",
      "---------------------------------------------\n",
      "0 | molecule_3D_repr | DimeNet | 124 K \n",
      "---------------------------------------------\n",
      "124 K     Trainable params\n",
      "6         Non-trainable params\n",
      "124 K     Total params\n",
      "0.496     Total estimated model params size (MB)\n"
     ]
    },
    {
     "data": {
      "application/vnd.jupyter.widget-view+json": {
       "model_id": "163d561765fc4375bcc49e4ff00821ba",
       "version_major": 2,
       "version_minor": 0
      },
      "text/plain": [
       "Sanity Checking: |          | 0/? [00:00<?, ?it/s]"
      ]
     },
     "metadata": {},
     "output_type": "display_data"
    },
    {
     "name": "stderr",
     "output_type": "stream",
     "text": [
      "/rds/general/user/cb1319/home/anaconda3/envs/Geom3D/lib/python3.11/site-packages/lightning/pytorch/trainer/connectors/data_connector.py:492: Your `val_dataloader`'s sampler has shuffling enabled, it is strongly recommended that you turn shuffling off for val/test dataloaders.\n",
      "/rds/general/user/cb1319/home/anaconda3/envs/Geom3D/lib/python3.11/site-packages/lightning/pytorch/trainer/connectors/data_connector.py:441: The 'val_dataloader' does not have many workers which may be a bottleneck. Consider increasing the value of the `num_workers` argument` to `num_workers=31` in the `DataLoader` to improve performance.\n",
      "/rds/general/user/cb1319/home/anaconda3/envs/Geom3D/lib/python3.11/site-packages/lightning/pytorch/utilities/data.py:77: Trying to infer the `batch_size` from an ambiguous collection. The batch size we found is 8013. To avoid any miscalculations, use `self.log(..., batch_size=batch_size)`.\n",
      "/rds/general/user/cb1319/home/anaconda3/envs/Geom3D/lib/python3.11/site-packages/lightning/pytorch/utilities/data.py:77: Trying to infer the `batch_size` from an ambiguous collection. The batch size we found is 8215. To avoid any miscalculations, use `self.log(..., batch_size=batch_size)`.\n",
      "/rds/general/user/cb1319/home/anaconda3/envs/Geom3D/lib/python3.11/site-packages/lightning/pytorch/trainer/connectors/data_connector.py:441: The 'train_dataloader' does not have many workers which may be a bottleneck. Consider increasing the value of the `num_workers` argument` to `num_workers=31` in the `DataLoader` to improve performance.\n"
     ]
    },
    {
     "data": {
      "application/vnd.jupyter.widget-view+json": {
       "model_id": "eba7083cabe9494188002581b53389c7",
       "version_major": 2,
       "version_minor": 0
      },
      "text/plain": [
       "Training: |          | 0/? [00:00<?, ?it/s]"
      ]
     },
     "metadata": {},
     "output_type": "display_data"
    },
    {
     "ename": "OutOfMemoryError",
     "evalue": "CUDA out of memory. Tried to allocate 2.97 GiB. GPU 0 has a total capacty of 23.64 GiB of which 1.75 GiB is free. Including non-PyTorch memory, this process has 21.89 GiB memory in use. Of the allocated memory 21.41 GiB is allocated by PyTorch, and 291.04 MiB is reserved by PyTorch but unallocated. If reserved but unallocated memory is large try setting max_split_size_mb to avoid fragmentation.  See documentation for Memory Management and PYTORCH_CUDA_ALLOC_CONF",
     "output_type": "error",
     "traceback": [
      "\u001b[0;31m---------------------------------------------------------------------------\u001b[0m",
      "\u001b[0;31mOutOfMemoryError\u001b[0m                          Traceback (most recent call last)",
      "\u001b[1;32mz:\\home\\GEOM3D\\Geom3D\\notebook\\test_DimeNet.ipynb Cell 8\u001b[0m line \u001b[0;36m5\n\u001b[1;32m      <a href='vscode-notebook-cell:/z%3A/home/GEOM3D/Geom3D/notebook/test_DimeNet.ipynb#X10sZmlsZQ%3D%3D?line=1'>2</a>\u001b[0m \u001b[39mfrom\u001b[39;00m \u001b[39mgeom3d\u001b[39;00m \u001b[39mimport\u001b[39;00m train_DimeNet\n\u001b[1;32m      <a href='vscode-notebook-cell:/z%3A/home/GEOM3D/Geom3D/notebook/test_DimeNet.ipynb#X10sZmlsZQ%3D%3D?line=3'>4</a>\u001b[0m importlib\u001b[39m.\u001b[39mreload(train_DimeNet)\n\u001b[0;32m----> <a href='vscode-notebook-cell:/z%3A/home/GEOM3D/Geom3D/notebook/test_DimeNet.ipynb#X10sZmlsZQ%3D%3D?line=4'>5</a>\u001b[0m train_DimeNet\u001b[39m.\u001b[39;49mmain(\u001b[39m\"\u001b[39;49m\u001b[39m/rds/general/user/cb1319/home/GEOM3D/Geom3D/training/DimeNet_target_1K_TEST_5e4lr/\u001b[39;49m\u001b[39m\"\u001b[39;49m)\n",
      "File \u001b[0;32m~/GEOM3D/Geom3D/src/geom3d/train_DimeNet.py:85\u001b[0m, in \u001b[0;36mmain\u001b[0;34m(config_dir)\u001b[0m\n\u001b[1;32m     71\u001b[0m checkpoint_callback \u001b[39m=\u001b[39m ModelCheckpoint(\n\u001b[1;32m     72\u001b[0m     dirpath\u001b[39m=\u001b[39mconfig[\u001b[39m\"\u001b[39m\u001b[39mname\u001b[39m\u001b[39m\"\u001b[39m],\n\u001b[1;32m     73\u001b[0m     filename\u001b[39m=\u001b[39m\u001b[39m\"\u001b[39m\u001b[39m{epoch}\u001b[39;00m\u001b[39m-\u001b[39m\u001b[39m{val_loss:.2f}\u001b[39;00m\u001b[39m-\u001b[39m\u001b[39m{other_metric:.2f}\u001b[39;00m\u001b[39m\"\u001b[39m,\n\u001b[1;32m     74\u001b[0m     monitor\u001b[39m=\u001b[39m\u001b[39m\"\u001b[39m\u001b[39mval_loss\u001b[39m\u001b[39m\"\u001b[39m,\n\u001b[1;32m     75\u001b[0m     mode\u001b[39m=\u001b[39m\u001b[39m\"\u001b[39m\u001b[39mmin\u001b[39m\u001b[39m\"\u001b[39m,\n\u001b[1;32m     76\u001b[0m )\n\u001b[1;32m     78\u001b[0m trainer \u001b[39m=\u001b[39m pl\u001b[39m.\u001b[39mTrainer(\n\u001b[1;32m     79\u001b[0m     logger\u001b[39m=\u001b[39mwandb_logger,\n\u001b[1;32m     80\u001b[0m     max_epochs\u001b[39m=\u001b[39mconfig[\u001b[39m\"\u001b[39m\u001b[39mmax_epochs\u001b[39m\u001b[39m\"\u001b[39m],\n\u001b[0;32m   (...)\u001b[0m\n\u001b[1;32m     83\u001b[0m     callbacks\u001b[39m=\u001b[39m[checkpoint_callback],\n\u001b[1;32m     84\u001b[0m )\n\u001b[0;32m---> 85\u001b[0m trainer\u001b[39m.\u001b[39;49mfit(\n\u001b[1;32m     86\u001b[0m     model\u001b[39m=\u001b[39;49mpymodel_check,\n\u001b[1;32m     87\u001b[0m     train_dataloaders\u001b[39m=\u001b[39;49mtrain_loader,\n\u001b[1;32m     88\u001b[0m     val_dataloaders\u001b[39m=\u001b[39;49mval_loader,\n\u001b[1;32m     89\u001b[0m )\n\u001b[1;32m     90\u001b[0m wandb\u001b[39m.\u001b[39mfinish()\n",
      "File \u001b[0;32m~/anaconda3/envs/Geom3D/lib/python3.11/site-packages/lightning/pytorch/trainer/trainer.py:544\u001b[0m, in \u001b[0;36mTrainer.fit\u001b[0;34m(self, model, train_dataloaders, val_dataloaders, datamodule, ckpt_path)\u001b[0m\n\u001b[1;32m    542\u001b[0m \u001b[39mself\u001b[39m\u001b[39m.\u001b[39mstate\u001b[39m.\u001b[39mstatus \u001b[39m=\u001b[39m TrainerStatus\u001b[39m.\u001b[39mRUNNING\n\u001b[1;32m    543\u001b[0m \u001b[39mself\u001b[39m\u001b[39m.\u001b[39mtraining \u001b[39m=\u001b[39m \u001b[39mTrue\u001b[39;00m\n\u001b[0;32m--> 544\u001b[0m call\u001b[39m.\u001b[39;49m_call_and_handle_interrupt(\n\u001b[1;32m    545\u001b[0m     \u001b[39mself\u001b[39;49m, \u001b[39mself\u001b[39;49m\u001b[39m.\u001b[39;49m_fit_impl, model, train_dataloaders, val_dataloaders, datamodule, ckpt_path\n\u001b[1;32m    546\u001b[0m )\n",
      "File \u001b[0;32m~/anaconda3/envs/Geom3D/lib/python3.11/site-packages/lightning/pytorch/trainer/call.py:44\u001b[0m, in \u001b[0;36m_call_and_handle_interrupt\u001b[0;34m(trainer, trainer_fn, *args, **kwargs)\u001b[0m\n\u001b[1;32m     42\u001b[0m     \u001b[39mif\u001b[39;00m trainer\u001b[39m.\u001b[39mstrategy\u001b[39m.\u001b[39mlauncher \u001b[39mis\u001b[39;00m \u001b[39mnot\u001b[39;00m \u001b[39mNone\u001b[39;00m:\n\u001b[1;32m     43\u001b[0m         \u001b[39mreturn\u001b[39;00m trainer\u001b[39m.\u001b[39mstrategy\u001b[39m.\u001b[39mlauncher\u001b[39m.\u001b[39mlaunch(trainer_fn, \u001b[39m*\u001b[39margs, trainer\u001b[39m=\u001b[39mtrainer, \u001b[39m*\u001b[39m\u001b[39m*\u001b[39mkwargs)\n\u001b[0;32m---> 44\u001b[0m     \u001b[39mreturn\u001b[39;00m trainer_fn(\u001b[39m*\u001b[39;49margs, \u001b[39m*\u001b[39;49m\u001b[39m*\u001b[39;49mkwargs)\n\u001b[1;32m     46\u001b[0m \u001b[39mexcept\u001b[39;00m _TunerExitException:\n\u001b[1;32m     47\u001b[0m     _call_teardown_hook(trainer)\n",
      "File \u001b[0;32m~/anaconda3/envs/Geom3D/lib/python3.11/site-packages/lightning/pytorch/trainer/trainer.py:580\u001b[0m, in \u001b[0;36mTrainer._fit_impl\u001b[0;34m(self, model, train_dataloaders, val_dataloaders, datamodule, ckpt_path)\u001b[0m\n\u001b[1;32m    573\u001b[0m \u001b[39massert\u001b[39;00m \u001b[39mself\u001b[39m\u001b[39m.\u001b[39mstate\u001b[39m.\u001b[39mfn \u001b[39mis\u001b[39;00m \u001b[39mnot\u001b[39;00m \u001b[39mNone\u001b[39;00m\n\u001b[1;32m    574\u001b[0m ckpt_path \u001b[39m=\u001b[39m \u001b[39mself\u001b[39m\u001b[39m.\u001b[39m_checkpoint_connector\u001b[39m.\u001b[39m_select_ckpt_path(\n\u001b[1;32m    575\u001b[0m     \u001b[39mself\u001b[39m\u001b[39m.\u001b[39mstate\u001b[39m.\u001b[39mfn,\n\u001b[1;32m    576\u001b[0m     ckpt_path,\n\u001b[1;32m    577\u001b[0m     model_provided\u001b[39m=\u001b[39m\u001b[39mTrue\u001b[39;00m,\n\u001b[1;32m    578\u001b[0m     model_connected\u001b[39m=\u001b[39m\u001b[39mself\u001b[39m\u001b[39m.\u001b[39mlightning_module \u001b[39mis\u001b[39;00m \u001b[39mnot\u001b[39;00m \u001b[39mNone\u001b[39;00m,\n\u001b[1;32m    579\u001b[0m )\n\u001b[0;32m--> 580\u001b[0m \u001b[39mself\u001b[39;49m\u001b[39m.\u001b[39;49m_run(model, ckpt_path\u001b[39m=\u001b[39;49mckpt_path)\n\u001b[1;32m    582\u001b[0m \u001b[39massert\u001b[39;00m \u001b[39mself\u001b[39m\u001b[39m.\u001b[39mstate\u001b[39m.\u001b[39mstopped\n\u001b[1;32m    583\u001b[0m \u001b[39mself\u001b[39m\u001b[39m.\u001b[39mtraining \u001b[39m=\u001b[39m \u001b[39mFalse\u001b[39;00m\n",
      "File \u001b[0;32m~/anaconda3/envs/Geom3D/lib/python3.11/site-packages/lightning/pytorch/trainer/trainer.py:989\u001b[0m, in \u001b[0;36mTrainer._run\u001b[0;34m(self, model, ckpt_path)\u001b[0m\n\u001b[1;32m    984\u001b[0m \u001b[39mself\u001b[39m\u001b[39m.\u001b[39m_signal_connector\u001b[39m.\u001b[39mregister_signal_handlers()\n\u001b[1;32m    986\u001b[0m \u001b[39m# ----------------------------\u001b[39;00m\n\u001b[1;32m    987\u001b[0m \u001b[39m# RUN THE TRAINER\u001b[39;00m\n\u001b[1;32m    988\u001b[0m \u001b[39m# ----------------------------\u001b[39;00m\n\u001b[0;32m--> 989\u001b[0m results \u001b[39m=\u001b[39m \u001b[39mself\u001b[39;49m\u001b[39m.\u001b[39;49m_run_stage()\n\u001b[1;32m    991\u001b[0m \u001b[39m# ----------------------------\u001b[39;00m\n\u001b[1;32m    992\u001b[0m \u001b[39m# POST-Training CLEAN UP\u001b[39;00m\n\u001b[1;32m    993\u001b[0m \u001b[39m# ----------------------------\u001b[39;00m\n\u001b[1;32m    994\u001b[0m log\u001b[39m.\u001b[39mdebug(\u001b[39mf\u001b[39m\u001b[39m\"\u001b[39m\u001b[39m{\u001b[39;00m\u001b[39mself\u001b[39m\u001b[39m.\u001b[39m\u001b[39m__class__\u001b[39m\u001b[39m.\u001b[39m\u001b[39m__name__\u001b[39m\u001b[39m}\u001b[39;00m\u001b[39m: trainer tearing down\u001b[39m\u001b[39m\"\u001b[39m)\n",
      "File \u001b[0;32m~/anaconda3/envs/Geom3D/lib/python3.11/site-packages/lightning/pytorch/trainer/trainer.py:1035\u001b[0m, in \u001b[0;36mTrainer._run_stage\u001b[0;34m(self)\u001b[0m\n\u001b[1;32m   1033\u001b[0m         \u001b[39mself\u001b[39m\u001b[39m.\u001b[39m_run_sanity_check()\n\u001b[1;32m   1034\u001b[0m     \u001b[39mwith\u001b[39;00m torch\u001b[39m.\u001b[39mautograd\u001b[39m.\u001b[39mset_detect_anomaly(\u001b[39mself\u001b[39m\u001b[39m.\u001b[39m_detect_anomaly):\n\u001b[0;32m-> 1035\u001b[0m         \u001b[39mself\u001b[39;49m\u001b[39m.\u001b[39;49mfit_loop\u001b[39m.\u001b[39;49mrun()\n\u001b[1;32m   1036\u001b[0m     \u001b[39mreturn\u001b[39;00m \u001b[39mNone\u001b[39;00m\n\u001b[1;32m   1037\u001b[0m \u001b[39mraise\u001b[39;00m \u001b[39mRuntimeError\u001b[39;00m(\u001b[39mf\u001b[39m\u001b[39m\"\u001b[39m\u001b[39mUnexpected state \u001b[39m\u001b[39m{\u001b[39;00m\u001b[39mself\u001b[39m\u001b[39m.\u001b[39mstate\u001b[39m}\u001b[39;00m\u001b[39m\"\u001b[39m)\n",
      "File \u001b[0;32m~/anaconda3/envs/Geom3D/lib/python3.11/site-packages/lightning/pytorch/loops/fit_loop.py:202\u001b[0m, in \u001b[0;36m_FitLoop.run\u001b[0;34m(self)\u001b[0m\n\u001b[1;32m    200\u001b[0m \u001b[39mtry\u001b[39;00m:\n\u001b[1;32m    201\u001b[0m     \u001b[39mself\u001b[39m\u001b[39m.\u001b[39mon_advance_start()\n\u001b[0;32m--> 202\u001b[0m     \u001b[39mself\u001b[39;49m\u001b[39m.\u001b[39;49madvance()\n\u001b[1;32m    203\u001b[0m     \u001b[39mself\u001b[39m\u001b[39m.\u001b[39mon_advance_end()\n\u001b[1;32m    204\u001b[0m     \u001b[39mself\u001b[39m\u001b[39m.\u001b[39m_restarting \u001b[39m=\u001b[39m \u001b[39mFalse\u001b[39;00m\n",
      "File \u001b[0;32m~/anaconda3/envs/Geom3D/lib/python3.11/site-packages/lightning/pytorch/loops/fit_loop.py:359\u001b[0m, in \u001b[0;36m_FitLoop.advance\u001b[0;34m(self)\u001b[0m\n\u001b[1;32m    357\u001b[0m \u001b[39mwith\u001b[39;00m \u001b[39mself\u001b[39m\u001b[39m.\u001b[39mtrainer\u001b[39m.\u001b[39mprofiler\u001b[39m.\u001b[39mprofile(\u001b[39m\"\u001b[39m\u001b[39mrun_training_epoch\u001b[39m\u001b[39m\"\u001b[39m):\n\u001b[1;32m    358\u001b[0m     \u001b[39massert\u001b[39;00m \u001b[39mself\u001b[39m\u001b[39m.\u001b[39m_data_fetcher \u001b[39mis\u001b[39;00m \u001b[39mnot\u001b[39;00m \u001b[39mNone\u001b[39;00m\n\u001b[0;32m--> 359\u001b[0m     \u001b[39mself\u001b[39;49m\u001b[39m.\u001b[39;49mepoch_loop\u001b[39m.\u001b[39;49mrun(\u001b[39mself\u001b[39;49m\u001b[39m.\u001b[39;49m_data_fetcher)\n",
      "File \u001b[0;32m~/anaconda3/envs/Geom3D/lib/python3.11/site-packages/lightning/pytorch/loops/training_epoch_loop.py:136\u001b[0m, in \u001b[0;36m_TrainingEpochLoop.run\u001b[0;34m(self, data_fetcher)\u001b[0m\n\u001b[1;32m    134\u001b[0m \u001b[39mwhile\u001b[39;00m \u001b[39mnot\u001b[39;00m \u001b[39mself\u001b[39m\u001b[39m.\u001b[39mdone:\n\u001b[1;32m    135\u001b[0m     \u001b[39mtry\u001b[39;00m:\n\u001b[0;32m--> 136\u001b[0m         \u001b[39mself\u001b[39;49m\u001b[39m.\u001b[39;49madvance(data_fetcher)\n\u001b[1;32m    137\u001b[0m         \u001b[39mself\u001b[39m\u001b[39m.\u001b[39mon_advance_end(data_fetcher)\n\u001b[1;32m    138\u001b[0m         \u001b[39mself\u001b[39m\u001b[39m.\u001b[39m_restarting \u001b[39m=\u001b[39m \u001b[39mFalse\u001b[39;00m\n",
      "File \u001b[0;32m~/anaconda3/envs/Geom3D/lib/python3.11/site-packages/lightning/pytorch/loops/training_epoch_loop.py:240\u001b[0m, in \u001b[0;36m_TrainingEpochLoop.advance\u001b[0;34m(self, data_fetcher)\u001b[0m\n\u001b[1;32m    237\u001b[0m \u001b[39mwith\u001b[39;00m trainer\u001b[39m.\u001b[39mprofiler\u001b[39m.\u001b[39mprofile(\u001b[39m\"\u001b[39m\u001b[39mrun_training_batch\u001b[39m\u001b[39m\"\u001b[39m):\n\u001b[1;32m    238\u001b[0m     \u001b[39mif\u001b[39;00m trainer\u001b[39m.\u001b[39mlightning_module\u001b[39m.\u001b[39mautomatic_optimization:\n\u001b[1;32m    239\u001b[0m         \u001b[39m# in automatic optimization, there can only be one optimizer\u001b[39;00m\n\u001b[0;32m--> 240\u001b[0m         batch_output \u001b[39m=\u001b[39m \u001b[39mself\u001b[39;49m\u001b[39m.\u001b[39;49mautomatic_optimization\u001b[39m.\u001b[39;49mrun(trainer\u001b[39m.\u001b[39;49moptimizers[\u001b[39m0\u001b[39;49m], batch_idx, kwargs)\n\u001b[1;32m    241\u001b[0m     \u001b[39melse\u001b[39;00m:\n\u001b[1;32m    242\u001b[0m         batch_output \u001b[39m=\u001b[39m \u001b[39mself\u001b[39m\u001b[39m.\u001b[39mmanual_optimization\u001b[39m.\u001b[39mrun(kwargs)\n",
      "File \u001b[0;32m~/anaconda3/envs/Geom3D/lib/python3.11/site-packages/lightning/pytorch/loops/optimization/automatic.py:187\u001b[0m, in \u001b[0;36m_AutomaticOptimization.run\u001b[0;34m(self, optimizer, batch_idx, kwargs)\u001b[0m\n\u001b[1;32m    180\u001b[0m         closure()\n\u001b[1;32m    182\u001b[0m \u001b[39m# ------------------------------\u001b[39;00m\n\u001b[1;32m    183\u001b[0m \u001b[39m# BACKWARD PASS\u001b[39;00m\n\u001b[1;32m    184\u001b[0m \u001b[39m# ------------------------------\u001b[39;00m\n\u001b[1;32m    185\u001b[0m \u001b[39m# gradient update with accumulated gradients\u001b[39;00m\n\u001b[1;32m    186\u001b[0m \u001b[39melse\u001b[39;00m:\n\u001b[0;32m--> 187\u001b[0m     \u001b[39mself\u001b[39;49m\u001b[39m.\u001b[39;49m_optimizer_step(batch_idx, closure)\n\u001b[1;32m    189\u001b[0m result \u001b[39m=\u001b[39m closure\u001b[39m.\u001b[39mconsume_result()\n\u001b[1;32m    190\u001b[0m \u001b[39mif\u001b[39;00m result\u001b[39m.\u001b[39mloss \u001b[39mis\u001b[39;00m \u001b[39mNone\u001b[39;00m:\n",
      "File \u001b[0;32m~/anaconda3/envs/Geom3D/lib/python3.11/site-packages/lightning/pytorch/loops/optimization/automatic.py:265\u001b[0m, in \u001b[0;36m_AutomaticOptimization._optimizer_step\u001b[0;34m(self, batch_idx, train_step_and_backward_closure)\u001b[0m\n\u001b[1;32m    262\u001b[0m     \u001b[39mself\u001b[39m\u001b[39m.\u001b[39moptim_progress\u001b[39m.\u001b[39moptimizer\u001b[39m.\u001b[39mstep\u001b[39m.\u001b[39mincrement_ready()\n\u001b[1;32m    264\u001b[0m \u001b[39m# model hook\u001b[39;00m\n\u001b[0;32m--> 265\u001b[0m call\u001b[39m.\u001b[39;49m_call_lightning_module_hook(\n\u001b[1;32m    266\u001b[0m     trainer,\n\u001b[1;32m    267\u001b[0m     \u001b[39m\"\u001b[39;49m\u001b[39moptimizer_step\u001b[39;49m\u001b[39m\"\u001b[39;49m,\n\u001b[1;32m    268\u001b[0m     trainer\u001b[39m.\u001b[39;49mcurrent_epoch,\n\u001b[1;32m    269\u001b[0m     batch_idx,\n\u001b[1;32m    270\u001b[0m     optimizer,\n\u001b[1;32m    271\u001b[0m     train_step_and_backward_closure,\n\u001b[1;32m    272\u001b[0m )\n\u001b[1;32m    274\u001b[0m \u001b[39mif\u001b[39;00m \u001b[39mnot\u001b[39;00m should_accumulate:\n\u001b[1;32m    275\u001b[0m     \u001b[39mself\u001b[39m\u001b[39m.\u001b[39moptim_progress\u001b[39m.\u001b[39moptimizer\u001b[39m.\u001b[39mstep\u001b[39m.\u001b[39mincrement_completed()\n",
      "File \u001b[0;32m~/anaconda3/envs/Geom3D/lib/python3.11/site-packages/lightning/pytorch/trainer/call.py:157\u001b[0m, in \u001b[0;36m_call_lightning_module_hook\u001b[0;34m(trainer, hook_name, pl_module, *args, **kwargs)\u001b[0m\n\u001b[1;32m    154\u001b[0m pl_module\u001b[39m.\u001b[39m_current_fx_name \u001b[39m=\u001b[39m hook_name\n\u001b[1;32m    156\u001b[0m \u001b[39mwith\u001b[39;00m trainer\u001b[39m.\u001b[39mprofiler\u001b[39m.\u001b[39mprofile(\u001b[39mf\u001b[39m\u001b[39m\"\u001b[39m\u001b[39m[LightningModule]\u001b[39m\u001b[39m{\u001b[39;00mpl_module\u001b[39m.\u001b[39m\u001b[39m__class__\u001b[39m\u001b[39m.\u001b[39m\u001b[39m__name__\u001b[39m\u001b[39m}\u001b[39;00m\u001b[39m.\u001b[39m\u001b[39m{\u001b[39;00mhook_name\u001b[39m}\u001b[39;00m\u001b[39m\"\u001b[39m):\n\u001b[0;32m--> 157\u001b[0m     output \u001b[39m=\u001b[39m fn(\u001b[39m*\u001b[39;49margs, \u001b[39m*\u001b[39;49m\u001b[39m*\u001b[39;49mkwargs)\n\u001b[1;32m    159\u001b[0m \u001b[39m# restore current_fx when nested context\u001b[39;00m\n\u001b[1;32m    160\u001b[0m pl_module\u001b[39m.\u001b[39m_current_fx_name \u001b[39m=\u001b[39m prev_fx_name\n",
      "File \u001b[0;32m~/anaconda3/envs/Geom3D/lib/python3.11/site-packages/lightning/pytorch/core/module.py:1282\u001b[0m, in \u001b[0;36mLightningModule.optimizer_step\u001b[0;34m(self, epoch, batch_idx, optimizer, optimizer_closure)\u001b[0m\n\u001b[1;32m   1243\u001b[0m \u001b[39mdef\u001b[39;00m \u001b[39moptimizer_step\u001b[39m(\n\u001b[1;32m   1244\u001b[0m     \u001b[39mself\u001b[39m,\n\u001b[1;32m   1245\u001b[0m     epoch: \u001b[39mint\u001b[39m,\n\u001b[0;32m   (...)\u001b[0m\n\u001b[1;32m   1248\u001b[0m     optimizer_closure: Optional[Callable[[], Any]] \u001b[39m=\u001b[39m \u001b[39mNone\u001b[39;00m,\n\u001b[1;32m   1249\u001b[0m ) \u001b[39m-\u001b[39m\u001b[39m>\u001b[39m \u001b[39mNone\u001b[39;00m:\n\u001b[1;32m   1250\u001b[0m \u001b[39m    \u001b[39m\u001b[39mr\u001b[39m\u001b[39m\"\"\"Override this method to adjust the default way the :class:`~lightning.pytorch.trainer.trainer.Trainer` calls\u001b[39;00m\n\u001b[1;32m   1251\u001b[0m \u001b[39m    the optimizer.\u001b[39;00m\n\u001b[1;32m   1252\u001b[0m \n\u001b[0;32m   (...)\u001b[0m\n\u001b[1;32m   1280\u001b[0m \n\u001b[1;32m   1281\u001b[0m \u001b[39m    \"\"\"\u001b[39;00m\n\u001b[0;32m-> 1282\u001b[0m     optimizer\u001b[39m.\u001b[39;49mstep(closure\u001b[39m=\u001b[39;49moptimizer_closure)\n",
      "File \u001b[0;32m~/anaconda3/envs/Geom3D/lib/python3.11/site-packages/lightning/pytorch/core/optimizer.py:151\u001b[0m, in \u001b[0;36mLightningOptimizer.step\u001b[0;34m(self, closure, **kwargs)\u001b[0m\n\u001b[1;32m    148\u001b[0m     \u001b[39mraise\u001b[39;00m MisconfigurationException(\u001b[39m\"\u001b[39m\u001b[39mWhen `optimizer.step(closure)` is called, the closure should be callable\u001b[39m\u001b[39m\"\u001b[39m)\n\u001b[1;32m    150\u001b[0m \u001b[39massert\u001b[39;00m \u001b[39mself\u001b[39m\u001b[39m.\u001b[39m_strategy \u001b[39mis\u001b[39;00m \u001b[39mnot\u001b[39;00m \u001b[39mNone\u001b[39;00m\n\u001b[0;32m--> 151\u001b[0m step_output \u001b[39m=\u001b[39m \u001b[39mself\u001b[39;49m\u001b[39m.\u001b[39;49m_strategy\u001b[39m.\u001b[39;49moptimizer_step(\u001b[39mself\u001b[39;49m\u001b[39m.\u001b[39;49m_optimizer, closure, \u001b[39m*\u001b[39;49m\u001b[39m*\u001b[39;49mkwargs)\n\u001b[1;32m    153\u001b[0m \u001b[39mself\u001b[39m\u001b[39m.\u001b[39m_on_after_step()\n\u001b[1;32m    155\u001b[0m \u001b[39mreturn\u001b[39;00m step_output\n",
      "File \u001b[0;32m~/anaconda3/envs/Geom3D/lib/python3.11/site-packages/lightning/pytorch/strategies/strategy.py:230\u001b[0m, in \u001b[0;36mStrategy.optimizer_step\u001b[0;34m(self, optimizer, closure, model, **kwargs)\u001b[0m\n\u001b[1;32m    228\u001b[0m \u001b[39m# TODO(fabric): remove assertion once strategy's optimizer_step typing is fixed\u001b[39;00m\n\u001b[1;32m    229\u001b[0m \u001b[39massert\u001b[39;00m \u001b[39misinstance\u001b[39m(model, pl\u001b[39m.\u001b[39mLightningModule)\n\u001b[0;32m--> 230\u001b[0m \u001b[39mreturn\u001b[39;00m \u001b[39mself\u001b[39;49m\u001b[39m.\u001b[39;49mprecision_plugin\u001b[39m.\u001b[39;49moptimizer_step(optimizer, model\u001b[39m=\u001b[39;49mmodel, closure\u001b[39m=\u001b[39;49mclosure, \u001b[39m*\u001b[39;49m\u001b[39m*\u001b[39;49mkwargs)\n",
      "File \u001b[0;32m~/anaconda3/envs/Geom3D/lib/python3.11/site-packages/lightning/pytorch/plugins/precision/precision.py:117\u001b[0m, in \u001b[0;36mPrecision.optimizer_step\u001b[0;34m(self, optimizer, model, closure, **kwargs)\u001b[0m\n\u001b[1;32m    115\u001b[0m \u001b[39m\u001b[39m\u001b[39m\"\"\"Hook to run the optimizer step.\"\"\"\u001b[39;00m\n\u001b[1;32m    116\u001b[0m closure \u001b[39m=\u001b[39m partial(\u001b[39mself\u001b[39m\u001b[39m.\u001b[39m_wrap_closure, model, optimizer, closure)\n\u001b[0;32m--> 117\u001b[0m \u001b[39mreturn\u001b[39;00m optimizer\u001b[39m.\u001b[39;49mstep(closure\u001b[39m=\u001b[39;49mclosure, \u001b[39m*\u001b[39;49m\u001b[39m*\u001b[39;49mkwargs)\n",
      "File \u001b[0;32m~/anaconda3/envs/Geom3D/lib/python3.11/site-packages/torch/optim/optimizer.py:373\u001b[0m, in \u001b[0;36mOptimizer.profile_hook_step.<locals>.wrapper\u001b[0;34m(*args, **kwargs)\u001b[0m\n\u001b[1;32m    368\u001b[0m         \u001b[39melse\u001b[39;00m:\n\u001b[1;32m    369\u001b[0m             \u001b[39mraise\u001b[39;00m \u001b[39mRuntimeError\u001b[39;00m(\n\u001b[1;32m    370\u001b[0m                 \u001b[39mf\u001b[39m\u001b[39m\"\u001b[39m\u001b[39m{\u001b[39;00mfunc\u001b[39m}\u001b[39;00m\u001b[39m must return None or a tuple of (new_args, new_kwargs), but got \u001b[39m\u001b[39m{\u001b[39;00mresult\u001b[39m}\u001b[39;00m\u001b[39m.\u001b[39m\u001b[39m\"\u001b[39m\n\u001b[1;32m    371\u001b[0m             )\n\u001b[0;32m--> 373\u001b[0m out \u001b[39m=\u001b[39m func(\u001b[39m*\u001b[39;49margs, \u001b[39m*\u001b[39;49m\u001b[39m*\u001b[39;49mkwargs)\n\u001b[1;32m    374\u001b[0m \u001b[39mself\u001b[39m\u001b[39m.\u001b[39m_optimizer_step_code()\n\u001b[1;32m    376\u001b[0m \u001b[39m# call optimizer step post hooks\u001b[39;00m\n",
      "File \u001b[0;32m~/anaconda3/envs/Geom3D/lib/python3.11/site-packages/torch/optim/optimizer.py:76\u001b[0m, in \u001b[0;36m_use_grad_for_differentiable.<locals>._use_grad\u001b[0;34m(self, *args, **kwargs)\u001b[0m\n\u001b[1;32m     74\u001b[0m     torch\u001b[39m.\u001b[39mset_grad_enabled(\u001b[39mself\u001b[39m\u001b[39m.\u001b[39mdefaults[\u001b[39m'\u001b[39m\u001b[39mdifferentiable\u001b[39m\u001b[39m'\u001b[39m])\n\u001b[1;32m     75\u001b[0m     torch\u001b[39m.\u001b[39m_dynamo\u001b[39m.\u001b[39mgraph_break()\n\u001b[0;32m---> 76\u001b[0m     ret \u001b[39m=\u001b[39m func(\u001b[39mself\u001b[39;49m, \u001b[39m*\u001b[39;49margs, \u001b[39m*\u001b[39;49m\u001b[39m*\u001b[39;49mkwargs)\n\u001b[1;32m     77\u001b[0m \u001b[39mfinally\u001b[39;00m:\n\u001b[1;32m     78\u001b[0m     torch\u001b[39m.\u001b[39m_dynamo\u001b[39m.\u001b[39mgraph_break()\n",
      "File \u001b[0;32m~/anaconda3/envs/Geom3D/lib/python3.11/site-packages/torch/optim/adam.py:143\u001b[0m, in \u001b[0;36mAdam.step\u001b[0;34m(self, closure)\u001b[0m\n\u001b[1;32m    141\u001b[0m \u001b[39mif\u001b[39;00m closure \u001b[39mis\u001b[39;00m \u001b[39mnot\u001b[39;00m \u001b[39mNone\u001b[39;00m:\n\u001b[1;32m    142\u001b[0m     \u001b[39mwith\u001b[39;00m torch\u001b[39m.\u001b[39menable_grad():\n\u001b[0;32m--> 143\u001b[0m         loss \u001b[39m=\u001b[39m closure()\n\u001b[1;32m    145\u001b[0m \u001b[39mfor\u001b[39;00m group \u001b[39min\u001b[39;00m \u001b[39mself\u001b[39m\u001b[39m.\u001b[39mparam_groups:\n\u001b[1;32m    146\u001b[0m     params_with_grad \u001b[39m=\u001b[39m []\n",
      "File \u001b[0;32m~/anaconda3/envs/Geom3D/lib/python3.11/site-packages/lightning/pytorch/plugins/precision/precision.py:104\u001b[0m, in \u001b[0;36mPrecision._wrap_closure\u001b[0;34m(self, model, optimizer, closure)\u001b[0m\n\u001b[1;32m     91\u001b[0m \u001b[39mdef\u001b[39;00m \u001b[39m_wrap_closure\u001b[39m(\n\u001b[1;32m     92\u001b[0m     \u001b[39mself\u001b[39m,\n\u001b[1;32m     93\u001b[0m     model: \u001b[39m\"\u001b[39m\u001b[39mpl.LightningModule\u001b[39m\u001b[39m\"\u001b[39m,\n\u001b[1;32m     94\u001b[0m     optimizer: Optimizer,\n\u001b[1;32m     95\u001b[0m     closure: Callable[[], Any],\n\u001b[1;32m     96\u001b[0m ) \u001b[39m-\u001b[39m\u001b[39m>\u001b[39m Any:\n\u001b[1;32m     97\u001b[0m \u001b[39m    \u001b[39m\u001b[39m\"\"\"This double-closure allows makes sure the ``closure`` is executed before the ``on_before_optimizer_step``\u001b[39;00m\n\u001b[1;32m     98\u001b[0m \u001b[39m    hook is called.\u001b[39;00m\n\u001b[1;32m     99\u001b[0m \n\u001b[0;32m   (...)\u001b[0m\n\u001b[1;32m    102\u001b[0m \n\u001b[1;32m    103\u001b[0m \u001b[39m    \"\"\"\u001b[39;00m\n\u001b[0;32m--> 104\u001b[0m     closure_result \u001b[39m=\u001b[39m closure()\n\u001b[1;32m    105\u001b[0m     \u001b[39mself\u001b[39m\u001b[39m.\u001b[39m_after_closure(model, optimizer)\n\u001b[1;32m    106\u001b[0m     \u001b[39mreturn\u001b[39;00m closure_result\n",
      "File \u001b[0;32m~/anaconda3/envs/Geom3D/lib/python3.11/site-packages/lightning/pytorch/loops/optimization/automatic.py:140\u001b[0m, in \u001b[0;36mClosure.__call__\u001b[0;34m(self, *args, **kwargs)\u001b[0m\n\u001b[1;32m    139\u001b[0m \u001b[39mdef\u001b[39;00m \u001b[39m__call__\u001b[39m(\u001b[39mself\u001b[39m, \u001b[39m*\u001b[39margs: Any, \u001b[39m*\u001b[39m\u001b[39m*\u001b[39mkwargs: Any) \u001b[39m-\u001b[39m\u001b[39m>\u001b[39m Optional[Tensor]:\n\u001b[0;32m--> 140\u001b[0m     \u001b[39mself\u001b[39m\u001b[39m.\u001b[39m_result \u001b[39m=\u001b[39m \u001b[39mself\u001b[39;49m\u001b[39m.\u001b[39;49mclosure(\u001b[39m*\u001b[39;49margs, \u001b[39m*\u001b[39;49m\u001b[39m*\u001b[39;49mkwargs)\n\u001b[1;32m    141\u001b[0m     \u001b[39mreturn\u001b[39;00m \u001b[39mself\u001b[39m\u001b[39m.\u001b[39m_result\u001b[39m.\u001b[39mloss\n",
      "File \u001b[0;32m~/anaconda3/envs/Geom3D/lib/python3.11/site-packages/torch/utils/_contextlib.py:115\u001b[0m, in \u001b[0;36mcontext_decorator.<locals>.decorate_context\u001b[0;34m(*args, **kwargs)\u001b[0m\n\u001b[1;32m    112\u001b[0m \u001b[39m@functools\u001b[39m\u001b[39m.\u001b[39mwraps(func)\n\u001b[1;32m    113\u001b[0m \u001b[39mdef\u001b[39;00m \u001b[39mdecorate_context\u001b[39m(\u001b[39m*\u001b[39margs, \u001b[39m*\u001b[39m\u001b[39m*\u001b[39mkwargs):\n\u001b[1;32m    114\u001b[0m     \u001b[39mwith\u001b[39;00m ctx_factory():\n\u001b[0;32m--> 115\u001b[0m         \u001b[39mreturn\u001b[39;00m func(\u001b[39m*\u001b[39;49margs, \u001b[39m*\u001b[39;49m\u001b[39m*\u001b[39;49mkwargs)\n",
      "File \u001b[0;32m~/anaconda3/envs/Geom3D/lib/python3.11/site-packages/lightning/pytorch/loops/optimization/automatic.py:126\u001b[0m, in \u001b[0;36mClosure.closure\u001b[0;34m(self, *args, **kwargs)\u001b[0m\n\u001b[1;32m    124\u001b[0m \u001b[39m@torch\u001b[39m\u001b[39m.\u001b[39menable_grad()\n\u001b[1;32m    125\u001b[0m \u001b[39mdef\u001b[39;00m \u001b[39mclosure\u001b[39m(\u001b[39mself\u001b[39m, \u001b[39m*\u001b[39margs: Any, \u001b[39m*\u001b[39m\u001b[39m*\u001b[39mkwargs: Any) \u001b[39m-\u001b[39m\u001b[39m>\u001b[39m ClosureResult:\n\u001b[0;32m--> 126\u001b[0m     step_output \u001b[39m=\u001b[39m \u001b[39mself\u001b[39;49m\u001b[39m.\u001b[39;49m_step_fn()\n\u001b[1;32m    128\u001b[0m     \u001b[39mif\u001b[39;00m step_output\u001b[39m.\u001b[39mclosure_loss \u001b[39mis\u001b[39;00m \u001b[39mNone\u001b[39;00m:\n\u001b[1;32m    129\u001b[0m         \u001b[39mself\u001b[39m\u001b[39m.\u001b[39mwarning_cache\u001b[39m.\u001b[39mwarn(\u001b[39m\"\u001b[39m\u001b[39m`training_step` returned `None`. If this was on purpose, ignore this warning...\u001b[39m\u001b[39m\"\u001b[39m)\n",
      "File \u001b[0;32m~/anaconda3/envs/Geom3D/lib/python3.11/site-packages/lightning/pytorch/loops/optimization/automatic.py:315\u001b[0m, in \u001b[0;36m_AutomaticOptimization._training_step\u001b[0;34m(self, kwargs)\u001b[0m\n\u001b[1;32m    312\u001b[0m trainer \u001b[39m=\u001b[39m \u001b[39mself\u001b[39m\u001b[39m.\u001b[39mtrainer\n\u001b[1;32m    314\u001b[0m \u001b[39m# manually capture logged metrics\u001b[39;00m\n\u001b[0;32m--> 315\u001b[0m training_step_output \u001b[39m=\u001b[39m call\u001b[39m.\u001b[39;49m_call_strategy_hook(trainer, \u001b[39m\"\u001b[39;49m\u001b[39mtraining_step\u001b[39;49m\u001b[39m\"\u001b[39;49m, \u001b[39m*\u001b[39;49mkwargs\u001b[39m.\u001b[39;49mvalues())\n\u001b[1;32m    316\u001b[0m \u001b[39mself\u001b[39m\u001b[39m.\u001b[39mtrainer\u001b[39m.\u001b[39mstrategy\u001b[39m.\u001b[39mpost_training_step()  \u001b[39m# unused hook - call anyway for backward compatibility\u001b[39;00m\n\u001b[1;32m    318\u001b[0m \u001b[39mreturn\u001b[39;00m \u001b[39mself\u001b[39m\u001b[39m.\u001b[39moutput_result_cls\u001b[39m.\u001b[39mfrom_training_step_output(training_step_output, trainer\u001b[39m.\u001b[39maccumulate_grad_batches)\n",
      "File \u001b[0;32m~/anaconda3/envs/Geom3D/lib/python3.11/site-packages/lightning/pytorch/trainer/call.py:309\u001b[0m, in \u001b[0;36m_call_strategy_hook\u001b[0;34m(trainer, hook_name, *args, **kwargs)\u001b[0m\n\u001b[1;32m    306\u001b[0m     \u001b[39mreturn\u001b[39;00m \u001b[39mNone\u001b[39;00m\n\u001b[1;32m    308\u001b[0m \u001b[39mwith\u001b[39;00m trainer\u001b[39m.\u001b[39mprofiler\u001b[39m.\u001b[39mprofile(\u001b[39mf\u001b[39m\u001b[39m\"\u001b[39m\u001b[39m[Strategy]\u001b[39m\u001b[39m{\u001b[39;00mtrainer\u001b[39m.\u001b[39mstrategy\u001b[39m.\u001b[39m\u001b[39m__class__\u001b[39m\u001b[39m.\u001b[39m\u001b[39m__name__\u001b[39m\u001b[39m}\u001b[39;00m\u001b[39m.\u001b[39m\u001b[39m{\u001b[39;00mhook_name\u001b[39m}\u001b[39;00m\u001b[39m\"\u001b[39m):\n\u001b[0;32m--> 309\u001b[0m     output \u001b[39m=\u001b[39m fn(\u001b[39m*\u001b[39;49margs, \u001b[39m*\u001b[39;49m\u001b[39m*\u001b[39;49mkwargs)\n\u001b[1;32m    311\u001b[0m \u001b[39m# restore current_fx when nested context\u001b[39;00m\n\u001b[1;32m    312\u001b[0m pl_module\u001b[39m.\u001b[39m_current_fx_name \u001b[39m=\u001b[39m prev_fx_name\n",
      "File \u001b[0;32m~/anaconda3/envs/Geom3D/lib/python3.11/site-packages/lightning/pytorch/strategies/strategy.py:382\u001b[0m, in \u001b[0;36mStrategy.training_step\u001b[0;34m(self, *args, **kwargs)\u001b[0m\n\u001b[1;32m    380\u001b[0m \u001b[39mif\u001b[39;00m \u001b[39mself\u001b[39m\u001b[39m.\u001b[39mmodel \u001b[39m!=\u001b[39m \u001b[39mself\u001b[39m\u001b[39m.\u001b[39mlightning_module:\n\u001b[1;32m    381\u001b[0m     \u001b[39mreturn\u001b[39;00m \u001b[39mself\u001b[39m\u001b[39m.\u001b[39m_forward_redirection(\u001b[39mself\u001b[39m\u001b[39m.\u001b[39mmodel, \u001b[39mself\u001b[39m\u001b[39m.\u001b[39mlightning_module, \u001b[39m\"\u001b[39m\u001b[39mtraining_step\u001b[39m\u001b[39m\"\u001b[39m, \u001b[39m*\u001b[39margs, \u001b[39m*\u001b[39m\u001b[39m*\u001b[39mkwargs)\n\u001b[0;32m--> 382\u001b[0m \u001b[39mreturn\u001b[39;00m \u001b[39mself\u001b[39;49m\u001b[39m.\u001b[39;49mlightning_module\u001b[39m.\u001b[39;49mtraining_step(\u001b[39m*\u001b[39;49margs, \u001b[39m*\u001b[39;49m\u001b[39m*\u001b[39;49mkwargs)\n",
      "File \u001b[0;32m~/GEOM3D/Geom3D/src/geom3d/train_DimeNet.py:105\u001b[0m, in \u001b[0;36mPymodel.training_step\u001b[0;34m(self, batch, batch_idx)\u001b[0m\n\u001b[1;32m    103\u001b[0m \u001b[39mdef\u001b[39;00m \u001b[39mtraining_step\u001b[39m(\u001b[39mself\u001b[39m, batch, batch_idx):\n\u001b[1;32m    104\u001b[0m     \u001b[39m# training_step defines the train loop.\u001b[39;00m\n\u001b[0;32m--> 105\u001b[0m     loss \u001b[39m=\u001b[39m \u001b[39mself\u001b[39;49m\u001b[39m.\u001b[39;49m_get_preds_loss_accuracy(batch)\n\u001b[1;32m    107\u001b[0m     \u001b[39mself\u001b[39m\u001b[39m.\u001b[39mlog(\u001b[39m\"\u001b[39m\u001b[39mtrain_loss\u001b[39m\u001b[39m\"\u001b[39m, loss)\n\u001b[1;32m    108\u001b[0m     \u001b[39mreturn\u001b[39;00m loss\n",
      "File \u001b[0;32m~/GEOM3D/Geom3D/src/geom3d/train_DimeNet.py:120\u001b[0m, in \u001b[0;36mPymodel._get_preds_loss_accuracy\u001b[0;34m(self, batch)\u001b[0m\n\u001b[1;32m    118\u001b[0m \u001b[39mdef\u001b[39;00m \u001b[39m_get_preds_loss_accuracy\u001b[39m(\u001b[39mself\u001b[39m, batch):\n\u001b[1;32m    119\u001b[0m \u001b[39m    \u001b[39m\u001b[39m\"\"\"convenience function since train/valid/test steps are similar\"\"\"\u001b[39;00m\n\u001b[0;32m--> 120\u001b[0m     z \u001b[39m=\u001b[39m \u001b[39mself\u001b[39;49m\u001b[39m.\u001b[39;49mmolecule_3D_repr(batch\u001b[39m.\u001b[39;49mx, batch\u001b[39m.\u001b[39;49mpositions, batch\u001b[39m.\u001b[39;49mbatch)\u001b[39m.\u001b[39msqueeze()\n\u001b[1;32m    121\u001b[0m     \u001b[39m# z = self.graph_pred_linear(z)\u001b[39;00m\n\u001b[1;32m    122\u001b[0m     loss \u001b[39m=\u001b[39m Functional\u001b[39m.\u001b[39mmse_loss(z, batch\u001b[39m.\u001b[39my) \u001b[39m# removed the .unsqueeze(1) from batch.y\u001b[39;00m\n",
      "File \u001b[0;32m~/anaconda3/envs/Geom3D/lib/python3.11/site-packages/torch/nn/modules/module.py:1518\u001b[0m, in \u001b[0;36mModule._wrapped_call_impl\u001b[0;34m(self, *args, **kwargs)\u001b[0m\n\u001b[1;32m   1516\u001b[0m     \u001b[39mreturn\u001b[39;00m \u001b[39mself\u001b[39m\u001b[39m.\u001b[39m_compiled_call_impl(\u001b[39m*\u001b[39margs, \u001b[39m*\u001b[39m\u001b[39m*\u001b[39mkwargs)  \u001b[39m# type: ignore[misc]\u001b[39;00m\n\u001b[1;32m   1517\u001b[0m \u001b[39melse\u001b[39;00m:\n\u001b[0;32m-> 1518\u001b[0m     \u001b[39mreturn\u001b[39;00m \u001b[39mself\u001b[39;49m\u001b[39m.\u001b[39;49m_call_impl(\u001b[39m*\u001b[39;49margs, \u001b[39m*\u001b[39;49m\u001b[39m*\u001b[39;49mkwargs)\n",
      "File \u001b[0;32m~/anaconda3/envs/Geom3D/lib/python3.11/site-packages/torch/nn/modules/module.py:1527\u001b[0m, in \u001b[0;36mModule._call_impl\u001b[0;34m(self, *args, **kwargs)\u001b[0m\n\u001b[1;32m   1522\u001b[0m \u001b[39m# If we don't have any hooks, we want to skip the rest of the logic in\u001b[39;00m\n\u001b[1;32m   1523\u001b[0m \u001b[39m# this function, and just call forward.\u001b[39;00m\n\u001b[1;32m   1524\u001b[0m \u001b[39mif\u001b[39;00m \u001b[39mnot\u001b[39;00m (\u001b[39mself\u001b[39m\u001b[39m.\u001b[39m_backward_hooks \u001b[39mor\u001b[39;00m \u001b[39mself\u001b[39m\u001b[39m.\u001b[39m_backward_pre_hooks \u001b[39mor\u001b[39;00m \u001b[39mself\u001b[39m\u001b[39m.\u001b[39m_forward_hooks \u001b[39mor\u001b[39;00m \u001b[39mself\u001b[39m\u001b[39m.\u001b[39m_forward_pre_hooks\n\u001b[1;32m   1525\u001b[0m         \u001b[39mor\u001b[39;00m _global_backward_pre_hooks \u001b[39mor\u001b[39;00m _global_backward_hooks\n\u001b[1;32m   1526\u001b[0m         \u001b[39mor\u001b[39;00m _global_forward_hooks \u001b[39mor\u001b[39;00m _global_forward_pre_hooks):\n\u001b[0;32m-> 1527\u001b[0m     \u001b[39mreturn\u001b[39;00m forward_call(\u001b[39m*\u001b[39;49margs, \u001b[39m*\u001b[39;49m\u001b[39m*\u001b[39;49mkwargs)\n\u001b[1;32m   1529\u001b[0m \u001b[39mtry\u001b[39;00m:\n\u001b[1;32m   1530\u001b[0m     result \u001b[39m=\u001b[39m \u001b[39mNone\u001b[39;00m\n",
      "File \u001b[0;32m~/GEOM3D/Geom3D/src/geom3d/models/DimeNet.py:391\u001b[0m, in \u001b[0;36mDimeNet.forward\u001b[0;34m(self, z, pos, batch)\u001b[0m\n\u001b[1;32m    387\u001b[0m \u001b[39m# Interaction blocks.\u001b[39;00m\n\u001b[1;32m    388\u001b[0m \u001b[39mfor\u001b[39;00m interaction_block, output_block \u001b[39min\u001b[39;00m \u001b[39mzip\u001b[39m(\n\u001b[1;32m    389\u001b[0m     \u001b[39mself\u001b[39m\u001b[39m.\u001b[39minteraction_blocks, \u001b[39mself\u001b[39m\u001b[39m.\u001b[39moutput_blocks[\u001b[39m1\u001b[39m:]\n\u001b[1;32m    390\u001b[0m ):\n\u001b[0;32m--> 391\u001b[0m     x \u001b[39m=\u001b[39m interaction_block(x, rbf, sbf, idx_kj, idx_ji)\n\u001b[1;32m    392\u001b[0m     P \u001b[39m+\u001b[39m\u001b[39m=\u001b[39m output_block(x, rbf, i)\n\u001b[1;32m    394\u001b[0m \u001b[39mreturn\u001b[39;00m P\u001b[39m.\u001b[39msum(dim\u001b[39m=\u001b[39m\u001b[39m0\u001b[39m) \u001b[39mif\u001b[39;00m batch \u001b[39mis\u001b[39;00m \u001b[39mNone\u001b[39;00m \u001b[39melse\u001b[39;00m scatter(P, batch, dim\u001b[39m=\u001b[39m\u001b[39m0\u001b[39m)\n",
      "File \u001b[0;32m~/anaconda3/envs/Geom3D/lib/python3.11/site-packages/torch/nn/modules/module.py:1518\u001b[0m, in \u001b[0;36mModule._wrapped_call_impl\u001b[0;34m(self, *args, **kwargs)\u001b[0m\n\u001b[1;32m   1516\u001b[0m     \u001b[39mreturn\u001b[39;00m \u001b[39mself\u001b[39m\u001b[39m.\u001b[39m_compiled_call_impl(\u001b[39m*\u001b[39margs, \u001b[39m*\u001b[39m\u001b[39m*\u001b[39mkwargs)  \u001b[39m# type: ignore[misc]\u001b[39;00m\n\u001b[1;32m   1517\u001b[0m \u001b[39melse\u001b[39;00m:\n\u001b[0;32m-> 1518\u001b[0m     \u001b[39mreturn\u001b[39;00m \u001b[39mself\u001b[39;49m\u001b[39m.\u001b[39;49m_call_impl(\u001b[39m*\u001b[39;49margs, \u001b[39m*\u001b[39;49m\u001b[39m*\u001b[39;49mkwargs)\n",
      "File \u001b[0;32m~/anaconda3/envs/Geom3D/lib/python3.11/site-packages/torch/nn/modules/module.py:1527\u001b[0m, in \u001b[0;36mModule._call_impl\u001b[0;34m(self, *args, **kwargs)\u001b[0m\n\u001b[1;32m   1522\u001b[0m \u001b[39m# If we don't have any hooks, we want to skip the rest of the logic in\u001b[39;00m\n\u001b[1;32m   1523\u001b[0m \u001b[39m# this function, and just call forward.\u001b[39;00m\n\u001b[1;32m   1524\u001b[0m \u001b[39mif\u001b[39;00m \u001b[39mnot\u001b[39;00m (\u001b[39mself\u001b[39m\u001b[39m.\u001b[39m_backward_hooks \u001b[39mor\u001b[39;00m \u001b[39mself\u001b[39m\u001b[39m.\u001b[39m_backward_pre_hooks \u001b[39mor\u001b[39;00m \u001b[39mself\u001b[39m\u001b[39m.\u001b[39m_forward_hooks \u001b[39mor\u001b[39;00m \u001b[39mself\u001b[39m\u001b[39m.\u001b[39m_forward_pre_hooks\n\u001b[1;32m   1525\u001b[0m         \u001b[39mor\u001b[39;00m _global_backward_pre_hooks \u001b[39mor\u001b[39;00m _global_backward_hooks\n\u001b[1;32m   1526\u001b[0m         \u001b[39mor\u001b[39;00m _global_forward_hooks \u001b[39mor\u001b[39;00m _global_forward_pre_hooks):\n\u001b[0;32m-> 1527\u001b[0m     \u001b[39mreturn\u001b[39;00m forward_call(\u001b[39m*\u001b[39;49margs, \u001b[39m*\u001b[39;49m\u001b[39m*\u001b[39;49mkwargs)\n\u001b[1;32m   1529\u001b[0m \u001b[39mtry\u001b[39;00m:\n\u001b[1;32m   1530\u001b[0m     result \u001b[39m=\u001b[39m \u001b[39mNone\u001b[39;00m\n",
      "File \u001b[0;32m~/GEOM3D/Geom3D/src/geom3d/models/DimeNet.py:202\u001b[0m, in \u001b[0;36mInteractionBlock.forward\u001b[0;34m(self, x, rbf, sbf, idx_kj, idx_ji)\u001b[0m\n\u001b[1;32m    200\u001b[0m x_kj \u001b[39m=\u001b[39m \u001b[39mself\u001b[39m\u001b[39m.\u001b[39mact(\u001b[39mself\u001b[39m\u001b[39m.\u001b[39mlin_kj(x))\n\u001b[1;32m    201\u001b[0m x_kj \u001b[39m=\u001b[39m x_kj \u001b[39m*\u001b[39m rbf\n\u001b[0;32m--> 202\u001b[0m x_kj \u001b[39m=\u001b[39m torch\u001b[39m.\u001b[39;49meinsum(\u001b[39m\"\u001b[39;49m\u001b[39mwj,wl,ijl->wi\u001b[39;49m\u001b[39m\"\u001b[39;49m, sbf, x_kj[idx_kj], \u001b[39mself\u001b[39;49m\u001b[39m.\u001b[39;49mW)\n\u001b[1;32m    203\u001b[0m x_kj \u001b[39m=\u001b[39m scatter(x_kj, idx_ji, dim\u001b[39m=\u001b[39m\u001b[39m0\u001b[39m, dim_size\u001b[39m=\u001b[39mx\u001b[39m.\u001b[39msize(\u001b[39m0\u001b[39m))\n\u001b[1;32m    205\u001b[0m h \u001b[39m=\u001b[39m x_ji \u001b[39m+\u001b[39m x_kj\n",
      "File \u001b[0;32m~/anaconda3/envs/Geom3D/lib/python3.11/site-packages/torch/functional.py:385\u001b[0m, in \u001b[0;36meinsum\u001b[0;34m(*args)\u001b[0m\n\u001b[1;32m    383\u001b[0m     \u001b[39m# flatten path for dispatching to C++\u001b[39;00m\n\u001b[1;32m    384\u001b[0m     path \u001b[39m=\u001b[39m [item \u001b[39mfor\u001b[39;00m pair \u001b[39min\u001b[39;00m tupled_path \u001b[39mfor\u001b[39;00m item \u001b[39min\u001b[39;00m pair]\n\u001b[0;32m--> 385\u001b[0m \u001b[39mreturn\u001b[39;00m _VF\u001b[39m.\u001b[39;49meinsum(equation, operands, path\u001b[39m=\u001b[39;49mpath)\n",
      "\u001b[0;31mOutOfMemoryError\u001b[0m: CUDA out of memory. Tried to allocate 2.97 GiB. GPU 0 has a total capacty of 23.64 GiB of which 1.75 GiB is free. Including non-PyTorch memory, this process has 21.89 GiB memory in use. Of the allocated memory 21.41 GiB is allocated by PyTorch, and 291.04 MiB is reserved by PyTorch but unallocated. If reserved but unallocated memory is large try setting max_split_size_mb to avoid fragmentation.  See documentation for Memory Management and PYTORCH_CUDA_ALLOC_CONF"
>>>>>>> Stashed changes
     ]
    }
   ],
   "source": [
    "import importlib\n",
    "from geom3d import train_DimeNet\n",
    "\n",
    "importlib.reload(train_DimeNet)\n",
<<<<<<< Updated upstream
    "train_DimeNet.main(\"/rds/general/user/cb1319/home/GEOM3D/Geom3D/training/DimeNet_target_1K_TEST_5e4lr_TEST/\")"
=======
    "train_DimeNet.main(\"/rds/general/user/cb1319/home/GEOM3D/Geom3D/training/DimeNet_target_1K_TEST_5e4lr/\")"
>>>>>>> Stashed changes
   ]
  },
  {
   "cell_type": "code",
   "execution_count": null,
   "metadata": {},
<<<<<<< Updated upstream
   "outputs": [
    {
     "data": {
      "text/plain": [
       "'/rds/general/user/cb1319/home/GEOM3D/Geom3D/training'"
      ]
     },
     "execution_count": 9,
     "metadata": {},
     "output_type": "execute_result"
    }
   ],
=======
   "outputs": [],
>>>>>>> Stashed changes
   "source": [
    "os.getcwd()"
   ]
  },
  {
   "cell_type": "code",
   "execution_count": null,
   "metadata": {},
<<<<<<< Updated upstream
   "outputs": [
    {
     "name": "stdout",
     "output_type": "stream",
     "text": [
      "config loaded from /rds/general/user/cb1319/home/GEOM3D/Geom3D/training/SchNet_target_1K_TEST_5e4lr/\n",
      "checkpoint used:  /rds/general/user/cb1319/home/GEOM3D/Geom3D/training/SchNet_target_1K_TEST_5e4lr/epoch=86-val_loss=0.54-other_metric=0.00.ckpt\n"
     ]
    },
    {
     "ename": "TypeError",
     "evalue": "Pymodel.__init__() missing 2 required positional arguments: 'model' and 'graph_pred_linear'",
     "output_type": "error",
     "traceback": [
      "\u001b[0;31m---------------------------------------------------------------------------\u001b[0m",
      "\u001b[0;31mTypeError\u001b[0m                                 Traceback (most recent call last)",
      "\u001b[1;32mz:\\home\\GEOM3D\\Geom3D\\notebook\\test_SchNet_1.ipynb Cell 9\u001b[0m line \u001b[0;36m8\n\u001b[1;32m      <a href='vscode-notebook-cell:/z%3A/home/GEOM3D/Geom3D/notebook/test_SchNet_1.ipynb#X11sZmlsZQ%3D%3D?line=4'>5</a>\u001b[0m chkpt_path \u001b[39m=\u001b[39m \u001b[39m\"\u001b[39m\u001b[39m/rds/general/user/cb1319/home/GEOM3D/Geom3D/training/SchNet_target_1K_TEST_5e4lr/epoch=86-val_loss=0.54-other_metric=0.00.ckpt\u001b[39m\u001b[39m\"\u001b[39m\n\u001b[1;32m      <a href='vscode-notebook-cell:/z%3A/home/GEOM3D/Geom3D/notebook/test_SchNet_1.ipynb#X11sZmlsZQ%3D%3D?line=6'>7</a>\u001b[0m importlib\u001b[39m.\u001b[39mreload(inference_test)\n\u001b[0;32m----> <a href='vscode-notebook-cell:/z%3A/home/GEOM3D/Geom3D/notebook/test_SchNet_1.ipynb#X11sZmlsZQ%3D%3D?line=7'>8</a>\u001b[0m inference_test\u001b[39m.\u001b[39;49mplot_training_results(chkpt_path, config_dir)\n",
      "File \u001b[0;32m~/GEOM3D/Geom3D/src/geom3d/inference_test.py:18\u001b[0m, in \u001b[0;36mplot_training_results\u001b[0;34m(chkpt_path, config_dir)\u001b[0m\n\u001b[1;32m     16\u001b[0m config[\u001b[39m\"\u001b[39m\u001b[39mdevice\u001b[39m\u001b[39m\"\u001b[39m] \u001b[39m=\u001b[39m \u001b[39m\"\u001b[39m\u001b[39mcuda:0\u001b[39m\u001b[39m\"\u001b[39m \u001b[39mif\u001b[39;00m torch\u001b[39m.\u001b[39mcuda\u001b[39m.\u001b[39mis_available() \u001b[39melse\u001b[39;00m \u001b[39m\"\u001b[39m\u001b[39mcpu\u001b[39m\u001b[39m\"\u001b[39m\n\u001b[1;32m     17\u001b[0m \u001b[39mprint\u001b[39m(\u001b[39m'\u001b[39m\u001b[39mcheckpoint used: \u001b[39m\u001b[39m'\u001b[39m, chkpt_path)\n\u001b[0;32m---> 18\u001b[0m pymodel \u001b[39m=\u001b[39m Pymodel\u001b[39m.\u001b[39;49mload_from_checkpoint(chkpt_path)\u001b[39m#,map_location={\"cuda:0\":\"cpu\"})\u001b[39;00m\n\u001b[1;32m     19\u001b[0m pymodel\u001b[39m.\u001b[39mfreeze()\n\u001b[1;32m     21\u001b[0m \u001b[39m#pymodel.to('cpu')\u001b[39;00m\n\u001b[1;32m     22\u001b[0m \n\u001b[1;32m     23\u001b[0m \u001b[39m#config[\"device\"] = \"cpu\" #\"cuda\" if torch.cuda.is_available() else \"cpu\"\u001b[39;00m\n",
      "File \u001b[0;32m~/anaconda3/envs/Geom3D/lib/python3.11/site-packages/lightning/pytorch/core/module.py:1552\u001b[0m, in \u001b[0;36mLightningModule.load_from_checkpoint\u001b[0;34m(cls, checkpoint_path, map_location, hparams_file, strict, **kwargs)\u001b[0m\n\u001b[1;32m   1471\u001b[0m \u001b[39m@_restricted_classmethod\u001b[39m\n\u001b[1;32m   1472\u001b[0m \u001b[39mdef\u001b[39;00m \u001b[39mload_from_checkpoint\u001b[39m(\n\u001b[1;32m   1473\u001b[0m     \u001b[39mcls\u001b[39m,\n\u001b[0;32m   (...)\u001b[0m\n\u001b[1;32m   1478\u001b[0m     \u001b[39m*\u001b[39m\u001b[39m*\u001b[39mkwargs: Any,\n\u001b[1;32m   1479\u001b[0m ) \u001b[39m-\u001b[39m\u001b[39m>\u001b[39m Self:\n\u001b[1;32m   1480\u001b[0m \u001b[39m    \u001b[39m\u001b[39mr\u001b[39m\u001b[39m\"\"\"Primary way of loading a model from a checkpoint. When Lightning saves a checkpoint it stores the arguments\u001b[39;00m\n\u001b[1;32m   1481\u001b[0m \u001b[39m    passed to ``__init__``  in the checkpoint under ``\"hyper_parameters\"``.\u001b[39;00m\n\u001b[1;32m   1482\u001b[0m \n\u001b[0;32m   (...)\u001b[0m\n\u001b[1;32m   1550\u001b[0m \n\u001b[1;32m   1551\u001b[0m \u001b[39m    \"\"\"\u001b[39;00m\n\u001b[0;32m-> 1552\u001b[0m     loaded \u001b[39m=\u001b[39m _load_from_checkpoint(\n\u001b[1;32m   1553\u001b[0m         \u001b[39mcls\u001b[39;49m,  \u001b[39m# type: ignore[arg-type]\u001b[39;49;00m\n\u001b[1;32m   1554\u001b[0m         checkpoint_path,\n\u001b[1;32m   1555\u001b[0m         map_location,\n\u001b[1;32m   1556\u001b[0m         hparams_file,\n\u001b[1;32m   1557\u001b[0m         strict,\n\u001b[1;32m   1558\u001b[0m         \u001b[39m*\u001b[39;49m\u001b[39m*\u001b[39;49mkwargs,\n\u001b[1;32m   1559\u001b[0m     )\n\u001b[1;32m   1560\u001b[0m     \u001b[39mreturn\u001b[39;00m cast(Self, loaded)\n",
      "File \u001b[0;32m~/anaconda3/envs/Geom3D/lib/python3.11/site-packages/lightning/pytorch/core/saving.py:89\u001b[0m, in \u001b[0;36m_load_from_checkpoint\u001b[0;34m(cls, checkpoint_path, map_location, hparams_file, strict, **kwargs)\u001b[0m\n\u001b[1;32m     87\u001b[0m     \u001b[39mreturn\u001b[39;00m _load_state(\u001b[39mcls\u001b[39m, checkpoint, \u001b[39m*\u001b[39m\u001b[39m*\u001b[39mkwargs)\n\u001b[1;32m     88\u001b[0m \u001b[39mif\u001b[39;00m \u001b[39missubclass\u001b[39m(\u001b[39mcls\u001b[39m, pl\u001b[39m.\u001b[39mLightningModule):\n\u001b[0;32m---> 89\u001b[0m     model \u001b[39m=\u001b[39m _load_state(\u001b[39mcls\u001b[39;49m, checkpoint, strict\u001b[39m=\u001b[39;49mstrict, \u001b[39m*\u001b[39;49m\u001b[39m*\u001b[39;49mkwargs)\n\u001b[1;32m     90\u001b[0m     state_dict \u001b[39m=\u001b[39m checkpoint[\u001b[39m\"\u001b[39m\u001b[39mstate_dict\u001b[39m\u001b[39m\"\u001b[39m]\n\u001b[1;32m     91\u001b[0m     \u001b[39mif\u001b[39;00m \u001b[39mnot\u001b[39;00m state_dict:\n",
      "File \u001b[0;32m~/anaconda3/envs/Geom3D/lib/python3.11/site-packages/lightning/pytorch/core/saving.py:156\u001b[0m, in \u001b[0;36m_load_state\u001b[0;34m(cls, checkpoint, strict, **cls_kwargs_new)\u001b[0m\n\u001b[1;32m    152\u001b[0m \u001b[39mif\u001b[39;00m \u001b[39mnot\u001b[39;00m cls_spec\u001b[39m.\u001b[39mvarkw:\n\u001b[1;32m    153\u001b[0m     \u001b[39m# filter kwargs according to class init unless it allows any argument via kwargs\u001b[39;00m\n\u001b[1;32m    154\u001b[0m     _cls_kwargs \u001b[39m=\u001b[39m {k: v \u001b[39mfor\u001b[39;00m k, v \u001b[39min\u001b[39;00m _cls_kwargs\u001b[39m.\u001b[39mitems() \u001b[39mif\u001b[39;00m k \u001b[39min\u001b[39;00m cls_init_args_name}\n\u001b[0;32m--> 156\u001b[0m obj \u001b[39m=\u001b[39m \u001b[39mcls\u001b[39;49m(\u001b[39m*\u001b[39;49m\u001b[39m*\u001b[39;49m_cls_kwargs)\n\u001b[1;32m    158\u001b[0m \u001b[39mif\u001b[39;00m \u001b[39misinstance\u001b[39m(obj, pl\u001b[39m.\u001b[39mLightningModule):\n\u001b[1;32m    159\u001b[0m     \u001b[39m# give model a chance to load something\u001b[39;00m\n\u001b[1;32m    160\u001b[0m     obj\u001b[39m.\u001b[39mon_load_checkpoint(checkpoint)\n",
      "\u001b[0;31mTypeError\u001b[0m: Pymodel.__init__() missing 2 required positional arguments: 'model' and 'graph_pred_linear'"
     ]
    }
   ],
=======
   "outputs": [],
>>>>>>> Stashed changes
   "source": [
    "import importlib\n",
    "from geom3d import inference_test\n",
    "\n",
    "config_dir = \"/rds/general/user/cb1319/home/GEOM3D/Geom3D/training/SchNet_target_1K_TEST_5e4lr/\"\n",
    "chkpt_path = \"/rds/general/user/cb1319/home/GEOM3D/Geom3D/training/SchNet_target_1K_TEST_5e4lr/epoch=86-val_loss=0.54-other_metric=0.00.ckpt\"\n",
    "\n",
    "importlib.reload(inference_test)\n",
    "inference_test.plot_training_results(chkpt_path, config_dir)"
   ]
  },
  {
   "cell_type": "code",
   "execution_count": null,
   "metadata": {},
   "outputs": [],
   "source": []
  },
  {
   "cell_type": "code",
   "execution_count": null,
   "metadata": {},
   "outputs": [],
   "source": []
  }
 ],
 "metadata": {
  "kernelspec": {
   "display_name": "Python [conda env:Geom3D]",
   "language": "python",
   "name": "conda-env-Geom3D-py"
  },
  "language_info": {
   "codemirror_mode": {
    "name": "ipython",
    "version": 3
   },
   "file_extension": ".py",
   "mimetype": "text/x-python",
   "name": "python",
   "nbconvert_exporter": "python",
   "pygments_lexer": "ipython3",
   "version": "3.11.5"
  }
 },
 "nbformat": 4,
 "nbformat_minor": 2
}
