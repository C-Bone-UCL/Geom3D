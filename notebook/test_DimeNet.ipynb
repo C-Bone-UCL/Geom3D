{
 "cells": [
  {
   "cell_type": "code",
   "execution_count": 1,
   "metadata": {},
   "outputs": [],
   "source": [
    "import os\n",
    "os.chdir('/rds/general/user/cb1319/home/GEOM3D/Geom3D/')"
   ]
  },
  {
   "cell_type": "code",
   "execution_count": 2,
   "metadata": {},
   "outputs": [
    {
     "name": "stdout",
     "output_type": "stream",
     "text": [
      "config loaded from /rds/general/user/cb1319/home/GEOM3D/Geom3D/training/DimeNet_target_1K_TEST_5e4lr_TEST/\n"
     ]
    }
   ],
   "source": [
    "from geom3d.train_DimeNet import *\n",
    "import torch\n",
    "import copy\n",
    "\n",
    "config_dir = os.getcwd()+\"/training/DimeNet_target_1K_TEST_5e4lr_TEST/\"\n",
    "config = read_config(config_dir)"
   ]
  },
  {
   "cell_type": "code",
   "execution_count": 3,
   "metadata": {},
   "outputs": [
    {
     "name": "stdout",
     "output_type": "stream",
     "text": [
      "GPU (Quadro RTX 6000) is available.\n"
     ]
    }
   ],
   "source": [
    "# Check if GPU is available\n",
    "if torch.cuda.is_available():\n",
    "    # Get the name of the GPU\n",
    "    gpu_name = torch.cuda.get_device_name(0)  # Assuming you have one GPU; you can change the index if you have multiple GPUs\n",
    "    print(f\"GPU ({gpu_name}) is available.\")\n",
    "else:\n",
    "    print(\"No GPU available. Using CPU.\")"
   ]
  },
  {
   "cell_type": "code",
   "execution_count": 3,
   "metadata": {},
   "outputs": [
    {
     "name": "stdout",
     "output_type": "stream",
     "text": [
      "Database entry for InChIKey: <ConstructedMolecule at 23419248369808>\n",
      "Database entry for InChIKey: <ConstructedMolecule at 23419248647568>\n",
      "Database entry for InChIKey: <ConstructedMolecule at 23419247014160>\n",
      "Database entry for InChIKey: <ConstructedMolecule at 23419247306704>\n",
      "Database entry for InChIKey: <ConstructedMolecule at 23419247583184>\n",
      "Database entry for InChIKey: <ConstructedMolecule at 23419479958736>\n",
      "Database entry for InChIKey: <ConstructedMolecule at 23419246331088>\n",
      "Database entry for InChIKey: <ConstructedMolecule at 23419246451920>\n",
      "Database entry for InChIKey: <ConstructedMolecule at 23419246579984>\n",
      "Database entry for InChIKey: <ConstructedMolecule at 23419370228176>\n",
      "Database entry for InChIKey: <ConstructedMolecule at 23419370098896>\n",
      "Database entry for InChIKey: <ConstructedMolecule at 23419369979600>\n",
      "Database entry for InChIKey: <ConstructedMolecule at 23419369866000>\n",
      "Database entry for InChIKey: <ConstructedMolecule at 23419369691152>\n",
      "Database entry for InChIKey: <ConstructedMolecule at 23419369459280>\n",
      "Database entry for InChIKey: <ConstructedMolecule at 23419369366032>\n",
      "Database entry for InChIKey: <ConstructedMolecule at 23419369303248>\n",
      "Database entry for InChIKey: <ConstructedMolecule at 23419372371088>\n",
      "Database entry for InChIKey: <ConstructedMolecule at 23419372228240>\n",
      "Database entry for InChIKey: <ConstructedMolecule at 23419372131088>\n",
      "Database entry for InChIKey: <ConstructedMolecule at 23419371885648>\n",
      "Database entry for InChIKey: <ConstructedMolecule at 23419371817296>\n",
      "Database entry for InChIKey: <ConstructedMolecule at 23419371627152>\n",
      "Database entry for InChIKey: <ConstructedMolecule at 23419371521360>\n",
      "Database entry for InChIKey: <ConstructedMolecule at 23419371439120>\n",
      "Database entry for InChIKey: <ConstructedMolecule at 23419379861584>\n",
      "Database entry for InChIKey: <ConstructedMolecule at 23419380033872>\n",
      "Database entry for InChIKey: <ConstructedMolecule at 23419380247888>\n",
      "Database entry for InChIKey: <ConstructedMolecule at 23419380372240>\n",
      "Database entry for InChIKey: <ConstructedMolecule at 23419380458960>\n",
      "Database entry for InChIKey: <ConstructedMolecule at 23419380585616>\n",
      "Database entry for InChIKey: <ConstructedMolecule at 23419380717200>\n",
      "Database entry for InChIKey: <ConstructedMolecule at 23419378805136>\n",
      "Database entry for InChIKey: <ConstructedMolecule at 23419378936784>\n",
      "Database entry for InChIKey: <ConstructedMolecule at 23419379008016>\n",
      "Database entry for InChIKey: <ConstructedMolecule at 23419379212432>\n",
      "Database entry for InChIKey: <ConstructedMolecule at 23419379405456>\n",
      "Database entry for InChIKey: <ConstructedMolecule at 23419379509968>\n",
      "Database entry for InChIKey: <ConstructedMolecule at 23419379631952>\n",
      "Database entry for InChIKey: <ConstructedMolecule at 23419379724240>\n",
      "Database entry for InChIKey: <ConstructedMolecule at 23419377872336>\n",
      "Database entry for InChIKey: <ConstructedMolecule at 23419377974032>\n",
      "Database entry for InChIKey: <ConstructedMolecule at 23419378127696>\n",
      "Database entry for InChIKey: <ConstructedMolecule at 23419378280784>\n",
      "Database entry for InChIKey: <ConstructedMolecule at 23419378418192>\n",
      "Database entry for InChIKey: <ConstructedMolecule at 23419378549584>\n",
      "Database entry for InChIKey: <ConstructedMolecule at 23419378644432>\n",
      "Database entry for InChIKey: <ConstructedMolecule at 23419376656144>\n",
      "Database entry for InChIKey: <ConstructedMolecule at 23419376812944>\n",
      "Database entry for InChIKey: <ConstructedMolecule at 23419376970256>\n",
      "Database entry for InChIKey: <ConstructedMolecule at 23419377067344>\n",
      "Database entry for InChIKey: <ConstructedMolecule at 23419377122704>\n",
      "Database entry for InChIKey: <ConstructedMolecule at 23419377284880>\n",
      "Database entry for InChIKey: <ConstructedMolecule at 23419377468432>\n",
      "Database entry for InChIKey: <ConstructedMolecule at 23419377549712>\n",
      "Database entry for InChIKey: <ConstructedMolecule at 23419377622992>\n",
      "Database entry for InChIKey: <ConstructedMolecule at 23419375687888>\n",
      "Database entry for InChIKey: <ConstructedMolecule at 23419375832080>\n",
      "Database entry for InChIKey: <ConstructedMolecule at 23419375982992>\n",
      "Database entry for InChIKey: <ConstructedMolecule at 23419376118032>\n",
      "Database entry for InChIKey: <ConstructedMolecule at 23419246052240>\n",
      "Database entry for InChIKey: <ConstructedMolecule at 23419376234320>\n",
      "Database entry for InChIKey: <ConstructedMolecule at 23419376348368>\n",
      "Database entry for InChIKey: <ConstructedMolecule at 23419376535056>\n",
      "Database entry for InChIKey: <ConstructedMolecule at 23419374617616>\n",
      "Database entry for InChIKey: <ConstructedMolecule at 23419374771472>\n",
      "Database entry for InChIKey: <ConstructedMolecule at 23419374828048>\n",
      "Database entry for InChIKey: <ConstructedMolecule at 23419374921872>\n",
      "Database entry for InChIKey: <ConstructedMolecule at 23419375131088>\n",
      "Database entry for InChIKey: <ConstructedMolecule at 23419375309968>\n",
      "Database entry for InChIKey: <ConstructedMolecule at 23419375385872>\n",
      "Database entry for InChIKey: <ConstructedMolecule at 23419373515088>\n",
      "Database entry for InChIKey: <ConstructedMolecule at 23419373631824>\n",
      "Database entry for InChIKey: <ConstructedMolecule at 23419373755984>\n",
      "Database entry for InChIKey: <ConstructedMolecule at 23419373931984>\n",
      "Database entry for InChIKey: <ConstructedMolecule at 23419374050960>\n",
      "Database entry for InChIKey: <ConstructedMolecule at 23419374169680>\n",
      "Database entry for InChIKey: <ConstructedMolecule at 23419374375184>\n",
      "Database entry for InChIKey: <ConstructedMolecule at 23419374489488>\n",
      "Database entry for InChIKey: <ConstructedMolecule at 23419370402704>\n",
      "Database entry for InChIKey: <ConstructedMolecule at 23419370527760>\n",
      "Database entry for InChIKey: <ConstructedMolecule at 23419370704016>\n",
      "Database entry for InChIKey: <ConstructedMolecule at 23419370809040>\n",
      "Database entry for InChIKey: <ConstructedMolecule at 23419370962384>\n",
      "Database entry for InChIKey: <ConstructedMolecule at 23419371109776>\n",
      "Database entry for InChIKey: <ConstructedMolecule at 23419371166544>\n",
      "Database entry for InChIKey: <ConstructedMolecule at 23419371342160>\n",
      "Database entry for InChIKey: <ConstructedMolecule at 23419368340240>\n",
      "Database entry for InChIKey: <ConstructedMolecule at 23419368511312>\n",
      "Database entry for InChIKey: <ConstructedMolecule at 23419368632272>\n",
      "Database entry for InChIKey: <ConstructedMolecule at 23419368866384>\n",
      "Database entry for InChIKey: <ConstructedMolecule at 23419368888592>\n",
      "Database entry for InChIKey: <ConstructedMolecule at 23419369091024>\n",
      "Database entry for InChIKey: <ConstructedMolecule at 23419369169872>\n",
      "Database entry for InChIKey: <ConstructedMolecule at 23419369251344>\n",
      "Database entry for InChIKey: <ConstructedMolecule at 23419367318736>\n",
      "Database entry for InChIKey: <ConstructedMolecule at 23419367502544>\n",
      "Database entry for InChIKey: <ConstructedMolecule at 23419367606288>\n",
      "Database entry for InChIKey: <ConstructedMolecule at 23419367730320>\n",
      "Database entry for InChIKey: <ConstructedMolecule at 23419367895248>\n"
     ]
    }
   ],
   "source": [
    "import importlib\n",
    "from geom3d import train_DimeNet\n",
    "\n",
    "importlib.reload(train_DimeNet)\n",
    "\n",
    "config[\"device\"] = \"cuda:0\" if torch.cuda.is_available() else \"cpu\"\n",
    "    \n",
    "np.random.seed(config[\"seed\"])\n",
    "torch.cuda.manual_seed_all(config[\"seed\"])\n",
    "dataset = train_DimeNet.load_data(config)\n",
    "\n",
    "#there is that inchikey in the file? why is it not picking it up?\n"
   ]
  },
  {
   "cell_type": "code",
   "execution_count": 4,
   "metadata": {},
   "outputs": [
    {
     "name": "stderr",
     "output_type": "stream",
     "text": [
      "Failed to detect the name of this notebook, you can set it manually with the WANDB_NOTEBOOK_NAME environment variable to enable code saving.\n",
      "\u001b[34m\u001b[1mwandb\u001b[0m: Currently logged in as: \u001b[33mcyprienbone\u001b[0m. Use \u001b[1m`wandb login --relogin`\u001b[0m to force relogin\n"
     ]
    },
    {
     "data": {
      "text/plain": [
       "True"
      ]
     },
     "execution_count": 4,
     "metadata": {},
     "output_type": "execute_result"
    }
   ],
   "source": [
    "import wandb\n",
    "wandb.login()"
   ]
  },
  {
   "cell_type": "code",
   "execution_count": 5,
   "metadata": {},
   "outputs": [
    {
     "data": {
      "text/html": [
       "Tracking run with wandb version 0.16.0"
      ],
      "text/plain": [
       "<IPython.core.display.HTML object>"
      ]
     },
     "metadata": {},
     "output_type": "display_data"
    },
    {
     "data": {
      "text/html": [
       "Run data is saved locally in <code>/rds/general/user/cb1319/home/GEOM3D/Geom3D/wandb/run-20231127_132923-v2uufpgo</code>"
      ],
      "text/plain": [
       "<IPython.core.display.HTML object>"
      ]
     },
     "metadata": {},
     "output_type": "display_data"
    },
    {
     "data": {
      "text/html": [
       "Syncing run <strong><a href='https://wandb.ai/cyprienbone/Geom3D_DimeNet_test/runs/v2uufpgo' target=\"_blank\">kind-glade-2</a></strong> to <a href='https://wandb.ai/cyprienbone/Geom3D_DimeNet_test' target=\"_blank\">Weights & Biases</a> (<a href='https://wandb.me/run' target=\"_blank\">docs</a>)<br/>"
      ],
      "text/plain": [
       "<IPython.core.display.HTML object>"
      ]
     },
     "metadata": {},
     "output_type": "display_data"
    },
    {
     "data": {
      "text/html": [
       " View project at <a href='https://wandb.ai/cyprienbone/Geom3D_DimeNet_test' target=\"_blank\">https://wandb.ai/cyprienbone/Geom3D_DimeNet_test</a>"
      ],
      "text/plain": [
       "<IPython.core.display.HTML object>"
      ]
     },
     "metadata": {},
     "output_type": "display_data"
    },
    {
     "data": {
      "text/html": [
       " View run at <a href='https://wandb.ai/cyprienbone/Geom3D_DimeNet_test/runs/v2uufpgo' target=\"_blank\">https://wandb.ai/cyprienbone/Geom3D_DimeNet_test/runs/v2uufpgo</a>"
      ],
      "text/plain": [
       "<IPython.core.display.HTML object>"
      ]
     },
     "metadata": {},
     "output_type": "display_data"
    },
    {
     "data": {
      "text/html": [
       "<button onClick=\"this.nextSibling.style.display='block';this.style.display='none';\">Display W&B run</button><iframe src='https://wandb.ai/cyprienbone/Geom3D_DimeNet_test/runs/v2uufpgo?jupyter=true' style='border:none;width:100%;height:420px;display:none;'></iframe>"
      ],
      "text/plain": [
       "<wandb.sdk.wandb_run.Run at 0x154cbc1f9b50>"
      ]
     },
     "execution_count": 5,
     "metadata": {},
     "output_type": "execute_result"
    }
   ],
   "source": [
    "wandb.init(project=\"Geom3D_DimeNet_test\")"
   ]
  },
  {
   "cell_type": "code",
   "execution_count": 6,
   "metadata": {},
   "outputs": [
    {
     "name": "stdout",
     "output_type": "stream",
     "text": [
      "config loaded from /rds/general/user/cb1319/home/GEOM3D/Geom3D/training/DimeNet_target_1K_TEST_5e4lr_TEST/\n",
      "Database entry for InChIKey: <ConstructedMolecule at 23419215199824>\n",
      "Database entry for InChIKey: <ConstructedMolecule at 23419215867728>\n",
      "Database entry for InChIKey: <ConstructedMolecule at 23419214283472>\n",
      "Database entry for InChIKey: <ConstructedMolecule at 23419214526736>\n",
      "Database entry for InChIKey: <ConstructedMolecule at 23419214803280>\n",
      "Database entry for InChIKey: <ConstructedMolecule at 23419213549776>\n",
      "Database entry for InChIKey: <ConstructedMolecule at 23419215473680>\n",
      "Database entry for InChIKey: <ConstructedMolecule at 23419216184592>\n",
      "Database entry for InChIKey: <ConstructedMolecule at 23419332934032>\n",
      "Database entry for InChIKey: <ConstructedMolecule at 23419332768336>\n",
      "Database entry for InChIKey: <ConstructedMolecule at 23419332671760>\n",
      "Database entry for InChIKey: <ConstructedMolecule at 23419213424208>\n",
      "Database entry for InChIKey: <ConstructedMolecule at 23419213605328>\n",
      "Database entry for InChIKey: <ConstructedMolecule at 23419213791056>\n",
      "Database entry for InChIKey: <ConstructedMolecule at 23419214018000>\n",
      "Database entry for InChIKey: <ConstructedMolecule at 23419353532880>\n",
      "Database entry for InChIKey: <ConstructedMolecule at 23419353453456>\n",
      "Database entry for InChIKey: <ConstructedMolecule at 23419353358992>\n",
      "Database entry for InChIKey: <ConstructedMolecule at 23419353281808>\n",
      "Database entry for InChIKey: <ConstructedMolecule at 23419353185040>\n",
      "Database entry for InChIKey: <ConstructedMolecule at 23419352939728>\n",
      "Database entry for InChIKey: <ConstructedMolecule at 23419352887440>\n",
      "Database entry for InChIKey: <ConstructedMolecule at 23419336657296>\n",
      "Database entry for InChIKey: <ConstructedMolecule at 23419336584336>\n",
      "Database entry for InChIKey: <ConstructedMolecule at 23419336485584>\n",
      "Database entry for InChIKey: <ConstructedMolecule at 23419336339408>\n",
      "Database entry for InChIKey: <ConstructedMolecule at 23419336167632>\n",
      "Database entry for InChIKey: <ConstructedMolecule at 23419335938896>\n",
      "Database entry for InChIKey: <ConstructedMolecule at 23419335817360>\n",
      "Database entry for InChIKey: <ConstructedMolecule at 23419337755728>\n",
      "Database entry for InChIKey: <ConstructedMolecule at 23419337669392>\n",
      "Database entry for InChIKey: <ConstructedMolecule at 23419337538896>\n",
      "Database entry for InChIKey: <ConstructedMolecule at 23419337363344>\n",
      "Database entry for InChIKey: <ConstructedMolecule at 23419337249104>\n",
      "Database entry for InChIKey: <ConstructedMolecule at 23419337172880>\n",
      "Database entry for InChIKey: <ConstructedMolecule at 23419336967696>\n",
      "Database entry for InChIKey: <ConstructedMolecule at 23419336832976>\n",
      "Database entry for InChIKey: <ConstructedMolecule at 23419349454800>\n",
      "Database entry for InChIKey: <ConstructedMolecule at 23419349543952>\n",
      "Database entry for InChIKey: <ConstructedMolecule at 23419349701840>\n",
      "Database entry for InChIKey: <ConstructedMolecule at 23419349897872>\n",
      "Database entry for InChIKey: <ConstructedMolecule at 23419349966672>\n",
      "Database entry for InChIKey: <ConstructedMolecule at 23419350136720>\n",
      "Database entry for InChIKey: <ConstructedMolecule at 23419350289936>\n",
      "Database entry for InChIKey: <ConstructedMolecule at 23419348346512>\n",
      "Database entry for InChIKey: <ConstructedMolecule at 23419348461520>\n",
      "Database entry for InChIKey: <ConstructedMolecule at 23419348556368>\n",
      "Database entry for InChIKey: <ConstructedMolecule at 23419348665360>\n",
      "Database entry for InChIKey: <ConstructedMolecule at 23419348821840>\n",
      "Database entry for InChIKey: <ConstructedMolecule at 23419348962960>\n",
      "Database entry for InChIKey: <ConstructedMolecule at 23419349060304>\n",
      "Database entry for InChIKey: <ConstructedMolecule at 23419349131984>\n",
      "Database entry for InChIKey: <ConstructedMolecule at 23419349277648>\n",
      "Database entry for InChIKey: <ConstructedMolecule at 23419343218512>\n",
      "Database entry for InChIKey: <ConstructedMolecule at 23419343299792>\n",
      "Database entry for InChIKey: <ConstructedMolecule at 23419343373456>\n",
      "Database entry for InChIKey: <ConstructedMolecule at 23419343519120>\n",
      "Database entry for InChIKey: <ConstructedMolecule at 23419343663376>\n",
      "Database entry for InChIKey: <ConstructedMolecule at 23419343830352>\n",
      "Database entry for InChIKey: <ConstructedMolecule at 23419343965328>\n",
      "Database entry for InChIKey: <ConstructedMolecule at 23419344061200>\n",
      "Database entry for InChIKey: <ConstructedMolecule at 23419340048272>\n",
      "Database entry for InChIKey: <ConstructedMolecule at 23419340195088>\n",
      "Database entry for InChIKey: <ConstructedMolecule at 23419340381776>\n",
      "Database entry for InChIKey: <ConstructedMolecule at 23419367849104>\n",
      "Database entry for InChIKey: <ConstructedMolecule at 23419368975952>\n",
      "Database entry for InChIKey: <ConstructedMolecule at 23419368726480>\n",
      "Database entry for InChIKey: <ConstructedMolecule at 23419371008080>\n",
      "Database entry for InChIKey: <ConstructedMolecule at 23419373796240>\n",
      "Database entry for InChIKey: <ConstructedMolecule at 23419375024016>\n",
      "Database entry for InChIKey: <ConstructedMolecule at 23419376576016>\n",
      "Database entry for InChIKey: <ConstructedMolecule at 23419375762640>\n",
      "Database entry for InChIKey: <ConstructedMolecule at 23419377324816>\n",
      "Database entry for InChIKey: <ConstructedMolecule at 23419377147216>\n",
      "Database entry for InChIKey: <ConstructedMolecule at 23419378155216>\n",
      "Database entry for InChIKey: <ConstructedMolecule at 23419379077968>\n",
      "Database entry for InChIKey: <ConstructedMolecule at 23419380092048>\n",
      "Database entry for InChIKey: <ConstructedMolecule at 23419371791376>\n",
      "Database entry for InChIKey: <ConstructedMolecule at 23419372304336>\n",
      "Database entry for InChIKey: <ConstructedMolecule at 23419369626128>\n",
      "Database entry for InChIKey: <ConstructedMolecule at 23419370085968>\n",
      "Database entry for InChIKey: <ConstructedMolecule at 23419245604240>\n",
      "Database entry for InChIKey: <ConstructedMolecule at 23419247635472>\n",
      "Database entry for InChIKey: <ConstructedMolecule at 23419247369680>\n",
      "Database entry for InChIKey: <ConstructedMolecule at 23419246958800>\n",
      "Database entry for InChIKey: <ConstructedMolecule at 23419248484496>\n",
      "Database entry for InChIKey: <ConstructedMolecule at 23419246169424>\n",
      "Database entry for InChIKey: <ConstructedMolecule at 23419248442832>\n",
      "Database entry for InChIKey: <ConstructedMolecule at 23419343403664>\n",
      "Database entry for InChIKey: <ConstructedMolecule at 23419246952144>\n",
      "Database entry for InChIKey: <ConstructedMolecule at 23419246279760>\n",
      "Database entry for InChIKey: <ConstructedMolecule at 23419246453520>\n",
      "Database entry for InChIKey: <ConstructedMolecule at 23419246034512>\n",
      "Database entry for InChIKey: <ConstructedMolecule at 23419246326032>\n",
      "Database entry for InChIKey: <ConstructedMolecule at 23419246512336>\n",
      "Database entry for InChIKey: <ConstructedMolecule at 23419367659280>\n",
      "Database entry for InChIKey: <ConstructedMolecule at 23419367479888>\n",
      "Database entry for InChIKey: <ConstructedMolecule at 23419367495184>\n",
      "Database entry for InChIKey: <ConstructedMolecule at 23419367258128>\n",
      "Database entry for InChIKey: <ConstructedMolecule at 23419340488208>\n",
      "train_idx:  [83 53 70 45 44 39 22 80 10  0 18 30 73 33 90  4 76 77 12 31 55 88 26 42\n",
      " 69 15 40 96  9 72 11 47 85 28 93  5 66 65 35 16 49 34  7 95 27 19 81 25\n",
      " 62 13 24  3 17 38  8 78  6 64 36 89 56 99 54 43 50 67 46 68 61 97 79 41\n",
      " 58 48 98 57 75 32 94 59]\n",
      "valid_idx:  [63 84 37 29  1 52 21  2 23 87]\n",
      "test_idx:  [91 74 86 82 20 60 71 14 92 51]\n"
     ]
    },
    {
     "ename": "KeyError",
     "evalue": "'DimeNet_model'",
     "output_type": "error",
     "traceback": [
      "\u001b[0;31m---------------------------------------------------------------------------\u001b[0m",
      "\u001b[0;31mKeyError\u001b[0m                                  Traceback (most recent call last)",
      "\u001b[1;32mz:\\home\\GEOM3D\\Geom3D\\notebook\\test_DimeNet.ipynb Cell 7\u001b[0m line \u001b[0;36m5\n\u001b[1;32m      <a href='vscode-notebook-cell:/z%3A/home/GEOM3D/Geom3D/notebook/test_DimeNet.ipynb#W6sZmlsZQ%3D%3D?line=1'>2</a>\u001b[0m \u001b[39mfrom\u001b[39;00m \u001b[39mgeom3d\u001b[39;00m \u001b[39mimport\u001b[39;00m train_DimeNet\n\u001b[1;32m      <a href='vscode-notebook-cell:/z%3A/home/GEOM3D/Geom3D/notebook/test_DimeNet.ipynb#W6sZmlsZQ%3D%3D?line=3'>4</a>\u001b[0m importlib\u001b[39m.\u001b[39mreload(train_DimeNet)\n\u001b[0;32m----> <a href='vscode-notebook-cell:/z%3A/home/GEOM3D/Geom3D/notebook/test_DimeNet.ipynb#W6sZmlsZQ%3D%3D?line=4'>5</a>\u001b[0m train_DimeNet\u001b[39m.\u001b[39;49mmain(\u001b[39m\"\u001b[39;49m\u001b[39m/rds/general/user/cb1319/home/GEOM3D/Geom3D/training/DimeNet_target_1K_TEST_5e4lr_TEST/\u001b[39;49m\u001b[39m\"\u001b[39;49m)\n",
      "File \u001b[0;32m~/GEOM3D/Geom3D/src/geom3d/train_DimeNet.py:40\u001b[0m, in \u001b[0;36mmain\u001b[0;34m(config_dir)\u001b[0m\n\u001b[1;32m     36\u001b[0m dataset \u001b[39m=\u001b[39m load_data(config)\n\u001b[1;32m     37\u001b[0m train_loader, val_loader, test_loader \u001b[39m=\u001b[39m train_val_test_split(\n\u001b[1;32m     38\u001b[0m     dataset, config\u001b[39m=\u001b[39mconfig\n\u001b[1;32m     39\u001b[0m )\n\u001b[0;32m---> 40\u001b[0m model_config \u001b[39m=\u001b[39m config[\u001b[39m\"\u001b[39;49m\u001b[39mDimeNet_model\u001b[39;49m\u001b[39m\"\u001b[39;49m]\n\u001b[1;32m     41\u001b[0m model \u001b[39m=\u001b[39m DimeNet(\n\u001b[1;32m     42\u001b[0m     node_class\u001b[39m=\u001b[39mmodel_config[\u001b[39m\"\u001b[39m\u001b[39mnode_class\u001b[39m\u001b[39m\"\u001b[39m],\n\u001b[1;32m     43\u001b[0m     hidden_channels\u001b[39m=\u001b[39mmodel_config[\u001b[39m\"\u001b[39m\u001b[39mhidden_channels\u001b[39m\u001b[39m\"\u001b[39m],\n\u001b[0;32m   (...)\u001b[0m\n\u001b[1;32m     54\u001b[0m     act\u001b[39m=\u001b[39mmodel_config[\u001b[39m\"\u001b[39m\u001b[39mact\u001b[39m\u001b[39m\"\u001b[39m],\n\u001b[1;32m     55\u001b[0m )\n\u001b[1;32m     56\u001b[0m graph_pred_linear \u001b[39m=\u001b[39m torch\u001b[39m.\u001b[39mnn\u001b[39m.\u001b[39mLinear(\n\u001b[1;32m     57\u001b[0m     model_config[\u001b[39m\"\u001b[39m\u001b[39memb_dim\u001b[39m\u001b[39m\"\u001b[39m], model_config[\u001b[39m\"\u001b[39m\u001b[39mnum_tasks\u001b[39m\u001b[39m\"\u001b[39m]\n\u001b[1;32m     58\u001b[0m )\n",
      "\u001b[0;31mKeyError\u001b[0m: 'DimeNet_model'"
     ]
    }
   ],
   "source": [
    "import importlib\n",
    "from geom3d import train_DimeNet\n",
    "\n",
    "importlib.reload(train_DimeNet)\n",
    "train_DimeNet.main(\"/rds/general/user/cb1319/home/GEOM3D/Geom3D/training/DimeNet_target_1K_TEST_5e4lr_TEST/\")"
   ]
  },
  {
   "cell_type": "code",
   "execution_count": null,
   "metadata": {},
   "outputs": [
    {
     "data": {
      "text/plain": [
       "'/rds/general/user/cb1319/home/GEOM3D/Geom3D/training'"
      ]
     },
     "execution_count": 9,
     "metadata": {},
     "output_type": "execute_result"
    }
   ],
   "source": [
    "os.getcwd()"
   ]
  },
  {
   "cell_type": "code",
   "execution_count": null,
   "metadata": {},
   "outputs": [
    {
     "name": "stdout",
     "output_type": "stream",
     "text": [
      "config loaded from /rds/general/user/cb1319/home/GEOM3D/Geom3D/training/SchNet_target_1K_TEST_5e4lr/\n",
      "checkpoint used:  /rds/general/user/cb1319/home/GEOM3D/Geom3D/training/SchNet_target_1K_TEST_5e4lr/epoch=86-val_loss=0.54-other_metric=0.00.ckpt\n"
     ]
    },
    {
     "ename": "TypeError",
     "evalue": "Pymodel.__init__() missing 2 required positional arguments: 'model' and 'graph_pred_linear'",
     "output_type": "error",
     "traceback": [
      "\u001b[0;31m---------------------------------------------------------------------------\u001b[0m",
      "\u001b[0;31mTypeError\u001b[0m                                 Traceback (most recent call last)",
      "\u001b[1;32mz:\\home\\GEOM3D\\Geom3D\\notebook\\test_SchNet_1.ipynb Cell 9\u001b[0m line \u001b[0;36m8\n\u001b[1;32m      <a href='vscode-notebook-cell:/z%3A/home/GEOM3D/Geom3D/notebook/test_SchNet_1.ipynb#X11sZmlsZQ%3D%3D?line=4'>5</a>\u001b[0m chkpt_path \u001b[39m=\u001b[39m \u001b[39m\"\u001b[39m\u001b[39m/rds/general/user/cb1319/home/GEOM3D/Geom3D/training/SchNet_target_1K_TEST_5e4lr/epoch=86-val_loss=0.54-other_metric=0.00.ckpt\u001b[39m\u001b[39m\"\u001b[39m\n\u001b[1;32m      <a href='vscode-notebook-cell:/z%3A/home/GEOM3D/Geom3D/notebook/test_SchNet_1.ipynb#X11sZmlsZQ%3D%3D?line=6'>7</a>\u001b[0m importlib\u001b[39m.\u001b[39mreload(inference_test)\n\u001b[0;32m----> <a href='vscode-notebook-cell:/z%3A/home/GEOM3D/Geom3D/notebook/test_SchNet_1.ipynb#X11sZmlsZQ%3D%3D?line=7'>8</a>\u001b[0m inference_test\u001b[39m.\u001b[39;49mplot_training_results(chkpt_path, config_dir)\n",
      "File \u001b[0;32m~/GEOM3D/Geom3D/src/geom3d/inference_test.py:18\u001b[0m, in \u001b[0;36mplot_training_results\u001b[0;34m(chkpt_path, config_dir)\u001b[0m\n\u001b[1;32m     16\u001b[0m config[\u001b[39m\"\u001b[39m\u001b[39mdevice\u001b[39m\u001b[39m\"\u001b[39m] \u001b[39m=\u001b[39m \u001b[39m\"\u001b[39m\u001b[39mcuda:0\u001b[39m\u001b[39m\"\u001b[39m \u001b[39mif\u001b[39;00m torch\u001b[39m.\u001b[39mcuda\u001b[39m.\u001b[39mis_available() \u001b[39melse\u001b[39;00m \u001b[39m\"\u001b[39m\u001b[39mcpu\u001b[39m\u001b[39m\"\u001b[39m\n\u001b[1;32m     17\u001b[0m \u001b[39mprint\u001b[39m(\u001b[39m'\u001b[39m\u001b[39mcheckpoint used: \u001b[39m\u001b[39m'\u001b[39m, chkpt_path)\n\u001b[0;32m---> 18\u001b[0m pymodel \u001b[39m=\u001b[39m Pymodel\u001b[39m.\u001b[39;49mload_from_checkpoint(chkpt_path)\u001b[39m#,map_location={\"cuda:0\":\"cpu\"})\u001b[39;00m\n\u001b[1;32m     19\u001b[0m pymodel\u001b[39m.\u001b[39mfreeze()\n\u001b[1;32m     21\u001b[0m \u001b[39m#pymodel.to('cpu')\u001b[39;00m\n\u001b[1;32m     22\u001b[0m \n\u001b[1;32m     23\u001b[0m \u001b[39m#config[\"device\"] = \"cpu\" #\"cuda\" if torch.cuda.is_available() else \"cpu\"\u001b[39;00m\n",
      "File \u001b[0;32m~/anaconda3/envs/Geom3D/lib/python3.11/site-packages/lightning/pytorch/core/module.py:1552\u001b[0m, in \u001b[0;36mLightningModule.load_from_checkpoint\u001b[0;34m(cls, checkpoint_path, map_location, hparams_file, strict, **kwargs)\u001b[0m\n\u001b[1;32m   1471\u001b[0m \u001b[39m@_restricted_classmethod\u001b[39m\n\u001b[1;32m   1472\u001b[0m \u001b[39mdef\u001b[39;00m \u001b[39mload_from_checkpoint\u001b[39m(\n\u001b[1;32m   1473\u001b[0m     \u001b[39mcls\u001b[39m,\n\u001b[0;32m   (...)\u001b[0m\n\u001b[1;32m   1478\u001b[0m     \u001b[39m*\u001b[39m\u001b[39m*\u001b[39mkwargs: Any,\n\u001b[1;32m   1479\u001b[0m ) \u001b[39m-\u001b[39m\u001b[39m>\u001b[39m Self:\n\u001b[1;32m   1480\u001b[0m \u001b[39m    \u001b[39m\u001b[39mr\u001b[39m\u001b[39m\"\"\"Primary way of loading a model from a checkpoint. When Lightning saves a checkpoint it stores the arguments\u001b[39;00m\n\u001b[1;32m   1481\u001b[0m \u001b[39m    passed to ``__init__``  in the checkpoint under ``\"hyper_parameters\"``.\u001b[39;00m\n\u001b[1;32m   1482\u001b[0m \n\u001b[0;32m   (...)\u001b[0m\n\u001b[1;32m   1550\u001b[0m \n\u001b[1;32m   1551\u001b[0m \u001b[39m    \"\"\"\u001b[39;00m\n\u001b[0;32m-> 1552\u001b[0m     loaded \u001b[39m=\u001b[39m _load_from_checkpoint(\n\u001b[1;32m   1553\u001b[0m         \u001b[39mcls\u001b[39;49m,  \u001b[39m# type: ignore[arg-type]\u001b[39;49;00m\n\u001b[1;32m   1554\u001b[0m         checkpoint_path,\n\u001b[1;32m   1555\u001b[0m         map_location,\n\u001b[1;32m   1556\u001b[0m         hparams_file,\n\u001b[1;32m   1557\u001b[0m         strict,\n\u001b[1;32m   1558\u001b[0m         \u001b[39m*\u001b[39;49m\u001b[39m*\u001b[39;49mkwargs,\n\u001b[1;32m   1559\u001b[0m     )\n\u001b[1;32m   1560\u001b[0m     \u001b[39mreturn\u001b[39;00m cast(Self, loaded)\n",
      "File \u001b[0;32m~/anaconda3/envs/Geom3D/lib/python3.11/site-packages/lightning/pytorch/core/saving.py:89\u001b[0m, in \u001b[0;36m_load_from_checkpoint\u001b[0;34m(cls, checkpoint_path, map_location, hparams_file, strict, **kwargs)\u001b[0m\n\u001b[1;32m     87\u001b[0m     \u001b[39mreturn\u001b[39;00m _load_state(\u001b[39mcls\u001b[39m, checkpoint, \u001b[39m*\u001b[39m\u001b[39m*\u001b[39mkwargs)\n\u001b[1;32m     88\u001b[0m \u001b[39mif\u001b[39;00m \u001b[39missubclass\u001b[39m(\u001b[39mcls\u001b[39m, pl\u001b[39m.\u001b[39mLightningModule):\n\u001b[0;32m---> 89\u001b[0m     model \u001b[39m=\u001b[39m _load_state(\u001b[39mcls\u001b[39;49m, checkpoint, strict\u001b[39m=\u001b[39;49mstrict, \u001b[39m*\u001b[39;49m\u001b[39m*\u001b[39;49mkwargs)\n\u001b[1;32m     90\u001b[0m     state_dict \u001b[39m=\u001b[39m checkpoint[\u001b[39m\"\u001b[39m\u001b[39mstate_dict\u001b[39m\u001b[39m\"\u001b[39m]\n\u001b[1;32m     91\u001b[0m     \u001b[39mif\u001b[39;00m \u001b[39mnot\u001b[39;00m state_dict:\n",
      "File \u001b[0;32m~/anaconda3/envs/Geom3D/lib/python3.11/site-packages/lightning/pytorch/core/saving.py:156\u001b[0m, in \u001b[0;36m_load_state\u001b[0;34m(cls, checkpoint, strict, **cls_kwargs_new)\u001b[0m\n\u001b[1;32m    152\u001b[0m \u001b[39mif\u001b[39;00m \u001b[39mnot\u001b[39;00m cls_spec\u001b[39m.\u001b[39mvarkw:\n\u001b[1;32m    153\u001b[0m     \u001b[39m# filter kwargs according to class init unless it allows any argument via kwargs\u001b[39;00m\n\u001b[1;32m    154\u001b[0m     _cls_kwargs \u001b[39m=\u001b[39m {k: v \u001b[39mfor\u001b[39;00m k, v \u001b[39min\u001b[39;00m _cls_kwargs\u001b[39m.\u001b[39mitems() \u001b[39mif\u001b[39;00m k \u001b[39min\u001b[39;00m cls_init_args_name}\n\u001b[0;32m--> 156\u001b[0m obj \u001b[39m=\u001b[39m \u001b[39mcls\u001b[39;49m(\u001b[39m*\u001b[39;49m\u001b[39m*\u001b[39;49m_cls_kwargs)\n\u001b[1;32m    158\u001b[0m \u001b[39mif\u001b[39;00m \u001b[39misinstance\u001b[39m(obj, pl\u001b[39m.\u001b[39mLightningModule):\n\u001b[1;32m    159\u001b[0m     \u001b[39m# give model a chance to load something\u001b[39;00m\n\u001b[1;32m    160\u001b[0m     obj\u001b[39m.\u001b[39mon_load_checkpoint(checkpoint)\n",
      "\u001b[0;31mTypeError\u001b[0m: Pymodel.__init__() missing 2 required positional arguments: 'model' and 'graph_pred_linear'"
     ]
    }
   ],
   "source": [
    "import importlib\n",
    "from geom3d import inference_test\n",
    "\n",
    "config_dir = \"/rds/general/user/cb1319/home/GEOM3D/Geom3D/training/SchNet_target_1K_TEST_5e4lr/\"\n",
    "chkpt_path = \"/rds/general/user/cb1319/home/GEOM3D/Geom3D/training/SchNet_target_1K_TEST_5e4lr/epoch=86-val_loss=0.54-other_metric=0.00.ckpt\"\n",
    "\n",
    "importlib.reload(inference_test)\n",
    "inference_test.plot_training_results(chkpt_path, config_dir)"
   ]
  },
  {
   "cell_type": "code",
   "execution_count": null,
   "metadata": {},
   "outputs": [],
   "source": []
  },
  {
   "cell_type": "code",
   "execution_count": null,
   "metadata": {},
   "outputs": [],
   "source": []
  }
 ],
 "metadata": {
  "kernelspec": {
   "display_name": "Python [conda env:Geom3D]",
   "language": "python",
   "name": "conda-env-Geom3D-py"
  },
  "language_info": {
   "codemirror_mode": {
    "name": "ipython",
    "version": 3
   },
   "file_extension": ".py",
   "mimetype": "text/x-python",
   "name": "python",
   "nbconvert_exporter": "python",
   "pygments_lexer": "ipython3",
   "version": "3.11.5"
  }
 },
 "nbformat": 4,
 "nbformat_minor": 2
}
