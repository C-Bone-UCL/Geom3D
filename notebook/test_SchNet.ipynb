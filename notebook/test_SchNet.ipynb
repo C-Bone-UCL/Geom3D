{
 "cells": [
  {
   "cell_type": "code",
   "execution_count": 1,
   "metadata": {},
   "outputs": [],
   "source": [
    "import os\n",
    "os.chdir('/rds/general/user/cb1319/home/GEOM3D/Geom3D/')"
   ]
  },
  {
   "cell_type": "code",
<<<<<<< Updated upstream
<<<<<<< Updated upstream
=======
>>>>>>> Stashed changes
   "execution_count": 2,
   "metadata": {},
   "outputs": [
    {
     "name": "stdout",
     "output_type": "stream",
     "text": [
      "config loaded from /rds/general/user/cb1319/home/GEOM3D/Geom3D/training/SchNet_target_1K_TEST_5e4lr/\n"
<<<<<<< Updated upstream
=======
   "execution_count": 1,
   "metadata": {},
   "outputs": [
    {
     "ename": "KeyError",
     "evalue": "'model_name'",
     "output_type": "error",
     "traceback": [
      "\u001b[0;31m---------------------------------------------------------------------------\u001b[0m",
      "\u001b[0;31mKeyError\u001b[0m                                  Traceback (most recent call last)",
      "\u001b[1;32mz:\\home\\GEOM3D\\Geom3D\\notebook\\test_SchNet.ipynb Cell 2\u001b[0m line \u001b[0;36m6\n\u001b[1;32m      <a href='vscode-notebook-cell:/z%3A/home/GEOM3D/Geom3D/notebook/test_SchNet.ipynb#W1sZmlsZQ%3D%3D?line=2'>3</a>\u001b[0m \u001b[39mimport\u001b[39;00m \u001b[39mcopy\u001b[39;00m\n\u001b[1;32m      <a href='vscode-notebook-cell:/z%3A/home/GEOM3D/Geom3D/notebook/test_SchNet.ipynb#W1sZmlsZQ%3D%3D?line=4'>5</a>\u001b[0m config_dir \u001b[39m=\u001b[39m os\u001b[39m.\u001b[39mgetcwd()\u001b[39m+\u001b[39m\u001b[39m\"\u001b[39m\u001b[39m/training/SchNet_target_1K_TEST_5e4lr/\u001b[39m\u001b[39m\"\u001b[39m\n\u001b[0;32m----> <a href='vscode-notebook-cell:/z%3A/home/GEOM3D/Geom3D/notebook/test_SchNet.ipynb#W1sZmlsZQ%3D%3D?line=5'>6</a>\u001b[0m config \u001b[39m=\u001b[39m read_config(config_dir)\n",
      "File \u001b[0;32m~/GEOM3D/Geom3D/src/geom3d/utils/config_utils.py:36\u001b[0m, in \u001b[0;36mread_config\u001b[0;34m(dir)\u001b[0m\n\u001b[1;32m     33\u001b[0m config[\u001b[39m\"\u001b[39m\u001b[39mdataset_path\u001b[39m\u001b[39m\"\u001b[39m] \u001b[39m=\u001b[39m \u001b[39m\"\u001b[39m\u001b[39m\"\u001b[39m\n\u001b[1;32m     34\u001b[0m config[\u001b[39m\"\u001b[39m\u001b[39mdataset_path_frag\u001b[39m\u001b[39m\"\u001b[39m] \u001b[39m=\u001b[39m \u001b[39m\"\u001b[39m\u001b[39m\"\u001b[39m\n\u001b[0;32m---> 36\u001b[0m \u001b[39mif\u001b[39;00m config[\u001b[39m\"\u001b[39;49m\u001b[39mmodel_name\u001b[39;49m\u001b[39m\"\u001b[39;49m] \u001b[39m==\u001b[39m \u001b[39m\"\u001b[39m\u001b[39mSchNet\u001b[39m\u001b[39m\"\u001b[39m:  \n\u001b[1;32m     37\u001b[0m     config[\u001b[39m\"\u001b[39m\u001b[39mmodel\u001b[39m\u001b[39m\"\u001b[39m] \u001b[39m=\u001b[39m \u001b[39mdict\u001b[39m()\n\u001b[1;32m     38\u001b[0m     config[\u001b[39m\"\u001b[39m\u001b[39mmodel\u001b[39m\u001b[39m\"\u001b[39m][\u001b[39m\"\u001b[39m\u001b[39mnode_class\u001b[39m\u001b[39m\"\u001b[39m] \u001b[39m=\u001b[39m \u001b[39m119\u001b[39m\n",
      "\u001b[0;31mKeyError\u001b[0m: 'model_name'"
>>>>>>> Stashed changes
=======
>>>>>>> Stashed changes
     ]
    }
   ],
   "source": [
    "from geom3d.train_SchNet import *\n",
    "import torch\n",
    "import copy\n",
    "\n",
    "config_dir = os.getcwd()+\"/training/SchNet_target_1K_TEST_5e4lr/\"\n",
    "config = read_config(config_dir)"
   ]
  },
  {
   "cell_type": "code",
<<<<<<< Updated upstream
<<<<<<< Updated upstream
   "execution_count": 3,
=======
   "execution_count": null,
>>>>>>> Stashed changes
=======
   "execution_count": 3,
>>>>>>> Stashed changes
   "metadata": {},
   "outputs": [
    {
     "name": "stdout",
     "output_type": "stream",
     "text": [
      "GPU (Quadro RTX 6000) is available.\n"
     ]
    }
   ],
   "source": [
    "# Check if GPU is available\n",
    "if torch.cuda.is_available():\n",
    "    # Get the name of the GPU\n",
    "    gpu_name = torch.cuda.get_device_name(0)  # Assuming you have one GPU; you can change the index if you have multiple GPUs\n",
    "    print(f\"GPU ({gpu_name}) is available.\")\n",
    "else:\n",
    "    print(\"No GPU available. Using CPU.\")"
   ]
  },
  {
   "cell_type": "code",
<<<<<<< Updated upstream
<<<<<<< Updated upstream
   "execution_count": 4,
=======
   "execution_count": null,
>>>>>>> Stashed changes
   "metadata": {},
   "outputs": [],
   "source": [
=======
   "execution_count": 4,
   "metadata": {},
   "outputs": [
    {
     "name": "stdout",
     "output_type": "stream",
     "text": [
      "length of dataset: 500\n"
     ]
    }
   ],
   "source": [
    "import importlib\n",
    "from geom3d import train_SchNet\n",
    "\n",
    "importlib.reload(train_SchNet)\n",
    "\n",
>>>>>>> Stashed changes
    "config[\"device\"] = \"cuda:0\" if torch.cuda.is_available() else \"cpu\"\n",
    "    \n",
    "np.random.seed(config[\"seed\"])\n",
    "torch.cuda.manual_seed_all(config[\"seed\"])\n",
<<<<<<< Updated upstream
    "dataset = load_data(config)"
=======
    "dataset = train_SchNet.load_data(config)\n",
    "print(f\"length of dataset: {len(dataset)}\")"
>>>>>>> Stashed changes
   ]
  },
  {
   "cell_type": "code",
<<<<<<< Updated upstream
   "execution_count": null,
   "metadata": {},
   "outputs": [
    {
=======
   "execution_count": 5,
   "metadata": {},
   "outputs": [
    {
     "name": "stderr",
     "output_type": "stream",
     "text": [
      "Failed to detect the name of this notebook, you can set it manually with the WANDB_NOTEBOOK_NAME environment variable to enable code saving.\n",
      "\u001b[34m\u001b[1mwandb\u001b[0m: Currently logged in as: \u001b[33mcyprienbone\u001b[0m. Use \u001b[1m`wandb login --relogin`\u001b[0m to force relogin\n"
     ]
    },
    {
>>>>>>> Stashed changes
     "data": {
      "text/plain": [
       "True"
      ]
     },
<<<<<<< Updated upstream
     "execution_count": 28,
=======
     "execution_count": 5,
>>>>>>> Stashed changes
     "metadata": {},
     "output_type": "execute_result"
    }
   ],
   "source": [
    "import wandb\n",
    "wandb.login()"
   ]
  },
  {
   "cell_type": "code",
   "execution_count": 6,
   "metadata": {},
   "outputs": [
    {
     "name": "stdout",
     "output_type": "stream",
     "text": [
      "config loaded from /rds/general/user/cb1319/home/GEOM3D/Geom3D/training/SchNet_target_1K_TEST_5e4lr/\n",
<<<<<<< Updated upstream
      "Database entry for InChIKey: <ConstructedMolecule at 23005658124560>\n",
      "Database entry for InChIKey: <ConstructedMolecule at 23005128615056>\n",
      "Database entry for InChIKey: <ConstructedMolecule at 23005129007632>\n",
      "Database entry for InChIKey: <ConstructedMolecule at 23005129232272>\n",
      "Database entry for InChIKey: <ConstructedMolecule at 23005127376848>\n",
      "Database entry for InChIKey: <ConstructedMolecule at 23005127754256>\n",
      "Database entry for InChIKey: <ConstructedMolecule at 23005128927056>\n",
      "Database entry for InChIKey: <ConstructedMolecule at 23005177495696>\n",
      "Database entry for InChIKey: <ConstructedMolecule at 23005177394448>\n",
      "Database entry for InChIKey: <ConstructedMolecule at 23005177212368>\n",
      "Database entry for InChIKey: <ConstructedMolecule at 23005177132176>\n",
      "Database entry for InChIKey: <ConstructedMolecule at 23005176979984>\n",
      "Database entry for InChIKey: <ConstructedMolecule at 23005176915536>\n",
      "Database entry for InChIKey: <ConstructedMolecule at 23005176740944>\n",
      "Database entry for InChIKey: <ConstructedMolecule at 23005174428368>\n",
      "Database entry for InChIKey: <ConstructedMolecule at 23005174286032>\n",
      "Database entry for InChIKey: <ConstructedMolecule at 23005174222992>\n",
      "Database entry for InChIKey: <ConstructedMolecule at 23005174145040>\n",
      "Database entry for InChIKey: <ConstructedMolecule at 23005174051472>\n",
      "Database entry for InChIKey: <ConstructedMolecule at 23005173938320>\n",
      "Database entry for InChIKey: <ConstructedMolecule at 23005173709392>\n",
      "Database entry for InChIKey: <ConstructedMolecule at 23005173657104>\n",
      "Database entry for InChIKey: <ConstructedMolecule at 23005173385104>\n",
      "Database entry for InChIKey: <ConstructedMolecule at 23005176490640>\n",
      "Database entry for InChIKey: <ConstructedMolecule at 23005176392144>\n",
      "Database entry for InChIKey: <ConstructedMolecule at 23005176278864>\n",
      "Database entry for InChIKey: <ConstructedMolecule at 23005176074256>\n",
      "Database entry for InChIKey: <ConstructedMolecule at 23005175861968>\n",
      "Database entry for InChIKey: <ConstructedMolecule at 23005175773200>\n",
      "Database entry for InChIKey: <ConstructedMolecule at 23005175647120>\n",
      "Database entry for InChIKey: <ConstructedMolecule at 23005175544336>\n",
      "Database entry for InChIKey: <ConstructedMolecule at 23005181836368>\n",
      "Database entry for InChIKey: <ConstructedMolecule at 23005182004944>\n",
      "Database entry for InChIKey: <ConstructedMolecule at 23005182152848>\n",
      "Database entry for InChIKey: <ConstructedMolecule at 23005182240528>\n",
      "Database entry for InChIKey: <ConstructedMolecule at 23005182428624>\n",
      "Database entry for InChIKey: <ConstructedMolecule at 23005182588880>\n",
      "Database entry for InChIKey: <ConstructedMolecule at 23005182709776>\n",
      "Database entry for InChIKey: <ConstructedMolecule at 23005180750992>\n",
      "Database entry for InChIKey: <ConstructedMolecule at 23005180859792>\n",
      "Database entry for InChIKey: <ConstructedMolecule at 23005181055888>\n",
      "Database entry for InChIKey: <ConstructedMolecule at 23005181157520>\n",
      "Database entry for InChIKey: <ConstructedMolecule at 23005181311120>\n",
      "Database entry for InChIKey: <ConstructedMolecule at 23005181464336>\n",
      "Database entry for InChIKey: <ConstructedMolecule at 23005181601680>\n",
      "Database entry for InChIKey: <ConstructedMolecule at 23005181733136>\n",
      "Database entry for InChIKey: <ConstructedMolecule at 23005179730896>\n",
      "Database entry for InChIKey: <ConstructedMolecule at 23005179823568>\n",
      "Database entry for InChIKey: <ConstructedMolecule at 23005179980240>\n",
      "Database entry for InChIKey: <ConstructedMolecule at 23005180170576>\n",
      "Database entry for InChIKey: <ConstructedMolecule at 23005180284304>\n",
      "Database entry for InChIKey: <ConstructedMolecule at 23005180356048>\n",
      "Database entry for InChIKey: <ConstructedMolecule at 23005180501776>\n",
      "Database entry for InChIKey: <ConstructedMolecule at 23005180701328>\n",
      "Database entry for InChIKey: <ConstructedMolecule at 23005178718352>\n",
      "Database entry for InChIKey: <ConstructedMolecule at 23005178775568>\n",
      "Database entry for InChIKey: <ConstructedMolecule at 23005178937744>\n",
      "Database entry for InChIKey: <ConstructedMolecule at 23005179065616>\n",
      "Database entry for InChIKey: <ConstructedMolecule at 23005179216400>\n",
      "Database entry for InChIKey: <ConstructedMolecule at 23005179351376>\n",
      "Database entry for InChIKey: <ConstructedMolecule at 23005179447248>\n",
      "Database entry for InChIKey: <ConstructedMolecule at 23005179645008>\n",
      "Database entry for InChIKey: <ConstructedMolecule at 23005174565264>\n",
      "Database entry for InChIKey: <ConstructedMolecule at 23005174735632>\n",
      "Database entry for InChIKey: <ConstructedMolecule at 23005174898960>\n",
      "Database entry for InChIKey: <ConstructedMolecule at 23005175052688>\n",
      "Database entry for InChIKey: <ConstructedMolecule at 23005175141904>\n",
      "Database entry for InChIKey: <ConstructedMolecule at 23005175235984>\n",
      "Database entry for InChIKey: <ConstructedMolecule at 23005175461648>\n",
      "Database entry for InChIKey: <ConstructedMolecule at 23005172494864>\n",
      "Database entry for InChIKey: <ConstructedMolecule at 23005172587216>\n",
      "Database entry for InChIKey: <ConstructedMolecule at 23005172813776>\n",
      "Database entry for InChIKey: <ConstructedMolecule at 23005172897488>\n",
      "Database entry for InChIKey: <ConstructedMolecule at 23005173021840>\n",
      "Database entry for InChIKey: <ConstructedMolecule at 23005173198096>\n",
      "Database entry for InChIKey: <ConstructedMolecule at 23005173300624>\n",
      "Database entry for InChIKey: <ConstructedMolecule at 23005171338640>\n",
      "Database entry for InChIKey: <ConstructedMolecule at 23005171560400>\n",
      "Database entry for InChIKey: <ConstructedMolecule at 23005171674448>\n",
      "Database entry for InChIKey: <ConstructedMolecule at 23005171749520>\n",
      "Database entry for InChIKey: <ConstructedMolecule at 23005171923664>\n",
      "Database entry for InChIKey: <ConstructedMolecule at 23005172067088>\n",
      "Database entry for InChIKey: <ConstructedMolecule at 23005172188560>\n",
      "Database entry for InChIKey: <ConstructedMolecule at 23005172325264>\n",
      "Database entry for InChIKey: <ConstructedMolecule at 23005126318928>\n",
      "Database entry for InChIKey: <ConstructedMolecule at 23005126408784>\n",
      "Database entry for InChIKey: <ConstructedMolecule at 23005126551696>\n",
      "Database entry for InChIKey: <ConstructedMolecule at 23005126711952>\n",
      "Database entry for InChIKey: <ConstructedMolecule at 23005126850128>\n",
      "Database entry for InChIKey: <ConstructedMolecule at 23005126970960>\n",
      "Database entry for InChIKey: <ConstructedMolecule at 23005127834448>\n",
      "Database entry for InChIKey: <ConstructedMolecule at 23005658201552>\n",
      "Database entry for InChIKey: <ConstructedMolecule at 23005658642128>\n",
      "Database entry for InChIKey: <ConstructedMolecule at 23005673892240>\n",
      "Database entry for InChIKey: <ConstructedMolecule at 23005127092176>\n",
      "Database entry for InChIKey: <ConstructedMolecule at 23005127240400>\n",
      "Database entry for InChIKey: <ConstructedMolecule at 23005125344016>\n",
      "Database entry for InChIKey: <ConstructedMolecule at 23005125448016>\n",
      "Database entry for InChIKey: <ConstructedMolecule at 23005125555792>\n",
      "Database entry for InChIKey: <ConstructedMolecule at 23005125753168>\n",
      "Database entry for InChIKey: <ConstructedMolecule at 23005125870096>\n",
      "Database entry for InChIKey: <ConstructedMolecule at 23005125974160>\n",
      "Database entry for InChIKey: <ConstructedMolecule at 23005126032976>\n",
      "Database entry for InChIKey: <ConstructedMolecule at 23005124106960>\n",
      "Database entry for InChIKey: <ConstructedMolecule at 23005124240656>\n",
      "Database entry for InChIKey: <ConstructedMolecule at 23005124420624>\n",
      "Database entry for InChIKey: <ConstructedMolecule at 23005124601872>\n",
      "Database entry for InChIKey: <ConstructedMolecule at 23005124755792>\n",
      "Database entry for InChIKey: <ConstructedMolecule at 23005124909584>\n",
      "Database entry for InChIKey: <ConstructedMolecule at 23005125045840>\n",
      "Database entry for InChIKey: <ConstructedMolecule at 23005123089808>\n",
      "Database entry for InChIKey: <ConstructedMolecule at 23005123234064>\n",
      "Database entry for InChIKey: <ConstructedMolecule at 23005123379920>\n",
      "Database entry for InChIKey: <ConstructedMolecule at 23005123539152>\n",
      "Database entry for InChIKey: <ConstructedMolecule at 23005123701584>\n",
      "Database entry for InChIKey: <ConstructedMolecule at 23005123809552>\n",
      "Database entry for InChIKey: <ConstructedMolecule at 23005123913936>\n",
      "Database entry for InChIKey: <ConstructedMolecule at 23005124084624>\n",
      "Database entry for InChIKey: <ConstructedMolecule at 23005122063568>\n",
      "Database entry for InChIKey: <ConstructedMolecule at 23005122145616>\n",
      "Database entry for InChIKey: <ConstructedMolecule at 23005122357008>\n",
      "Database entry for InChIKey: <ConstructedMolecule at 23005122477008>\n",
      "Database entry for InChIKey: <ConstructedMolecule at 23005122643408>\n",
      "Database entry for InChIKey: <ConstructedMolecule at 23005122710096>\n",
      "Database entry for InChIKey: <ConstructedMolecule at 23005122865424>\n",
      "Database entry for InChIKey: <ConstructedMolecule at 23005120981712>\n",
      "Database entry for InChIKey: <ConstructedMolecule at 23005121025872>\n",
      "Database entry for InChIKey: <ConstructedMolecule at 23005121112912>\n",
      "Database entry for InChIKey: <ConstructedMolecule at 23005121297168>\n",
      "Database entry for InChIKey: <ConstructedMolecule at 23005121346000>\n",
      "Database entry for InChIKey: <ConstructedMolecule at 23005121407632>\n",
      "Database entry for InChIKey: <ConstructedMolecule at 23005128612176>\n",
      "Database entry for InChIKey: <ConstructedMolecule at 23005121426192>\n",
      "Database entry for InChIKey: <ConstructedMolecule at 23005128838992>\n",
      "Database entry for InChIKey: <ConstructedMolecule at 23005127320528>\n",
      "Database entry for InChIKey: <ConstructedMolecule at 23005129294736>\n",
      "Database entry for InChIKey: <ConstructedMolecule at 23005127536464>\n",
      "Database entry for InChIKey: <ConstructedMolecule at 23005673717712>\n",
      "Database entry for InChIKey: <ConstructedMolecule at 23005128922768>\n",
      "Database entry for InChIKey: <ConstructedMolecule at 23005177246416>\n",
      "Database entry for InChIKey: <ConstructedMolecule at 23005177443088>\n",
      "Database entry for InChIKey: <ConstructedMolecule at 23005177009040>\n",
      "Database entry for InChIKey: <ConstructedMolecule at 23005658077008>\n",
      "Database entry for InChIKey: <ConstructedMolecule at 23005176717392>\n",
      "Database entry for InChIKey: <ConstructedMolecule at 23005177143440>\n",
      "Database entry for InChIKey: <ConstructedMolecule at 23005127712016>\n",
      "Database entry for InChIKey: <ConstructedMolecule at 23005658017104>\n",
      "Database entry for InChIKey: <ConstructedMolecule at 23005174232400>\n",
      "Database entry for InChIKey: <ConstructedMolecule at 23005121547024>\n",
      "Database entry for InChIKey: <ConstructedMolecule at 23005173933008>\n",
      "Database entry for InChIKey: <ConstructedMolecule at 23005174074960>\n",
      "Database entry for InChIKey: <ConstructedMolecule at 23005173769872>\n",
      "Database entry for InChIKey: <ConstructedMolecule at 23005173953104>\n",
      "Database entry for InChIKey: <ConstructedMolecule at 23005121572176>\n",
      "Database entry for InChIKey: <ConstructedMolecule at 23005176450192>\n",
      "Database entry for InChIKey: <ConstructedMolecule at 23005173531408>\n",
      "Database entry for InChIKey: <ConstructedMolecule at 23005176077584>\n",
      "Database entry for InChIKey: <ConstructedMolecule at 23005175855568>\n",
      "Database entry for InChIKey: <ConstructedMolecule at 23005175945104>\n",
      "Database entry for InChIKey: <ConstructedMolecule at 23005175818960>\n",
      "Database entry for InChIKey: <ConstructedMolecule at 23005176057360>\n",
      "Database entry for InChIKey: <ConstructedMolecule at 23005181810192>\n",
      "Database entry for InChIKey: <ConstructedMolecule at 23005175541072>\n",
      "Database entry for InChIKey: <ConstructedMolecule at 23005175594768>\n",
      "Database entry for InChIKey: <ConstructedMolecule at 23005182225744>\n",
      "Database entry for InChIKey: <ConstructedMolecule at 23005182441232>\n",
      "Database entry for InChIKey: <ConstructedMolecule at 23005182518224>\n",
      "Database entry for InChIKey: <ConstructedMolecule at 23005182709712>\n",
      "Database entry for InChIKey: <ConstructedMolecule at 23005182376656>\n",
      "Database entry for InChIKey: <ConstructedMolecule at 23005180869328>\n",
      "Database entry for InChIKey: <ConstructedMolecule at 23005181772688>\n",
      "Database entry for InChIKey: <ConstructedMolecule at 23005181013072>\n",
      "Database entry for InChIKey: <ConstructedMolecule at 23005181275280>\n",
      "Database entry for InChIKey: <ConstructedMolecule at 23005181152080>\n",
      "Database entry for InChIKey: <ConstructedMolecule at 23005181459856>\n",
      "Database entry for InChIKey: <ConstructedMolecule at 23005180814544>\n",
      "Database entry for InChIKey: <ConstructedMolecule at 23005182754384>\n",
      "Database entry for InChIKey: <ConstructedMolecule at 23005179709392>\n",
      "Database entry for InChIKey: <ConstructedMolecule at 23005179761296>\n",
      "Database entry for InChIKey: <ConstructedMolecule at 23005179878480>\n",
      "Database entry for InChIKey: <ConstructedMolecule at 23005182158096>\n",
      "Database entry for InChIKey: <ConstructedMolecule at 23005121675408>\n",
      "Database entry for InChIKey: <ConstructedMolecule at 23005180505744>\n",
      "Database entry for InChIKey: <ConstructedMolecule at 23005180296784>\n",
      "Database entry for InChIKey: <ConstructedMolecule at 23005180632592>\n",
      "Database entry for InChIKey: <ConstructedMolecule at 23005178719312>\n",
      "Database entry for InChIKey: <ConstructedMolecule at 23005180706384>\n",
      "Database entry for InChIKey: <ConstructedMolecule at 23005178861712>\n",
      "Database entry for InChIKey: <ConstructedMolecule at 23005179250000>\n",
      "Database entry for InChIKey: <ConstructedMolecule at 23005179114064>\n",
      "Database entry for InChIKey: <ConstructedMolecule at 23005179305936>\n",
      "Database entry for InChIKey: <ConstructedMolecule at 23005121769872>\n",
      "Database entry for InChIKey: <ConstructedMolecule at 23005174471888>\n",
      "Database entry for InChIKey: <ConstructedMolecule at 23005174624080>\n",
      "Database entry for InChIKey: <ConstructedMolecule at 23005174879120>\n",
      "Database entry for InChIKey: <ConstructedMolecule at 23005174729424>\n",
      "Database entry for InChIKey: <ConstructedMolecule at 23005174762704>\n",
      "Database entry for InChIKey: <ConstructedMolecule at 23005174591504>\n"
     ]
    },
    {
     "name": "stderr",
     "output_type": "stream",
     "text": [
      "Failed to detect the name of this notebook, you can set it manually with the WANDB_NOTEBOOK_NAME environment variable to enable code saving.\n"
     ]
    },
    {
     "name": "stdout",
     "output_type": "stream",
     "text": [
      "Database entry for InChIKey: <ConstructedMolecule at 23005175420432>\n",
      "Database entry for InChIKey: <ConstructedMolecule at 23005174618064>\n",
      "train_idx:  [ 95  15  30 158 128 115  69 170 174  45  66 182 165  78 186 177  56 152\n",
      "  82  68 124  16 148  93  65  60  84  67 125 132   9  18  55  75 150 104\n",
      " 135 137 164  76  79 197  38  24 122 195  29  19 143  86 114 173   5 126\n",
      " 117  73 140  98 172  96 169  97  31  12  35 119  42 189  90 136  51 127\n",
      " 162  41 118 113  26 139 100 111   2  77  46 187 191  85 161  36 190  61\n",
      "  22 141 101  33  11 194 159   6  27 120   4  32 142 145 109 144  10  62\n",
      " 112 146 166   0 198 153  70 123  64  44 163  28  40 108 155 156  25  23\n",
      " 184 147  81  39 168  47  94 154  43 138   3 105  53 133 180 178 185  49\n",
      "  80  34   7 110  91  83 176 181  89   8  13  59 171 131  17  72]\n",
      "valid_idx:  [175 134 167 183  63  54 107  50 196  58  48  88  21  57 160 192 129  37\n",
      " 157 193]\n",
      "test_idx:  [  1  52 149 130 151 103  99 116  87  74 121 199  20 188  71 106  14  92\n",
      " 179 102]\n"
     ]
    },
    {
     "name": "stderr",
     "output_type": "stream",
     "text": [
      "\u001b[34m\u001b[1mwandb\u001b[0m: Currently logged in as: \u001b[33mcyprienbone\u001b[0m. Use \u001b[1m`wandb login --relogin`\u001b[0m to force relogin\n"
=======
      "train_idx:  [361  73 374 155 104 394 377 124  68 450   9 194 406  84 371 388 495  30\n",
      " 316 408 490 491 280 356  76 461 497 211 101 334 475 336 440 173   2 333\n",
      " 409  70 209  63 384  93 485 185  33  77   0  11 415  22  72 182 131 410\n",
      " 193  55 148  18 204  78 494 262 323 483  79  39 451  46 238 391 352 341\n",
      " 277 290 317 304 268  69 455 465 154  82 477 172 321  90 180 414 312 278\n",
      " 381 472 362 324 431 347  86  75 438  15 249 433  19 322 332  56 301 229\n",
      " 331 132 137 423 335  25 464 281 247 237 117  42 220 176 320 153 231 227\n",
      " 417 203 126 329  31 113 470 271 140  57 192  24  17 265  66 208 479  94\n",
      " 253 266  23 222 261 426   5 116  45  16 462 357   3 218 405  60 110 318\n",
      " 428  29 437 471  26   7 453 108  37 157 489 118 114 175 373 181 144 369\n",
      " 390 195 404 275 454 141 365  67 210 168 493 375 400 272 109 248 145  92\n",
      " 152 367 467  83 245 165 163 199 228  74 478 358 250 119 310 299 255 354\n",
      " 399 225 353 234 382 274  36 196 139 364 244 439 286  59 111  89 436   6\n",
      " 360 346 338 158 150 177 393 184 449  10 380 103  81  38 314 167 469 296\n",
      " 474 198 297 416 146 392 147 447 287 123 368  96 143 239 442  97 407 122\n",
      " 183 202 246 305 298 351 386 395 284 125 302 223 418 219 129 420 289 444\n",
      " 376 291 355 294 396 340 112 179 307 432 487 481 422 233 311 164 136 197\n",
      " 258 232 115 120 349 224 402 397 127 285 411 107 370 325 133 452  44 460\n",
      "  65 283  85 242 186 383 159  12  35  28 170 142 398 342 221  95  51 240\n",
      " 484 378 178  41 498 421 206 282 254 412   4 256 448 100 226 429 213 171\n",
      "  98 292 215  61  47  32 267 327 200 446  27 424 230 260 288 162 425 138\n",
      "  62 135 128 476   8 326 463  64 300  14 156  40 379 468 403 216 279 434\n",
      " 430 337 236 207]\n",
      "valid_idx:  [212 295 457 251 488 486 303 350 269 201 161  43 217 401 190 309 259 105\n",
      "  53 389   1 441 482  49 419  80 205  34 263 427 366  91 339 473  52 345\n",
      " 264 241  13 315  88 387 273 166 328 492 134 306 480 319]\n",
      "test_idx:  [243  54 363  50 456 174 445 189 496 187 169  58  48 344 235 252  21 313\n",
      " 459 160 276 443 191 385 293 413 343 257 308 149 130 151 359  99 372  87\n",
      " 458 330 214 466 121 499  20 188  71 106 270 348 435 102]\n"
>>>>>>> Stashed changes
     ]
    },
    {
     "data": {
      "text/html": [
       "Tracking run with wandb version 0.16.0"
      ],
      "text/plain": [
       "<IPython.core.display.HTML object>"
      ]
     },
     "metadata": {},
     "output_type": "display_data"
    },
    {
     "data": {
      "text/html": [
<<<<<<< Updated upstream
       "Run data is saved locally in <code>./wandb/run-20231127_144516-92d6ko0l</code>"
=======
       "Run data is saved locally in <code>/rds/general/user/cb1319/home/GEOM3D/Geom3D/training/wandb/run-20231130_160500-7vj9ltlh</code>"
>>>>>>> Stashed changes
      ],
      "text/plain": [
       "<IPython.core.display.HTML object>"
      ]
     },
     "metadata": {},
     "output_type": "display_data"
    },
    {
     "data": {
      "text/html": [
<<<<<<< Updated upstream
       "Syncing run <strong><a href='https://wandb.ai/cyprienbone/Geom3D/runs/92d6ko0l' target=\"_blank\">SchNet_target_1K_TEST_5e4lr</a></strong> to <a href='https://wandb.ai/cyprienbone/Geom3D' target=\"_blank\">Weights & Biases</a> (<a href='https://wandb.me/run' target=\"_blank\">docs</a>)<br/>"
=======
       "Syncing run <strong><a href='https://wandb.ai/cyprienbone/Geom3D/runs/7vj9ltlh' target=\"_blank\">floral-moon-22</a></strong> to <a href='https://wandb.ai/cyprienbone/Geom3D' target=\"_blank\">Weights & Biases</a> (<a href='https://wandb.me/run' target=\"_blank\">docs</a>)<br/>"
>>>>>>> Stashed changes
      ],
      "text/plain": [
       "<IPython.core.display.HTML object>"
      ]
     },
     "metadata": {},
     "output_type": "display_data"
    },
    {
     "data": {
      "text/html": [
       " View project at <a href='https://wandb.ai/cyprienbone/Geom3D' target=\"_blank\">https://wandb.ai/cyprienbone/Geom3D</a>"
      ],
      "text/plain": [
       "<IPython.core.display.HTML object>"
      ]
     },
     "metadata": {},
     "output_type": "display_data"
    },
    {
     "data": {
      "text/html": [
<<<<<<< Updated upstream
       " View run at <a href='https://wandb.ai/cyprienbone/Geom3D/runs/92d6ko0l' target=\"_blank\">https://wandb.ai/cyprienbone/Geom3D/runs/92d6ko0l</a>"
=======
       " View run at <a href='https://wandb.ai/cyprienbone/Geom3D/runs/7vj9ltlh' target=\"_blank\">https://wandb.ai/cyprienbone/Geom3D/runs/7vj9ltlh</a>"
>>>>>>> Stashed changes
      ],
      "text/plain": [
       "<IPython.core.display.HTML object>"
      ]
     },
     "metadata": {},
     "output_type": "display_data"
    },
    {
     "name": "stderr",
     "output_type": "stream",
     "text": [
<<<<<<< Updated upstream
=======
      "/rds/general/user/cb1319/home/anaconda3/envs/Geom3D/lib/python3.11/site-packages/lightning/pytorch/loggers/wandb.py:389: There is a wandb run already in progress and newly created instances of `WandbLogger` will reuse this run. If this is not desired, call `wandb.finish()` before instantiating `WandbLogger`.\n",
>>>>>>> Stashed changes
      "GPU available: True (cuda), used: True\n",
      "TPU available: False, using: 0 TPU cores\n",
      "IPU available: False, using: 0 IPUs\n",
      "HPU available: False, using: 0 HPUs\n",
      "`Trainer(val_check_interval=1.0)` was configured so validation will run at the end of the training epoch..\n",
      "/rds/general/user/cb1319/home/anaconda3/envs/Geom3D/lib/python3.11/site-packages/lightning/pytorch/callbacks/model_checkpoint.py:634: Checkpoint directory /rds/general/user/cb1319/home/GEOM3D/Geom3D/training/SchNet_target_1K_TEST_5e4lr exists and is not empty.\n",
<<<<<<< Updated upstream
      "LOCAL_RANK: 0 - CUDA_VISIBLE_DEVICES: [4]\n",
=======
      "LOCAL_RANK: 0 - CUDA_VISIBLE_DEVICES: [1]\n",
>>>>>>> Stashed changes
      "\n",
      "  | Name              | Type   | Params\n",
      "---------------------------------------------\n",
      "0 | molecule_3D_repr  | SchNet | 483 K \n",
      "1 | graph_pred_linear | Linear | 129   \n",
      "---------------------------------------------\n",
      "483 K     Trainable params\n",
      "0         Non-trainable params\n",
      "483 K     Total params\n",
      "1.935     Total estimated model params size (MB)\n"
     ]
    },
    {
     "data": {
      "application/vnd.jupyter.widget-view+json": {
<<<<<<< Updated upstream
       "model_id": "f4e93a5d386345098816b20b58bec4bb",
=======
       "model_id": "a7b1160b6506407d977b624c6b02dd2f",
>>>>>>> Stashed changes
       "version_major": 2,
       "version_minor": 0
      },
      "text/plain": [
       "Sanity Checking: |          | 0/? [00:00<?, ?it/s]"
      ]
     },
     "metadata": {},
     "output_type": "display_data"
    },
    {
     "name": "stderr",
     "output_type": "stream",
     "text": [
      "/rds/general/user/cb1319/home/anaconda3/envs/Geom3D/lib/python3.11/site-packages/lightning/pytorch/trainer/connectors/data_connector.py:492: Your `val_dataloader`'s sampler has shuffling enabled, it is strongly recommended that you turn shuffling off for val/test dataloaders.\n",
      "/rds/general/user/cb1319/home/anaconda3/envs/Geom3D/lib/python3.11/site-packages/lightning/pytorch/trainer/connectors/data_connector.py:441: The 'val_dataloader' does not have many workers which may be a bottleneck. Consider increasing the value of the `num_workers` argument` to `num_workers=31` in the `DataLoader` to improve performance.\n",
<<<<<<< Updated upstream
      "/rds/general/user/cb1319/home/anaconda3/envs/Geom3D/lib/python3.11/site-packages/lightning/pytorch/utilities/data.py:77: Trying to infer the `batch_size` from an ambiguous collection. The batch size we found is 2450. To avoid any miscalculations, use `self.log(..., batch_size=batch_size)`.\n",
=======
>>>>>>> Stashed changes
      "/rds/general/user/cb1319/home/anaconda3/envs/Geom3D/lib/python3.11/site-packages/lightning/pytorch/trainer/connectors/data_connector.py:441: The 'train_dataloader' does not have many workers which may be a bottleneck. Consider increasing the value of the `num_workers` argument` to `num_workers=31` in the `DataLoader` to improve performance.\n"
     ]
    },
    {
     "data": {
      "application/vnd.jupyter.widget-view+json": {
<<<<<<< Updated upstream
       "model_id": "10af7299da3949a482d6c7830bcd2ffd",
=======
       "model_id": "8c59c0e91a824858bd726d9a88b8b0eb",
>>>>>>> Stashed changes
       "version_major": 2,
       "version_minor": 0
      },
      "text/plain": [
       "Training: |          | 0/? [00:00<?, ?it/s]"
      ]
     },
     "metadata": {},
     "output_type": "display_data"
    },
    {
     "data": {
      "application/vnd.jupyter.widget-view+json": {
<<<<<<< Updated upstream
       "model_id": "164e3053ce3f407eb8f88aa3edad9ac4",
=======
       "model_id": "118ce6fba50342bb8e680cb17a60aab2",
>>>>>>> Stashed changes
       "version_major": 2,
       "version_minor": 0
      },
      "text/plain": [
       "Validation: |          | 0/? [00:00<?, ?it/s]"
      ]
     },
     "metadata": {},
     "output_type": "display_data"
    },
    {
     "data": {
      "application/vnd.jupyter.widget-view+json": {
<<<<<<< Updated upstream
       "model_id": "3e1dc6fb25eb4468bf346f2e9e50a44c",
=======
       "model_id": "a98a18b7484748488270b975096ad7ad",
>>>>>>> Stashed changes
       "version_major": 2,
       "version_minor": 0
      },
      "text/plain": [
       "Validation: |          | 0/? [00:00<?, ?it/s]"
      ]
     },
     "metadata": {},
     "output_type": "display_data"
    },
    {
     "data": {
      "application/vnd.jupyter.widget-view+json": {
<<<<<<< Updated upstream
       "model_id": "a4522d90aa1a419dad5ecc9749f20c73",
=======
       "model_id": "f9ba9032216445e1a5b67386cb57e567",
>>>>>>> Stashed changes
       "version_major": 2,
       "version_minor": 0
      },
      "text/plain": [
       "Validation: |          | 0/? [00:00<?, ?it/s]"
      ]
     },
     "metadata": {},
     "output_type": "display_data"
    },
    {
     "name": "stderr",
     "output_type": "stream",
     "text": [
      "`Trainer.fit` stopped: `max_epochs=3` reached.\n"
     ]
    },
    {
     "data": {
      "application/vnd.jupyter.widget-view+json": {
<<<<<<< Updated upstream
       "model_id": "cdfe48cc983448c6933825abf3983977",
=======
       "model_id": "58b32c93169e40aeb7721650f6037f0b",
>>>>>>> Stashed changes
       "version_major": 2,
       "version_minor": 0
      },
      "text/plain": [
<<<<<<< Updated upstream
       "VBox(children=(Label(value='16.859 MB of 16.859 MB uploaded\\r'), FloatProgress(value=1.0, max=1.0)))"
=======
       "VBox(children=(Label(value='11.241 MB of 11.241 MB uploaded\\r'), FloatProgress(value=1.0, max=1.0)))"
>>>>>>> Stashed changes
      ]
     },
     "metadata": {},
     "output_type": "display_data"
    },
    {
     "name": "stderr",
     "output_type": "stream",
     "text": [
      "wandb: WARNING Source type is set to 'repo' but some required information is missing from the environment. A job will not be created from this run. See https://docs.wandb.ai/guides/launch/create-job\n"
     ]
    },
    {
     "data": {
      "text/html": [
       "<style>\n",
       "    table.wandb td:nth-child(1) { padding: 0 10px; text-align: left ; width: auto;} td:nth-child(2) {text-align: left ; width: 100%}\n",
       "    .wandb-row { display: flex; flex-direction: row; flex-wrap: wrap; justify-content: flex-start; width: 100% }\n",
       "    .wandb-col { display: flex; flex-direction: column; flex-basis: 100%; flex: 1; padding: 10px; }\n",
       "    </style>\n",
<<<<<<< Updated upstream
       "<div class=\"wandb-row\"><div class=\"wandb-col\"><h3>Run history:</h3><br/><table class=\"wandb\"><tr><td>epoch</td><td>▁▁▁▅▅▅███</td></tr><tr><td>train_loss</td><td>█▇▆▄▃▁</td></tr><tr><td>trainer/global_step</td><td>▁▂▂▄▅▅▇██</td></tr><tr><td>val_loss</td><td>█▄▁</td></tr></table><br/></div><div class=\"wandb-col\"><h3>Run summary:</h3><br/><table class=\"wandb\"><tr><td>epoch</td><td>2</td></tr><tr><td>train_loss</td><td>8.53927</td></tr><tr><td>trainer/global_step</td><td>5</td></tr><tr><td>val_loss</td><td>7.03153</td></tr></table><br/></div></div>"
=======
       "<div class=\"wandb-row\"><div class=\"wandb-col\"><h3>Run history:</h3><br/><table class=\"wandb\"><tr><td>epoch</td><td>▁▁▁▁▁▅▅▅▅▅█████</td></tr><tr><td>train_loss</td><td>█▇▅▄▂▁▃▂▁▁▁▁</td></tr><tr><td>trainer/global_step</td><td>▁▂▂▃▃▄▄▅▅▅▆▇▇██</td></tr><tr><td>val_loss</td><td>█▁▄</td></tr></table><br/></div><div class=\"wandb-col\"><h3>Run summary:</h3><br/><table class=\"wandb\"><tr><td>epoch</td><td>2</td></tr><tr><td>train_loss</td><td>10.97634</td></tr><tr><td>trainer/global_step</td><td>11</td></tr><tr><td>val_loss</td><td>10.34321</td></tr></table><br/></div></div>"
>>>>>>> Stashed changes
      ],
      "text/plain": [
       "<IPython.core.display.HTML object>"
      ]
     },
     "metadata": {},
     "output_type": "display_data"
    },
    {
     "data": {
      "text/html": [
<<<<<<< Updated upstream
       " View run <strong style=\"color:#cdcd00\">SchNet_target_1K_TEST_5e4lr</strong> at: <a href='https://wandb.ai/cyprienbone/Geom3D/runs/92d6ko0l' target=\"_blank\">https://wandb.ai/cyprienbone/Geom3D/runs/92d6ko0l</a><br/>Synced 6 W&B file(s), 0 media file(s), 3 artifact file(s) and 0 other file(s)"
=======
       " View run <strong style=\"color:#cdcd00\">floral-moon-22</strong> at: <a href='https://wandb.ai/cyprienbone/Geom3D/runs/7vj9ltlh' target=\"_blank\">https://wandb.ai/cyprienbone/Geom3D/runs/7vj9ltlh</a><br/>Synced 6 W&B file(s), 0 media file(s), 2 artifact file(s) and 0 other file(s)"
>>>>>>> Stashed changes
      ],
      "text/plain": [
       "<IPython.core.display.HTML object>"
      ]
     },
     "metadata": {},
     "output_type": "display_data"
    },
    {
     "data": {
      "text/html": [
<<<<<<< Updated upstream
       "Find logs at: <code>./wandb/run-20231127_144516-92d6ko0l/logs</code>"
=======
       "Find logs at: <code>./wandb/run-20231130_160500-7vj9ltlh/logs</code>"
>>>>>>> Stashed changes
      ],
      "text/plain": [
       "<IPython.core.display.HTML object>"
      ]
     },
     "metadata": {},
     "output_type": "display_data"
<<<<<<< Updated upstream
=======
    },
    {
     "name": "stdout",
     "output_type": "stream",
     "text": [
      "Total time taken for model training: 19.822176456451416 seconds\n"
     ]
>>>>>>> Stashed changes
    }
   ],
   "source": [
    "import importlib\n",
    "from geom3d import train_SchNet\n",
    "\n",
    "importlib.reload(train_SchNet)\n",
    "train_SchNet.main(\"/rds/general/user/cb1319/home/GEOM3D/Geom3D/training/SchNet_target_1K_TEST_5e4lr/\")"
   ]
  },
  {
   "cell_type": "code",
<<<<<<< Updated upstream
<<<<<<< Updated upstream
   "execution_count": 7,
   "metadata": {},
   "outputs": [
    {
     "data": {
      "text/plain": [
       "'/rds/general/user/cb1319/home/GEOM3D/Geom3D/training'"
      ]
     },
     "execution_count": 7,
     "metadata": {},
     "output_type": "execute_result"
    }
   ],
   "source": [
    "os.getcwd()"
   ]
  },
  {
   "cell_type": "code",
   "execution_count": 8,
   "metadata": {},
   "outputs": [
    {
     "data": {
      "text/plain": [
       "'2.1.1'"
      ]
     },
     "execution_count": 8,
     "metadata": {},
     "output_type": "execute_result"
    }
   ],
   "source": [
    "import torch\n",
    "import lightning as pl\n",
    "\n",
    "pl.__version__\n"
=======
=======
>>>>>>> Stashed changes
   "execution_count": 9,
   "metadata": {},
   "outputs": [],
   "source": [
    "%matplotlib inline"
<<<<<<< Updated upstream
>>>>>>> Stashed changes
=======
>>>>>>> Stashed changes
   ]
  },
  {
   "cell_type": "code",
   "execution_count": null,
   "metadata": {},
   "outputs": [
    {
     "name": "stdout",
     "output_type": "stream",
     "text": [
      "config loaded from /rds/general/user/cb1319/home/GEOM3D/Geom3D/training/SchNet_target_1K_TEST_5e4lr/\n",
      "checkpoint used: /rds/general/user/cb1319/home/GEOM3D/Geom3D/training/SchNet_target_1K_TEST_5e4lr/epoch=2-val_loss=7.03-other_metric=0.00.ckpt\n",
      "y_true tensor(-8.7690)\n",
      "y_pred_cpu tensor([[-21.0501]], grad_fn=<AddmmBackward0>)\n",
      "y_pred tensor([[-14.3257]], device='cuda:0', grad_fn=<AddmmBackward0>)\n",
      "train_idx:  [47044 44295 74783 ... 77925 18116 14762]\n",
      "valid_idx:  [39698 66692  7139 ... 52300 56176  3346]\n",
      "test_idx:  [61260 28261 49228 ... 76820   860 15795]\n",
      "pymodel device cuda:0\n"
     ]
    },
    {
     "data": {
      "image/png": "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",
      "text/plain": [
       "<Figure size 1500x500 with 3 Axes>"
      ]
     },
     "metadata": {},
     "output_type": "display_data"
    },
    {
     "data": {
      "image/png": "iVBORw0KGgoAAAANSUhEUgAABNkAAAHWCAYAAABKRl+VAAAAOXRFWHRTb2Z0d2FyZQBNYXRwbG90bGliIHZlcnNpb24zLjguMiwgaHR0cHM6Ly9tYXRwbG90bGliLm9yZy8g+/7EAAAACXBIWXMAAA9hAAAPYQGoP6dpAADC5klEQVR4nOzdd3gU1foH8O8mpJCQQgkkKL0IoRfpTWoEC+pFAQso4gVBEVABpYWOWK+9IHBFEAUVLghSgkrvAUIRRCCUBCQhCSSk7vz+4LdLJtkyszuzM7P7/TwPz+NOthwke86c97znPSZBEAQQERERERERERGRy/y0bgAREREREREREZHRMchGRERERERERETkJgbZiIiIiIiIiIiI3MQgGxERERERERERkZsYZCMiIiIiIiIiInITg2xERERERERERERuYpCNiIiIiIiIiIjITQyyERERERERERERuYlBNiIiIiIiIiIiIjcxyEakQzVr1sTQoUO1bgYREWlg8eLFMJlMOHfunPVat27d0K1bN6ev/e2332AymfDbb78p2iaTyYTp06cr+p5ERERE3oZBNiIX7Ny5E9OnT0dGRobWTfG4X375hRMtIiIv5O39u7f//YiI3OGp+c2cOXPw888/q/oZtly+fBnTp09HYmKixz+bfAuDbEQu2LlzJ+Lj41UbhP788098+eWXqry3u3755RfEx8dr3QwiIp+yceNGbNy4UdXPcNS/37p1C5MnT1b189XG8YuIyD615zcWWgbZ4uPjGWQj1ZXRugFE3s5sNiM/Px/BwcGSXxMUFKRii4iIyGgCAwM1/Xw5YxgRERGRr2ImG5FM06dPx2uvvQYAqFWrFkwmk6h2jslkwujRo/Htt9+iUaNGCAoKwoYNGwAAb7/9Njp06ICKFSuibNmyaNWqFVauXFnqM0rWZLPU59mxYwfGjRuHqKgohIaG4pFHHsE///zjtM2pqal49tlncffddyMoKAgxMTF4+OGHRfV+AGD9+vXo3LkzQkNDERYWhn79+uHYsWPWnw8dOhQff/yx9e9p+UNE5KtWrlwJk8mE33//vdTPPv/8c5hMJiQlJQEAjhw5gqFDh6J27doIDg5GdHQ0nnvuOaSlpTn9HFs12S5evIj+/fsjNDQUlStXxtixY5GXl1fqtdu2bcOAAQNQvXp1BAUFoVq1ahg7dixu3bplfY6z/t1WTbZDhw7h/vvvR3h4OMqVK4cePXpg9+7doudw/CIi0j9n8xsAWLp0KVq1aoWyZcuiQoUKGDhwIC5cuCB6n9OnT+Oxxx5DdHQ0goODcffdd2PgwIHIzMwEcLv/zc7OxpIlS6yf4awO9YcffohGjRohJCQE5cuXR+vWrbFs2TLRcy5duoTnnnsOVapUQVBQEBo1aoSvv/7a+vPffvsN9957LwDg2WeftX724sWLXfw/RmQfM9mIZHr00Udx6tQpLF++HO+99x4qVaoEAIiKirI+JyEhAd9//z1Gjx6NSpUqoWbNmgCADz74AA899BCefPJJ5Ofn47vvvsOAAQOwdu1a9OvXz+lnv/TSSyhfvjymTZuGc+fO4f3338fo0aOxYsUKh6977LHHcOzYMbz00kuoWbMmrl69ik2bNiE5Odnatm+++QZDhgxBnz59MH/+fOTk5ODTTz9Fp06dcOjQIdSsWRP//ve/cfnyZWzatAnffPONa/8DiYi8SL9+/VCuXDl8//336Nq1q+hnK1asQKNGjdC4cWMAwKZNm/D333/j2WefRXR0NI4dO4YvvvgCx44dw+7du2UFfW7duoUePXogOTkZL7/8MqpWrYpvvvkGCQkJpZ77ww8/ICcnByNHjkTFihWxd+9efPjhh7h48SJ++OEHAJDdvx87dgydO3dGeHg4Xn/9dQQEBODzzz9Ht27d8Pvvv6Nt27ai53P8IiLSL2fzm9mzZ2PKlCl4/PHH8fzzz+Off/7Bhx9+iC5duuDQoUOIjIxEfn4++vTpg7y8PLz00kuIjo7GpUuXsHbtWmRkZCAiIgLffPMNnn/+ebRp0wYvvPACAKBOnTp22/Xll1/i5Zdfxr/+9S+MGTMGubm5OHLkCPbs2YPBgwcDAK5cuYJ27dpZEx2ioqKwfv16DBs2DFlZWXjllVfQsGFDzJgxA1OnTsULL7yAzp07AwA6dOig5v9W8lUCEcm2YMECAYBw9uzZUj8DIPj5+QnHjh0r9bOcnBzR4/z8fKFx48ZC9+7dRddr1KghDBkyxPp40aJFAgChZ8+egtlstl4fO3as4O/vL2RkZNht6/Xr1wUAwoIFC+w+58aNG0JkZKQwfPhw0fXU1FQhIiJCdH3UqFECuw4iojsGDRokVK5cWSgsLLReS0lJEfz8/IQZM2ZYr5UcAwRBEJYvXy4AEP744w/rNUufX3yM6dq1q9C1a1fr4/fff18AIHz//ffWa9nZ2ULdunUFAMLWrVsdfu7cuXMFk8kknD9/3nrNUf8OQJg2bZr1cf/+/YXAwEDhzJkz1muXL18WwsLChC5dupT6u3D8IiLSN3vzm3Pnzgn+/v7C7NmzRdePHj0qlClTxnr90KFDAgDhhx9+cPg5oaGhonmOIw8//LDQqFEjh88ZNmyYEBMTI1y7dk10feDAgUJERIR1DNy3b58AQFi0aJGkzyZyFbeLEqmga9euiI2NLXW9bNmy1v++fv06MjMz0blzZxw8eFDS+77wwguiTIfOnTujqKgI58+ft/uasmXLIjAwEL/99huuX79u8zmbNm1CRkYGBg0ahGvXrln/+Pv7o23btti6dauk9hER+aInnngCV69exW+//Wa9tnLlSpjNZjzxxBPWa8XHgNzcXFy7dg3t2rUDAMnjgMUvv/yCmJgY/Otf/7JeCwkJsWYGFFf8c7Ozs3Ht2jV06NABgiDg0KFDsj4XAIqKirBx40b0798ftWvXtl6PiYnB4MGDsX37dmRlZYlew/GLiMiYfvzxR5jNZjz++OOifjY6Ohr16tWz9rMREREAgF9//RU5OTmKfHZkZCQuXryIffv22fy5IAhYtWoVHnzwQQiCIGpfnz59kJmZKXt8JXIXt4sSqaBWrVo2r69duxazZs1CYmKiqG6O1C1C1atXFz0uX748ANidfAC3D1GYP38+xo8fjypVqqBdu3Z44IEH8MwzzyA6OhrA7foJANC9e3eb7xEeHi6pfUREviguLg4RERFYsWIFevToAeD2VtHmzZujfv361uelp6cjPj4e3333Ha5evSp6D0u9GqnOnz+PunXrlho/7rnnnlLPTU5OxtSpU7FmzZpS44XczwWAf/75Bzk5OTY/q2HDhjCbzbhw4QIaNWpkvc7xi4jImE6fPg1BEFCvXj2bPw8ICABwe/4zbtw4vPvuu/j222/RuXNnPPTQQ3jqqaesATi5JkyYgM2bN6NNmzaoW7cuevfujcGDB6Njx44Abo9HGRkZ+OKLL/DFF1/YfI+S4y2R2hhkI1JB8awBi23btuGhhx5Cly5d8MknnyAmJgYBAQFYtGhRqeKd9vj7+9u8LgiCw9e98sorePDBB/Hzzz/j119/xZQpUzB37lwkJCSgRYsWMJvNAG7XtbFMXIorU4ZdBRGRPUFBQejfvz9++uknfPLJJ7hy5Qp27NiBOXPmiJ73+OOPY+fOnXjttdfQvHlzlCtXDmazGXFxcdZ+WGlFRUXo1asX0tPTMWHCBDRo0AChoaG4dOkShg4dqtrnlsTxi4jImMxmM0wmE9avX2+zLy9Xrpz1v9955x0MHToUq1evxsaNG/Hyyy9j7ty52L17N+6++27Zn92wYUP8+eefWLt2LTZs2IBVq1bhk08+wdSpUxEfH28dA5566ikMGTLE5ns0bdpU9ucSuYN3HkQucOVEslWrViE4OBi//vorgoKCrNcXLVqkZNPsqlOnDsaPH4/x48fj9OnTaN68Od555x0sXbrUWnC0cuXK6Nmzp8P34WlsRESlPfHEE1iyZAm2bNmCEydOQBAE0VbR69evY8uWLYiPj8fUqVOt1y2ZWHLVqFEDSUlJEARB1C//+eefoucdPXoUp06dwpIlS/DMM89Yr2/atKnUe0rt36OiohASElLqswDg5MmT8PPzQ7Vq1aT+VZzi+EVEpD57fWSdOnUgCAJq1aolys62p0mTJmjSpAkmT56MnTt3omPHjvjss88wa9Ysh59jT2hoKJ544gk88cQTyM/Px6OPPorZs2dj0qRJiIqKQlhYGIqKijgGkG6wJhuRC0JDQwEAGRkZkl/j7+8Pk8mEoqIi67Vz587h559/Vrh1Yjk5OcjNzRVdq1OnDsLCwqxbVvv06YPw8HDMmTMHBQUFpd7jn3/+sf63K393IiJv17NnT1SoUAErVqzAihUr0KZNG1HpAMvqf8nMrffff9+lz+vbty8uX76MlStXWq/l5OSU2i5j63MFQcAHH3xQ6j2l9u/+/v7o3bs3Vq9ejXPnzlmvX7lyBcuWLUOnTp0U2abJ8YuIyHPs9ZGPPvoo/P39ER8fX2oMEwQBaWlpAICsrCwUFhaKft6kSRP4+fmJyuSEhoZK7oct720RGBiI2NhYCIKAgoIC+Pv747HHHsOqVauQlJRU6vUcA0gLzGQjckGrVq0AAG+++SYGDhyIgIAAPPjgg9bO25Z+/frh3XffRVxcHAYPHoyrV6/i448/Rt26dXHkyBHV2nrq1Cn06NEDjz/+OGJjY1GmTBn89NNPuHLlCgYOHAjgds2aTz/9FE8//TRatmyJgQMHIioqCsnJyVi3bh06duyIjz76SPR3f/nll9GnTx/4+/tb34eIyFcFBATg0UcfxXfffYfs7Gy8/fbbop+Hh4ejS5cueOutt1BQUIC77roLGzduxNmzZ136vOHDh+Ojjz7CM888gwMHDiAmJgbffPMNQkJCRM9r0KAB6tSpg1dffRWXLl1CeHg4Vq1aZbMWmpz+fdasWdi0aRM6deqEF198EWXKlMHnn3+OvLw8vPXWWy79nUri+EVE5Dn25jd16tTBrFmzMGnSJJw7dw79+/dHWFgYzp49i59++gkvvPACXn31VSQkJGD06NEYMGAA6tevj8LCQnzzzTfWQFjxz9m8eTPeffddVK1aFbVq1ULbtm1ttql3796Ijo5Gx44dUaVKFZw4cQIfffQR+vXrh7CwMADAvHnzsHXrVrRt2xbDhw9HbGws0tPTcfDgQWzevBnp6ekAbi/SREZG4rPPPkNYWBhCQ0PRtm1bu7W0iVymwYmmRF5h5syZwl133SX4+fmJjrsGIIwaNcrmaxYuXCjUq1dPCAoKEho0aCAsWrRImDZtmlDyq1ijRg3R0daLFi0SAAj79u0TPW/r1q0CAGHr1q1223nt2jVh1KhRQoMGDYTQ0FAhIiJCaNu2rfD999+Xeu7WrVuFPn36CBEREUJwcLBQp04dYejQocL+/futzyksLBReeuklISoqSjCZTKXaTkTkqzZt2iQAEEwmk3DhwoVSP7948aLwyCOPCJGRkUJERIQwYMAA4fLlywIAYdq0adbnWfp8y7giCILQtWtXoWvXrqL3O3/+vPDQQw8JISEhQqVKlYQxY8YIGzZsKDUuHD9+XOjZs6dQrlw5oVKlSsLw4cOFw4cPCwCERYsWWZ/nqH8v2UZBEISDBw8Kffr0EcqVKyeEhIQI9913n7Bz507Rczh+EREZh735jSAIwqpVq4ROnToJoaGhQmhoqNCgQQNh1KhRwp9//ikIgiD8/fffwnPPPSfUqVNHCA4OFipUqCDcd999wubNm0WfcfLkSaFLly5C2bJlBQCiOU9Jn3/+udClSxehYsWKQlBQkFCnTh3htddeEzIzM0XPu3LlijBq1CihWrVqQkBAgBAdHS306NFD+OKLL0TPW716tRAbGyuUKVOm1BhIpBSTIDipOEtEREREREREREQOsSYbERERERERERGRmxhkIyIiIiIiIiIichODbERERERERERERG5ikI2IiIiIiIiIiMhNDLIRERERERERERG5iUE2IiIiIiIiIiIiN5XRugF6YzabcfnyZYSFhcFkMmndHCIiwxMEATdu3EDVqlXh58e1HY4zRETK4jgjxnGGiEhZcsYZBtlKuHz5MqpVq6Z1M4iIvM6FCxdw9913a90MzXGcISJSB8eZ2zjOEBGpQ8o4wyBbCWFhYQBu/88LDw/XuDVERMaXlZWFatWqWftXX8dxhohIWRxnxDjOEBEpS844wyBbCZaU6vDwcA5KREQK4paV2zjOEBGpg+PMbRxniIjUIWWcYdECIiIiIiIiIiIiNzHIRkRERERERERE5CYG2YiIiIiIiIiIiNzEIBsREREREREREZGbGGQjIiIiIiIiIiJyE4NsREREREREREREbmKQjYiIiIiIiIiIyE0MshEREREREREREbmJQTYiIiIiIiIiIiI3MchGRERERERERETkJgbZiIiIiIiIiIiI3MQgGxERERERERERkZsYZCMiIiIiItKZvLw8NG/eHCaTCYmJiVo3h4iIJGCQjYiI7LqenY+aE9eh5sR1yMkv1Lo5RETkhUZ9exCPfboTp6/c0LopuvL666+jatWqWjeDiMjwfj50CTUnrsMzX+9V/bPKqP4JRERkSCsPXMSrPxy2Pk5Oz0GD6HANW0RERN4kJ78QsVN/tT5OupyJelXCNGyRfqxfvx4bN27EqlWrsH79eq2bQ0RkSIIg4NFPd+JQcgYA4I9T/6j+mQyyERGRSJFZQKf5CUjJzLVe+3fX2gywERGRYo5czMBDH+0QXXuwKbO2AODKlSsYPnw4fv75Z4SEhDh9fl5eHvLy8qyPs7Ky1GweEZEh/HMjD/fO3iy6tmV8V9U/l0E2IiKySrqUiQc+3C66tnlcV9StXE6jFhERkbf5z5bTeHfTKevjwW2rY84jTTRskX4IgoChQ4dixIgRaN26Nc6dO+f0NXPnzkV8fLz6jSMiMoi1Ry5j9LJD1sfhwWVwaGpv+PuZVP9sBtmIiAgAMGHlEazYf8H6uFHVcKx9qRNMJvUHIyIi8n6CIKDjvARcLpYpveS5NuhaP0rDVnnGxIkTMX/+fIfPOXHiBDZu3IgbN25g0qRJkt970qRJGDdunPVxVlYWqlWr5nJbiYiMbOAXu7D773Tr49f63INR99X12OczyEZE5OOuZ+ejxcxNomufPdUKcY2jNWoRERF5m6s3ctFm9hbRtYNTeqFCaKBGLfKs8ePHY+jQoQ6fU7t2bSQkJGDXrl0ICgoS/ax169Z48sknsWTJklKvCwoKKvV8IiJfk56dj5Yl5jQbx3ZBfQ/X+mSQjYjIh5U83AAAkuL7oFwQhwciIlLGpuNXMPy/+62P61Yuh01ju/hUpnRUVBSiopxn7P3nP//BrFmzrI8vX76MPn36YMWKFWjbtq2aTSQiMqwNSakYsfSA9XFQGT8ci++DMv5+Hm8LZ1FERD7I5uEGXWpjUt+GGraKiIi8zdgVifjp0CXr4zf7NsTwLrU1bJG+Va9eXfS4XLnbNVHr1KmDu+++W4smERHp2pCv9+L3YqeGvtyjHsb1qq9ZexhkIyLyMTzcwH15eXlo27YtDh8+jEOHDqF58+ZaN4mISFfyCotwz+QNomu/vNwZsVV5UjUREbkvIycfzWeIt4euH9MZDWO0HWcYZCMi8iE83EAZr7/+OqpWrYrDhw87fzIRkY85deUGer/3h+jayZlxCA7w16hFxlWzZk0IgqB1M4iIdGXLiSsYtmS/6NqpWfcjsIznt4eWxCAbEZEP4OEGylm/fj02btyIVatWYf369Vo3h4hIVxbvOIvp/ztufdyvSQw+frKlhi0iIiJvMvy/+7Hp+BXr45Hd6mBCXAMNWyTGIBsRkZfj4QbKuXLlCoYPH46ff/4ZISEhkl6Tl5eHvLw86+OsrCy1mkdEpBlBENDvP9txPOVOH/fpky1xf5MYDVtFRETeIiu3AE2nbxRd+9/oTmhyd4RGLbKNMywiIi/Fww2UJQgChg4dihEjRqB169Y4d+6cpNfNnTsX8fHx6jaOiEhDturi7J7UA9ERwRq1iIiIvMnvp/7BkK/3iq79OSsOQWX0V4ZA+w2rRESkuKRLmajzxi+iANvmcV0ZYLNh4sSJMJlMDv+cPHkSH374IW7cuIFJkybJev9JkyYhMzPT+ufChQvOX0REZBA7/7omCrBVDA3E33P6MsBGRESKGL3soCjANqxTLZyb10+XATaAmWxERF6HhxvIM378eAwdOtThc2rXro2EhATs2rULQUFBop+1bt0aTz75JJYsWWLztUFBQaVeQ0TkDaavOYbFO89ZH7/UvS7G975HuwYREZHXuJlXiMbTfhVd++nFDmhRvbxGLZKGQTYiIi/Bww1cExUVhaioKKfP+89//oNZs2ZZH1++fBl9+vTBihUr0LZtWzWbSESkK4VFZtSfvB7mYode/vhiB7TU+cSHiIiMYcdf1/DkV3tE14xySjWDbEREXoCHG6ivevXqosflypUDANSpUwd33323Fk0iIvK45LQcdFmwVXSN4w0RESll3PeJ+PHgJevjZ9rXwIyHG2vYInk4GhIRGRgPNyAiIk8puaDToU5FLBveTsMWERGRt8jJL0TsVPH20JUj2qN1zQoatcg1DLIRERlU0qVMPPDhdtG1zeO6om7lchq1yLfUrFkTgiA4fyIRkRd46qs92P7XNevjBf9qigGtq2nYIiIi8ha7/07DwC92i66dmBGHsoH63x5aEoNsREQGxMMNiIjIE7LzCtGoROHpP167D9UrhmjUIiIi8iYTVx3Bd/vuzGueaF0N8//VVMMWuYdBNiIiA+HhBkRE5CmHkq/jkU92Wh+bTMDpWfejjL+fhq0iIiJvcCu/CA2nbhBd++6FdmhXu6JGLVIGg2xERAbBww2IiMhT3t10Cv/Zctr6eEj7Gog3UOFpIiLSrwPn0/HYp7tE147F90GoF8xrjP83ICLyckVmAR3nJSA1i4cbEBGRusxmAW3mbMa1m/nWa98+3xYd61bSsFVEROQtpq1OwpJd562PH21xF959orl2DVIYg2xERDrGww2IiMhTrmTlou2cLaJrh6b0QvnQQI1aRERE3iK3oAgNpoi3hy4d1had6nnXIg6DbEREOsXDDYiIyFM2JKVgxNKD1scNY8Lxy8scc4iIyH2JFzLQ/+MdomtHp/dGWHCARi1SD4NsREQ6w8MNiIjIk0YtO4h1R1Ksj6c9GItnO9bSsEVEROQtZq09jq+2n7U+7tc0Bh8Pbqlhi9TllUG2vLw8tG3bFocPH8ahQ4fQvHlzrZtERCQJDzcgIiJPsbV159dXuuCe6DCNWkRERN4iv9CM+pPXi64tfvZedLunskYt8gyvnLW9/vrrqFq1Kg4fPuz8yUREOmDzcIOutTHpfh5uQEREyjuZmoW497eJrv05Kw5BZfw1ahEREXkLW3WlD0/rjYiy3rc9tCSvC7KtX78eGzduxKpVq7B+/XrnLyAi0hgPNyAiIk/6atvfmLXuhPXxw82r4oOBLTRsEREReYu3NpzEJ7+dsT7u2bAKvhrSWsMWeZZXBdmuXLmC4cOH4+eff0ZISIik1+Tl5SEvL8/6OCsrS63mERGVwsMNiIjIUwRBQJ/3/8CpKzet1z5/uhX6NGLNTyIick9BkRn13hQnOn31TGv0jK2iUYu04TVBNkEQMHToUIwYMQKtW7fGuXPnJL1u7ty5iI+PV7dxREQl8HADIiLypPTsfLQsMe7sfaMHKocHa9QiIiLyFidSsnD/B+ISBIlTeyEyJFCjFmnHT+sGODNx4kSYTCaHf06ePIkPP/wQN27cwKRJk2S9/6RJk5CZmWn9c+HCBecvIiJyw8oDF0sF2JLi+zDARkREqvjj1D+iAFt0eDDOzu3LABsREbntvU2nRAG2LvWjcG5eP58MsAEGyGQbP348hg4d6vA5tWvXRkJCAnbt2oWgoCDRz1q3bo0nn3wSS5YssfnaoKCgUq8hIlIDDzcgIiJPe/Ono/h2T7L18die9TGmZz0NW0RERN6gsMiMRtN+RV6h2Xrts6daIq5xjIat0p7ug2xRUVGIiopy+rz//Oc/mDVrlvXx5cuX0adPH6xYsQJt27ZVs4lERE7xcAMiIvIkW7Vxfh7VEc2rRWrTICIi8hqnr9xAr/f+EF07MLknKpZjApPug2xSVa9eXfS4XLnbE9c6derg7rvv1qJJREQAeLgBERF51rlr2ej29m+ia8dn9EFIoNfc+hMRkUY+3voXFvz6p/Vx21oVsOLf7TVskb5wpCUiUgkPNyAiIk9bsS8ZE1YdtT7uWj8KS55ro2GLiIjIGxSZBbSYsRFZuYXWax8OaoEHm1XVsFX647VBtpo1a0IQBK2bQUQ+auWBi3j1h8Oia0nxfVAuyGu7XSIi0tgTn+/CnrPp1sfvPt4Mj7bkjg4iInLPmX9uosc7v4uu7XuzJ6LCuD20JM72iIgUxMMNiIjI027kFqDJ9I2ia9tevw/VKoRo1CIiIvIWX/7xN2b/csL6uEX1SPw4sgNL39jBIBsRkUJ4uAEREXnagfPpeOzTXdbHgWX8cGJGHPz9OPkhIiLXmc0C2s7dgn9u5FmvvfdEMzzSghnSjjDIRkSkAB5uQEREnvbWhpP45Lcz1sfPdayFqQ/GatgiIiLyBufTstF1wW+ia3ve6IEq4cHaNMhAGGQjInIDDzcgIiJPM5sFNC9RfHrZ8LboUKeShq0iIiJvsHjHWUz/33Hr49iYcKx7mckDUjHIRkTkIh5uQEREnpaSeQvt5yaIrh2e2hsRIQEatYiIiLyB2Syg81tbcSnjlvXaW481xeP3VtOwVcbDmSARkUw83ICIiLSw7kgKRi07aH3c7O4I/DyqI7MLiIjILRfSc9D5ra2iazsndkfVyLIatci4GGQjIpKBhxsQEZEW/v3Nfvx67Ir18cyHG+Hp9jW1axAREXmFb/ecx5s/JVkf14kKxeZxXbmA4yIG2YiIJOLhBkRE5Gm5BUVoMGWD6NrmcV1Qt3KYRi0iIiJvIAgCerzzO/6+lm29NvuRxniybQ0NW2V8DLIRETnBww2IiEgLxy5not9/xNnTp2bdj8Ayfhq1iIiIvMHljFvoME9c33Pb6/ehWoUQjVrkPRhkIyJygIcbEBGRFj77/QzmrT9pffxYy7vxzuPNNGwRERF5gxX7kjFh1VHr42oVyuL3V++Dnx935yiBs0QiIht4uAEREWlBEATc9/ZvOJeWY7329dDW6N6gioatIiIioxMEAX3/sx0nUrKs1+IfaoQhHWpq1ygvxCAbEVEJPNyAiIi0kHYzD61mbRZd2/dmT0SFBWnUIiIi8gZXsnLRds4W0bXfX+uGGhVDNWqR92KQjYioGB5uQEREWtj651U8u2if9XG1CmXxx2v3cfwhIiK3/HjwIsZ9f6f8TeWwIOye1IPbQ1XCIBsREXi4ARERaafkAs9rfe7BqPvqatgiIiIyOkEQ0P+TnTh8IcN67c2+DTG8S23tGuUDGGQjIp/Hww2IiEgL+YVm1J+8XnRt7Uud0PiuCI1aRERE3uDqjVy0mS3eHpowvitqR7H8jdo4gyQin8XDDYiISCtn/rmJHu/8Lrp2YkYcygb6a9QiIiLyBv87fBkvLT9kfRwZEoADk3vBn9tDPYJBNiLySTzcgIiItPLtnvN486ck6+OeDSvjqyH3atgiIiLyBk98vgt7zqZbH7P8gOcxyEZEPoeHGxARkVYe+WQHDiVnWB9/MLA5Hm5+l3YNIiIiw7N1OvWmsV1Qr0qYRi3yXQyyEZHP4OEGRESklazcAjSdvlF0bcfE7rgrsqxGLSIiIm+wISkFI5YetD4uG+CPo9N7o4y/n4at8l0MshGRT+DhBkREpJU9f6fhiS92Wx+XCyqDw9N6sz4OERG55emFe7Dt9DXr41d61sMrPetr2CLi7JKIvBoPNyAiIi3N/eUEPv/jb+tjjkFEROSujJx8NJ8h3qGzfkxnNIwJ16hFZMEgGxF5LR5uQEREWikyC2gy/Vfk5BdZr33/7/ZoU6uChq0iIiKj23z8Cp7/737rYz8T8Oes+xHA7aG6wH8FIvJKE1YeEQXYGt8VjrNz+zLARkREqrt4PQd13vhFFGA7Mr03A2wk2bp169C2bVuULVsW5cuXR//+/bVuEhHpwPNL9okCbC92q4O/5/ZjgE1HmMlGRF6FhxsQEZGWVidewpjvEq2PW9Uoj1UjO2jXIDKcVatWYfjw4ZgzZw66d++OwsJCJCUlad0sItJQ5q0CNIsXH56z9qVOaHxXhEYtInsYZCMir/HD/gt4beUR0TUebkBERJ4ybPE+bDl51fp49iON8WTbGhq2iIymsLAQY8aMwYIFCzBs2DDr9djYWLuvycvLQ15envVxVlaWqm0kIs/67c+rGLpon+jan7PiEFTGX6MWkSOceRKR4RWZBXSYtwVXsu7cYLKwNBEReUpOfiFip/4qurZlfFfUiWKJApLn4MGDuHTpEvz8/NCiRQukpqaiefPmWLBgARo3bmzzNXPnzkV8fLyHW0pEnjDq24NYdzTF+nh451p4s5/9oDtpj0E2IjI0Hm5ARERaOnoxEw9+JB6HTs9mAWpyzd9/3z6Jdvr06Xj33XdRs2ZNvPPOO+jWrRtOnTqFChVK1/WbNGkSxo0bZ32clZWFatWqeazNRKS8G7kFaDJdvD3051Ed0bxapDYNIsk4+hORYfFwAyIi0tLHW/8SBdgG3lsN5+axADWVNnHiRJhMJod/Tp48CbPZDAB488038dhjj6FVq1ZYtGgRTCYTfvjhB5vvHRQUhPDwcNEfIjKu7aevlQqwnZwZxwCbQTCTjYgMh4cbkJbWrVuHGTNm4MiRIwgODkbXrl3x888/a90sIvIgQRDQaf5WXMq4Zb226Nl7cd89lTVsFenZ+PHjMXToUIfPqV27NlJSbm8LK16DLSgoCLVr10ZycrKaTSQiHRi7IhE/HbpkfTykfQ3EP2x7qzjpE4NsRGQoPNyAtMQT34jonxt5uHf2ZtG1A5N7omK5II1aREYQFRWFqKgop89r1aoVgoKC8Oeff6JTp04AgIKCApw7dw41avAQDSJvlZ1XiEbTxLU9V41sj1Y1Sm8RJ33jrJSIDIGHG5DWXDnxjYi8y5YTVzBsyX7r49qVQrFlfFeYTCYNW0XeJDw8HCNGjMC0adNQrVo11KhRAwsWLAAADBgwQOPWEZEadv+dhoFf7BZdOzEjDmUDeXqoETHIRkS6x8MNSA9cOfENAPLy8pCXdyc4nJWV5YnmEpHCxn2fiB8P3tnCM+n+Bvh31zoatoi81YIFC1CmTBk8/fTTuHXrFtq2bYuEhASUL19e66YRkcImrjqC7/ZdsD4e1KYa5j7aVMMWkbsYZCMiXZuw8ghW7L8z8DS+Kxz/G92JWQPkca6c+AYAc+fORXx8vCebSkQKyisswj2TN4iu/fJyZ8RWZXF5UkdAQADefvttvP3221o3hYhUciu/CA2niseWFS+0Q9vaFTVqESmFRx8RkS5dz85HzYnrRAG2z55qhbUvdWaAjRSl5olvADBp0iRkZmZa/1y4cMHuc4lIX05fuVEqwHZyZhwDbERE5LL959JLBdiOz+jDAJuXYCYbEekODzcgT1L7xLegoCAEBbEgOpHR/HfXOUxdfcz6OK5RND57upWGLSIiIqOb8nMSvtl93vr40ZZ34d3Hm2vXIFIcZ6xEpBs83IC0wBPfiKg4QRDw0Ec7cPRSpvXax4Nbol/TGA1bRURERpZbUIQGU8TZa8ueb4sOdStp1CJSC4NsRKQLPNyA9I4nvhF5v8ycAjSbsVF0bdek7oiJKKtRi4iIyOgSL2Sg/8c7RNe4S8d7ed2/6rp16zBjxgwcOXIEwcHB6Nq1K37++Wetm0VEDvBwAzIKnvhG5L12nrmGwV/usT6ODAnAwcm94OfHsYiIiFwzc+1xLNx+1vr4gaYx+GhwSw1bRGrzqiDbqlWrMHz4cMyZMwfdu3dHYWEhkpKStG4WEdlxPTsfLWZuEl377KlWiGscrVGLiBzjiW9E3in+f8ewaMc56+NR99XBa30aaNcgIiIyNFsnUy95rg261ndeooSMzWuCbIWFhRgzZgwWLFiAYcOGWa8XL1BNRPrBww2IiEhrhUVmNJy6AQVFgvXaqpHt0apGBQ1bRURERnb0YiYe/EhcBufI9N4IDw7QqEXkSV4zmz148CAuXboEPz8/tGjRAqmpqWjevDkWLFiAxo0b231dXl4e8vLuFFnPysryRHOJfBYPNyAiIj24kJ6Dzm9tFV07Or03wjgJIiIiF81bfxKf/X7G+rh3bBV88UxrDVtEnuY1Qba///4bADB9+nS8++67qFmzJt555x1069YNp06dQoUKtlck586di/j4eE82lchn8XADIiLSgx8PXsS47w9bH7erXQHfvdBewxYREZGR5ReaUX/yetG1r4e2RvcGVTRqEWnFT+sGODNx4kSYTCaHf06ePAmz2QwAePPNN/HYY4+hVatWWLRoEUwmE3744Qe77z9p0iRkZmZa/1y4cMHuc4nIdRNWHhEF2BrfFY6zc/sywEZERB719MI9ogDbW481ZYCNiIhcdvxyVqkAW+LUXgyw+SjdZ7KNHz8eQ4cOdfic2rVrIyUlBYC4BltQUBBq166N5ORku68NCgpCUFCQIm0lotJ4uAEREelBdl4hGk37VXTtt1e7oWalUI1aRERERvfuplP4z5bT1sdd60dhyXNtNGwRaU33QbaoqChERTk/gaNVq1YICgrCn3/+iU6dOgEACgoKcO7cOdSoUUPtZhKRDTzcgIiI9CDxQgb6f7xDdO307PsR4K/7TR1ERKRDhUVmxE79FflFZus1JhIQYIAgm1Th4eEYMWIEpk2bhmrVqqFGjRpYsGABAGDAgAEat47It9g63GBE1zqYeH8DDVtFRES+6P3Np/D+5jtZBk+1q45Z/Zto2CIiIjKyU1duoPd7f4iuHZzSCxVCAzVqEemJ1wTZAGDBggUoU6YMnn76ady6dQtt27ZFQkICypcvr3XTiHyGrSOrt4zvijpRrL1GRESeYzYLaDt3C/65cWfB55thbdC5nvMdEkRERLZ8lHAab288ZX3cvnZFLH+hnYYtIr3xqiBbQEAA3n77bbz99ttaN4XIJ01YeQQr9t85PKTxXeH43+hOMJlMGraKiIh8zdWsXLSZs0V07dCUXijPLAMiInJBkVlA8/iNuJFXaL320eAWeKBpVQ1bRXrkVUE2ItIGDzcgIiK9+PVYKv79zQHr4wbRYVg/pjMXfIiIyCV/Xb2Jnu/+Lrq2782eiArjAYpUGoNsROQWHm5ARER68fLyQ1hz+LL18eR+DfF859oatoiIiIzs89/PYO76k9bHrWqUx8oR7blwQ3ZxFkxELuHhBkREpBe5BUVoMGWD6NqGVzqjQXS4Ri0iIiIjKzILaDtnM67dzLdee/+J5ujf4i4NW0VGwCAbEcnGww2IiEgv/ky9gT7vi095OzkzDsEB/hq1iIiIjOzctWx0e/s30bW9b/RA5fBgbRpEhsIgGxHJwsMNiIhILxZuP4uZa49bHz/QNAYfDW6pYYuIiMjIvt5+FjOKjSuc65BcDLIRkSQ83ICIiPRCEATc/8E2nEy9Yb3GMYmIiFxlNgvo/NZWXMq4Zb321r+a4vHW1TRsFRkRg2xE5BQPNyAiIr2wteiz540eqMJtPERE5IIL6Tno/NZW0bVdk7ojJqKsRi0iI+MMmYjs4uEGRESkJ9tPX8NTC/dYH0eFBWHPpB7w8+M2HiIiku+b3ecx5eck6+N6lcth49gu3B5KLmOQjYhs4uEGRESkJ1NXJ+G/u85bH7/cox7G9aqvYYuIiMioBEFA93d+x9lr2dZrcx5pgsFtq2vYKvIGDLIRUSk83ICIiPSisMiMum+uF1376cUOaFG9vEYtIiIiI7uUcQsd5yWIrm2fcB/uLh+iUYvImzDIRkRWPNyAiIj05HxaNrou+E107Vh8H4SyJigREblgxb5kTFh11Pq4eoUQ/PZqN5YdIMXwDoWIAPBwAyIi0pfv91/A68XGpc71KuGbYW01bBERERmVrVOp4x9qhCEdamrXKPJKnD0T+TgebkBERHoz6Ivd2PV3mvXxOwOa4bFWd2vYIiIiMqrUzFy0m7tFdO3317qhRsVQjVpE3oxBNiIfxsMNiIhIT27mFaLxtF9F17a9fh+qVWCdHCIikm/VgYsY/8Nh6+Po8GDsnNid20NJNQyyEfkoHm5ARER6cuD8dTz26U7r4zJ+JpycGYcy/n4atoqIiIxIEAT0/3gHDl/MtF6b3K8hnu9cW8NWkS9gkI3Ix/BwAyIi0pu3f/0TH239y/p4aIeamP5QIw1bRERERnX1Ri7azBZvD00Y3xW1uVuHPIBBNiIfwsMNiIhIT8xmAa1mbcL1nALrtWXPt0WHupU0bBURERnV6sRLGPNdovVx+ZAA7J/cC/7cHkoewpk1kQ/g4QZERKQ3tgpRH57aGxEhARq1iIiIjOzxz3Zh77l06+PX4+7Bi93qatgi8kUMshF5OR5uQEREevPL0RS8+O1B62PWBSUiIlel3cxDq1mbRdc2j+uCupXDNGoR+TIG2Yi8GA83ICIivXnx2wP45Wiq9XH8Q40wpENN7RpERESGVXLRJjTQH4en9eahOaQZBtmIvFB6dj5aljjc4POnW6FPIx5uQERE2sgtKEKDKRtE1zaN7YJ6VZhpQERE8j29cA+2nb5mfTy2Z32M6VlPwxYRMchG5HV4uAEREenN8ctZ6PufbaJrf86KQ1AZf41aRERERnU9Ox8tSiQUbHilMxpEh2vUIqI7OOsm8hI83ICIiPToiz/OYM4vJ62PH2lxF957orl2DSIiIsPadPwKhv93v/Wxv58JJ2fGIYDbQ0knGGQj8gI83ICIiPRGEAT0eOd3/H0t23rty2dao1dsFQ1bRURERjVs8T5sOXnV+nj0fXXxap97NGwRUWkMshEZHA83ICIivbFVG3Tvmz1QOSxYoxYREZFRZeYUoNmMjaJr617uhEZVIzRqEZF9DLIRGRQPNyAiIj367c+rGLpon/XxXZFlsX3CfVz8ISIi2bb+eRXPFhtTAODUrPsRWIbbQ0mfGGQjMiAebkBERHo06ccjWL73Tnb1+F718VIPnvRGRETydV2wFefTcqyPX+hSG2/0bahhi4ic44ycyEB4uAEREelRQZEZ9d5cL7q2ZnRHNL07UpsGERGRYaXdzEOrWZtF1zimkFEwyEZkEDzcgIiI9Ojvf26i+zu/i64dn9EHIYG8zSQizysyC9h7Nh1Xb+Siclgw2tSqAH8/blc3im/3nMebPyWJrp2cGYfgAH+NWkQkD+9+iAyAhxsQEZEeLduTjDd+Omp9fN89UVj0bBsNW0REvmxDUgri/3ccKZm51msxEcGY9mAs4hrHaNgykqLBlPXILTBbH9eqFIqtr3bTrkFELmCQjUjHeLgBERHp1b8+3Yn9569bH7//RHP0b3GXhi0iIl+2ISkFI5cehFDiempmLkYuPYhPn2rJQJtOZeTko/kM8Zzn48Et0a8p/73IeBhkI9IpHm5ARER6lJVbgKbTN4qubZ9wH+4uH6JRi4jI1xWZBcT/73ipABsACABMAOL/dxy9YqO5dVRnbM15jk7vjbDgAI1aROQeztaJdIaHGxARkV7tO5eOAZ/tsj4uG+CPpPg+nLQSkab2nk0XbREtSQCQkpmLvWfT0b5ORc81jBxqOXMT0rPzrY+jw4Ox+40eGraIyH1+WjeAiO44ejETdd74RRRg2zK+KwNsRESkubnrT4gCbMM718KJmXEMsBEp7NSpU3j44YdRqVIlhIeHo1OnTti6davWzdK1qzfsB9hceR6pKyu3ADUnrhMF2N57ohkDbOQVmMlGpBM83ICIiPSoyCygWfxG3MwrtF5b8UI7tK3NbBAiNTzwwAOoV68eEhISULZsWbz//vt44IEHcObMGURHsy6vLZXDghV9HqlndeIljPkuUXTt8LTeiCjL7aHkHRhkI9IYDzcgIiK9upRxCx3nJYiucTJEpJ5r167h9OnTWLhwIZo2bQoAmDdvHj755BMkJSXZDLLl5eUhL+/OLoisrCyPtVcv2tSqgJiIYKRm5tqsy2YCEB0RjDa1Kni6aVRMx3kJuJRxy/o4PLgMjkzvo2GLiJTH7aJEGvph/4VSAbak+D4MsBERkebWHL4sCrA1rxaJc/P6McBGpKKKFSvinnvuwX//+19kZ2ejsLAQn3/+OSpXroxWrVrZfM3cuXMRERFh/VOtWjUPt1p7/n4mTHswFsDtgFpxlsfTHozl9naN3MwrRM2J60QBtrcea8oAG3klBtmINFBkFtB2zmbRSTojutbBuXn9eHookY6xTg75iueX7MfLyw9ZH8/s3xg/j+qoYYuIfIPJZMLmzZtx6NAhhIWFITg4GO+++y42bNiA8uXL23zNpEmTkJmZaf1z4cIFm8/zdnGNY/DpUy0RHSHeEhodEYxPn2qJuMYxGrXMt60/moLG034VXTs0pRcev9f3gsHkG7xqNn/q1Cm89tpr2LFjB/Lz89G0aVPMnDkT9913n9ZNI7I6ejETD360XXRty/iuqBNVTqMWEZFUrJND3u5WfhEaTt0gusYxish9EydOxPz58x0+58SJE7jnnnswatQoVK5cGdu2bUPZsmXx1Vdf4cEHH8S+ffsQE1M6UBQUFISgoCC1mm4ocY1j0Cs2GnvPpuPqjVxUDru9RZQZbNro8c5vOPNPtvVxgL8Jp2f31bBFROozCYJga9u6IdWvXx/16tXD3LlzrZOfxYsXy5r8ZGVlISIiApmZmQgPD1e5xeRreLgB+SJv6VevXbuGqKgo/PHHH+jcuTMA4MaNGwgPD8emTZvQs2dPSe/jLf8/yPskXcrEAx+KF4FOzbofgWW48YH0zQj96j///IO0tDSHz6lduza2bduG3r174/r166K/S7169TBs2DBMnDjR6WcZ4f8Hebec/ELEThVnr83s3xhPt6uhUYuI3COnX/WaTDZXioQSeQoPNyAyvuJ1clq2bImgoCCndXIAFqQmY/jkt7/w1oY/rY8fb3033vpXMw1bRORdoqKiEBUV5fR5OTk5AAA/P3Fw28/PD2azWZW2+aIis8BsN5VsOXEFw5bsF13bP7knKpVjtiX5Bq8JsnHyQ3r1w/4LotprwO3DDVh7jchYLHVy+vfvj7CwMPj5+aFy5coO6+QAtwtSx8fHe7ClRNIJgoAuC7biQvqdYtSLht6L+xpU1rBVRL6rffv2KF++PIYMGYKpU6eibNmy+PLLL3H27Fn069dP6+Z5hQ1JKYj/33GkZOZar8VEBGPag7Gs2+amBz/cjqOXMkXXzs3j7y35Fq/J/3elSCjA03hIPTzcgMgYJk6cCJPJ5PDPyZMnIQiCqE7O3r170b9/fzz44INISUmx+/4sSE16de1mHmpN+kUUYNs/uScDbEQaqlSpEjZs2ICbN2+ie/fuaN26NbZv347Vq1ejWTNml7prQ1IKRi49KAqwAUBqZi5GLj2IDUn2x3OyL7egCDUnrhMF2KY8EMsAG/kk3ddkk1MktH///igoKMCbb75pLRK6Zs0au0VCAduZbNWqVWMNA3ILDzcgukPvtWE8WScH0P//D/INCSev4LnFd7bz1KgYgt9e7cYaoWRI7FfF+P/DtiKzgE7zE0oF2CxMuH0S6fYJ3bl1VIbfT/2DIV/vFV3b80YPVAkPtvMKIuPxqpps48ePx9ChQx0+p3bt2khISMDatWtFk59PPvkEmzZtwpIlS+xOfngaDymNhxsQGQvr5JCvefWHw1h54KL18YS4BhjZrY6GLSIiUt/es+l2A2wAIABIyczF3rPpaF+noucaZmADPtuJfeeui64xe418ne6DbJz8kFHwcAMi78Y6OWR0+YVm1J+8XnRt7Uud0PiuCI1aRETkOVdv2A+wufI8X5ZXWIR7Jm8QXeOCDdFtug+yScXJD2mJhxsQeT9LnZw333wT3bt3R0FBARo1asQ6OWQIf129iZ7v/i66dmJGHMoG+mvUIiIiz6ocJm37otTn+aqdZ65h8Jd7xNcmdkfVyLIatYhIX7wmAsDJD2mhyCygw7wtuJJ1p67fiK51MPH+Bhq2iojU0rp1a/z6669aN4NIlm92ncOU1cesj3vHVsEXz7TWsEVERJ7XplYFxEQEIzUzF7aKkltqsrWpVcHTTTOMpxfuwbbT10TXuD2USMxrgmwAJz/kWTzcgIiI9EwQBPT/eAcOX7xz2ttHg1vggaZVNWwVEZE0RWYBe8+m4+qNXFQOux38cudAAn8/E6Y9GIuRSw/CBIgCbZZ3nfZgLA89sKGgyIx6b4rLDbzSsx5e6VlfoxYR6ZdXBdmIPIWHGxARkZ5l3ipAs/iNomvczkNERrEhKQXx/zsuOqggJiIY0x6MRVzjGJffN65xDD59qmWp945W4L291b5z6Rjw2S7RtW2v34dqFUI0ahGRvjHIRiQDDzcgIiK923UmDYO+3G19HB5cBolTe8OP2RlEZAAbklIwcunBUls6UzNzMXLpQXz6VEu3A229YqMVzZLzVsP/ux+bjl8RXTs7ty8TC4gcYJCNSCIebkBERHo3c+1xLNx+1vp4ZLc6mBDHOqFEZAxFZgHx/ztus2aagNvbOuP/dxy9YqPd3jravk5Fl1/v7QqLzKhbYnsoxxMiaRgdIHKChxsQEZHeFZkFNJy6AfmFZuu1lSPao3VNFvAmIumUroMm196z6aJtnCUJAFIyc7H3bDqDZCo5lHwdj3yyU3Rt66vdUKtSqEYtIjIWBtnISutBVY94uAERkW8zwth4IT0Hnd/aKrp2dHpvhAUHaNQiIjIiteqgyXH1hv0AmyvPI3lGLzuItUdSRNe4PZRIHgbZCIA+BlW94eEGRES+zQhj40+HLmLsisPWx21qVsD3I9pr2CIiMiK166BJVTksWNHnkTRFZgF13vhFdO25jrUw9cFYjVpEZFwMspFuBlW94OEGRERkhLFxyNd78fupf6yP5z3aBAPbVNewRURkRJ6qgyZFm1oVEBMRjNTMXJvtMeH2SaBtanErvFKSLmXigQ/FO3c2j+uCupXDNGoRkbH5ad0A0pazQRW4PagWmW09w/t8v/9CqQBbUnwfBtiIiHyI3sfGnPxC1Jy4ThRg2/pqNwbYiMglcuqgqc3fz4Rp/589VTKcZ3k87cFY3W3bN6pXfzhcKsB2dm5fBtiI3MAgm4/T06CqpSKzgLZzNuP1YqeHjuhaB+fm9ePpoUREPkbPY+PhCxmInfqr6Nrp2fezIDURuUxvddDiGsfg06daIjpCvCU0OiJYF1nE3sBsFlBz4jqsPHDReu3JttVxbl4/lsYhchOjB17KVqFmAKWu6W1Q1QIPNyAiouL0Ojb+Z8tpvLvplPXx4LbVMeeRJh5tAxF5Hz3WQYtrHINesdG6P3jGiE6mZiHu/W2ia+vHdEbDmHCNWkTkXRhkU5kWp5LZKtQcGXL7hLGMnALrtZiIYAy8V9rWEm8tLvr6ysP4fv+dFZwmd0VgzeiOXMEhIvJheptwCoKADvMSROP6kufaoGv9KI98PhF5N73WQfP3M6F9nYoe/UxvN/nno1i6O1l07e85feHH4CWRYhhkU5EWp5LZK9RcPLhmkZqZi/c3n0JkSAAycwp0NaiqjYcbEBGRPXqacF7NykWbOVtE1w5O6YUKoYGqfzYR+QZLHbSRSw/CBIj6PdZB8w6CIKDWJPHpoY+1vBvvPN5MoxYReS/WZFOJJdhVsqaL5VSyDUkpin+mo0LNtlieZxlMfaW4KA83ICIiR/RSeHvjsVRRgK1u5XI4O7cvA2xEpDjWQfNef129USrAtvalTgywEamEmWwq0OoYbGeFmm0RAFzPKcDYnvXw3b4LotdHRwRjSr+GiCgbiNWJlwxfC6HILKDDvC24kpVnvTaiax1MvL+Bhq0iIiI9skw4S2akR6uckW4xdkUifjp0yfr4zb4NMbxLbVU/k4h8G+ugeZ+Za49j4fazomtn5vTlvymRihhkU4GcU8mUrDPgTgHmmpVCsX1Cd9Ggej07HzPXeXa7q1p4uAERkf5pUcfUES0mnHmFRbhn8gbRNRakJiJPYR0072Bre+gDTWPw0eCWGrWIyHcwyKYCrU4lc6cAc+WwYNGguiEpBaOWla7tZtnuaqS0cR5uQESkf1rUMZXCkxPOU1duoPd7f4iunZwZh+AAf498PhERGd+5a9no9vZvoms/vdgBLaqX16ZBRD6GQTYVaHUqWasa5VEhNADp2aUPObDHVvFmrba7Ko2HGxARGYO9Q3uMuLDjqsU7zmL6/45bH/drEoOPn2TGARGRPXrLftaD7/YmY+KPR0XX/pp9P8r4sxQ7kacwyKYCLU4ls2QAyA2wAaWLN2u13VVJ3++/gNdXHhFdS4rvg3JB/JUnItITb1nYcZUgCOj7n+04kZJlvfbpky1xfxPvDioSEbnCEljbfDwVPyVeEs199JD9rBVBEDDgs13Yf/669VrPhpXx1ZB7NWwVkW9ixEEFnj4G214GQHGRIQEAgIycOwORveLNWm13VQIPNyAiMhZvWNhxVUZOPprPEGdc757Uo9TpfkREZLusQHG+lP1c3LWbeWg9a7Po2g8j2uPemsoldBCRdAyyqcRTp5I5ygCwKBdUBh8ObIG2tSviwPnrTlOqtdru6i4ebkBEZDxGXthxx46/ruHJr/ZYH1cMDcS+N3vCzwuz9YiI3CUlqcAXsp9L+uVoCl789qD1cWigPw5P683toUQaYpBNRUqcSuas1oCzDAAAuJlXiKe/3ouYiGBM6ReLymHBuHrjdlaArfZosd3VXTzcgIjImNRc2NFrvZ7pa45h8c5z1scvd6+Lcb3v0a5BREQ6JiWpwMKbs59LevKr3djxV5r18bhe9fFyj3oatoiIAAbZVOfOqWRSTlqTs7KfkpmLF5cdFF2zVbvA09td3cHDDYiIjE2thR09nlZaWGRGvcnrIRT7i/74Yge05IlvRER2SUkqKMnbsp+Lu56djxYl5j+/vtIF90SHadQiIipOcpDt0UcflfymP/74o0uNoTuknrTm7pZNe7ULPLXd1R083IDIu3Cc8U1qLOzo8bTS5LQcdFmwVXSNYxaRZ3Gc0Td72ceuBMz0VtZGKRuPpeKFbw5YH5fxM+HEzDgEcHsokW5IvrOLiIiw/rcgCPjpp58QERGB1q1bAwAOHDiAjIwMWYMX2SbnpDVnGQDOOKpdoMR2VzXwcAMi78RxxncpubCjx9NKf9h/Aa8VWxTqUKcilg1v55HPJqI7OM7ol6PsYzkBMz2WtVHKc4v3IeHkVevjl7rXxXiWGiDSHclBtkWLFln/e8KECXj88cfx2Wefwd/fHwBQVFSEF198EeHh4cq30sdIPWlt8Y6zGNqxlt0MAKkc1S5wZ7urGni4AZH34jijP56saabUwo7eTisd/OVu7Dxzp2bOgn81xYDW1VT/XCIqjeOMPjnLPv54cAtZSQV6KWujlMycAjSbsVF0bd3LndCoaoSdVxCRlkyCIMiOy0RFRWH79u245x5x5PzPP/9Ehw4dkJaWZueV+peVlYWIiAhkZmZqNsCuTryEMd8lSnquZYUHgMMjraX4YGBzPNz8LpdfL4U7EzYebkBkTK70qxxntKfHmmZSSB1D1R7zbuYVovG0X0XX/njtPlSvGKLaZxL5Ko4zYkYZZ4Dbc4NO8xPszmEsmWlT+sVi1P/XlrY3eQ0L9ker6uXRuV4Unm5fE4FljL+FcuvJq3h28T7RtVOz7veKv5sr9HqgEXk/Of2qS4VACgsLcfLkyVKD0smTJ2E2m115SypGTkp08foy2yd0x+6/0zDq24PIuFWg6ue6wtUJGw83IPI9HGe0pceaZlKpeVqpVAeTr+PRT3ZaH5tMwOlZ96MMa+YQ6QbHGX2Qmn1cPjTQZlmBiqGBiIkMxrHLWbiRW4TfTl3Db6euYfYvJzC8cy1M6hvrgb+FPFIDRSO+OYANx1Ktj//dpTYm9W3oyabqilEX/8j3uBRke/bZZzFs2DCcOXMGbdq0AQDs2bMH8+bNw7PPPqtoA32RnDprJevLdKxbCfMea4KRSx2v9JTkZwKuZ+c5f6KLXJ2w8XADIt/EcUY7eqxpJodap5VK9e7GP/GfhL+sj4e0r4H4hxur8llE5DqOM/og9VCDqzdy8XDzu0qVFUg4eQVfbjtb6vlmAfj8j9vX9RRokxIoysotQNPp4u2ha0Z3RNO7Iz3ZVF0x8uIf+R6XIhVvv/02oqOj8c477yAlJQUAEBMTg9deew3jx49XtIFG5G4aq6OT1mwpWV/GXgFpR8wCMGrZIXzqZ7LZQbnzd3JlwsbDDYh8G8cZ7eitpplcapxWKoXZLODe2ZuRlp1vvfbt823RsW4lRT+HiJTBccZ9Smzdk5t9XLxedH6hGU9+tdvh677cdhbjezfQxfZKKYGikMAyeObrvaKf/zkrDkFl/D3XUJ0x+uIf+R6Xgmx+fn54/fXX8frrryMrKwsAdL/f31OUSmN1JVBWfCXIVgHptBt5eHnFIZgdRO1sdVDu/p3kTtj0dLgB9/0TaYPjjHbkZBXolZKnlUqRmpmLdnO3iK4dmtIL5UMDFf0cIlIOxxn3KDXncSf7+Jtd5xzOa4DbiQTf7DqHYZ1rS26TGqQEil5ZkYjcgjtblZ/tWBPTHmzkqSbqltEX/8j3uLznrrCwEL/99hvOnDmDwYMHAwAuX76M8PBwlCvnmyc9Kp3GagmULd5xFjPXnXD6/JIrQSVPBt11Js3hQGSrg1Li7yRnwqanww24759IWxxntKGHmmZKUOq0UmfWH03ByG8PWh83jAnHLy934qE8RAbAccY17s4PSi5iWw41cJZ9XPJ159KyJbX3fHqOnL+eKqQEiooH2H58sQNaVi/vgZbpnzcs/pFvcSnIdv78ecTFxSE5ORl5eXno1asXwsLCMH/+fOTl5eGzzz5Tup26p1Yaq7+fCUM71sJX28+6XV9Gbgel1N9J6kSs5Glwrh5uoET2Gff9E2mL44x2tK5ppqSSi01KG7XsINYdSbE+nvZgLJ7tWEu1zyMi5XCccY278wN7i9gvdKmFNYdT7GYf23pdWLC0qWyNCtqf6iwnAHRyZhyCA3x3e2hJ3rL4R77DpSDbmDFj0Lp1axw+fBgVK965eX3kkUcwfPhwxRpnJGqmsSpVX0ZuB6XU30nOQQ4Wrh5uoET2Gff9E2mP44x2lKxp5q1b7nMLitBgygbRtY1ju6B+lTCNWkREcnGccY078wNHi9hf/HEWHw9ugfKhQaIxAwA+2HwK720+XeqzbuQWOm2vnwl4un1Np89Tm9R52PLh7RhgK8GbFv/IN7gUZNu2bRt27tyJwEBxrZGaNWvi0qVLijTMaNROY1WivozcDkqpv5OcgxzcOdxAqewz7vsn0h7HGW0pMeZ465b7EylZuP+DbaJrvl6UmsiIOM64xtX5gZRF7JnrTmD7hO7WxZgNSSmYvuY4UrNc3wY4vHMtXRx6ICXpIIaBIpu0OtCIyFUuBdnMZjOKiopKXb948SLCwnxzFdcTaazu1peR20Ep+XeScpCDO4cbKJl9xn3/RNrjOKM9d8Yce4seKZm5GLH0ID4Z3AJ9m1ZVp+Eq+mrb35hVrEbqw82r4oOBLTRsERG5iuOMa1ydH0hdxF684ywqhQXh3LUcvL/5lORdMCYTIBR7sp/pdoBtUt9Yie+gLss8bMTSgzZ/bgIDRY5IXfzz1gx6MhaXgmy9e/fG+++/jy+++AIAYDKZcPPmTUybNg19+/ZVtIFG4ak0Vnfry8jJTrD8nZydbno9O0/yZ/eKjcawxfvw26l/rNeVONxAyewz7vsn0h7HGX1wZcxxtOhhMXr5IXwEE/o2NUZGmyAI6PXeH/jr6k3rtS+eboXeLtQNJSJ94DjjGlfnPFIXp6Uc9mbL2/9qhoycfJxPz0GNCiF4un1NXWSwFbft9DWb170hy9sTnC3+eWsGPRmPS0G2t99+G3FxcYiNjUVubi4GDx6M06dPo1KlSli+fLnSbTQEI6Wx2uuggNsnkBa/NqVfLF5cZnvFxWLmuhPo0zjG6d8tPTsfLWduEl1z9XCDkpTMPuO+fyLtcZwxLmeLHgBgFoAXlx3EJyhdf0cP42RxtsauvW/0QOVwLrQQGRnHGde4OudRe3G6amRZPNbqblU/w1W26nhO7tcQUWFBuh379Mre4h8PrSM9cSnIVq1aNRw+fBgrVqzA4cOHcfPmTQwbNgxPPvkkypYtq3QbAQCzZ8/GunXrkJiYiMDAQGRkZJR6TnJyMkaOHImtW7eiXLlyGDJkCObOnYsyZVz6a8qmRA0buVxNiS3ZQdmL/A+8t7rT95KSIfb9/gt4feUR0TVXDzewRcnsMyMFTIm8lRbjDClDzlb60csPwVysk9XbivMfp/7BM1/vtT6ODg/Grknd3cq8JiJ94DjjOlfmPK4chCaFZfHbbBawOvGS7oJWB5Ov49FPdoquHYvvg1CF5kDEQ+tIf0yCIMjq5woKCtCgQQOsXbsWDRs2VKtdpUybNg2RkZG4ePEiFi5cWCrIVlRUhObNmyM6OhoLFixASkoKnnnmGQwfPhxz5syR/DlZWVmIiIhAZmYmwsPDXWqrp/aCK5USay/y7+yQguI+GNgcDze/q9T1IrOADvO24ErWnS2lI7vVwYQ41w43sKfILKDT/ASn2WfFi6k6w5RjImXI7Ve1Gmc8RYlxRs92nUnDoC93u/RaS++shxXnN386im/3JFsfj+1ZH2N61tOwRURkD8cZMU+NM3LnPJY5ByB9jiFFZEgAMnIKrI/1cr8+fc0xLN55zvqYdTzVIfW+Y/nwdjy0jlwmp1+VHUIPCAhAbq7nC77Hx8cDABYvXmzz5xs3bsTx48exefNmVKlSBc2bN8fMmTMxYcIETJ8+vdTJQWpyt26aFEqlxDqL/EtlK0Ps6MVMPPjRdtE1dw43cESN7DN3D5ogItdoNc6QMqTW87RFDyvOBUVm1Htzveja6lEd0axapMfbQkTq4DijDLlzHikHockRWbYMMm4VigJsgGe3CNoKNBYUmUttD/1mWBt0rhelalt8FQ+tI71xKU911KhRmD9/Pr766iuPbcV0ZteuXWjSpAmqVKlivdanTx+MHDkSx44dQ4sWtlcN8vLykJd3J8sqKytL9ba6S8mUWCm1cxyxV5/s9ZWH8f3+i9bHShxu4Iwa23U9ETAlotL0OM6QNM5OUHNGzkE1Sjt7LRv3vf2b6NrxGX0QEsjfQSJvw3FGGyUXsa/dyHP5sIPMW4U2r3tqwcbWrpeKoYFIy84XPe/I9N4IDw5QpQ0l+eLpmjy0jvTGpRFl37592LJlCzZu3IgmTZogNDRU9PMff/xRkcbJkZqaKgqwAbA+Tk1Ntfu6uXPnWrPkjELqSZo7/7qGMv5+DjvZ1Cz3AmyAOENMzcMNpGD2GZF30OM44wuUujmPaxyDTwa3KFVzTQ5PrjgXmQXMX38SX2z723qta/0oLHmujcfaQESexXFGO8UXsYvMAr7aftalWm2Onq/2go29XUXFA2xxjaLx2dOtFP9sR23yxVI3PLSO9MalIFtkZCQee+wxtz984sSJmD9/vsPnnDhxAg0aKFu/q7hJkyZh3Lhx1sdZWVmoVq2aap+nBKkTj2e+3ivqaEp2shuSUjBz7THJn+tngmiyVDJDTO3DDaTyZPaZL64WEXmCUuMMSaf0zXmfxjF4uftNvL/ltEvt8dSK84akFLy8/BDyi+4McBFlAzCojb7vBYjIPRxnXKP0va+zki8CgNAgf2TnFbn0/mos2DjaVWRRPiQAHz/ZUvHPtseXT9fkoXWkNy5FPxYtWqTIh48fPx5Dhw51+JzatWtLeq/o6Gjs3btXdO3KlSvWn9kTFBSEoKAgSZ+hF1InHo46WQA2O2JHzAIwpV9DVCp23DQA7Dh9DS8uO4jMW3fqIahxuIHe+OpqEZEnKDXOkDRK35zb6h+LK7loU5wnV5x/OngRY78/XOp61q0Cr5+UEPk6rcaZ2bNnY926dUhMTERgYGCpw9wAIDk5GSNHjsTWrVtRrlw5DBkyBHPnztV8W6ta976OSr4MvLc63tt8yuX3VmPBRkq5nes5BR4re8DTNdUpG0TkKrd66qtXr+LPP/8EANxzzz2oXLmyrNdHRUUhKkqZApDt27fH7NmzcfXqVWs7Nm3ahPDwcMTGxiryGXrh6hHYxTtZQRBcOtWnUliQ9RTRDUkpmPxzEq7dFNcdmP5gLIZ2rOXCuxuHL68WEXmSu+MMlVYyC6FVjfKK3pzb6x8txvasj3qVy2HUstInzHlyxXnP2TSbATZLm3xhUkJEnh9n8vPzMWDAALRv3x4LFy4s9fOioiL069cP0dHR2LlzJ1JSUvDMM88gICAAc+bMUbVtjqh972uv5MvaI5ddej81F2z0VmhfaikhLWqdehLLBpFeuBRky8rKwqhRo/Ddd9+hqOh26q6/vz+eeOIJfPzxx4iIiFC0kcDtFZ309HQkJyejqKgIiYmJAIC6deuiXLly6N27N2JjY/H000/jrbfeQmpqKiZPnoxRo0YZLlPNlpKToin9Yq0TFDksnayrLKtBG5JS7Ba1jv/fcURHBHttkImrRUTq02Kc8QW2shAqhAYgPbvA7mvk3Jw720JjAvDdvmRsn9Bd0xXntzacxCe/nXH4HMvfe/GOsxjasRb7cyIvo9U4Y6kFvXjxYps/37hxI44fP47NmzejSpUqaN68OWbOnIkJEyZg+vTpCAwMLPUatQ9yc3bvCwBv/HQU3RtUQWAZP5c/x1bJF1cy0dResKkQWvrfwBZPlT3QW9BPSzy0jvTApV5w+PDh2LNnD9auXYuMjAxkZGRg7dq12L9/P/79738r3UYAwNSpU9GiRQtMmzYNN2/eRIsWLdCiRQvs378fwO1Bce3atfD390f79u3x1FNP4ZlnnsGMGTNUaY8nbUhKQaf5CRj05W6M+S4Rg77cjZnrjuOFLrUQWdYzJ9UAt9PB29SqgH9u5Dk9NS7+f8dR5Gq1awUVmQXsOpOG1YmXsOtMmiJtkrNaRESu0WKcAW5v4+nQoQNCQkIQGRlp8znJycno168fQkJCULlyZbz22msoLLR9wpmeWLIQSvZfjgJsxUm5OZfTP8Y1jsH2Cd2xfHg7fDCwOZYPb4ftE7qXCrAp2Y+bzQKaTv/VaYCtuJnrTqDT/ARsSEpx+XOJSH+0Gmec2bVrF5o0aSI60K1Pnz7IysrCsWO2aynPnTsXERER1j9K15eWsj0yPbsA7eZuUbyvtOzgkSMiJEC1XSV/pt7A0wv3OnyOCXfmTZ7A0zWJ9MWlTLa1a9fi119/RadOnazX+vTpgy+//BJxcXGKNa64xYsX213xsahRowZ++eUXVT5fK45Ss7/44yxe7lEPH7hYVFquKf1isergxVKHG5Skl5RktepGcLWISH1ajDOAcbfxOCOlSLMzUm7O5faPzlaclezHL2fcQod5CbJeY8FSAETeR6txxpnU1FRRgA2A9XFqaqrN16h9kJvUvj09O1/xvtJS1N7ZAn9xZQP80SvWfk1uV/1ny2m8u0lcH04PhfZ5uiaRvriUyVaxYkWbKdQREREoX768242i26SkZn+//wKiw4MgtQu3rKzIeY3Fi8sOOg2wFadlkMlexoZlouTOKhtXi4jUp9U4Ex8fj7Fjx6JJkyY2f27ZxrN06VI0b94c999/P2bOnImPP/4Y+fn5Nl+Tl5eHrKws0R9Pk5KFYI+cFXkl+0cl+/G1Ry6LAmzVK4Rg6bA2ksdCy5irlyxtInKfkuPMxIkTYTKZHP45efKkUk0vJSgoCOHh4aI/SpJ7T+tOX2krezmucQyGdawp+T2U3lFSWGRG7NQNogDbJ0+2xGdPtUR0iSy76Ihgt4KMrmRvWwKRAEqNaTxdk8jzXMpkmzx5MsaNG4dvvvnGenJnamoqXnvtNUyZMkXRBvoyqdtuxvash/c3ny61kmLvNQPvrY56lUMxatkhBVtbmlZBJrVrpnG1iEh9eh1n7G3jGTlyJI4dO4YWLVqUes3cuXOtNXiUVrJep70Cv64uesi9OVeqf1SyH3/hv/ux8fgV0bXk9Bw8tXAvIkMCrO8nZfzUQ5Y2ESlDyXFm/PjxGDp0qMPn1K5dW9J7RUdHY+9e8XbEK1euWH+mBTmHrrnTVzrKXu4ZG42FO85Jfi+lFvv/unoDPd/9Q3Rt/+SeqFTuds1vJQvtu5O9zdM1ifTDpSDbp59+ir/++gvVq1dH9erVAdyuURMUFIR//vkHn3/+ufW5Bw/KL85Pt0kdHGpWCrXZqfqZAFuLH+9tPoWYiGC80KUW1hxOcesgBHsiywZoFmRS+4Qdy2rRyKUHdZEiTuSN9DrO6Gkbj5ybcamLHhVCA5GefScjT+7NubNtPQKk9Y9K9OO5BUVoMGWDw8/JzLldjy4iJAAZOcrVpiMi/VNynImKikJUVJQi7Wrfvj1mz56Nq1evWk863bRpE8LDwxEbG6vIZ8hV/N5XKrl9pbPTSz8e3BIxEcGS5y1KLPZ/8ttfeGvDn9bHbWpWwPcj2oueo1ShfSVOb+XpmkT64FKQrX///go3g2yRs+2mfZ2KpTrVVjXK49Pf/sJ7m0vXbLPUdPt4cEtElA3A8G/2Iye/yOHnlAvyx/DOtW2+X0nPdqypWYfuiZppaqwWSc1IIfIFSo4zEydOxPz58x0+58SJE2jQoIFin1lcUFCQ4qdcy70Zl5ph9vtr9+HA+euy+6Hi/de5a9lu/d0A9/vxpEuZeODD7U5fb8liKxvgj1F962L2LyecvoalAIi8g1bzmeTkZKSnpyM5ORlFRUVITEwEANStWxflypVD7969ERsbi6effhpvvfUWUlNTMXnyZIwaNUrxsUQOy73vGz8dlXRgjpy+Ukr28sx1xzGlX0O86GQnjhI7SorMAlrN2iRafPlgYHM83Pwul9/T2ecplb3N0zWJtOdSkG3atGmSnrd8+XJkZ2cjNDTUlY/xeXK33ZTsVIvMAr7bd8HmexcfsLZP6I53H2/mtKBodl4R3tt8GpEhAcjMKbCbLl4+JACju9dz+vdTi6dqpim5WqTWIQ1ERqXkOONt23hcuRmXmoEbWMZPke099kidKLjTj3/62xnM33Cn9lHX+lH4/dQ/dt/DkhUXGxPuE6UAuKBDdJtW85mpU6diyZIl1seWMgNbt25Ft27d4O/vj7Vr12LkyJFo3749QkNDMWTIEMyYMUORz3dHXOMYdG9QBe3mbhFlPRfnSl8pNXu5fGgQPnuqJSb+eNRm9rESO0r+/ucmur/zu7h9b/ZQdYFF7V04RORZLh18INW///1v6+SD5LNMiuzd7AOOBxGpHfbiHWfRKzYaz3eq6bA9lslbyTaUbNfcR5toesNuCU7aa4GSx2pbApsPN78L7etUdDnAptYhDUTeTso4ExUVhQYNGjj8ExgYKOnz2rdvj6NHj+Lq1avWa57exiPnZrw4SxaCq0WabRVjttd/yW1bSa7044IgoOuCraIA29dDW+PRltIyD65l53l94egNSSnoND8Bg77cjTHfJWLQl7vRaX4CxxkiB5SezyxevBiCIJT6061bN+tzatSogV9++QU5OTn4559/8Pbbb6NMGZdyIxQXWMYPcx5pDBOU6yvlZC/HNY7Bgcm9MLZnfUSWDRD93N1DB77a9rcowNbs7gicndtX9QxmT+zCISLPUbW3FgSewKWESBu1YiJCAjDv0SYOBxGpHfHMdSfw7qZTyHayXRS4PUHKyCnA2J718d2+ZF1mXhmpZprahzQQeTulxxkjbONx52bc1QxcW9lq0eFByC00Oy2CLbVtxcntx6/dzEPrWZtF77HvzZ6ICgvCrjNpktpkKb3grYWjlaj3Q+SLOJ8pTemyKXKzl/39TBjTsx5Gd6+rSGau2Syg/bwtuJKVZ732zoBmeKzV3bLfyxWe2oVDRJ6hjyURssneDTFwp1izI3I6YikBtuJqVgrB9gnddbvlxCgn7DA9nEhfjLCNx92bcbn1WuwGZ4pNRuSS8neIaxyDjwe3wOTVSaL6PyX78a0nr+LZxfusP69WoSz+eO0+mEy3xyO5pRe8sXA0F3SISGlK9pWunkytRP2x5LQcdFmwVXRt96Qe1kUaT4wDSp3MTUT6wCCbTjm6IbZwdkPcplYFRIcHuTURsscIKylGmCgxPZxIXxYvXozFixc7fI5lG49WPHkzLmUskkNO2zYkpWDmuhOiAFuF0EBM6XcnwDZh5RGs2H+n9uhrfe7BqPvqit7HlexmbysczQUdIlKDUn2lVrtQ/rvrHKauPmZ93CA6DOvHdMavx1I9WivZSLtwiMg5Btl0SokbYn8/Ewa1qS7pNFCpLBOk69n56DQ/QZfbRYvT+0SJ6eFEJJcnb8adjUVyyGmbvey569n5GLXsID4UmmP08kTRz9a+1AmN74qw+X5GyW5WCxd0iEjvPNlP367h+RuS03Os1+Y92gQD21TXbGu9HsYpHoxDpAwG2XRKqRvimpWUPdlVAPBQsxiMWsa6LnLYG7TUykjRYpDkwEzkOZ66GVcy6CK1bc62NgIoFWA7MSMOZQP9Hb6vEbKb1cIFHSIyAk/00xev56DTfPH20B0Tu+OuyLKSttZPX3MMYcEBuHYzT/H2aTlO2aq9qnQCBecK5CtcCrINGTIEw4YNQ5cuXRw+r0aNGggICHD4HCqtyCzg2g1pWzyd3RArfcM8pkddfL//ouHqumjZqTsbtJTOSPHEIKmHzyTvxnHGOU/cjCs1hkzp1xBDO9aS1DY52XM9G1bBV0NaS26H3rOb1cJ6P0SlcZzRJzX76WV7kvHGT0etj2tXCsWW8V2tNTyl7CRKzcrDk1/tsV5T+n5Xi3HKE9l7nCuQL/Fz5UWZmZno2bMn6tWrhzlz5uDSpUs2n5eUlIRq1aq51UBfsyEpBZ3mJ2DmuhMOn2fC7Y7J2Q2x5cZaKUVmQdI21t0ST3PzBMv/00Ff7saY7xIx6Mvd6DQ/ARuSUjzy2SOXHiz1/8wyaG1ISrFmpESX+Hdy5RhyKZ+nNC0+k7wfxxlpLDfjDze/C+3rVFR88cAyhrj6rpaxSmqADZCePTekfQ1ZATZfZtliDKDUvyXr/ZCv4jjjOwRBQK93fxcF2Gb2b4yEV7tZA2yAa9nbRr/flZI9Hv+/4ygyu16dlXMF8jUuBdl+/vlnXLp0CSNHjsSKFStQs2ZN3H///Vi5ciUKCpyfekm22euASpJzQ5yalatYPR3xpzs2apk+OkwtO3U5g1Zc4xhsn9Ady4e3wwcDm2P58HbYPqG7rACbJwZJPXwm+QaOM/rgKDgjldzgjdTsOa58y6Pkgo6RFZkF7DqThtWJl7DrTBrHJx/GccY3pGTeQq1Jv+D01ZvWa9tevw9Pt6tR6rmuZG8b/X5XTh1wV3CuQL7IpSAbAERFRWHcuHE4fPgw9uzZg7p16+Lpp59G1apVMXbsWJw+rVyxfV8g5wQ3qTfE09ccQ8d5CZI+PyYiGJEhAXYnUZZsBKnpyxm3CjRfmdC6U5c7aLmbkaL2IKmXzyTfwXFGH+wFZ5yJcTF4IyV7TkomN5WmxIKOmtQOgGmZ2U76xHHGu/2w/wLaz70zF7orsiz+ntMX1SqE2Hy+q9nbRr7fVftgHM4VyBe5ffBBSkoKNm3ahE2bNsHf3x99+/bF0aNHERsbi7feegtjx45Vop1eT2oNGil1bQqKzKj35nrRtWZ3R+DHFztaa/dUCg0CTBAV7dx0PNVpbbB2tSs6rOtSkpb12ZQ4odUdnj7NTYvT43hiHXkCxxntlaz/du5aNt7bfLrUeGExtmc9jO5ez6W+35I9N2LpwVI/49ZG9+m1Lp3a9Xq0OjGQjIHjjHcRBAEPfLgdxy5nWa9NfSAWz3Wq5fB1jk7vlsKI97tqH4yjl7kCD10gT3IpyFZQUIA1a9Zg0aJF2LhxI5o2bYpXXnkFgwcPRnh4OADgp59+wnPPPcdBSSKpHUulsCCHHcLm41fw/H/3i66tGtkerWrcXvFvU6uCqIN5oGlV6/tJPa3OMvg4IzeIpXTnp3Wn7unT3LQ4PY4n1pFaOM7oT8ngzD3RYW4HRWz1+wDwyopEm89X+vRU0ge1A2BSTgzU46FNpC6OM97palYu2szZIrr226vdULNSqKTX25sPSWHE+121D8bRw1yBhy6Qp7kUZIuJiYHZbMagQYOwd+9eNG/evNRz7rvvPkRGRrrZPN+hRAfUfMZGZOSIa0icndvXWtBTSgdTMluheMbbrjNpaFOrgnXwmbjqKDJuOa9ZISWIpUbnp3Wn7unT3LQ4PY4n1pFaOM7on7unm9rq96PCgvBPidO1Fw5pjZt5hVx59lKeCIBpndlO+sRxxvv8fOiSaJGmUrlA7Hmjp+y+w9Z8aPwPh3Ely/vudx1l7ymRPa71XIFZzKQFl4Js7733HgYMGIDgYPvBicjISJw9e9blhvkaqR2Q2SxgdeIl0WTjUsatUrXXJsQ1wMhudayP5XQwlmyFDUkpeHXlYbuBr7DgANER1vY4C2Kp1flp3amrPWhp/XlafSb5Bo4zxuDq1kN7/X7xAFurGuWxamQHN1voGLePaM8TATCtM9tJnzjOeA9BEPCvz3bhwPnr1muT7m+Af3et4+BVjpUc36Y/5L33u1J3M7lCy7kCs5hJKy4F2Z5++mml2+HznHVAAoBbBUV4cuGdoFZMRDAaRIdh65//iN7r0JReKB8aaH3sSgdjbwKUkpmLEUsPYljHmujesAqiw4NwJSvP5SCWmp2fHgJAag5aevg8rT6TvB/HGe8l5aCfiLJlsHx4O+w6k6ZaAIzbR/TBEwEwrTPbSZ84zniHazfz0HrWZtG1ja90Qf3oMEU/x9vvd93NTnf23lr8v2MWM2nF7YMPSDn2OqDIkABczykotRU0JTNX9Lxmd0dg9ehOpd5XbgcjZQK0cMc5LNxxDpEhAdZgmL0gFgC7EyW1Oz85nbpaGQ1qDlp6+DytPpOIjEnKQT+ZtwrRbu4WpGfnW695SxF8Zs+JeSIApnVmOxEpo2T/ee1mHl5afqjU84Ys2qvaYrY33++qeTCOFv/vmMVMWmGQTWdK1QAoF4Tx3yc6fd33/25v9+ZQbgcj9aRTAMj8/8BfREiAKAhoCWIBQKf5CXYzBTzR+Unp1H85koLJq5NUm9B5+jQ3LU6P0+uJdUTknCcDP1L78+L9MeAdRfCZPVeaJwJgeshsJyL32Oo/7VFzwYT3u67z9P87ZjGTVhhk06HiHdCuM2lIzcpz8orbkwZ75HYwcgJalglJ2QB/fDysJa5l51knaJuOpzrNFPBU5+eoU5/7y3F8/kfpehspbg7QzFYgIiNwNfDjah/nan9u9CL4Riu+7KkxzFMBMG/f6kVkdEVmAbv/TsOuM2kABLSvXQnt6lSEv5/Jbv9pD+ttEcAsZtIOg2w6p0SmV5taFRBZItOsuJIdjNwJkGVC4udnwsPN7wIgPVPg99fuc9j5AUD5kADVOr9fjly2GWCzEODaAK1WtgIDd0SkJFcDP672cWazgEFf7na5vZbxZvffaehYt5LDSZk9WmwfMVrxZU9n3HkqAObtW72IjGpDUgom/nhUNFf5aOsZRIYEYE7/xpi57oTkAJsF620Rs5hJKwyy6ZwSmV6bjqfaDbABtzuc4h2Ms6i/PcUnJFIzBQ6cv45pD8ZixNKDdp97PacAm46nKn5jX2QWMHl1ktPnyR2g1cpW4DYjIlKSq4EfV/u482nZ6LrgN0XaPurbg3ji3ruxYv9Fm5OyeY82sdsvarF9xEjFl7XKuPNUAIxbvYg8R8ri8IakFLvzgIycAry4rHTNNTlYb8u3MYuZtMAgm44VmQW8ssLxwOIszdUyiXKkfEgAesVGWx8Xj/rLUXxCIidT4IGmVZ1m2jlb4Xclw2vv2XSkZ9sPPpZspxRqZSsYbZsREemfK4EfV/u4LSeuYNiS/aLnf/pkC8xYe0LUhgqhAZL65YxbBXazkDNyCjBi6UF8Zqdf1GL7iFGKL2udcccAGJH3kLI4XGQWMH2N43mKu1hvi5jFTJ7GIJtOHb2YiQc/2u7wOVLSXKUcYnA9p8Dm6nnJwwwctaPkhEROpsDes+lOM+0crfC7muElZzIj9e+jRraC1pMeIvJOrgR+dv+dJruPG/d9In48eMn6nN6xVfDFM61v/3ejGNFNb6sa5dF1wVbZmdS2TF9zzGa/qMX2EaMUXzZSxh0R6ZfUxeG9Z9ORmqXe4kLF0EC0qlFe9utYnsX7cBGHPMlP6wZQaa/9cFgUYGt6dwQ+fbIFYiLEN9/REcFOM5hcmURZBkapATag9ITEkilgbzgy4XYgrE2tCm6t8FvaWnJSYBnENySl2H0/qZOZiqGBkjMa1MhWkDPpISKSSm7gZ0NSCkZ9Ky3D+eqNXOQVFqHmxHWiANsvL3e2BtiAOze9Dze/C+3rVERgGT/rydTuSs3Ks9svWraPRLswrrpCzpioJaNk3BGRfjlbHAZuLw4XmQXV+5K07Hx0XbDV4XygpA1JKeg0PwGDvtyNMd8lYtCXu9FpfoKs9yAi38ZMNh1Jz85Hy5mbRNc+f7oV+jS6vZWz5Iq/lFUVuZMoRwOjLfb2s8vJFHB1hd/dDC/LpMdZpt/MhxtLXr1SI1uBkx4iUoOcbZNyT3YrKBRwz+QNomsnZ8YhOMDf6WstAbCJq44i45a0Lf32OOoXPbl9xCjFl42ScUdE+iVncdgTfYmc0iosz0JESmAmm058v/9CqQBbUnwfa4ANKL3iL+Vm3DKJcqT46Z1StpcCwOj76mL58HbYPqG73cHGUabAKz3rI6/QjF1n0tCqRnmXVvilDuK7z6TZ/Lll0uPo/+K/u9RC36bSB1M1shU46SEiNVj6QACl+qzigR8AkhdfTADCg8vg1ZWHrdfiGkXj3Lx+kgJs1tc0jsHHg1tKfr49zvpFV8ZVV3k6e84VRsm4IyL9KDIL2HUmDasTL2HXmTSkZt6S9LqrN3LRplYFRIc7v3+NDg/C8M61HD4nNMj2GFMye84eORl4RESOMJNNY0VmAR3mbcGVrDzrtZHd6mBCXANF3t/fz4SHmsXYLRANiE/vlJoNVa9KOUn72ktmCpy7lo3le5Px3uZT1ufERATjoWYx+OKPs7JW+KW2ddSyg5j3mO2T5uydOFMhNACzHm6Mvk2rSvoMC7nZClJqPmhRpJuIfIOUU7d2nXFch604AUBWbqH18Zge9fByj3outa1dnYounXRtER0epLt+Ue/Fl42ScUdE+mCrLnKF0EBJr60cFgx/PxMebu54ngIA0x9qhLjGMWhRLRKTVyeJDsiJiQjGE62r4f0tp+2+Xko9SaVrUrKuG5HvYpBNQ7YON9gyvivqRJVT7DOKzAJWJzqvIWApEK1G1pQlU2BDUgre33zaZgr2F3+cxQtdamHN4RTJxytLbUPGrQKHKd5KT3qkHhUt9cAGTnqISE3O+kB3tqJ/sOU0vt9/welBNLa4etK1xfSHGumyX9R78WWpYxgR+TZ7WyuvZ+c7fF3JUgSOAmwhgf549/Fm1n6nb9Oq6NNYXD7nenYe3vgpSVKbHY1nSpZncfVQNiLyDgyyaeS1Hw7jhwMXrY+b3h2B1aM6wmRSdkIg9dQeS4FotbKmpNRPW3M4Bb+/dh8OnL9uc6JXckXIss1UapaDo/psSk96nE1a5dZ84KSHiNTkqA90dyu6O7VsLH3fGz8dFWUuOBIZEoB5j9rOXiZp9J5xR0TakrK10paSpQje+Omow8+JKBuAXrHRdrPCNiSlYNSyQ5KznR2NZ0olGrCuGxExyOZhzg43kENKGrKcDIQdf11Dm1oVVMmakpqCfeD8dZsTPXsrQpZtps7ITfFWgr1Jq6sHNnDSQ0RabD9xtvjijJSDaByJaxyD7g2qoN3cLUh3kCERGuSPzwa3Qod6ldgvKkDvGXdEpB2pNZwrhAaIFkiKLw4/vXCP08WTlMxcfJRwGt/tu1BqDjClXyxmrpN+WFtkSADMZgFFZsHhgWjuJBq4eygbEXkHBtkUImXi8/3+C3h95RHRtaT4PigX5PifwdZ7bzqeKikNWU4Gwkdb/8LKAxcwqE11PNexJn5KvGR3YJTLnRRsRytClm2mK/ZdlHQKndoncEr5PXCn5gMnPUS+S4ntJ64E6RxtWZfK3YWOwDJ+mPNIY+vWUVsLQO8MaIbO90S50Dox1tEhInJM6v30lAcaITo8WNSf5hUWoebEdZI/673NpWutpWbm4sVl8koJZOQU4MmFe+yOm87GOgHAlH4NHY4HStd180YcY8kXMMimAGcTH3cON7D13pEhAcjIKR1QspWGbDm1R8qWUeD2ttHig1mF0ED0b14VvWKjZXWCJTvQSuWCJL2uZFBQ6jbTDwe1wNNf75X9/kqSOgFWsuYDEfkGJbafuBOks7dlXS53+jVPbJtnHR0iIuek3k9HhweLgkl7/k7DE1/sdvvz3Tnf09G46Wysm7nuBPz8THbHA97jO8Yx1rf5UoCVQTY3OZv4TLy/AeauPyn6mdTDDey9t60AG2A7Ddnfz4TpD8VihIuFo9Oz8/H1jnNoXaO85C+BrQ40OjwIkSEByMwpkJyCXWQWsHjHWUkrQn4mk6YncMqZAKtxuAQReS8ltp8oEaSLaxyDm3lFePWHw678NQC436+puW2edXSIiKRxZWvlpB+PYvneZOvjx1vfjW2nr7lcisBVzsbNuMYxMJthM1PO2Xjg6Xt8IwUtOMb6Nl8LsPpp3QAjczbxEQBRgK3p3RE4O7evpACbo/d2pHgaskVc4xh89lRLRIYEyHy3O0YvP4Rfjjg/pdTSgZYMjF3JykPG/wfYSnb9tmq9bUhKQaf5CZi57oSk9l3LzrMWUZXy/kqSUvw1/n/HUWS+/eh2dqH9zD4Tbnc6agUEichY5Gw/sUVuH2XPM1/vdTnApmS/Ztk2/3Dzu9C+TkVF+nWl/h+prcgsYNeZNKxOvIRdZ9I0bw8R+SbL1krA+X33rfzb20OLB9iWD2+Ht/7VzOl7qMXRuFlkFjBz3XG7rwPsjweW4KO99is5FlrmSoO+3I0x3yVi0Je70Wl+AjYkOZ+veZpRxlhSh734gCXAqsffWXcZJsg2e/ZsdOjQASEhIYiMjCz188OHD2PQoEGoVq0aypYti4YNG+KDDz5QtU1Si34Ctw83WDO6k+TTQ+W8ty0l05DjGsfgwORe+Pb5tugdW1n2+5mF2ys6jr4EUrItIkMCUCVcvHoTHREsWr2w90V0pHJYsDXFOzrC8fsrTe4EeNPxVOQWmm0+V+2AIBEZj7vbT9wN0mXnFaLmxHX449Q/ktph7zP03K+5+//IE4w0oSIi7yflvvvA+XQ0nLpB9PNj8X2sW0gdvcfYnvXV/QvA9rjpznggJ/joDqMFLYwwxpI6fDXAapjtovn5+RgwYADat2+PhQsXlvr5gQMHULlyZSxduhTVqlXDzp078cILL8Df3x+jR49WpU1SJz7zH2si+/RQd/fq20pD9vczoWPdSvAzmbDx+FWX3tfRliQpHWhGTgG+HdYSfn4mm6nNcjP4Sqaju7KVyN1UazkTYHup0hYRIQGY92gTr0ybJSLXuLv9xJ0gXeKFDPT/eIfo2smZcbjv7d9kbfFxJ5PaE/ReR4fbbIhIjxzdd09fcwyLd56zPveRFnfhvSeaS34PAPhuX7LDscbPdDsRoKSKoYFIc3AatYWtcdPd8UDt+qFGPMFU72MsqcdXDwMxTJAtPj4eALB48WKbP3/uuedEj2vXro1du3bhxx9/VC3IJnXiU71CqGrvXZKU2mPO6ig44uhLILVjvJadh4eb32XzZ3Iy+OytCMk5gVOJ/eFS/60qlQvCqz8cdvj/vGyAP3rFygvIEpF3c6X2TXGuBune33wK7xc7COepdtUxq38TAJB92mhmToFqwSAlatLouVamESdUROQ7St535xYUoc4b4uy1pcPaolO9SpLfw8LZWGMv+SX+wUaY9ctxpBY7dK6kiqGBSM28hV1n0kTjhhLjgZr1Q40YtNDzGEvq8tUAq2G2i7oiMzMTFSo43vOel5eHrKws0R+p1Nx37+y97X0e4DwN2VEqsxT2vgSSg02h9uuRyfmCubsNVKlUa6m/BxDgNIDIVGkiKsnd7SdyxyqzWUCb2ZtFAbZvhrWxBtgA+1t87A09SmwJsFWPzN0tlJb3TM28hQqhgaqM5+7WUeM2GyIyisMXMtBgijjAdnR6b4cBNkfkjjXA7f568pokZOUWOnzvtOx8jP3+MAZ9uRv3zt6EX45cBqDc/E6N+qGAMYMWnqxVR/riqwFWw2SyybVz506sWLEC69atc/i8uXPnWrPk5LJMfGytsLi7797Zewu4vf2m+EmjctKQnR1R7Yi9L4HUDLnxPxzG9Idst1PqF2xKv4YY2rGWywOWkpkBUn8PrmXbX00rTk+DIhHpgzvbT+SMVVezctFmzhbR6w9N6YXyoYE221R8pf7ajTyHh9W4s7puK+u45BhoIXULpa33tMWd8VyJbGkjTqiIyPfMXnccX247a33ct0k0PnmyldvvW3Ks2XbqGlYevGj3+ZbyNHKkZxfgxWWH8EBSKnrFVsHAe6vj/c2nFJ/fKcGdoIVWp5GqOWcmfXN3N4ZRaZrJNnHiRJhMJod/Tp486fyNSkhKSsLDDz+MadOmoXfv3g6fO2nSJGRmZlr/XLhwQdZnqVls39F7f/ZUSxyY3AvLh7fDBwObY/nwdtg+obusz+sVG423BzTDw82qSn6No1UGqRlyV7LsZ4pJXelwJ8AGKJ8ZIOX3wFcj+USkjLjGMdg+obtL/b6UPurXY6miAFuD6DCcndvXZoDNovhKfaUw+1nKxckNBtnLOrY3ibKc7u0oa07OATuujudKZUtz7CAiPcsvNKPmxHWiANuiZ+9VJMBmYRlrgsr4OQywuWvtkRSM+S4R720+hYiQAESUqCeq9mFqUriaFab14TlaHVBH2vLUYSB6o2km2/jx4zF06FCHz6ldu7as9zx+/Dh69OiBF154AZMnT3b6/KCgIAQFSZsY2KPmvntn7+3qXnupK/glOfsSWDrQ6WuO2a2D4ChTzFMrHWpkBjj7t/LVSD4RKUdOzcmSHPVRY747hNWJl63PndyvIZ7vLG/8VSMYJPcwnOLsZc1Jec8KoQGY8kAjRIfLG88tWQKpWbmYufaYItnSHDuISK+SLmXigQ+3i64dntYbEWXlH3bjKMuqyCxg95k0TFx1VJF2S5GZUwABwNie9VCzUqhHM78ccWWupJfDc+TMma3jaeYtpGfno0K5INljMumD2oeB6JGmQbaoqChERUUp9n7Hjh1D9+7dMWTIEMyePVux95XCnYmPp9/b2QmX9jzXsabkjImw4AA8+dUeu89xtG3IE19EtTIDHP1beVuqtFYp50TkOikFqje80hkNosNtvt7R916NYJCcw3BsSc0q/Vop75meXYDo8GBZY6+cxSs5W2e9bewgIu+w4NeT+HjrGevjng0r46sh97r0Xo621gNwKTHAXZYFke/2XcD2Cd111cfKmSvp7fAcKfNaR+Op3JILSuLcx3WuBFiN/P/ZMDXZkpOTkZ6ejuTkZBQVFSExMREAULduXZQrVw5JSUno3r07+vTpg3HjxiE1NRUA4O/vr2ggz+jcyQqQc+rltZvu1R9TMzsQkFY/rkJoAFKzckudOuQOb4nkK1FniIi09WfqDfR5/w/RtZMz4xAc4C+6ZrnZ2Xw8FT8lXkJ69p1tmsW/92oEg9ytM5ZuYyxSI5PZ1cUrqZ/hbOzoFRuNXWfSdH1D6g03zUQEFBSZUX/yegjFOrwvn2mNXrFVXHo/R1lWI5YedL2hCtDjSZ0WUudKRjuN1Nl4muLh7Lvi7eLcxz2uBliN+P/ZMEG2qVOnYsmSJdbHLVq0AABs3boV3bp1w8qVK/HPP/9g6dKlWLp0qfV5NWrUwLlz5zzdXN1yJSvAlewDJTLFlMzgs3Vz7+xY8PTsAoxdkQhA2S+32gFEtekl5ZyIXPf19rOYsfa49fEDTWPw0eCWpZ7nLDur5PfeUTBoSr+GiCgbiNWJlyT3e+7WGatgo56c0pnM7ixeyfn72Rs7Nh1PRaf5Cbq+IfWWm2YiX3cyNQtx728TXbN3OI4UzrKs9EKvB8tImSsZ6fAcOeOpJ7PvlJ77cNHJNm+aYxomyLZ48WIsXrzY7s+nT5+O6dOne6w9RmP5Mq+XWdzSUfaBp7cNucrRzb3UE1aV/nKrub1YTXpLOScieQRBwP0fbMPJ1BvWa5891QpxjUtnKkvJzrL1vbcVDLqenY+Z6+QHWaSeWm1PdERZ2e8pd3zy1OIVUHrsMMINqRHaSETOvb/5FN7ffNr6uHO9SvhmWFu33tPdkgCeYuSDZYx0eI7U3wdPZt8pPffhopNt3jbH1PR0UVJHkVnArjNpWJ14CbvOpOGXI5etp8n8d9d5We9l78QXZyfU6OUkEWenuwGwntb33uPNbGY9AHdW0xydVucLlD6VlYg853p2PmpN+kUUYNvzRg+bATY5q8m2vvfFTx3NvJWPUctK98OWLR+OTjaTemq1LfZOw1Z6fJK7+q/UGCglA6TkmFXy/kDt8cyVNhKRvhQWmdFwygZRgO3TJ1u6HWADtMmeuu8e6WWE7J3UaSSunkaqBbm/D574/VFy7qPUqePeyNvmmIbJZCNpXD01tDhnp6pJXZXWuv6YnIh4+zoVsetMGtKz8+2+n9xVE0+mAnvqs4yUck5Ed2w/fQ1PLbxzGE1UWBD2TOoBPzv9hCvZBba+986CdQKAST8edbgyaW8sKR8SgOs5BTZfY4LjIJaS45Pc1X+lxkC5dXa0WD03Wi0gIhI7feUGer0nrt15YHJPVCwXpMj7a5E99UKXOhjQqhomr05yeN+vdlKAp+7djXR4jtzfh0qhyvweOqLU3MfbMrWU5m1zTAbZDEJKR+xq4WULy7vNeaSJ3RtuuR2ElvXH5N7cK/nl9uRkxpOfZaSUc2/Bug3krqmrk0RZzC/3qIdxveo7fI0rNzG2vvdSgnXXcwrwUcJpjOl5u022fucd1SNztf9TanySsv20QmggJvdriOiIsop9h+WMWVpt2fS2m2YiX/Lx1r+w4Nc/rY/b1qqAFf9ur+hnuFsSILJsAD5+siUyc/IxY+1xpGY5PniteMZWRNkA7Pr7GgATyviZ8N2+ZNHr1UwK8PSih9aJD1JZfh8kL/J54HZYqbkPF50c87Y5JoNsBiClI3an8LKFlI7WlQ5Cq/pjcm/ulfpye3Iy4+mJk55q7fkC1m0gdxQWmVH3zfWiaz+92AEtqpd3+lo5NzGOvvdS++FFO85hdPd6ToNmJccSdwNlSoxPUrIEZj/SWLNFj0qhQXh15WFNVs+97aaZyFd0fisBF9JvWR9/OKgFHmxWVfHPcdZ/Cjb+2/IYAOY91gQd61YCAPRpHIMx3x3C2iP2t9w91CzG7jgz9YFYlA8NUn1RU6tFDyMcvGb5fZB6quw1GyeIK02puQ8XnRzztjkma7LpnNS92+4UDn2mfQ0sH94O2yd0d9qpG6WDKDILuHZDWsdrublXomaBJ+vPaFHrRi+19nwB6zaQO86nZZcKsB2L7yMpwAYArWqUR4XQAMmfZ+97LzV4knGrAB8l/OXS73zx+m/t61TUpP+xZAlER4j/vvbqmipB6pgFEzSrc2KkWkBEdFtGTr4owLb3zR6qBNgsHPWfnz3VEp/J6FsPnL/u8LO+338RI+yMM6OWHULmrXyHY4m7dS21rlOph/HSmbjGMRjbs56k57qyQCP331CpuQ8XnRzztjkmM9l0TM7WTHeCWvfbyA6wxwgdhNS6dCUj4krULFAzFbjkFiqzIGiSdmyUlHMjY90Gcsf3+y/g9ZVHrI871a2Epc9LL1Bt6UPTs23XOyvOWWZlm1oVEFk2ABm3nL/Xoh1nDf077+ksAaljltSVfjUWx4xUC4jIU2bPno1169YhMTERgYGByMjIEP388OHDmDdvHrZv345r166hZs2aGDFiBMaMGeOR9kWGBKJT3UqICgvCu483g8mk/vfTWf8ppW+VWp7AFinjjBK7C/SyZVCJUiRqljMZ3b0elu+9gNQs2/+vXM1qcvXfUIm5j7dlaqnBm+aYDLLpmJyO2JWglitfZjU6CCU7aal16ezd3Lv75VYr08/WoBBZVlqWiRoTJyOknBuZXm7CfJHeJz/ODPpiN3b9nWZ9/PaAZvhXq7slv15KH1oxNBAPN6+KXrHRTr/3/n4mPNuxFt7bfMrpZzsKxOnpd97RmOXp8ghSxqxdZ9IcvMMdai2OedNNM5ES8vPzMWDAALRv3x4LFy4s9fMDBw6gcuXKWLp0KapVq4adO3fihRdegL+/P0aPHu2RNspZmFGKo/5TSt/q7v2uo3HG3tiYkpmLEUsPYmzP+hjdva7T+2A97AhSIliodjkTfz8THm4eg8//OGv3OXIXaNzdpqtEeQouOjnnLXNMBtl0TE5H/EDTqrIKh7r6ZS7eQdgi4Ha9A6nvqWQnLacunaObe3e+3Gpk+tkbFKRkhsj9LDm0qrXnC/RwE+arjDD5seVmXiEaT/tVdG3b6/ehWoUQye8hpQ+tGBqIXZN6ILCM9GoTo7vXxaKdZ5Hh4CTQCInZblr/zuuxTqKzMUsPq+fectNMpIT4+HgAwOLFi23+/LnnnhM9rl27Nnbt2oUff/zR7jiTl5eHvLw7WatZWVnKNNZAlLrfLTnOSBkb39t8Csv3nsf0hxo5HAu03hGkRD04T9SU25CUgi8cBNhe6FJL1mcotUPE3bkPF52k8YY5Jmuy6ZicjtjRPmZb3KkTE9c4Bi90qWX351/8cVZUO8fe3nela05JrUs3pV9Dp/XnXK1ZoHT9GXcOtGCtG+PS+ibMl8XHx2Ps2LFo0qSJzZ8/99xz+OCDD9C1a1fUrl0bTz31FJ599ln8+OOPHm7pHQeTr4sCbGX8TPhr9v2yAmyAtD40LTvfac2bkvz9TJj3qO3/n5a+8tmONSW9l9alCPRaJ9HRmKWXOidGqAVEpFeZmZmoUMH+/dzcuXMRERFh/VOtWjUPts497tY5s3B2Dy5VyXFG6vwiNSvP6VigZZ1KJerBeaKmnLO5jwnAmsMpsj5Dzg4RtcU1jsH2Cd2xfHg7fDCwueS66GQszGTTMbmrz/ai4zERwZjSLxblQwMVWUEuMgtYc9jxZMKyGmDvBJ8p/WIxc52yNaekZjhUCgvSvEaO1M939UALph0bmx4yT0g6Z5MfNTMM3tn4Jz5M+Mv6eGiHmpj+UCOX3kvNDMq4xjH4zMHqrdkswM8EOLpn1nLRwOh1Erl6TmRcO3fuxIoVK7Bu3Tq7z5k0aRLGjRtnfZyVlWWIQJuS2cFS7sEjQgKQmVMg695K7pjnaCzQcsugEqVIPFHORI3P0NsOEW/I1CLHGGTTMVc6Yk9syZDa+X2U8Bfe33zKZjrxi8scH83sSgeql+wfJSczUjv7koXFOXEyNtZtMA4pk5+5c+datwcpxWwW0GrWJlER52XPt0WHupVcfk+1+1B749Om46kYteyQ04xdOaUIlKZ1nUQlapdyyyaReiZOnIj58+c7fM6JEyfQoEEDWe+blJSEhx9+GNOmTUPv3r3tPi8oKAhBQUGy3ltramw7dHYPDkD2vZWcMU/KWKDVoocSgSZPBKvU+Ay9zBHJdzDIpnOudMRqR8eldmqOTopT+rMAfWX/KDWZkdrZfzy4Jfz8TJw4eRFmnihH68mP0hkGqZm5aDd3i+ja4am9EREi7TAUezzRhxYfn4rMAnafScPEVUcljQtf/HEWLaqX1+R3X8tVcKUzPbh6TqS88ePHY+jQoQ6fU7t2bVnvefz4cfTo0QMvvPACJk+e7Ebr9EfN7GBn9+By762cjY22OBsLtFj0UCLQ5IlglRqfoac5IvkGBtkMwJ2O2Nnqtyur41I7NamF+ZX4LEB/2T9KTGakDgrtVKxvo+YR3eQYM0+UofXkR8kMg/TsfFGArfFd4fjf6E4wmdz/nfBkH2orcCSFVlsytVoF90SBaSJyX1RUFKKiohR7v2PHjqF79+4YMmQIZs+erdj76oXa2cGO7sHl3ls5O/TNFiljgacXPZQINHkiWKXGZ+htjkiuM8q8lEE2g3ClI7Y1iYkOD8agNtVRs1IIzl3LxvK9yUjNulMrSMrquJTOT+pJcfa40oEWmQVElA3Ecx1r4qfES0jPNv72Sa0HBT2epOdrmHniPm+a/Ow/d6cob/xDjTCkQ01F398TGZT2AkfOqL0l0xEtVsGNXgeOiGxLTk5Geno6kpOTUVRUhMTERABA3bp1Ua5cOSQlJaF79+7o06cPxo0bh9TUVACAv7+/omOZM2pOZrWukSX33soyNk5fcxypWfbbpOeMKCXmFJ6Yl6j1GdwhYnxGmpeaBEFw/fgPL5SVlYWIiAhkZmYiPDxc6+a4zNVJjKW7crY6bnl/wHbn90rPenhv82nJn2nrPeSs0Nv60lUIDUT/5lXRKzZat1FuqTzZqVhuqjYdT8XXO86V+rkr/z7k24zUr1omP2vWrMGCBQuwbds2ALYnPwsWLLC+Ts7kx53/H2azgN1n01CvchiiwtSrv6PE5MrWewBAp/kJLh3oYvHBwOZ4uPldLr/eVc7GPaX7xF1n0jDoy91On7d8eDsG4snnGWmcGTp0KJYsWVLq+tatW9GtWzdMnz7dZh3PGjVq4Ny5c5I+w93/H2rfdxq1fysyC/go4bTNOY5R7o+V+Lf1xLxErc8wSiYUidmLbXjyeyenX2WQrQQjDdL2FJkFtyYxllWY7RO6O+x0HHV+vWKj0Wl+gtNV/yn9GmLmuhNud/Raf+k8wRODgtQtXFJ/R4gAY/WrRpj8GIG98WHgvdXx3uZTbr23o0mX2v2kJyYWlr/D+qQU/HfXeafP1yroSKQnvtCvyuHO/w9P3Fdb5irO5gl6vM/ckJSCiT8eRUaOeMdOZEgA5j3axBBzDrUW0pT+t2JAjADnsQ1P9RcMsrnBGwZpqatDznz7fFt0dHJSnaPOT+qqvzsdqF6+dN7AlexHva0wqoWDvHu8oV9Vktb/PzwRiLI3QXPnhsNZf+6pjF81//+5UqvOV/phIke07lf1xtX/H568r1Y7O1iNvtrRvbIJxl7Y570u6ZVeMl/l9KusyWYwUjpApeoXjPr2IOY95nhFxllhUSl7392pOaV24VRf4aj2jyNq1crQEyPt/ydyRu3fZ2d1xFzlrA6LJw8IUKtOotyFDj3X/iEiY/LkfbWaNbLUGOuk3CsbtU4m73VJz7Su4egKBtkMRGoHqNTpZhm3CtyenKh5MipgzC+dHjm7qbJH6ZP09IYn+5E38cTvs6t9SXEhgf4IDvBHena+9ZqjSZc3HBAgd6GDp6ERkRo8fV+txinqao113rqwz3td0jutTnh3B4NsBmGvA0zJzMWIpQcxtmc9jO5eD/5+JqenoMnl7uREqZNR3Qko6ulLp0dyb5Z8IYPCGybuRBae+n2W05fYO/Tm3cebyZp0ecPER25wkqehEZEaPHVfrdbWRDXHOm9c2Oe9LhmBFie8u8tP6waQc1JWuN/bfBod5yVgQ1KK9ehj4M6kxVXFJyeeYgkolpxwWFZUNiSlWK9ZvnT2/p4m3A7O6elLp0dybpZ8JYNCzsSdSO889fsstS8Z27MeoiPEz42OCMbHg1sgomwg1h65DAB4oGlVtK9T0WFf4w0TH6lte6Z9DSwf3g7bJ3RngM3LFJkF7DqThtWJl7DrTBqKzNqVTNZTW8izPHFfvSEpBZ3mJ2DQl7sx5rtEDPpyNzrNTxDd37tKzbHOGxf2ea9LRuAotqHXeSkz2QxA6gp3apY4rddWnQNXeWpyIndFxfKlG7n0oN2sCEdfOhb5vE1O9qOvZFB4w8SdyMJTv89SVxtHd7+dfV28/72enY+Z68RjVrkgfzzfqTZe6lHPbt+sp4mPq2OK1Lbd3zhGt9l45Do91UPSU1vI89y9r3ZG7a2Jao51RsymcYb3umQUatZwVAODbAYgt2OzBKFK1jk4dy0by/cmIzUrz/rcCqGBoro39ly7kYcis6B6AMqVbT+uful4I3mHo5sqi2Eda6JnbLTPBCL1NHHXEgPR3sFTv89yJ2iWfnxDUgpGLSs98bqZV4T3t5zGF9v+xruPN7PZN+tl4uPOmKKXvwN5np7qIempLaQdtSazntiaqOZYp3YAUgu81yUjUaOGo1oYZDMAOR1bySBUyXpoJTMHWtUoj64LtjrNYJq57gS+2n5W9QCUqysqcr90vJEszd5Nla8GHjnpZSDam3jy91nuBK3ILGD6GsclEXLyizBi6UF8ZqNv1sPEx90xRQ9/B/I8PdVD0lNbSHtqTGY9UT9T7bHOaNk0zvBel4ymZGzDUt5Ab0E3BtkMwJWDDCxBKFtZKCUHLmcZTBaeCEC5s6Ii9YAF3kjaZ6QVArUZadKrRrYZA9HexdO/z3L6ko8STiM1S9oCy/Q1x2z2zVpOfJQaU7xt8kbO6enQDj21hfTBlYPLHNl8PFXS81zdmmi5F7q/cTS+3nFOtbHOm+6VjXSvS1SSnpMBGGQzgOIdoFSVw4Il/+JJrd/miQCUJ1ZUeCPpmNI3VUZmhEmvGgMMA9HeydO/z1L6kg1JKXhv82nJ75malWe3b1Zz4uMokK3kmOJNkzcj89Q2eT3VQ9JTW8j7bEhKwcId5yQ915WtibbuhUwmQCh2I6PkWKeHe2Wl+ikj3OsSlaT3ZAAG2QzC0gFOX3NMVFOtJEsQ6np2vs36NvZ+8Sw39ot3nMXMdSfsvr/aAShPrKhIvUFMzcrVZfqpr9G6JpieJ71qDTAMRHsvPf0+W4K5cjnqw9WY+DgLZCsdnNDD5M2XeXJlXE/1kPTUFvIuUvt6VxfS7d0LWQ7F9caawkr3U87uDbS+FycqzgjJAAyyGYilA/wo4S+8t/lUqZ9bfoWm9GuImevk/+L5+5lQKSxIUlvUXMlUe0VF6g3izLXHkJ5dYH2sl/RTX6KXNGA9TnrVHGCY0eDd9PL7LPXk7JI8OcmXEsg2SnCCkyTnPL0y3qpGefiZ7gQDbPEz3X6e2libidQita8XIH8h3dG9EHD79/aXpFS80c97tjyq1U/ZuzfQy704kYURkgH8NPlUcpm/nwljetbDZ0+1REyE+Ia9Qmggnu1YEymZuZJ/8UrSy2QhrnEMtk/ojuXD2+GDgc2xfHg7bJ/QXZHO3HIj6WyoLR5gA+4MXhuSUtxuAzlnuYko+bvMf4fb5AwwcumlHyB9sBSVXZ14CbvOpKHIUURABleCtNHhQR6b5DsLZAO3A9mtapR3OKaYcHtComVwYkNSCjrNT8CgL3djzHeJGPTlbnSan+Dz/WhxUv+9lfr9B4AD5687DLABtwNwB85fV+wz7bHsJABQ6neZtZnIHVL7+uc61pR9n6/mvZAeebqf4r24fqh1L2ZERkgGYCabQRVP6918PBU/JV5CWnY+vpZY7wCwvR1STyuZamVbONuSaq/L0kv6qdG4kj1hhDRgrak5wOipHyBtqbmC7UqQdvpDjTz2nZc6eTtw/rquC0fby3pIyczFiKUHMbZnfYzuXtdn+1ILLVbG9TZRYG0mUoPUvr5XbLTs99bbd0htnuyneC+uH8wmFDNCMgCDbAbm72dC5q3bgTVXYtn2tkPqebKgFHs3khVCA5GWnW/3dXpIPzUSVwcFI6QBa03NAYanTRHg3pYUKcF1OSdnR4YEYN6jTTx6Myln8vZw87t0GZxwtpUKAN7bfArL957H9Ica+eTNuoUWk3U9ThT0VLeRvIOaC3d6/A7Zo8SWfU/2U7wX1we9F/jXghGSARhkMzApN8+O2NsO+elTLXU5WVCarRvJ1MxbGPv9Yaev9ZYVMTW5Myj42sqkK9QeYJjR4NvcWcGWGlx3FMy16Nu4Cp5sWxPt6lT0+CRf7uRNj8EJqbWQUrPyfPZm3UKLybpeJwp6qdtI3kHNhTu9fodKUioTyZP9FO/FtcdsQtuMkAzAIJuBuVo02p7iX9btE7rrbrKghpI3krvOpEl6nR5WxPTM3UHBSCuTWvHEAKPHoAF5hqsr2HKD6/aCuWpsg5CbReDK5E1vwQm5kx9fvFm30GKyboSJApES1Fq4c7ZYIwDo2/j2fYxW9y9KZoVbaoB6op/ivbj2mE1on96TARhkMzA1Vg5Kfll97QtrlBUxvXN3UOC/gzSeGGD0FjQgz5A6vqRm3Xmeq8F1ucFcV7bcuJJF4A0BEDmTH1++WQe0+/fW+0SBSClqLdzZ+w5ZTu5duOMcFu44p0kNKzWywh9qFoMv/jirej/Fe3HtMZvQMT0nAzDIZmBqrhz46pfVGyZVeuDuoMB/B+n0PMCQcUkdX2auPYayAX6IaxzjVnDdEsy1BNDWHrls83fZlWCZO1kERg+AyKl7Z+Gr4z+g3b83+3HyFWot3MU1jkH3BlXwza5z+OP0Nfx+6p9SJ/d6qoZV8YWgazfyFM8K/+KPs3ihSy2sOZyiaj/Fe3HtMZvQOb0mAzDIZmCu3DxL5ctfVqNPqvRAiUGB/w7S6XWAIeOSOr6kZxdYJy15hWZJ720viOMsgOZKsEyJeiZGDoAUnyRJ5cvjP6Ddvzf7cSLX2Ro/SvJEDSsp7bCl+LgoZdxaczgFv792Hw6cvy65n3IlC5z34tpiNqFxMchmYFKKRsvFL+ttRp5U6YFSgwL/HYi0IWd8EXB70vL2gGaS3rtSaBB2nUkTfac3HU91GED7eHBLzFwnP1imVD0TIwdALJOk6WuOi7b3lsTx/w4j/3sT+Rp7CzC2OOrz3T39U047Siq+uCF13Dpw/rrkfsqdgxd4L64dZhMaF4NsBuesDoEj/LI6xpts1yk5KPDfgUgblvHljZ+SkJ6d7/C5KZm5gACnwfXQoDJ4cdlBZN66c7p1dHgwcguLHAbQpqxOQpqDNtibOLGeyW2WSdJHCafx3ubTpX7uqfHf3UksEVFxjrK+HCnZ57t7+qer7bC1uKH0uOVOyQQL3otrh9mExmSYINvs2bOxbt06JCYmIjAwEBkZGXafm5aWhmbNmuHSpUu4fv06IiMjPdZOLdhaYbienYdRyw4BsB3g8MRefvJtHBSIjC+ucQyycwsxfuURp8+9eiPX6SlvN/MKS73OUXaV5XWOAmwl21BcpdAgSa/zhS2S/n4mjOlZH/dEh2nSL7s7iSUiKslZ1pc9lcrdGRuUCEK50g57ixtK1uFSomQCeZatxShmExqPYYJs+fn5GDBgANq3b4+FCxc6fO6wYcPQtGlTXLp0yUOt056tFYZP/UwOb6Rfj2vILyupioMCkfFlFMs6cyQ9Ox/DWta2GVz3lOKTjg1JKZi+5rjD5/viFkkt+mUlJrGkP8xMJC0U/707feWma28i3HkvJYJQrmRD21vcULIOl1IlE8gznC1G8d/IOAwTZIuPjwcALF682OHzPv30U2RkZGDq1KlYv3690/fNy8tDXl6e9XFWVpZb7dQTZzfSTP31Pnq84eXvGZGxVSgnLRvM8rziY09qVi5mrj2G9GxpgTqH7x8agOvZBZImHVJq4/hyiQRP9svMpHCPHsd1gJmJ5DnFvwPnrmVj+d5kpGblOX+hA9eyb79eqSCU1OyzKf0aolJYkMPvspIlV1gywTi4GOVdDBNkk+L48eOYMWMG9uzZg7///lvSa+bOnWsN4HkjBjh8B294iUgN0eHSJg/Fn2cZe3adSVMkwAYAj7W8C19tO+d00iG1Nk5E2TKY91hT9o8qYyaF6/Q6rnMySJ7i6mmdzliCYkoFoaRmnw3tWEtScEypkitKbj0l9XAxyvv4ad0ApeTl5WHQoEFYsGABqlevLvl1kyZNQmZmpvXPhQsXVGwlkTosN7wlb0IsN7wbklI0ahkRGZ1l8uBIjJ2tK0qujq89kooPBzZH+dAA0fXoiGDRpF5qbZyMW6Xrw5HymEnhGr2O684mg8DtyWCRs9O3SrznrjNpWJ14CbvOpMl6LXkve98Bd5ggHq+UCkJZss8sn1HyMwH5WdNxjWOwfUJ3LB/eDh8MbI7lw9th+4TusgLYlvHb3qeW/P8hFb+zypKzGEXGoGkm28SJEzF//nyHzzlx4gQaNGjg9L0mTZqEhg0b4qmnnpLVhqCgIAQFSdsKQ6RHXP0gIjUV37oCyNu6ouTqeEpmLqb+77goM65CaCCm9BOv6ssJ1rBvVB8zKeTT87iudGaiXrP1SFuuntbpiK3xSsn6Z2oc+OXujiQlt55aKPGd1es2eK1wMcr7aBpkGz9+PIYOHerwObVr15b0XgkJCTh69ChWrlwJABCE291IpUqV8Oabb3r1llDybXrYisPBksi7uTp5cDaBkSu9xCmj17PzMWrZQXzqdyeTTU6whtsU1afkJNZX6GFct0fJySC3nZI9rp4aOvq+OqhXJcxm7TZb45XSQSg9HvilZPBPie8sA+ulcTHK+2gaZIuKikJUVJQi77Vq1SrcunXL+njfvn147rnnsG3bNtSpU0eRzyDSI1dueJUMinGwJPINrkweHE1gLMqHBGBoh1p4b/Mp2W2yldVjCepInaBxZVhdzn4HBAAD75Ve5sMX6DmrQanJoJ6z9chz7N2Puvq73bFulDXwPLp7PUnjldIZaHqsh61E8E/qVnFH31kG1m3jYpT3MczBB8nJyUhPT0dycjKKioqQmJgIAKhbty7KlStXKpB27do1AEDDhg0RGRnp4dYSeY7cG14lg2IcLIl8i63Jg7Ogvb0JTGTZADzbsSZGd68HAPhuX7JLGW8ls3osQZ0R/7+91RmuDKvP3u+AxXubT+G7fclcnPl/es5qUGoyqOdsPfIMR/ejrvxul6wtJifYpccMNKW5G/yTkl2YkpmLjxJOY0zP+qV+xsC6fWps6yVtGebgg6lTp6JFixaYNm0abt68iRYtWqBFixbYv3+/1k0j0pScoqZKFlJWo/gxERnLhqQUdJqfgEFf7saY7xIx6Mvd6DQ/oVRfYquA84EpvTCmZ334+5kcFo2WqnjmQ1zjGHwyuAUc3Y+6WvCZXGP5HRjbs57Nn2td0F9P1CpWrgSlCrzrOVuP1OfsfvR6dp7TA3dKeqhZjFtBCEsQ6uHmd1kXbOgOqd/F9zafttmPs7i/Y5bFqOgSv/clD3ciYzBMkG3x4sUQBKHUn27dutl8frdu3SAIArPYFMJTZPRL6g0vAEWDYhwsiXyb3KC9swmMvRvMCiVOE7WnZOZD36ZV8dGgljafy5Vh7Xy3z/Yp7movzhjpPkaNkwqVpMRkUM/ZeqQuKYu0M9edwJR+sbIWXdYcTtH199oWI/VLcr6LtvpxBtadU+JEWdIHw2wXJe2w5pb+SaknsetMmqJbMzhYEvkutbZ92Nqy06pGeXRdsNWl7Wl9m8bgMz9lT3sj12m1RdCI9zFS60RpdfCQu9vrWIPId0ntB8qHBuLTp1pi4o9HkZFTYPf5Frb6DnvfDz0c2GW0fklOvVNb/xYMrEujx5p+JB+DbOQQa24Zh7MbXqWDYhwsiXyXmsESWzeY7tQq8YVaO0ahxeKMke9jnP3uaj1Jd2cyyBpEvktOP/Bw87vQKzYao5cdwPqkK7Le297346FmMVhzOEXT4JYR+yW59U5L/jszsE5a82Rw3TDbRcnzKcWsuWU8jrZjKR0U03PNGCJSl6eDJe5uT2OtHX3w9OKMN9zH2PvdVbLGqlZYg8g3ye0H/P1MeKZ9LVmvsff9SMnMxed/nNX0e+Nqv6SHraVxjWMw1sahBraU/He2BOnstVoAA+ukHqk1hJXCTDaD0GK1kic/eRelV5C4Ck3ku7TIZNUiI00PW4q8iaczGbz1PsabTuljpqnvcaUfkPMaR98Pezz5vXGlX9I6a7W40d3rYvne80jNyrP5c2akkd5okTnKTDYDcLQaM2LpQXyw+ZQqqxmsuaUdNVar1CikzFVoIt+kVSarJzPSPL3q6Qs8XdDfW+9jvO3gIWaa+hZX+gE5r3H2/bDHU98buf2S3rJW/f1MmP5QI5ggrx+3BD/tsQQ59ZxZTMajVUY7g2w6J2U15r3Np9FxnvI3/u5kKughpdmo1JzYqREU40k4RL5H76cfuktvkxpv4snFGXczLvV6L+OtwUPyHa70A1Jf4+7vvdrfGzn9kl63vLvy7+dtiwPeTK9jnyu0+r3jdlGdk7oak5qlfLqjq9s69JTSbDSeSGdVY2sGT8Ih8j1STz80Gm/aiqdXntoi6M72VD3fy/DgIfIGrvQDUl7j7u99pdAg7DqTplrfJKdf0vOWd7n/flwcMAY9j32u0Or3jkE2nZP7D67kjb8rNbeMeFqOXnhyYsegGBEpwRvrKellUuPt9eA8MQ65WjtU7/cyPKWPvIUr/YCz1zj7fthjAhAREoDxPxxGapZ6AQY5/ZLeA1Ny/v24OKB/eh/7XKHV7x23i+qcnH9wNdId5aQD6zWl2SiYRk1ERuRt9ZT0MKlhPTjlyN3WZIR7GW/frk3kDkffD3sswa6MnAJRgA1Qp0yA1H7JmwJTWtVyJWmMMPa5QqvfO2ay6ZwrqzFK3/hLzVTQy+q/UelhYkdEpDeezujSelLjjSvJWpOTcanmvYySv8veul2bSAn2vh8xEcF4qFkM1hxOEV2vEh6E3EIzMnIKSr2XWmUCpPRL3pS16mpmMXmGt87jtfq9Y5BN54r/Ykilxo2/lHRgBonco/XEjohIb7SoDaLlpIb14NQjdVuTWvcyavwue+N2bSKlOPp+vB7XUHTdLAh48qs9dt9LrQCDs37J2wJTXBzQL2+ex2vxe8cgmwFYfjGmrzmG1Kw8u8/TejWDQSL3eNNqFRGRqyzZPpuPp2LhjnOlfq52RpeWkxpvXUk2EjXuZdTMTmSNVSL77H0/Sl5fnXhJ0vtpEWDwtsAUFwf0ydvn8Z7+vWOQzSAsvxgfJfyF9zafKvVzPaxmMEjkHm9brSIikstWtk9Jnsjo0mpS480ryUah9L0MsxOJ9E/vAQZvC0xxcUB/fGEe78nfOx58YCD+fiaM6VkPnz3VEjESC/h6Egvxuk9ugWYiIm9hyfZxFGCz8MRBMHGNY7B9QncsH94OHwxsjuXD22H7hO6q9sN6n+j5AqXvZXioEZH+GaEov7cdMkT6wnm8spjJZkB6Xs1wd/Xf0wWu9UjP/75E3m727NlYt24dEhMTERgYiIyMDLvPTUtLQ7NmzXDp0iVcv34dkZGRHmunHrnTfzvK9nFE7YwuT6+2+8JKshEomcnI7EQi/eNuEiLv25qsJQbZDErPabauBom0KHCtV3r+9yXyZvn5+RgwYADat2+PhQsXOnzusGHD0LRpU1y6JK2Wizdzt/92lu1jj7dldHGipx/uLnhZgs6nr9yQ9Hxv+10m+7iYo09qBRiYQEBGwmQPZTDIRqqQGyRSsygwEZFU8fHxAIDFixc7fN6nn36KjIwMTJ06FevXr/dAy/RLif5bbhaPrYwub5nIcCVZP1xd8JJSW9CC2Ym+h4s5+qV0gIEJBJ7lLfcBWmOyh/sYZCPNsSgwERnJ8ePHMWPGDOzZswd///230+fn5eUhL+/OydBZWVlqNs+jlOq/5WTx2Mro8raJDFeSjcte0NkWZif6JjUWc7x5nPE0pQIMTCDwLG+7DyBj48EHpDkWBSYio8jLy8OgQYOwYMECVK9eXdJr5s6di4iICOufatWqqdxKz1Gq/3ZWdLq4kgfB2DswwTKR2ZCUIuFd9YdFro1Hbm1BHmpE9lgWc/773//Cz8/5dM2bxxkjcrYABdxegCoyy61ESrZ4630AGReDbKQ5FgUmIjVNnDgRJpPJ4Z+TJ09Keq9JkyahYcOGeOqppyR//qRJk5CZmWn9c+HCBVf/KrqjVP8t5VSr5zrWLHXCJycypCdSawuOvq+urNNqi8wCdp1Jw+rES9h1Jo2/z17OlcUcbx5njIgJBJ7D+wDSI24XJc1J3SbEosBE5Irx48dj6NChDp9Tu3ZtSe+VkJCAo0ePYuXKlQAAQbh901apUiW8+eab1m1AxQUFBSEoKEheow1Car9cqZzzv78rtcjkTGRYX4TUJjXoXK9KOcm/j0beAuVL9ZEmTpyI+fPnO3zOiRMn0KBBA6fv5cpijjePM0akxwQCb/0+8j6A9IhBNtKcZZtQamauzVUIFgUmIndERUUhKipKkfdatWoVbt26ZX28b98+PPfcc9i2bRvq1KmjyGcYibP+22L894mY/lAjp0EBubXIpE5Q1v//VhFvmVSQPim9aGjkmk5GDg66QuvFHNIXvSUQOPs+GjkAp8eAJhGDbKQ5yzahkUsPwgSIbiZZFJiIPCk5ORnp6elITk5GUVEREhMTAQB169ZFuXLlSgXSrl27BgBo2LAhIiMjPdxa7Tnqv4u7kpUnOSggp+i01AnKf3edx393nffqST5pT8lFQyMfCmXk4KCruJhDxekpgcDZ9/GFLrWw5nCKYQPiUu8Drt3IQ5FZ0F1/Sd6JNdlIFyzbhKIjxB0liwITkSdNnToVLVq0wLRp03Dz5k20aNECLVq0wP79+7Vumm5Z+u8q4fZvdNWqiyLnwASARZBJXVJqC0pdNDRqTSfWR3IuOTkZiYmJosWcxMRE3Lx5EwBQp04dNG7c2PqnVq1aAG4v5lSuXFnLphuKlrUMlewL3OHs+ygA+PyPs4Y+MEDqfcDMdSfQaX6CIf5OesKaoK5hJhvphtxtQkRESlu8eDEWL14s+fndunWzbuXxZXGNYxAWFIAnF+6x+xw16qJIzaQr3gY9ZwCR8blSW9AWpbdAeWo7GOsjOTd16lQsWbLE+rhFixYAgK1bt6Jbt24atcq76GG7slJ9gTukHsZSkpHGSjn3Ad6cTasGPXyPjIpBNtIVOduEiIhIOyUn7Vdv5kl6ndJ1UexNZOzhJJ/UpsSioZI1nTw5UWJ9JOe4mKMuPW1X1jqBwJ3vmR7HSnuLBVLvA4wUPNSanr5HRsQgGxEREclia9JeITRA0mvVKPRcfCLzf+3df1BU9/3v8ddilB+BxV8QSEQa4k0UEyNqghrvjcYo5mtSbS3NjanV9Da5sd65TsO0X6iMyLTEsY422h+OsV6ROiWZ/pim/rhOzZVO8lU7tjGYgtHkG1GsgaQGCmhGQPbcPxiIKz/2sHt2z9nd52OGP3Y55/jZj+x5nfM+n/M5/7emQRUnLvpcJ5pP8hF8gV40tGpOp1CfKDltwndEFyfOZWjHAIKeYtSHn1wNeFtOyUpfFwt6jgPKj9XphwffH3A7TiweOo0Tv0fhhjnZAACAaT0n7bdeLW661ulz3fQgTvTccyLzhMmCASf5cDIr5nSyY340X/MjuRTc/QCiW7jOZWilwzUNmrPpqJ7Z9Rf9rOo/A96eE7JyoOOOW+eOGxbj0tikWFPbdErx0InC7XvkxHnjKLIBAABTBjtpN+PJKcG/6slJPiJFoA+FsuNEySkTviM6RfvtygMVo/zhlKwc6sUCRtMGLpy+RzcXlde+Vq1ndv3FEQ+4oMgGAABM8XcS5R673r6gjYfOWNiivjjJRyRZdH+6/uPfH1Pl8zO17b9PVeXzM/Uf//6YqVs87TpR4onxsEs0F1iGehEsPTlO//O/3S2XnJ2VQ71YwIW2wIXL98jsCEc7MCcbAAAwxYqT8Z1v1anjhkcLJ6cHbQJoJzzVDbCKv3M62XmiZPeE74hOVs1lGI7MXgT7X/Pu0SMTUnq/jznjRzk6K4d6sWCwp406qXjoZOHwPXL6vHEU2QAAgCkXrnxuyXb2HL+oPccvBvVR8JzkI9rZfaLEE+MRatFcYDFbjPovdyR5fS+dnpX+XCzgQltgwuF7NJQRjnbkEEU2AADgU5fHUOXJeku3GexHwXOSj2gWDidKgNWitcASyMhVJ2elvxcLnF48dDqnf4+cPm8cRTYAAODTybomNbZae7DihCH9QCRz+okSEAzRWGCxe+RqsARyscDJxcNw4OTvkdPnjaPIBgAAfDJ7NfD2EcN0raPL9HbtHtIPRDonnygBwRJtBZZIHrnKxQL7OPV75PSiMkU2AADgk9mrgd/+r3dr2//7zyFv3wmPggcilVNPlABYJ5KLUVwswM2cXlSmyAYAAHwye9Xwf8+/V9c7u7Tzrbohbd/uR8EDABDuIrkYxcUC3MzJReWwKbKVlZXp4MGDqq6u1ogRI/Svf/2r3+XKy8u1detWffDBB3K73crPz9fPf/7z0DYWAIAIM5SrhkX/lq0Hx41S8Rs1arrWMeh27R7SDwBAJKEYhWjh1KJy2BTZOjo6lJ+fr1mzZmn37t39LrN161Zt2bJFmzdvVm5urq5du6YLFy6EtqEAAESooVw1/Lcp6cq7v/vA580zjdp97EKf7TlhSD8AAADCkxOLymFTZCstLZXUPVKtP83NzSouLtb+/fs1f/783venTJkSiuYBABAVhnLVsOfAZ9Y9Y/TQ3aMdOaQ/lLo8huOutgIAgMjDMYd9wqbI5suRI0fk8Xh0+fJlTZo0SW1tbZo9e7a2bNmijIyMAddrb29Xe3t77+vW1tZQNBcAgLDlz1VDf4f0R8pB4uGahj5FxvQoKzICAIDg45jDXhFTZDt//rw8Ho9efvllbdu2TcnJySouLtaCBQv03nvvacSIEf2ut3Hjxt5RcohskXKiBgDhaqjFuUg5SDxc06DV+071eWBEY8t1rd53Sju+MS2sPg8AAHAmjjnsF2PnP15YWCiXyzXoz9mzZ01ty+PxqLOzU9u3b1deXp5mzpypyspKffjhh6qqqhpwvaKiIrW0tPT+XLp0yaqPBwc5XNOgOZuO6pldf9Ha16r1zK6/aM6mozpc02B30wAA/eg5SLy5wCZ9cZAYLvvvLo+h0v1n+n0ia897pfvPqMvT3xIAAADmcMzhDLaOZCsoKNCqVasGXSYrK8vUttLTu6ux2dnZve+lpKRo7Nixqq+vH3C92NhYxcbGmvo3EJ6o5gNAePF1kOhS90Higuw0x49IPlnX1KdQeDNDUkPLdZ2sa3LcxL0AACB8cMzhDLYW2VJSUpSSkmLJth555BFJ0rlz5zRu3DhJUlNTk65cuaLMzExL/g2En0g6UQOASNTfrfyRdJD4advAn8Of5QAAAPrDMYczhM2cbPX19WpqalJ9fb26urpUXV0tSZowYYISExN17733asmSJVq7dq1effVVud1uFRUVaeLEiZo3b569jYdtIulEDQAizUBzrj1xf5qp9cPhIDE1Kc7S5QAAAPrDMYcz2Don21CsX79eOTk5Kikp0dWrV5WTk6OcnBz97W9/612moqJCubm5Wrx4sR599FENHz5chw8f1vDhw21sOexENR8AnGmwOdf+z7ELprYRDgeJD989WunJcRporLRL3YXFh+8eHcpmAQCACMMxhzOETZGtvLxchmH0+Zk7d27vMm63W7t371Zzc7M+++wz/f73v1dGRoZ9jYbtqOYDgPOYuZV/sDv4w+kgcViMSyVPdc8Xe+tH6nld8lQ2UxYAAICAcMzhDGFTZAP8QTUfAJzHzK38PQ++ioSDxEX3p2vHN6YpLdn7gk5achwP3wEQ1bo8hk589JneqL6sEx99xlMPgQBxzGG/sJmTDfBHTzV/9b5TckleoybC8UQNACKB2Vv0/8cjX9KhmkavglxacpxKnsoOu4PERfena0F2Wp+HPJA/AKLVQPNyhuM+HnASjjnsRZENEa+nmn9riIfriRoAhDuzt+g/np2mHyzOjpiDxGExLh6yAwD6Yl7OW8etNbZc1+p9pxhxAwSIYw77UGRDVKCaDwDO0XMrf2PL9X7nZXOp+0JIz346mAeJXR6DbACAEDIzL2fp/jNakJ3G/hhA2KHIhqhBNR8AQmugApZTbuXnViUACD0z83I2tFzXybomjt0BhB2KbAAAwHK+Clh238rPrUoAYA+z83KaXQ4AnIQiGwAAsJTZApZdt/JzqxIA2MfsvJxmlwMAJ4mxuwEAACBy+CpgSd0FrC5P96ueW/mXTL1Ls+4ZE5Ki1lBuVQIAWKtnXs6B9vYudY98fvju0aFsFgBYgiIbAACwTDgUsLhVCQDs0zMvp6Q+hbZQzssJAMFAkQ0AAFgmHApY3KoEAPbqmZczLdl7P5uWHMecmADCGnOyAQAAy4RDAavnVqXGluv93tbqUveJHrcqAUDw2DUvJwAEEyPZAACAZcJhrh1uVQIAZ7BjXk4ACCaKbAAAwDJWFrC6PIZOfPSZ3qi+rBMffdb7sAQrcKsSAAAArMbtogAAwFI9BazS/We8HoKQlhynkqeyTRWwDtc09Fk/fQjrm20ntyoBAADAKhTZAACApbo8hpLjR+j7iyaq6Wq7Rt8+QmnJ8aYLWIdrGrR636k+86U1tlzX6n2nLB1p1nOrEgAAABAoimwAAMAyg41AM3uLaOn+M/0+kMBQ9y2npfvPaEF2GiPOAAAA4CjMyQYAACzRMwLt5gKb9MUItMM1DT63cbKuqc/6NzMkNbRc18m6pkCbCwAAAFiKIhsAAAiYrxFoUvcINF8PL/i0beACmz/LAQAAAKHC7aJhrMtjMFkzAMARhjICbbA50FKT4gb8nT/LhSPyHUA0Yt8HIBJQZAtToXjqGgAAZlk1Au3hu0crPTlOjS3X+x0V51L3U0ofvnv00BsZBsh3ANGIfR+ASMHtomHIijlvAACwklUj0IbFuFTyVLak7oLazXpem32IQrgh3wFEI/Z9ACIJRbYwY9WcNwAAWKlnBNpApS+XukclmBmBtuj+dO34xjSlJXsX5NKS47TjG9MiclQD+Q4gGrHvAxBpuF00zFg15w0AAFbqGYG2et8puSSvEyZ/RqAtuj9dC7LTomZ+HvIdQDRi3wcg0jCSLczw1DUACI6ysjLNnj1bCQkJGjly5IDLlZeXa8qUKYqLi1NqaqrWrFkTukY6nNUj0IbFuDTrnjFaMvUuzbpnTMQW2CTyHUB0Yt8HINIwki3M8NQ1AAiOjo4O5efna9asWdq9e3e/y2zdulVbtmzR5s2blZubq2vXrunChQuhbajDRdsINKuQ7wCiEfs+AJGGIluYifanrgFAsJSWlkrqHqnWn+bmZhUXF2v//v2aP39+7/tTpkwJRfPCSs8INJhHvgOIRuz7AEQabhcNM9H81DUAsNORI0fk8Xh0+fJlTZo0SePGjdPXv/51Xbp0adD12tvb1dra6vUD3Ip8B6IDUxN4Y98HINJQZAtD0fjUNQCw2/nz5+XxePTyyy/rlVde0W9/+1s1NTVpwYIF6ujoGHC9jRs3Kjk5ufcnIyMjhK1GOCHfgcjXMzXB6tWrB1xm69atWrdunQoLC1VbW6s333xTeXl5IWxlaLHvAxBJuF00TDHnDQD4VlhYqE2bNg26zPvvv6+JEyf63JbH41FnZ6e2b9+uhQsXSpIqKyuVlpamqqqqAU+AioqK9NJLL/W+bm1tpdCGAZHvQGQLxtQE7e3tam9v730djiOm2fcBiBQU2cIYc94AwOAKCgq0atWqQZfJysoyta309O4r6dnZ2b3vpaSkaOzYsaqvrx9wvdjYWMXGxpr6NwCJfAei2a1TE7S1tWn27NnasmXLgBdoNm7c2Fu8C2fs+wBEAopsAICIlZKSopSUFEu29cgjj0iSzp07p3HjxkmSmpqadOXKFWVmZlrybwAAotvNUxNs27ZNycnJKi4u1oIFC/Tee+9pxIgRfdZhxDQAOAdzsgEAIKm+vl7V1dWqr69XV1eXqqurVV1dratXr0qS7r33Xi1ZskRr167V8ePHVVNTo5UrV2rixImaN2+eza0HANilsLBQLpdr0J+zZ8+a2tbNUxPk5eVp5syZqqys1Icffqiqqqp+14mNjZXb7fb6AQDYg5FsAABIWr9+vfbu3dv7OicnR5JUVVWluXPnSpIqKir03e9+V4sXL1ZMTIweffRRHT58WMOHD7ejyQAAB3DC1AQAAGegyAYAgLonoR5oIuoebrdbu3fv1u7du0PTKACA4zE1AQCgB0U2AAAAAAiB+vp6NTU1eU1NIEkTJkxQYmKi19QEr776qtxut4qKipiaAADCBEU2AAAAAAgBpiYAgMjmMgzDsLsRTtLa2qrk5GS1tLQwaSgAWID9qjf6AwCsxX7VG/0BANYayn6Vp4sCAAAAAAAAAaLIBgAAAAAAAASIIhsAAAAAAAAQIB58cIueKepaW1ttbgkARIae/SlTgHYjZwDAWuSMN3IGAKw1lJyhyHaLtrY2SVJGRobNLQGAyNLW1qbk5GS7m2E7cgYAgoOc6UbOAEBwmMkZni56C4/Ho48//lhJSUlyuVym12ttbVVGRoYuXbrEU3xEf9yK/uiLPvEWyf1hGIba2tp05513KiaGWQr8zZmBRPLfjlXoI3PoJ9/oI9/s6CNyxttQcoa/af/Qb/6h3/xH3/nHqn4bSs4wku0WMTExGjdunN/ru91u/uhvQn94oz/6ok+8RWp/MLLgC4HmzEAi9W/HSvSROfSTb/SRb6HuI3LmC/7kDH/T/qHf/EO/+Y++848V/WY2Z7jUAwAAAAAAAASIIhsAAAAAAAAQIIpsFomNjVVJSYliY2Ptbooj0B/e6I++6BNv9Af8xd+Ob/SROfSTb/SRb/RReOH/yz/0m3/oN//Rd/6xo9948AEAAAAAAAAQIEayAQAAAAAAAAGiyAYAAAAAAAAEiCIbAAAAAAAAECCKbAAAAAAAAECAKLJZoKysTLNnz1ZCQoJGjhzZ5/enT5/WM888o4yMDMXHx2vSpEnatm1b6BsaIr76Q5Lq6+u1ePFiJSQkKDU1Vd/73vd048aN0DbURh988IGWLFmisWPHyu12a86cOaqqqrK7WbY6ePCgcnNzFR8fr1GjRmnp0qV2N8l27e3tmjp1qlwul6qrq+1uDhyI/PGNTPIPOWUO2WUOeeZMZIh/yBXrkDX+I3/8F+xMoshmgY6ODuXn52v16tX9/v6dd95Ramqq9u3bp9raWq1bt05FRUX62c9+FuKWhoav/ujq6tLixYvV0dGh48ePa+/evSovL9f69etD3FL7PPnkk7px44aOHj2qd955Rw8++KCefPJJNTY22t00W/zud7/TihUr9Nxzz+n06dM6duyYli9fbnezbPf9739fd955p93NgIORP76RSf4hp3wju8wjz5yJDPEPuWIdssY/5E9ggp5JBiyzZ88eIzk52dSy3/nOd4x58+YFt0E2G6g/Dh06ZMTExBiNjY297+3YscNwu91Ge3t7CFtoj3/+85+GJOOtt97qfa+1tdWQZBw5csTGltmjs7PTuOuuu4xf/vKXdjfFUQ4dOmRMnDjRqK2tNSQZ7777rt1NgoORP76RSeaRU76RXeaRZ85HhviHXAkMWeMf8icwocgkRrLZpKWlRaNHj7a7GbY4ceKEHnjgAd1xxx297+Xl5am1tVW1tbU2tiw0xowZo/vuu08VFRW6du2abty4oZ07dyo1NVXTp0+3u3khd+rUKV2+fFkxMTHKyclRenq6nnjiCdXU1NjdNNt88sknev755/WrX/1KCQkJdjcHESaa86c/0Z5J/SGnfCO7zCHPIg8Z4hu5Yg5Z4x/yx3+hyiSKbDY4fvy4Xn/9db3wwgt2N8UWjY2NXqEjqfd1NAwNdrlcevPNN/Xuu+8qKSlJcXFx2rp1qw4fPqxRo0bZ3byQO3/+vCRpw4YNKi4u1oEDBzRq1CjNnTtXTU1NNrcu9AzD0KpVq/Tiiy9qxowZdjcHESba86c/0Z5J/SGnfCO7fCPPIg8ZYg65Yg5Z4x/yxz+hzCSKbAMoLCyUy+Ua9Ofs2bND3m5NTY2WLFmikpISLVy4MAgtD45g9UckMdtHhmFozZo1Sk1N1dtvv62TJ09q6dKleuqpp9TQ0GD3x7CM2f7weDySpHXr1mnZsmWaPn269uzZI5fLpd/85jc2fwrrmO2Pn/70p2pra1NRUZHdTYZNyB/fyCT/kFO+kV2+kWfORob4h1yxDlnjH/LHP07MpNuC/i+EqYKCAq1atWrQZbKysoa0zTNnzmj+/Pl64YUXVFxcHEDrQs/K/khLS9PJkye93vvkk096fxeuzPbR0aNHdeDAATU3N8vtdkuSfvGLX+jIkSPau3evCgsLQ9Da4DPbHz0hmp2d3ft+bGyssrKyVF9fH8wmhtRQ/j5OnDih2NhYr9/NmDFDzz77rPbu3RvEVsIJyB/fyCT/kFO+kV2+kWfORob4h1yxDlnjH/LHP07MJIpsA0hJSVFKSopl26utrdVjjz2mlStXqqyszLLthoqV/TFr1iyVlZXp008/VWpqqiTpyJEjcrvdXjuLcGO2jz7//HNJUkyM90DSmJiY3isTkcBsf0yfPl2xsbE6d+6c5syZI0nq7OzUhQsXlJmZGexmhozZ/ti+fbt+9KMf9b7++OOPlZeXp9dff125ubnBbCIcgvzxjUzyDznlG9nlG3nmbGSIf8gV65A1/iF//OPETKLIZoH6+no1NTWpvr5eXV1dqq6uliRNmDBBiYmJqqmp0WOPPaa8vDy99NJLvffiDxs2zNIQdApf/bFw4UJlZ2drxYoV+vGPf6zGxkYVFxdrzZo1fSrLkWjWrFkaNWqUVq5cqfXr1ys+Pl67du1SXV2dFi9ebHfzQs7tduvFF19USUmJMjIylJmZqc2bN0uS8vPzbW5d6I0fP97rdWJioiTpnnvu0bhx4+xoEhyM/PGNTBo6cso3sss38sz5yBD/kCvWIGv8Q/74J6SZZPnzSqPQypUrDUl9fqqqqgzDMIySkpJ+f5+ZmWlru4PFV38YhmFcuHDBeOKJJ4z4+Hhj7NixRkFBgdHZ2Wlfo0Psr3/9q7Fw4UJj9OjRRlJSkjFz5kzj0KFDdjfLNh0dHUZBQYGRmppqJCUlGY8//rhRU1Njd7Mcoa6uLmiPl0b4I398I5P8Q075RnYNDXnmPGSIf8gV65A1/iF/AhfMTHIZhmFYW7YDAAAAAAAAogtPFwUAAAAAAAACRJENAAAAAAAACBBFNgAAAAAAACBAFNkAAAAAAACAAFFkAwAAAAAAAAJEkQ0AAAAAAAAIEEU2AAAAAAAAIEAU2QAAAAAAAIAAUWQDAAAAAAAAAkSRDXC4DRs2aOrUqXY3AwAQwcgaAEAwkTOIFhTZgAjR2dlpdxMAABGOrAEABBM5g3BHkQ0IgYqKCo0ZM0bt7e1e7y9dulQrVqwYcL3y8nKVlpbq9OnTcrlccrlcKi8vlyS5XC7t2LFDX/7yl3X77berrKxM5eXlGjlypNc2/vCHP8jlcnm998Ybb2jatGmKi4tTVlaWSktLdePGDUs+KwDAHmQNACCYyBnAN4psQAjk5+erq6tLf/zjH3vf+/TTT3Xw4EF961vfGnC9p59+WgUFBZo8ebIaGhrU0NCgp59+uvf3GzZs0Fe+8hX9/e9/H3Q7N3v77bf1zW9+U2vXrtWZM2e0c+dOlZeXq6yszP8PCACwHVkDAAgmcgbwjSIbEALx8fFavny59uzZ0/vevn37NH78eM2dO3fQ9RITE3XbbbcpLS1NaWlpio+P7/398uXL9dxzzykrK0vjx4831ZbS0lIVFhZq5cqVysrK0oIFC/TDH/5QO3fu9PvzAQDsR9YAAIKJnAF8u83uBgDR4vnnn9dDDz2ky5cv66677lJ5eblWrVrVZ9jzUMyYMWPI65w+fVrHjh3zusrT1dWl69ev6/PPP1dCQoLf7QEA2IusAQAEEzkDDI4iGxAiOTk5evDBB1VRUaGFCxeqtrZWBw8eDGibt99+u9frmJgYGYbh9d6tk4devXpVpaWl+upXv9pne3FxcQG1BwBgL7IGABBM5AwwOIpsQAh9+9vf1iuvvKLLly/r8ccfV0ZGhs91RowYoa6uLlPbT0lJUVtbm65du9YbVtXV1V7LTJs2TefOndOECROG3H4AgPORNQCAYCJngIExJxsQQsuXL9c//vEP7dq1y/Sknl/60pdUV1en6upqXblypc/TfG6Wm5urhIQE/eAHP9BHH32kX//6171P7umxfv16VVRUqLS0VLW1tXr//ff12muvqbi4OJCPBgBwCLIGABBM5AwwMIpsQAglJydr2bJlSkxM1NKlS02ts2zZMi1atEjz5s1TSkqKKisrB1x29OjR2rdvnw4dOqQHHnhAlZWV2rBhg9cyeXl5OnDggP70pz/poYce0syZM/WTn/xEmZmZAXwyAIBTkDUAgGAiZ4CBuYxbb3YGEFTz58/X5MmTtX37drubAgCIUGQNACCYyBmgfxTZgBBpbm7Wn//8Z33ta1/TmTNndN9999ndJABAhCFrAADBRM4Ag+PBB0CI5OTkqLm5WZs2bfIKo8mTJ+vixYv9rrNz5049++yzoWoiACDMkTUAgGAiZ4DBMZINsNnFixf7PJK6xx133KGkpKQQtwgAEGnIGgBAMJEzQDeKbAAAAAAAAECAeLooAAAAAAAAECCKbAAAAAAAAECAKLIBAAAAAAAAAaLIBgAAAAAAAASIIhsAAAAAAAAQIIpsAAAAAAAAQIAosgEAAAAAAAAB+v8f8cP4cXKsGAAAAABJRU5ErkJggg==",
      "text/plain": [
       "<Figure size 1500x500 with 3 Axes>"
      ]
     },
     "metadata": {},
     "output_type": "display_data"
    },
    {
     "data": {
      "text/plain": [
       "<torch_geometric.loader.dataloader.DataLoader at 0x149a107a1f50>"
      ]
     },
     "execution_count": 10,
     "metadata": {},
     "output_type": "execute_result"
    },
    {
     "data": {
      "text/plain": [
       "<Figure size 640x480 with 0 Axes>"
      ]
     },
     "metadata": {},
     "output_type": "display_data"
    }
   ],
   "source": [
    "import importlib\n",
    "from geom3d import inference_test\n",
    "\n",
    "config_dir = \"/rds/general/user/cb1319/home/GEOM3D/Geom3D/training/SchNet_target_1K_TEST_5e4lr/\"\n",
    "chkpt_path = \"/rds/general/user/cb1319/home/GEOM3D/Geom3D/training/SchNet_target_1K_TEST_5e4lr/epoch=86-val_loss=0.54-other_metric=0.00.ckpt\"\n",
    "\n",
    "importlib.reload(inference_test)\n",
    "inference_test.plot_training_results(chkpt_path, config_dir)\n",
    "\n",
    "#issue related to the fact that the model is not saved in the checkpoint? or why is there no model.pth, graph_pred_linear.pth?"
   ]
<<<<<<< Updated upstream
<<<<<<< Updated upstream
  },
  {
   "cell_type": "code",
   "execution_count": 9,
   "metadata": {},
   "outputs": [],
   "source": [
    "%matplotlib inline"
   ]
  },
  {
   "cell_type": "code",
   "execution_count": 25,
   "metadata": {},
   "outputs": [
    {
     "name": "stdout",
     "output_type": "stream",
     "text": [
      "dict_keys(['epoch', 'global_step', 'pytorch-lightning_version', 'state_dict', 'loops', 'callbacks', 'optimizer_states', 'lr_schedulers'])\n"
     ]
    }
   ],
   "source": [
    "from geom3d.train_SchNet import Pymodel\n",
    "from geom3d.train_SchNet import read_config, load_data, train_val_test_split\n",
    "print(checkpoint.keys())\n",
    "#pymodel = Pymodel.load_from_checkpoint(chkpt_path)\n",
    "pymodle = pymodel.load_state_dict(state_dict = checkpoint['state_dict'])"
   ]
  },
  {
   "cell_type": "code",
   "execution_count": 21,
   "metadata": {},
   "outputs": [],
   "source": [
    "model_config = config[\"model\"]\n",
    "checkpoint = torch.load(chkpt_path)\n",
    "\n",
    "\n",
    "model = SchNet(\n",
    "    hidden_channels=model_config[\"emb_dim\"],\n",
    "    num_filters=model_config[\"SchNet_num_filters\"],\n",
    "    num_interactions=model_config[\"SchNet_num_interactions\"],\n",
    "    num_gaussians=model_config[\"SchNet_num_gaussians\"],\n",
    "    cutoff=model_config[\"SchNet_cutoff\"],\n",
    "    readout=model_config[\"SchNet_readout\"],\n",
    "    node_class=model_config[\"node_class\"],\n",
    ")\n",
    "\n",
    "graph_pred_linear = torch.nn.Linear(\n",
    "    model_config[\"emb_dim\"], model_config[\"num_tasks\"]\n",
    ")\n",
    "\n",
    "pymodel = Pymodel(model, graph_pred_linear)\n",
    "pymodle = pymodel.load_state_dict(state_dict = checkpoint['state_dict'])"
   ]
  },
  {
   "cell_type": "code",
   "execution_count": 24,
   "metadata": {},
   "outputs": [
    {
     "data": {
      "text/plain": [
       "<All keys matched successfully>"
      ]
     },
     "execution_count": 24,
     "metadata": {},
     "output_type": "execute_result"
    }
   ],
   "source": [
    "pymodle"
   ]
=======
>>>>>>> Stashed changes
=======
>>>>>>> Stashed changes
  }
 ],
 "metadata": {
  "kernelspec": {
   "display_name": "Python [conda env:Geom3D]",
   "language": "python",
   "name": "conda-env-Geom3D-py"
<<<<<<< Updated upstream
<<<<<<< Updated upstream
=======
>>>>>>> Stashed changes
  },
  "language_info": {
   "codemirror_mode": {
    "name": "ipython",
    "version": 3
   },
   "file_extension": ".py",
   "mimetype": "text/x-python",
   "name": "python",
   "nbconvert_exporter": "python",
   "pygments_lexer": "ipython3",
   "version": "3.11.5"
<<<<<<< Updated upstream
=======
>>>>>>> Stashed changes
=======
>>>>>>> Stashed changes
  }
 },
 "nbformat": 4,
 "nbformat_minor": 2
}
