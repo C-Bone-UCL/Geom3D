{
 "cells": [
  {
   "cell_type": "code",
   "execution_count": 1,
   "metadata": {},
   "outputs": [],
   "source": [
    "import os\n",
    "os.chdir('/rds/general/user/cb1319/home/GEOM3D/Geom3D/')"
   ]
  },
  {
   "cell_type": "code",
   "execution_count": 4,
   "metadata": {},
   "outputs": [
    {
     "name": "stdout",
     "output_type": "stream",
     "text": [
      "Original dataset loaded\n",
      "Updating targets in dataset...\n",
      "New dataset saved: /rds/general/user/cb1319/home/GEOM3D/Geom3D/training/dataset80K_IP.pt\n",
      "New dataset saved: /rds/general/user/cb1319/home/GEOM3D/Geom3D/training/dataset80K_ES1.pt\n",
      "New dataset saved: /rds/general/user/cb1319/home/GEOM3D/Geom3D/training/dataset80K_fosc1.pt\n"
     ]
    }
   ],
   "source": [
    "%run /rds/general/user/cb1319/home/GEOM3D/Geom3D/src/geom3d/utils/update_target.py"
   ]
  },
  {
   "cell_type": "code",
   "execution_count": 8,
   "metadata": {},
   "outputs": [
    {
     "name": "stdout",
     "output_type": "stream",
     "text": [
      "Original Dataset:\n",
      "Sample 1 - Target: -8.769000053405762\n",
      "Sample 2 - Target: -8.496899604797363\n",
      "Sample 3 - Target: -9.899999618530273\n",
      "\n",
      "New Dataset 1:\n",
      "Sample 1 - Target: 6.107500076293945\n",
      "Sample 2 - Target: 6.152400016784668\n",
      "Sample 3 - Target: 6.206399917602539\n",
      "\n",
      "New Dataset 2:\n",
      "Sample 1 - Target: 3.99399995803833\n",
      "Sample 2 - Target: 3.9700000286102295\n",
      "Sample 3 - Target: 3.309000015258789\n",
      "\n",
      "New Dataset 3:\n",
      "Sample 1 - Target: 0.12430000305175781\n",
      "Sample 2 - Target: 0.11209999769926071\n",
      "Sample 3 - Target: 0.0925000011920929\n"
     ]
    }
   ],
   "source": [
    "import torch\n",
    "from torch_geometric.loader import DataLoader\n",
    "\n",
    "# Load the original dataset\n",
    "original_dataset_path = \"/rds/general/user/cb1319/home/GEOM3D/Geom3D/training/80Kdataset.pt\"\n",
    "original_dataset = torch.load(original_dataset_path)\n",
    "\n",
    "# Load the new datasets\n",
    "new_dataset_paths = [\n",
    "    \"/rds/general/user/cb1319/home/GEOM3D/Geom3D/training/dataset80K_IP.pt\",\n",
    "    \"/rds/general/user/cb1319/home/GEOM3D/Geom3D/training/dataset80K_ES1.pt\",\n",
    "    \"/rds/general/user/cb1319/home/GEOM3D/Geom3D/training/dataset80K_fosc1.pt\",\n",
    "]\n",
    "\n",
    "new_datasets = [torch.load(path) for path in new_dataset_paths]\n",
    "\n",
    "# Print the first few samples of each dataset\n",
    "num_samples_to_display = 3\n",
    "\n",
    "# Original dataset\n",
    "print(\"Original Dataset:\")\n",
    "for i, data in enumerate(original_dataset[:num_samples_to_display]):\n",
    "    print(f\"Sample {i + 1} - Target: {data.y.item()}\")\n",
    "\n",
    "# New datasets\n",
    "for j, new_dataset in enumerate(new_datasets):\n",
    "    print(f\"\\nNew Dataset {j + 1}:\")\n",
    "    for i, data in enumerate(new_dataset[:num_samples_to_display]):\n",
    "        print(f\"Sample {i + 1} - Target: {data.y.item()}\")\n"
   ]
  },
  {
   "cell_type": "code",
   "execution_count": 3,
   "metadata": {},
   "outputs": [
    {
     "name": "stdout",
     "output_type": "stream",
     "text": [
      "config saved to /rds/general/user/cb1319/home/Geom3D/Geom3D/training/PaiNN_target_80K_TEST_5e4lr\n",
      "config saved\n",
      "{'seed': 42, 'save_dataset': True, 'name': 'PaiNN_target_80K_TEST_5e4lr', 'pymongo_client': 'mongodb://129.31.66.201/', 'database_name': 'stk_mohammed_BO', 'STK_path': '/rds/general/user/cb1319/home/STK_Search/STK_search', 'running_dir': '/rds/general/user/cb1319/home/Geom3D/Geom3D/training', 'batch_size': 128, 'df_total': 'df_total_subset_16_11_23.csv', 'df_precursor': 'calculation_data_precursor_190923_clean.pkl', 'num_molecules': 80000, 'num_workers': 0, 'num_tasks': 1, 'emb_dim': 128, 'max_epochs': 150, 'train_ratio': 0.8, 'valid_ratio': 0.1, 'number_of_fragement': 6, 'model_path': '', 'pl_model_chkpt': '', 'load_dataset': True, 'dataset_path': '/rds/general/user/cb1319/home/GEOM3D/Geom3D/training/PaiNN_target_80K_TEST_5e4lr/80000dataset_radius.pt', 'dataset_path_frag': '', 'model_name': 'PaiNN'}\n"
     ]
    }
   ],
   "source": [
    "import os\n",
    "os.chdir('/rds/general/user/cb1319/home/GEOM3D/Geom3D/')\n",
    "%run src/geom3d/dev_scripts/run_training.py --model_name 'PaiNN' --num_molecules 80000 --max_epochs 150"
   ]
  },
  {
   "cell_type": "code",
   "execution_count": 11,
   "metadata": {},
   "outputs": [
    {
     "name": "stdout",
     "output_type": "stream",
     "text": [
      "Script saved to: /rds/general/user/cb1319/home/HPC_bash_scripts/training_PaiNN_80K_150epochs.sh\n",
      "/bin/bash: which: line 1: syntax error: unexpected end of file\n",
      "/bin/bash: error importing function definition for `which'\n",
      "/bin/bash: module: line 1: syntax error: unexpected end of file\n",
      "/bin/bash: error importing function definition for `module'\n",
      "/bin/bash: scl: line 1: syntax error: unexpected end of file\n",
      "/bin/bash: error importing function definition for `scl'\n",
      "/bin/bash: ml: line 1: syntax error: unexpected end of file\n",
      "/bin/bash: error importing function definition for `ml'\n",
      "/bin/sh: which: line 1: syntax error: unexpected end of file\n",
      "/bin/sh: error importing function definition for `which'\n",
      "/bin/sh: ml: line 1: syntax error: unexpected end of file\n",
      "/bin/sh: error importing function definition for `ml'\n",
      "/bin/sh: scl: line 1: syntax error: unexpected end of file\n",
      "/bin/sh: error importing function definition for `scl'\n",
      "/bin/sh: module: line 1: syntax error: unexpected end of file\n",
      "/bin/sh: error importing function definition for `module'\n",
      "sh: which: line 1: syntax error: unexpected end of file\n",
      "sh: error importing function definition for `which'\n",
      "sh: ml: line 1: syntax error: unexpected end of file\n",
      "sh: error importing function definition for `ml'\n",
      "sh: scl: line 1: syntax error: unexpected end of file\n",
      "sh: error importing function definition for `scl'\n",
      "sh: module: line 1: syntax error: unexpected end of file\n",
      "sh: error importing function definition for `module'\n",
      "qsub: script file:: No such file or directory\n",
      "/bin/bash: which: line 1: syntax error: unexpected end of file\n",
      "/bin/bash: error importing function definition for `which'\n",
      "/bin/bash: module: line 1: syntax error: unexpected end of file\n",
      "/bin/bash: error importing function definition for `module'\n",
      "/bin/bash: scl: line 1: syntax error: unexpected end of file\n",
      "/bin/bash: error importing function definition for `scl'\n",
      "/bin/bash: ml: line 1: syntax error: unexpected end of file\n",
      "/bin/bash: error importing function definition for `ml'\n",
      "sh: which: line 1: syntax error: unexpected end of file\n",
      "sh: error importing function definition for `which'\n",
      "sh: ml: line 1: syntax error: unexpected end of file\n",
      "sh: error importing function definition for `ml'\n",
      "sh: scl: line 1: syntax error: unexpected end of file\n",
      "sh: error importing function definition for `scl'\n",
      "sh: module: line 1: syntax error: unexpected end of file\n",
      "sh: error importing function definition for `module'\n",
      "Job id            Name             User              Time Use S Queue\n",
      "----------------  ---------------- ----------------  -------- - -----\n",
      "8752815.pbs       jupyterhub       cb1319            00:14:24 R pqjupytergpu    \n"
     ]
    }
   ],
   "source": [
    "import os\n",
    "\n",
    "# Specify the directory path\n",
    "directory_path = '/rds/general/user/cb1319/home/HPC_bash_scripts/'\n",
    "\n",
    "# Create the directory if it doesn't exist\n",
    "os.makedirs(directory_path, exist_ok=True)\n",
    "\n",
    "# Specify the script content\n",
    "script = \"#!/bin/bash \\n\"+\\\n",
    "    \"#PBS -l walltime=70:00:00 \\n\"+\\\n",
    "    \"#PBS -l select=1:ncpus=4:mem=48gb:ngpus=1:gpu_type=RTX6000 \\n\"+\\\n",
    "    \"#PBS -N training_PaiNN_80K_150epochs \\n\"+\\\n",
    "    \" \\n\"+\\\n",
    "    \"cd /rds/general/user/cb1319/home/Geom3D/Geom3D/ \\n\"+\\\n",
    "    \"module load anaconda3/personal \\n\"+ \\\n",
    "    \"module load tools/prod  \\n\"+ \\\n",
    "    \"module load Python/3.10.8-GCCcore-12.2.0  \\n\"+ \\\n",
    "    \"source activate Geom3D     \\n\"+\\\n",
    "    \"python3 /rds/general/user/cb1319/home/GEOM3D/Geom3D/src/geom3d/train_models.py --config_dir /rds/general/user/cb1319/home/GEOM3D/Geom3D/training/PaiNN_target_80K_TEST_5e4lr/ \\n\"\n",
    "\n",
    "# Save the script to a file\n",
    "file_path = os.path.join(directory_path, 'training_PaiNN_80K_150epochs.sh')\n",
    "with open(file_path, 'wb') as f:\n",
    "    f.write( bytes(script, 'utf-8') )\n",
    "\n",
    "print(f\"Script saved to: {file_path}\")\n",
    "\n",
    "!qsub -e ./cache -o ./cache /rds/general/user/cb1319/home/HPC_bash_scripts/training_training_PaiNN_80K_150epochs.sh\n",
    "!qstat"
   ]
  },
  {
   "cell_type": "code",
   "execution_count": 4,
   "metadata": {},
   "outputs": [
    {
     "name": "stdout",
     "output_type": "stream",
     "text": [
      "#!/bin/bash \n",
      "#PBS -l walltime=70:00:00 \n",
      "#PBS -l select=1:ncpus=4:mem=48gb:ngpus=1:gpu_type=RTX6000 \n",
      " \n",
      "cd /rds/general/user/cb1319/home/Geom3D/Geom3D/ \n",
      "module load anaconda3/personal \n",
      "module load tools/prod  \n",
      "module load Python/3.10.8-GCCcore-12.2.0  \n",
      "source activate Geom3D     \n",
      "python3 /rds/general/user/cb1319/home/GEOM3D/Geom3D/src/geom3d/train_models.py --config_dir /rds/general/user/cb1319/home/GEOM3D/Geom3D/training/PaiNN_target_80K_TEST_5e4lr/ \n",
      "\n"
     ]
    },
    {
     "ename": "FileNotFoundError",
     "evalue": "[Errno 2] No such file or directory: 'HPC_bash_script/training_PaiNN_80K_150epochs.sh'",
     "output_type": "error",
     "traceback": [
      "\u001b[0;31m---------------------------------------------------------------------------\u001b[0m",
      "\u001b[0;31mFileNotFoundError\u001b[0m                         Traceback (most recent call last)",
      "Cell \u001b[0;32mIn[4], line 14\u001b[0m\n\u001b[1;32m      3\u001b[0m script\u001b[38;5;241m=\u001b[39m\u001b[38;5;124m\"\u001b[39m\u001b[38;5;124m#!/bin/bash \u001b[39m\u001b[38;5;130;01m\\n\u001b[39;00m\u001b[38;5;124m\"\u001b[39m\u001b[38;5;241m+\u001b[39m\\\n\u001b[1;32m      4\u001b[0m     \u001b[38;5;124m\"\u001b[39m\u001b[38;5;124m#PBS -l walltime=70:00:00 \u001b[39m\u001b[38;5;130;01m\\n\u001b[39;00m\u001b[38;5;124m\"\u001b[39m\u001b[38;5;241m+\u001b[39m\\\n\u001b[1;32m      5\u001b[0m     \u001b[38;5;124m\"\u001b[39m\u001b[38;5;124m#PBS -l select=1:ncpus=4:mem=48gb:ngpus=1:gpu_type=RTX6000 \u001b[39m\u001b[38;5;130;01m\\n\u001b[39;00m\u001b[38;5;124m\"\u001b[39m\u001b[38;5;241m+\u001b[39m\\\n\u001b[0;32m   (...)\u001b[0m\n\u001b[1;32m     11\u001b[0m     \u001b[38;5;124m\"\u001b[39m\u001b[38;5;124msource activate Geom3D     \u001b[39m\u001b[38;5;130;01m\\n\u001b[39;00m\u001b[38;5;124m\"\u001b[39m\u001b[38;5;241m+\u001b[39m\\\n\u001b[1;32m     12\u001b[0m     \u001b[38;5;124m\"\u001b[39m\u001b[38;5;124mpython3 /rds/general/user/cb1319/home/GEOM3D/Geom3D/src/geom3d/train_models.py --config_dir /rds/general/user/cb1319/home/GEOM3D/Geom3D/training/PaiNN_target_80K_TEST_5e4lr/ \u001b[39m\u001b[38;5;130;01m\\n\u001b[39;00m\u001b[38;5;124m\"\u001b[39m\n\u001b[1;32m     13\u001b[0m \u001b[38;5;28mprint\u001b[39m(script) \n\u001b[0;32m---> 14\u001b[0m \u001b[38;5;28;01mwith\u001b[39;00m \u001b[38;5;28;43mopen\u001b[39;49m\u001b[43m(\u001b[49m\u001b[38;5;124;43mf\u001b[39;49m\u001b[38;5;124;43m'\u001b[39;49m\u001b[38;5;124;43mHPC_bash_script/training_PaiNN_80K_150epochs.sh\u001b[39;49m\u001b[38;5;124;43m'\u001b[39;49m\u001b[43m,\u001b[49m\u001b[43m \u001b[49m\u001b[38;5;124;43m'\u001b[39;49m\u001b[38;5;124;43mwb\u001b[39;49m\u001b[38;5;124;43m'\u001b[39;49m\u001b[43m)\u001b[49m \u001b[38;5;28;01mas\u001b[39;00m f:\n\u001b[1;32m     15\u001b[0m     f\u001b[38;5;241m.\u001b[39mwrite( \u001b[38;5;28mbytes\u001b[39m(script, \u001b[38;5;124m'\u001b[39m\u001b[38;5;124mutf-8\u001b[39m\u001b[38;5;124m'\u001b[39m))  \n\u001b[1;32m     17\u001b[0m \u001b[38;5;66;03m# !qsub -e ./cache -o ./cache HPC_bash_script/training_training_PaiNN_80K_150epochs.sh\u001b[39;00m\n",
      "File \u001b[0;32m~/anaconda3/envs/Geom3D/lib/python3.11/site-packages/IPython/core/interactiveshell.py:308\u001b[0m, in \u001b[0;36m_modified_open\u001b[0;34m(file, *args, **kwargs)\u001b[0m\n\u001b[1;32m    301\u001b[0m \u001b[38;5;28;01mif\u001b[39;00m file \u001b[38;5;129;01min\u001b[39;00m {\u001b[38;5;241m0\u001b[39m, \u001b[38;5;241m1\u001b[39m, \u001b[38;5;241m2\u001b[39m}:\n\u001b[1;32m    302\u001b[0m     \u001b[38;5;28;01mraise\u001b[39;00m \u001b[38;5;167;01mValueError\u001b[39;00m(\n\u001b[1;32m    303\u001b[0m         \u001b[38;5;124mf\u001b[39m\u001b[38;5;124m\"\u001b[39m\u001b[38;5;124mIPython won\u001b[39m\u001b[38;5;124m'\u001b[39m\u001b[38;5;124mt let you open fd=\u001b[39m\u001b[38;5;132;01m{\u001b[39;00mfile\u001b[38;5;132;01m}\u001b[39;00m\u001b[38;5;124m by default \u001b[39m\u001b[38;5;124m\"\u001b[39m\n\u001b[1;32m    304\u001b[0m         \u001b[38;5;124m\"\u001b[39m\u001b[38;5;124mas it is likely to crash IPython. If you know what you are doing, \u001b[39m\u001b[38;5;124m\"\u001b[39m\n\u001b[1;32m    305\u001b[0m         \u001b[38;5;124m\"\u001b[39m\u001b[38;5;124myou can use builtins\u001b[39m\u001b[38;5;124m'\u001b[39m\u001b[38;5;124m open.\u001b[39m\u001b[38;5;124m\"\u001b[39m\n\u001b[1;32m    306\u001b[0m     )\n\u001b[0;32m--> 308\u001b[0m \u001b[38;5;28;01mreturn\u001b[39;00m \u001b[43mio_open\u001b[49m\u001b[43m(\u001b[49m\u001b[43mfile\u001b[49m\u001b[43m,\u001b[49m\u001b[43m \u001b[49m\u001b[38;5;241;43m*\u001b[39;49m\u001b[43margs\u001b[49m\u001b[43m,\u001b[49m\u001b[43m \u001b[49m\u001b[38;5;241;43m*\u001b[39;49m\u001b[38;5;241;43m*\u001b[39;49m\u001b[43mkwargs\u001b[49m\u001b[43m)\u001b[49m\n",
      "\u001b[0;31mFileNotFoundError\u001b[0m: [Errno 2] No such file or directory: 'HPC_bash_script/training_PaiNN_80K_150epochs.sh'"
     ]
    }
   ],
   "source": [
    "os.chdir('/rds/general/user/cb1319/home/Geom3D/Geom3D/')\n",
    "\n",
    "script=\"#!/bin/bash \\n\"+\\\n",
    "    \"#PBS -l walltime=70:00:00 \\n\"+\\\n",
    "    \"#PBS -l select=1:ncpus=4:mem=48gb:ngpus=1:gpu_type=RTX6000 \\n\"+\\\n",
    "    \" \\n\"+\\\n",
    "    \"cd /rds/general/user/cb1319/home/Geom3D/Geom3D/ \\n\"+\\\n",
    "    \"module load anaconda3/personal \\n\"+ \\\n",
    "    \"module load tools/prod  \\n\"+ \\\n",
    "    \"module load Python/3.10.8-GCCcore-12.2.0  \\n\"+ \\\n",
    "    \"source activate Geom3D     \\n\"+\\\n",
    "    \"python3 /rds/general/user/cb1319/home/GEOM3D/Geom3D/src/geom3d/train_models.py --config_dir /rds/general/user/cb1319/home/GEOM3D/Geom3D/training/PaiNN_target_80K_TEST_5e4lr/ \\n\"\n",
    "print(script) \n",
    "# create the bash script\n",
    "\n",
    "with open(f'HPC_bash_script/training_PaiNN_80K_150epochs.sh', 'wb') as f:\n",
    "    f.write( bytes(script, 'utf-8'))  \n",
    "\n",
    "# !qsub -e ./cache -o ./cache HPC_bash_script/training_training_PaiNN_80K_150epochs.sh"
   ]
  },
  {
   "cell_type": "code",
   "execution_count": null,
   "metadata": {},
   "outputs": [],
   "source": []
  }
 ],
 "metadata": {
  "kernelspec": {
   "display_name": "Python [conda env:Geom3D]",
   "language": "python",
   "name": "conda-env-Geom3D-py"
  },
  "language_info": {
   "codemirror_mode": {
    "name": "ipython",
    "version": 3
   },
   "file_extension": ".py",
   "mimetype": "text/x-python",
   "name": "python",
   "nbconvert_exporter": "python",
   "pygments_lexer": "ipython3",
   "version": "3.11.5"
  }
 },
 "nbformat": 4,
 "nbformat_minor": 2
}
