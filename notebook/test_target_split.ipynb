{
 "cells": [
  {
   "cell_type": "code",
   "execution_count": 1,
   "metadata": {},
   "outputs": [
    {
     "name": "stdout",
     "output_type": "stream",
     "text": [
      "config loaded from /rds/general/user/cb1319/home/GEOM3D/Geom3D/performance_eval_test/SchNet_IP_80000\n"
     ]
    }
   ],
   "source": [
    "import os\n",
    "from collections import Counter\n",
    "from pathlib import Path\n",
    "\n",
    "import matplotlib.pyplot as plt\n",
    "import numpy as np\n",
    "import pandas as pd\n",
    "import seaborn as sns\n",
    "from IPython.display import display, HTML\n",
    "from rdkit import Chem\n",
    "from rdkit.Chem import AllChem, DataStructs, Draw, rdFMCS\n",
    "from scipy.cluster.hierarchy import dendrogram, fcluster, linkage\n",
    "from sklearn.decomposition import PCA\n",
    "\n",
    "from geom3d.train_models import *\n",
    "import torch\n",
    "import copy\n",
    "import os\n",
    "os.chdir('/rds/general/user/cb1319/home/GEOM3D/Geom3D/')\n",
    "config_dir = os.getcwd()+\"/performance_eval_test/SchNet_IP_80000\"\n",
    "config = read_config(config_dir)\n",
    "\n",
    "dataset_path = \"/rds/general/user/cb1319/home/GEOM3D/Geom3D/performance_eval_test/80Kdataset.pt\"\n",
    "dataset = torch.load(dataset_path)"
   ]
  },
  {
   "cell_type": "code",
   "execution_count": null,
   "metadata": {},
   "outputs": [],
   "source": [
    "#show the different dataset keys\n",
    "print(dataset.keys())"
   ]
  },
  {
   "cell_type": "code",
   "execution_count": null,
   "metadata": {},
   "outputs": [],
   "source": [
    "# Get the target column\n",
    "target = dataset[\"target\"]\n",
    "# Sort the target values and get the indices\n",
    "sorted_indices = np.argsort(target)\n",
    "# Get the indices of the 10% best performing molecules\n",
    "test_indices = sorted_indices[-int(len(sorted_indices) * 0.1) :]\n",
    "\n",
    "# find the InChIKeys of the test set\n",
    "test_set = dataset.iloc[test_indices]\n",
    "test_set_inchikeys = test_set[\"inchikey\"].values"
   ]
  }
 ],
 "metadata": {
  "kernelspec": {
   "display_name": "Python [conda env:Geom3D]",
   "language": "python",
   "name": "conda-env-Geom3D-py"
  },
  "language_info": {
   "codemirror_mode": {
    "name": "ipython",
    "version": 3
   },
   "file_extension": ".py",
   "mimetype": "text/x-python",
   "name": "python",
   "nbconvert_exporter": "python",
   "pygments_lexer": "ipython3",
   "version": "3.11.5"
  }
 },
 "nbformat": 4,
 "nbformat_minor": 2
}
