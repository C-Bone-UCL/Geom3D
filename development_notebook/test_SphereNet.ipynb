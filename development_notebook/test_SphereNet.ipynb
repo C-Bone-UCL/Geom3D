{
 "cells": [
  {
   "cell_type": "code",
   "execution_count": 1,
   "metadata": {},
   "outputs": [],
   "source": [
    "import os\n",
    "os.chdir('/rds/general/user/cb1319/home/GEOM3D/Geom3D/')"
   ]
  },
  {
   "cell_type": "code",
   "execution_count": 8,
   "metadata": {},
   "outputs": [
    {
     "name": "stdout",
     "output_type": "stream",
     "text": [
      "config loaded from /rds/general/user/cb1319/home/GEOM3D/Geom3D/training/SphereNet_target_80K_TEST_5e4lr\n"
     ]
    }
   ],
   "source": [
    "from geom3d.train_models import *\n",
    "import torch\n",
    "import copy\n",
    "\n",
    "config_dir = os.getcwd()+\"/training/SphereNet_target_80K_TEST_5e4lr\"\n",
    "config = read_config(config_dir)"
   ]
  },
  {
   "cell_type": "code",
   "execution_count": 3,
   "metadata": {},
   "outputs": [
    {
     "name": "stdout",
     "output_type": "stream",
     "text": [
      "GPU (Quadro RTX 6000) is available.\n"
     ]
    }
   ],
   "source": [
    "# Check if GPU is available\n",
    "if torch.cuda.is_available():\n",
    "    # Get the name of the GPU\n",
    "    gpu_name = torch.cuda.get_device_name(0)  # Assuming you have one GPU; you can change the index if you have multiple GPUs\n",
    "    print(f\"GPU ({gpu_name}) is available.\")\n",
    "else:\n",
    "    print(\"No GPU available. Using CPU.\")"
   ]
  },
  {
   "cell_type": "code",
   "execution_count": 4,
   "metadata": {},
   "outputs": [
    {
     "name": "stdout",
     "output_type": "stream",
     "text": [
      "length of dataset: 80000\n"
     ]
    }
   ],
   "source": [
    "import importlib\n",
    "from geom3d import train_models\n",
    "\n",
    "importlib.reload(train_models)\n",
    "\n",
    "config[\"device\"] = \"cuda:0\" if torch.cuda.is_available() else \"cpu\"\n",
    "    \n",
    "np.random.seed(config[\"seed\"])\n",
    "torch.cuda.manual_seed_all(config[\"seed\"])\n",
    "dataset = train_models.load_data(config)\n",
    "print(f\"length of dataset: {len(dataset)}\")\n"
   ]
  },
  {
   "cell_type": "code",
   "execution_count": 5,
   "metadata": {},
   "outputs": [
    {
     "name": "stderr",
     "output_type": "stream",
     "text": [
      "Failed to detect the name of this notebook, you can set it manually with the WANDB_NOTEBOOK_NAME environment variable to enable code saving.\n"
     ]
    },
    {
     "name": "stderr",
     "output_type": "stream",
     "text": [
      "\u001b[34m\u001b[1mwandb\u001b[0m: Currently logged in as: \u001b[33mcyprienbone\u001b[0m. Use \u001b[1m`wandb login --relogin`\u001b[0m to force relogin\n"
     ]
    },
    {
     "data": {
      "text/plain": [
       "True"
      ]
     },
     "execution_count": 5,
     "metadata": {},
     "output_type": "execute_result"
    }
   ],
   "source": [
    "import wandb\n",
    "wandb.login()"
   ]
  },
  {
   "cell_type": "code",
   "execution_count": null,
   "metadata": {},
   "outputs": [],
   "source": [
    "# stop wandb run\n",
    "wandb.finish()"
   ]
  },
  {
   "cell_type": "code",
   "execution_count": null,
   "metadata": {},
   "outputs": [
    {
     "ename": "",
     "evalue": "",
     "output_type": "error",
     "traceback": [
      "\u001b[1;31mCannot execute code, session has been disposed. Please try restarting the Kernel."
     ]
    }
   ],
   "source": [
    "import importlib\n",
    "from geom3d import train_models\n",
    "\n",
    "importlib.reload(train_models)\n",
    "train_models.main(\"/rds/general/user/cb1319/home/GEOM3D/Geom3D/training/SphereNet_target_80K_TEST_5e4lr/\")"
   ]
  },
  {
   "cell_type": "code",
   "execution_count": 4,
   "metadata": {},
   "outputs": [
    {
     "data": {
      "text/plain": [
       "'/rds/general/user/cb1319/home/GEOM3D/Geom3D'"
      ]
     },
     "execution_count": 4,
     "metadata": {},
     "output_type": "execute_result"
    }
   ],
   "source": [
    "os.getcwd()"
   ]
  },
  {
   "cell_type": "code",
   "execution_count": 6,
   "metadata": {},
   "outputs": [],
   "source": [
    "%matplotlib inline"
   ]
  },
  {
   "cell_type": "code",
   "execution_count": 9,
   "metadata": {},
   "outputs": [
    {
     "name": "stdout",
     "output_type": "stream",
     "text": [
      "config loaded from /rds/general/user/cb1319/home/GEOM3D/Geom3D/training/SphereNet_target_80K_TEST_5e4lr/\n",
      "checkpoint used: /rds/general/user/cb1319/home/GEOM3D/Geom3D/training/SphereNet_target_80K_TEST_5e4lr/epoch=4-val_loss=0.89-other_metric=0.00.ckpt\n",
      "Model loaded:  SphereNet\n",
      "y_true tensor(-8.7690)\n",
      "tensor(-8.7690)\n",
      "train_idx:  [47044 44295 74783 ... 77925 18116 14762]\n",
      "valid_idx:  [39698 66692  7139 ... 52300 56176  3346]\n",
      "test_idx:  [61260 28261 49228 ... 76820   860 15795]\n",
      "pymodel device cuda:0\n",
      "u torch.Size([32, 1])\n",
      "v torch.Size([3932, 1])\n",
      "batch torch.Size([3932])\n",
      "u torch.Size([32, 1])\n",
      "v torch.Size([3932, 1])\n",
      "batch torch.Size([3932])\n",
      "u torch.Size([32, 1])\n",
      "v torch.Size([3932, 1])\n",
      "batch torch.Size([3932])\n",
      "u torch.Size([32, 1])\n",
      "v torch.Size([3932, 1])\n",
      "batch torch.Size([3932])\n",
      "u torch.Size([32, 1])\n",
      "v torch.Size([3932, 1])\n",
      "batch torch.Size([3932])\n",
      "u torch.Size([32, 1])\n",
      "v torch.Size([4123, 1])\n",
      "batch torch.Size([4123])\n",
      "u torch.Size([32, 1])\n",
      "v torch.Size([4123, 1])\n",
      "batch torch.Size([4123])\n",
      "u torch.Size([32, 1])\n",
      "v torch.Size([4123, 1])\n",
      "batch torch.Size([4123])\n",
      "u torch.Size([32, 1])\n",
      "v torch.Size([4123, 1])\n",
      "batch torch.Size([4123])\n",
      "u torch.Size([32, 1])\n",
      "v torch.Size([4123, 1])\n",
      "batch torch.Size([4123])\n",
      "u torch.Size([32, 1])\n",
      "v torch.Size([3888, 1])\n",
      "batch torch.Size([3888])\n",
      "u torch.Size([32, 1])\n",
      "v torch.Size([3888, 1])\n",
      "batch torch.Size([3888])\n",
      "u torch.Size([32, 1])\n",
      "v torch.Size([3888, 1])\n",
      "batch torch.Size([3888])\n",
      "u torch.Size([32, 1])\n",
      "v torch.Size([3888, 1])\n",
      "batch torch.Size([3888])\n",
      "u torch.Size([32, 1])\n",
      "v torch.Size([3888, 1])\n",
      "batch torch.Size([3888])\n"
     ]
    },
    {
     "data": {
      "image/png": "[encoded data removed]",
      "text/plain": [
       "<Figure size 1500x500 with 3 Axes>"
      ]
     },
     "metadata": {},
     "output_type": "display_data"
    },
    {
     "data": {
      "text/plain": [
       "<torch_geometric.loader.dataloader.DataLoader at 0x1523b76cee50>"
      ]
     },
     "execution_count": 9,
     "metadata": {},
     "output_type": "execute_result"
    },
    {
     "data": {
      "text/plain": [
       "<Figure size 640x480 with 0 Axes>"
      ]
     },
     "metadata": {},
     "output_type": "display_data"
    }
   ],
   "source": [
    "import importlib\n",
    "from geom3d.inference_tests import inference_test_models\n",
    "\n",
    "config_dir = \"/rds/general/user/cb1319/home/GEOM3D/Geom3D/training/SphereNet_target_80K_TEST_5e4lr/\"\n",
    "chkpt_path = \"/rds/general/user/cb1319/home/GEOM3D/Geom3D/training/SphereNet_target_80K_TEST_5e4lr/epoch=4-val_loss=0.89-other_metric=0.00.ckpt\"\n",
    "\n",
    "importlib.reload(inference_test_models)\n",
    "\n",
    "inference_test_models.plot_training_results(chkpt_path, config_dir)"
   ]
  },
  {
   "cell_type": "code",
   "execution_count": null,
   "metadata": {},
   "outputs": [],
   "source": []
  },
  {
   "cell_type": "code",
   "execution_count": null,
   "metadata": {},
   "outputs": [],
   "source": []
  }
 ],
 "metadata": {
  "kernelspec": {
   "display_name": "Python [conda env:Geom3D]",
   "language": "python",
   "name": "conda-env-Geom3D-py"
  },
  "language_info": {
   "codemirror_mode": {
    "name": "ipython",
    "version": 3
   },
   "file_extension": ".py",
   "mimetype": "text/x-python",
   "name": "python",
   "nbconvert_exporter": "python",
   "pygments_lexer": "ipython3",
   "version": "3.11.5"
  }
 },
 "nbformat": 4,
 "nbformat_minor": 2
}
